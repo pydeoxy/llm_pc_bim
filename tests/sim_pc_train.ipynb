{
 "cells": [
  {
   "cell_type": "markdown",
   "metadata": {},
   "source": [
    "**Load the HDF5 File**"
   ]
  },
  {
   "cell_type": "code",
   "execution_count": 7,
   "metadata": {},
   "outputs": [],
   "source": [
    "import os\n",
    "import h5py\n",
    "import numpy as np\n",
    "import torch\n",
    "from torch import Tensor\n",
    "from torch.utils.data import Dataset, DataLoader, random_split\n",
    "from torch_geometric.data import Data\n",
    "from typing import Callable, List, Optional"
   ]
  },
  {
   "cell_type": "code",
   "execution_count": 30,
   "metadata": {},
   "outputs": [],
   "source": [
    "class H5PointCloudDataset(Dataset):\n",
    "    def __init__(self, file_path, transform=None):\n",
    "        # Open the hdf5 file\n",
    "        with h5py.File(file_path, 'r') as f:\n",
    "            # Load the entire dataset into memory\n",
    "            self.data = np.array(f['data'])    # Shape: (num_blocks, 4096, 9)\n",
    "            self.labels = np.array(f['label'])   # Shape: (num_blocks, 4096)\n",
    "        self.transform = transform\n",
    "\n",
    "    def __len__(self):\n",
    "        return self.data.shape[0]\n",
    "\n",
    "    def __getitem__(self,idx):\n",
    "        xs: List[Tensor] = []\n",
    "        ys: List[Tensor] = []\n",
    "        # Retrieve the point cloud block and corresponding labels\n",
    "        xs += torch.from_numpy(self.data[idx][:]).unbind(0)\n",
    "        ys += torch.from_numpy(self.labels[idx][:]).to(torch.long).unbind(0)\n",
    "        data_list = []\n",
    "        for i, (x, y) in enumerate(zip(xs, ys)):\n",
    "            data = Data(pos=x[:, :3], x=x[:, 3:], y=y)  \n",
    "            data_list.append(data)\n",
    "        \n",
    "        return data_list"
   ]
  },
  {
   "cell_type": "code",
   "execution_count": 31,
   "metadata": {},
   "outputs": [],
   "source": [
    "# File path to the hdf5 dataset\n",
    "script_dir = os.path.dirname(os.getcwd())\n",
    "hdf5_file_path= os.path.join(script_dir, '.', 'docs', 'sim_pc_dataset.h5')\n",
    "\n",
    "# Create the dataset\n",
    "full_dataset = H5PointCloudDataset(hdf5_file_path)\n",
    "\n",
    "# Define split sizes (e.g., 80% training and 20% validation)\n",
    "total_size = len(full_dataset)\n",
    "train_size = int(0.8 * total_size)\n",
    "test_size = total_size - train_size\n",
    "\n",
    "# Randomly split the dataset\n",
    "train_dataset, test_dataset = random_split(full_dataset, [train_size, test_size])"
   ]
  },
  {
   "cell_type": "code",
   "execution_count": 33,
   "metadata": {},
   "outputs": [
    {
     "name": "stdout",
     "output_type": "stream",
     "text": [
      "[Data(x=[4096, 6], y=[4096], pos=[4096, 3]), Data(x=[4096, 6], y=[4096], pos=[4096, 3]), Data(x=[4096, 6], y=[4096], pos=[4096, 3]), Data(x=[4096, 6], y=[4096], pos=[4096, 3]), Data(x=[4096, 6], y=[4096], pos=[4096, 3]), Data(x=[4096, 6], y=[4096], pos=[4096, 3]), Data(x=[4096, 6], y=[4096], pos=[4096, 3]), Data(x=[4096, 6], y=[4096], pos=[4096, 3]), Data(x=[4096, 6], y=[4096], pos=[4096, 3]), Data(x=[4096, 6], y=[4096], pos=[4096, 3]), Data(x=[4096, 6], y=[4096], pos=[4096, 3]), Data(x=[4096, 6], y=[4096], pos=[4096, 3]), Data(x=[4096, 6], y=[4096], pos=[4096, 3]), Data(x=[4096, 6], y=[4096], pos=[4096, 3]), Data(x=[4096, 6], y=[4096], pos=[4096, 3]), Data(x=[4096, 6], y=[4096], pos=[4096, 3]), Data(x=[4096, 6], y=[4096], pos=[4096, 3]), Data(x=[4096, 6], y=[4096], pos=[4096, 3]), Data(x=[4096, 6], y=[4096], pos=[4096, 3]), Data(x=[4096, 6], y=[4096], pos=[4096, 3]), Data(x=[4096, 6], y=[4096], pos=[4096, 3]), Data(x=[4096, 6], y=[4096], pos=[4096, 3]), Data(x=[4096, 6], y=[4096], pos=[4096, 3]), Data(x=[4096, 6], y=[4096], pos=[4096, 3]), Data(x=[4096, 6], y=[4096], pos=[4096, 3]), Data(x=[4096, 6], y=[4096], pos=[4096, 3]), Data(x=[4096, 6], y=[4096], pos=[4096, 3]), Data(x=[4096, 6], y=[4096], pos=[4096, 3]), Data(x=[4096, 6], y=[4096], pos=[4096, 3]), Data(x=[4096, 6], y=[4096], pos=[4096, 3]), Data(x=[4096, 6], y=[4096], pos=[4096, 3]), Data(x=[4096, 6], y=[4096], pos=[4096, 3]), Data(x=[4096, 6], y=[4096], pos=[4096, 3]), Data(x=[4096, 6], y=[4096], pos=[4096, 3]), Data(x=[4096, 6], y=[4096], pos=[4096, 3]), Data(x=[4096, 6], y=[4096], pos=[4096, 3]), Data(x=[4096, 6], y=[4096], pos=[4096, 3]), Data(x=[4096, 6], y=[4096], pos=[4096, 3]), Data(x=[4096, 6], y=[4096], pos=[4096, 3]), Data(x=[4096, 6], y=[4096], pos=[4096, 3]), Data(x=[4096, 6], y=[4096], pos=[4096, 3]), Data(x=[4096, 6], y=[4096], pos=[4096, 3]), Data(x=[4096, 6], y=[4096], pos=[4096, 3]), Data(x=[4096, 6], y=[4096], pos=[4096, 3]), Data(x=[4096, 6], y=[4096], pos=[4096, 3]), Data(x=[4096, 6], y=[4096], pos=[4096, 3]), Data(x=[4096, 6], y=[4096], pos=[4096, 3]), Data(x=[4096, 6], y=[4096], pos=[4096, 3]), Data(x=[4096, 6], y=[4096], pos=[4096, 3]), Data(x=[4096, 6], y=[4096], pos=[4096, 3]), Data(x=[4096, 6], y=[4096], pos=[4096, 3]), Data(x=[4096, 6], y=[4096], pos=[4096, 3]), Data(x=[4096, 6], y=[4096], pos=[4096, 3]), Data(x=[4096, 6], y=[4096], pos=[4096, 3]), Data(x=[4096, 6], y=[4096], pos=[4096, 3]), Data(x=[4096, 6], y=[4096], pos=[4096, 3]), Data(x=[4096, 6], y=[4096], pos=[4096, 3]), Data(x=[4096, 6], y=[4096], pos=[4096, 3]), Data(x=[4096, 6], y=[4096], pos=[4096, 3]), Data(x=[4096, 6], y=[4096], pos=[4096, 3]), Data(x=[4096, 6], y=[4096], pos=[4096, 3]), Data(x=[4096, 6], y=[4096], pos=[4096, 3]), Data(x=[4096, 6], y=[4096], pos=[4096, 3]), Data(x=[4096, 6], y=[4096], pos=[4096, 3]), Data(x=[4096, 6], y=[4096], pos=[4096, 3]), Data(x=[4096, 6], y=[4096], pos=[4096, 3]), Data(x=[4096, 6], y=[4096], pos=[4096, 3]), Data(x=[4096, 6], y=[4096], pos=[4096, 3]), Data(x=[4096, 6], y=[4096], pos=[4096, 3]), Data(x=[4096, 6], y=[4096], pos=[4096, 3]), Data(x=[4096, 6], y=[4096], pos=[4096, 3]), Data(x=[4096, 6], y=[4096], pos=[4096, 3]), Data(x=[4096, 6], y=[4096], pos=[4096, 3]), Data(x=[4096, 6], y=[4096], pos=[4096, 3]), Data(x=[4096, 6], y=[4096], pos=[4096, 3]), Data(x=[4096, 6], y=[4096], pos=[4096, 3]), Data(x=[4096, 6], y=[4096], pos=[4096, 3]), Data(x=[4096, 6], y=[4096], pos=[4096, 3]), Data(x=[4096, 6], y=[4096], pos=[4096, 3]), Data(x=[4096, 6], y=[4096], pos=[4096, 3]), Data(x=[4096, 6], y=[4096], pos=[4096, 3]), Data(x=[4096, 6], y=[4096], pos=[4096, 3]), Data(x=[4096, 6], y=[4096], pos=[4096, 3]), Data(x=[4096, 6], y=[4096], pos=[4096, 3]), Data(x=[4096, 6], y=[4096], pos=[4096, 3]), Data(x=[4096, 6], y=[4096], pos=[4096, 3]), Data(x=[4096, 6], y=[4096], pos=[4096, 3]), Data(x=[4096, 6], y=[4096], pos=[4096, 3]), Data(x=[4096, 6], y=[4096], pos=[4096, 3]), Data(x=[4096, 6], y=[4096], pos=[4096, 3]), Data(x=[4096, 6], y=[4096], pos=[4096, 3]), Data(x=[4096, 6], y=[4096], pos=[4096, 3]), Data(x=[4096, 6], y=[4096], pos=[4096, 3]), Data(x=[4096, 6], y=[4096], pos=[4096, 3]), Data(x=[4096, 6], y=[4096], pos=[4096, 3]), Data(x=[4096, 6], y=[4096], pos=[4096, 3]), Data(x=[4096, 6], y=[4096], pos=[4096, 3]), Data(x=[4096, 6], y=[4096], pos=[4096, 3]), Data(x=[4096, 6], y=[4096], pos=[4096, 3]), Data(x=[4096, 6], y=[4096], pos=[4096, 3]), Data(x=[4096, 6], y=[4096], pos=[4096, 3]), Data(x=[4096, 6], y=[4096], pos=[4096, 3]), Data(x=[4096, 6], y=[4096], pos=[4096, 3]), Data(x=[4096, 6], y=[4096], pos=[4096, 3]), Data(x=[4096, 6], y=[4096], pos=[4096, 3]), Data(x=[4096, 6], y=[4096], pos=[4096, 3]), Data(x=[4096, 6], y=[4096], pos=[4096, 3]), Data(x=[4096, 6], y=[4096], pos=[4096, 3]), Data(x=[4096, 6], y=[4096], pos=[4096, 3]), Data(x=[4096, 6], y=[4096], pos=[4096, 3]), Data(x=[4096, 6], y=[4096], pos=[4096, 3]), Data(x=[4096, 6], y=[4096], pos=[4096, 3]), Data(x=[4096, 6], y=[4096], pos=[4096, 3]), Data(x=[4096, 6], y=[4096], pos=[4096, 3]), Data(x=[4096, 6], y=[4096], pos=[4096, 3]), Data(x=[4096, 6], y=[4096], pos=[4096, 3]), Data(x=[4096, 6], y=[4096], pos=[4096, 3]), Data(x=[4096, 6], y=[4096], pos=[4096, 3]), Data(x=[4096, 6], y=[4096], pos=[4096, 3]), Data(x=[4096, 6], y=[4096], pos=[4096, 3]), Data(x=[4096, 6], y=[4096], pos=[4096, 3]), Data(x=[4096, 6], y=[4096], pos=[4096, 3]), Data(x=[4096, 6], y=[4096], pos=[4096, 3]), Data(x=[4096, 6], y=[4096], pos=[4096, 3]), Data(x=[4096, 6], y=[4096], pos=[4096, 3]), Data(x=[4096, 6], y=[4096], pos=[4096, 3]), Data(x=[4096, 6], y=[4096], pos=[4096, 3]), Data(x=[4096, 6], y=[4096], pos=[4096, 3]), Data(x=[4096, 6], y=[4096], pos=[4096, 3]), Data(x=[4096, 6], y=[4096], pos=[4096, 3]), Data(x=[4096, 6], y=[4096], pos=[4096, 3]), Data(x=[4096, 6], y=[4096], pos=[4096, 3]), Data(x=[4096, 6], y=[4096], pos=[4096, 3]), Data(x=[4096, 6], y=[4096], pos=[4096, 3]), Data(x=[4096, 6], y=[4096], pos=[4096, 3]), Data(x=[4096, 6], y=[4096], pos=[4096, 3]), Data(x=[4096, 6], y=[4096], pos=[4096, 3]), Data(x=[4096, 6], y=[4096], pos=[4096, 3]), Data(x=[4096, 6], y=[4096], pos=[4096, 3]), Data(x=[4096, 6], y=[4096], pos=[4096, 3]), Data(x=[4096, 6], y=[4096], pos=[4096, 3]), Data(x=[4096, 6], y=[4096], pos=[4096, 3]), Data(x=[4096, 6], y=[4096], pos=[4096, 3]), Data(x=[4096, 6], y=[4096], pos=[4096, 3]), Data(x=[4096, 6], y=[4096], pos=[4096, 3]), Data(x=[4096, 6], y=[4096], pos=[4096, 3]), Data(x=[4096, 6], y=[4096], pos=[4096, 3]), Data(x=[4096, 6], y=[4096], pos=[4096, 3]), Data(x=[4096, 6], y=[4096], pos=[4096, 3]), Data(x=[4096, 6], y=[4096], pos=[4096, 3]), Data(x=[4096, 6], y=[4096], pos=[4096, 3]), Data(x=[4096, 6], y=[4096], pos=[4096, 3]), Data(x=[4096, 6], y=[4096], pos=[4096, 3]), Data(x=[4096, 6], y=[4096], pos=[4096, 3]), Data(x=[4096, 6], y=[4096], pos=[4096, 3]), Data(x=[4096, 6], y=[4096], pos=[4096, 3]), Data(x=[4096, 6], y=[4096], pos=[4096, 3]), Data(x=[4096, 6], y=[4096], pos=[4096, 3]), Data(x=[4096, 6], y=[4096], pos=[4096, 3]), Data(x=[4096, 6], y=[4096], pos=[4096, 3]), Data(x=[4096, 6], y=[4096], pos=[4096, 3]), Data(x=[4096, 6], y=[4096], pos=[4096, 3]), Data(x=[4096, 6], y=[4096], pos=[4096, 3]), Data(x=[4096, 6], y=[4096], pos=[4096, 3]), Data(x=[4096, 6], y=[4096], pos=[4096, 3]), Data(x=[4096, 6], y=[4096], pos=[4096, 3]), Data(x=[4096, 6], y=[4096], pos=[4096, 3]), Data(x=[4096, 6], y=[4096], pos=[4096, 3]), Data(x=[4096, 6], y=[4096], pos=[4096, 3]), Data(x=[4096, 6], y=[4096], pos=[4096, 3]), Data(x=[4096, 6], y=[4096], pos=[4096, 3]), Data(x=[4096, 6], y=[4096], pos=[4096, 3]), Data(x=[4096, 6], y=[4096], pos=[4096, 3]), Data(x=[4096, 6], y=[4096], pos=[4096, 3]), Data(x=[4096, 6], y=[4096], pos=[4096, 3]), Data(x=[4096, 6], y=[4096], pos=[4096, 3]), Data(x=[4096, 6], y=[4096], pos=[4096, 3]), Data(x=[4096, 6], y=[4096], pos=[4096, 3]), Data(x=[4096, 6], y=[4096], pos=[4096, 3]), Data(x=[4096, 6], y=[4096], pos=[4096, 3]), Data(x=[4096, 6], y=[4096], pos=[4096, 3]), Data(x=[4096, 6], y=[4096], pos=[4096, 3]), Data(x=[4096, 6], y=[4096], pos=[4096, 3]), Data(x=[4096, 6], y=[4096], pos=[4096, 3]), Data(x=[4096, 6], y=[4096], pos=[4096, 3]), Data(x=[4096, 6], y=[4096], pos=[4096, 3]), Data(x=[4096, 6], y=[4096], pos=[4096, 3]), Data(x=[4096, 6], y=[4096], pos=[4096, 3]), Data(x=[4096, 6], y=[4096], pos=[4096, 3]), Data(x=[4096, 6], y=[4096], pos=[4096, 3]), Data(x=[4096, 6], y=[4096], pos=[4096, 3]), Data(x=[4096, 6], y=[4096], pos=[4096, 3]), Data(x=[4096, 6], y=[4096], pos=[4096, 3]), Data(x=[4096, 6], y=[4096], pos=[4096, 3]), Data(x=[4096, 6], y=[4096], pos=[4096, 3]), Data(x=[4096, 6], y=[4096], pos=[4096, 3]), Data(x=[4096, 6], y=[4096], pos=[4096, 3]), Data(x=[4096, 6], y=[4096], pos=[4096, 3]), Data(x=[4096, 6], y=[4096], pos=[4096, 3]), Data(x=[4096, 6], y=[4096], pos=[4096, 3]), Data(x=[4096, 6], y=[4096], pos=[4096, 3]), Data(x=[4096, 6], y=[4096], pos=[4096, 3]), Data(x=[4096, 6], y=[4096], pos=[4096, 3]), Data(x=[4096, 6], y=[4096], pos=[4096, 3]), Data(x=[4096, 6], y=[4096], pos=[4096, 3]), Data(x=[4096, 6], y=[4096], pos=[4096, 3]), Data(x=[4096, 6], y=[4096], pos=[4096, 3]), Data(x=[4096, 6], y=[4096], pos=[4096, 3]), Data(x=[4096, 6], y=[4096], pos=[4096, 3]), Data(x=[4096, 6], y=[4096], pos=[4096, 3]), Data(x=[4096, 6], y=[4096], pos=[4096, 3]), Data(x=[4096, 6], y=[4096], pos=[4096, 3]), Data(x=[4096, 6], y=[4096], pos=[4096, 3]), Data(x=[4096, 6], y=[4096], pos=[4096, 3]), Data(x=[4096, 6], y=[4096], pos=[4096, 3]), Data(x=[4096, 6], y=[4096], pos=[4096, 3]), Data(x=[4096, 6], y=[4096], pos=[4096, 3]), Data(x=[4096, 6], y=[4096], pos=[4096, 3]), Data(x=[4096, 6], y=[4096], pos=[4096, 3]), Data(x=[4096, 6], y=[4096], pos=[4096, 3]), Data(x=[4096, 6], y=[4096], pos=[4096, 3]), Data(x=[4096, 6], y=[4096], pos=[4096, 3]), Data(x=[4096, 6], y=[4096], pos=[4096, 3]), Data(x=[4096, 6], y=[4096], pos=[4096, 3]), Data(x=[4096, 6], y=[4096], pos=[4096, 3]), Data(x=[4096, 6], y=[4096], pos=[4096, 3]), Data(x=[4096, 6], y=[4096], pos=[4096, 3]), Data(x=[4096, 6], y=[4096], pos=[4096, 3]), Data(x=[4096, 6], y=[4096], pos=[4096, 3]), Data(x=[4096, 6], y=[4096], pos=[4096, 3]), Data(x=[4096, 6], y=[4096], pos=[4096, 3]), Data(x=[4096, 6], y=[4096], pos=[4096, 3]), Data(x=[4096, 6], y=[4096], pos=[4096, 3]), Data(x=[4096, 6], y=[4096], pos=[4096, 3]), Data(x=[4096, 6], y=[4096], pos=[4096, 3]), Data(x=[4096, 6], y=[4096], pos=[4096, 3]), Data(x=[4096, 6], y=[4096], pos=[4096, 3]), Data(x=[4096, 6], y=[4096], pos=[4096, 3]), Data(x=[4096, 6], y=[4096], pos=[4096, 3]), Data(x=[4096, 6], y=[4096], pos=[4096, 3]), Data(x=[4096, 6], y=[4096], pos=[4096, 3]), Data(x=[4096, 6], y=[4096], pos=[4096, 3]), Data(x=[4096, 6], y=[4096], pos=[4096, 3]), Data(x=[4096, 6], y=[4096], pos=[4096, 3]), Data(x=[4096, 6], y=[4096], pos=[4096, 3]), Data(x=[4096, 6], y=[4096], pos=[4096, 3]), Data(x=[4096, 6], y=[4096], pos=[4096, 3]), Data(x=[4096, 6], y=[4096], pos=[4096, 3]), Data(x=[4096, 6], y=[4096], pos=[4096, 3]), Data(x=[4096, 6], y=[4096], pos=[4096, 3]), Data(x=[4096, 6], y=[4096], pos=[4096, 3]), Data(x=[4096, 6], y=[4096], pos=[4096, 3]), Data(x=[4096, 6], y=[4096], pos=[4096, 3]), Data(x=[4096, 6], y=[4096], pos=[4096, 3]), Data(x=[4096, 6], y=[4096], pos=[4096, 3]), Data(x=[4096, 6], y=[4096], pos=[4096, 3]), Data(x=[4096, 6], y=[4096], pos=[4096, 3]), Data(x=[4096, 6], y=[4096], pos=[4096, 3]), Data(x=[4096, 6], y=[4096], pos=[4096, 3]), Data(x=[4096, 6], y=[4096], pos=[4096, 3]), Data(x=[4096, 6], y=[4096], pos=[4096, 3]), Data(x=[4096, 6], y=[4096], pos=[4096, 3]), Data(x=[4096, 6], y=[4096], pos=[4096, 3]), Data(x=[4096, 6], y=[4096], pos=[4096, 3]), Data(x=[4096, 6], y=[4096], pos=[4096, 3]), Data(x=[4096, 6], y=[4096], pos=[4096, 3]), Data(x=[4096, 6], y=[4096], pos=[4096, 3]), Data(x=[4096, 6], y=[4096], pos=[4096, 3]), Data(x=[4096, 6], y=[4096], pos=[4096, 3]), Data(x=[4096, 6], y=[4096], pos=[4096, 3]), Data(x=[4096, 6], y=[4096], pos=[4096, 3]), Data(x=[4096, 6], y=[4096], pos=[4096, 3]), Data(x=[4096, 6], y=[4096], pos=[4096, 3]), Data(x=[4096, 6], y=[4096], pos=[4096, 3]), Data(x=[4096, 6], y=[4096], pos=[4096, 3]), Data(x=[4096, 6], y=[4096], pos=[4096, 3]), Data(x=[4096, 6], y=[4096], pos=[4096, 3]), Data(x=[4096, 6], y=[4096], pos=[4096, 3]), Data(x=[4096, 6], y=[4096], pos=[4096, 3]), Data(x=[4096, 6], y=[4096], pos=[4096, 3]), Data(x=[4096, 6], y=[4096], pos=[4096, 3]), Data(x=[4096, 6], y=[4096], pos=[4096, 3]), Data(x=[4096, 6], y=[4096], pos=[4096, 3]), Data(x=[4096, 6], y=[4096], pos=[4096, 3]), Data(x=[4096, 6], y=[4096], pos=[4096, 3]), Data(x=[4096, 6], y=[4096], pos=[4096, 3]), Data(x=[4096, 6], y=[4096], pos=[4096, 3]), Data(x=[4096, 6], y=[4096], pos=[4096, 3]), Data(x=[4096, 6], y=[4096], pos=[4096, 3]), Data(x=[4096, 6], y=[4096], pos=[4096, 3]), Data(x=[4096, 6], y=[4096], pos=[4096, 3]), Data(x=[4096, 6], y=[4096], pos=[4096, 3]), Data(x=[4096, 6], y=[4096], pos=[4096, 3]), Data(x=[4096, 6], y=[4096], pos=[4096, 3]), Data(x=[4096, 6], y=[4096], pos=[4096, 3]), Data(x=[4096, 6], y=[4096], pos=[4096, 3]), Data(x=[4096, 6], y=[4096], pos=[4096, 3]), Data(x=[4096, 6], y=[4096], pos=[4096, 3]), Data(x=[4096, 6], y=[4096], pos=[4096, 3]), Data(x=[4096, 6], y=[4096], pos=[4096, 3]), Data(x=[4096, 6], y=[4096], pos=[4096, 3]), Data(x=[4096, 6], y=[4096], pos=[4096, 3]), Data(x=[4096, 6], y=[4096], pos=[4096, 3]), Data(x=[4096, 6], y=[4096], pos=[4096, 3]), Data(x=[4096, 6], y=[4096], pos=[4096, 3]), Data(x=[4096, 6], y=[4096], pos=[4096, 3]), Data(x=[4096, 6], y=[4096], pos=[4096, 3]), Data(x=[4096, 6], y=[4096], pos=[4096, 3]), Data(x=[4096, 6], y=[4096], pos=[4096, 3]), Data(x=[4096, 6], y=[4096], pos=[4096, 3]), Data(x=[4096, 6], y=[4096], pos=[4096, 3]), Data(x=[4096, 6], y=[4096], pos=[4096, 3]), Data(x=[4096, 6], y=[4096], pos=[4096, 3]), Data(x=[4096, 6], y=[4096], pos=[4096, 3]), Data(x=[4096, 6], y=[4096], pos=[4096, 3]), Data(x=[4096, 6], y=[4096], pos=[4096, 3]), Data(x=[4096, 6], y=[4096], pos=[4096, 3]), Data(x=[4096, 6], y=[4096], pos=[4096, 3]), Data(x=[4096, 6], y=[4096], pos=[4096, 3]), Data(x=[4096, 6], y=[4096], pos=[4096, 3]), Data(x=[4096, 6], y=[4096], pos=[4096, 3]), Data(x=[4096, 6], y=[4096], pos=[4096, 3]), Data(x=[4096, 6], y=[4096], pos=[4096, 3]), Data(x=[4096, 6], y=[4096], pos=[4096, 3]), Data(x=[4096, 6], y=[4096], pos=[4096, 3]), Data(x=[4096, 6], y=[4096], pos=[4096, 3]), Data(x=[4096, 6], y=[4096], pos=[4096, 3]), Data(x=[4096, 6], y=[4096], pos=[4096, 3]), Data(x=[4096, 6], y=[4096], pos=[4096, 3]), Data(x=[4096, 6], y=[4096], pos=[4096, 3]), Data(x=[4096, 6], y=[4096], pos=[4096, 3]), Data(x=[4096, 6], y=[4096], pos=[4096, 3]), Data(x=[4096, 6], y=[4096], pos=[4096, 3]), Data(x=[4096, 6], y=[4096], pos=[4096, 3]), Data(x=[4096, 6], y=[4096], pos=[4096, 3]), Data(x=[4096, 6], y=[4096], pos=[4096, 3]), Data(x=[4096, 6], y=[4096], pos=[4096, 3]), Data(x=[4096, 6], y=[4096], pos=[4096, 3]), Data(x=[4096, 6], y=[4096], pos=[4096, 3]), Data(x=[4096, 6], y=[4096], pos=[4096, 3]), Data(x=[4096, 6], y=[4096], pos=[4096, 3]), Data(x=[4096, 6], y=[4096], pos=[4096, 3]), Data(x=[4096, 6], y=[4096], pos=[4096, 3]), Data(x=[4096, 6], y=[4096], pos=[4096, 3]), Data(x=[4096, 6], y=[4096], pos=[4096, 3]), Data(x=[4096, 6], y=[4096], pos=[4096, 3]), Data(x=[4096, 6], y=[4096], pos=[4096, 3]), Data(x=[4096, 6], y=[4096], pos=[4096, 3]), Data(x=[4096, 6], y=[4096], pos=[4096, 3]), Data(x=[4096, 6], y=[4096], pos=[4096, 3]), Data(x=[4096, 6], y=[4096], pos=[4096, 3]), Data(x=[4096, 6], y=[4096], pos=[4096, 3]), Data(x=[4096, 6], y=[4096], pos=[4096, 3]), Data(x=[4096, 6], y=[4096], pos=[4096, 3]), Data(x=[4096, 6], y=[4096], pos=[4096, 3]), Data(x=[4096, 6], y=[4096], pos=[4096, 3]), Data(x=[4096, 6], y=[4096], pos=[4096, 3]), Data(x=[4096, 6], y=[4096], pos=[4096, 3]), Data(x=[4096, 6], y=[4096], pos=[4096, 3]), Data(x=[4096, 6], y=[4096], pos=[4096, 3]), Data(x=[4096, 6], y=[4096], pos=[4096, 3]), Data(x=[4096, 6], y=[4096], pos=[4096, 3]), Data(x=[4096, 6], y=[4096], pos=[4096, 3]), Data(x=[4096, 6], y=[4096], pos=[4096, 3]), Data(x=[4096, 6], y=[4096], pos=[4096, 3]), Data(x=[4096, 6], y=[4096], pos=[4096, 3]), Data(x=[4096, 6], y=[4096], pos=[4096, 3]), Data(x=[4096, 6], y=[4096], pos=[4096, 3]), Data(x=[4096, 6], y=[4096], pos=[4096, 3]), Data(x=[4096, 6], y=[4096], pos=[4096, 3]), Data(x=[4096, 6], y=[4096], pos=[4096, 3]), Data(x=[4096, 6], y=[4096], pos=[4096, 3]), Data(x=[4096, 6], y=[4096], pos=[4096, 3]), Data(x=[4096, 6], y=[4096], pos=[4096, 3]), Data(x=[4096, 6], y=[4096], pos=[4096, 3]), Data(x=[4096, 6], y=[4096], pos=[4096, 3]), Data(x=[4096, 6], y=[4096], pos=[4096, 3]), Data(x=[4096, 6], y=[4096], pos=[4096, 3]), Data(x=[4096, 6], y=[4096], pos=[4096, 3]), Data(x=[4096, 6], y=[4096], pos=[4096, 3]), Data(x=[4096, 6], y=[4096], pos=[4096, 3]), Data(x=[4096, 6], y=[4096], pos=[4096, 3]), Data(x=[4096, 6], y=[4096], pos=[4096, 3]), Data(x=[4096, 6], y=[4096], pos=[4096, 3]), Data(x=[4096, 6], y=[4096], pos=[4096, 3]), Data(x=[4096, 6], y=[4096], pos=[4096, 3]), Data(x=[4096, 6], y=[4096], pos=[4096, 3]), Data(x=[4096, 6], y=[4096], pos=[4096, 3]), Data(x=[4096, 6], y=[4096], pos=[4096, 3]), Data(x=[4096, 6], y=[4096], pos=[4096, 3]), Data(x=[4096, 6], y=[4096], pos=[4096, 3]), Data(x=[4096, 6], y=[4096], pos=[4096, 3]), Data(x=[4096, 6], y=[4096], pos=[4096, 3]), Data(x=[4096, 6], y=[4096], pos=[4096, 3]), Data(x=[4096, 6], y=[4096], pos=[4096, 3]), Data(x=[4096, 6], y=[4096], pos=[4096, 3]), Data(x=[4096, 6], y=[4096], pos=[4096, 3]), Data(x=[4096, 6], y=[4096], pos=[4096, 3]), Data(x=[4096, 6], y=[4096], pos=[4096, 3]), Data(x=[4096, 6], y=[4096], pos=[4096, 3]), Data(x=[4096, 6], y=[4096], pos=[4096, 3]), Data(x=[4096, 6], y=[4096], pos=[4096, 3]), Data(x=[4096, 6], y=[4096], pos=[4096, 3]), Data(x=[4096, 6], y=[4096], pos=[4096, 3]), Data(x=[4096, 6], y=[4096], pos=[4096, 3]), Data(x=[4096, 6], y=[4096], pos=[4096, 3]), Data(x=[4096, 6], y=[4096], pos=[4096, 3]), Data(x=[4096, 6], y=[4096], pos=[4096, 3]), Data(x=[4096, 6], y=[4096], pos=[4096, 3]), Data(x=[4096, 6], y=[4096], pos=[4096, 3]), Data(x=[4096, 6], y=[4096], pos=[4096, 3]), Data(x=[4096, 6], y=[4096], pos=[4096, 3]), Data(x=[4096, 6], y=[4096], pos=[4096, 3]), Data(x=[4096, 6], y=[4096], pos=[4096, 3]), Data(x=[4096, 6], y=[4096], pos=[4096, 3]), Data(x=[4096, 6], y=[4096], pos=[4096, 3]), Data(x=[4096, 6], y=[4096], pos=[4096, 3]), Data(x=[4096, 6], y=[4096], pos=[4096, 3]), Data(x=[4096, 6], y=[4096], pos=[4096, 3]), Data(x=[4096, 6], y=[4096], pos=[4096, 3]), Data(x=[4096, 6], y=[4096], pos=[4096, 3]), Data(x=[4096, 6], y=[4096], pos=[4096, 3]), Data(x=[4096, 6], y=[4096], pos=[4096, 3]), Data(x=[4096, 6], y=[4096], pos=[4096, 3]), Data(x=[4096, 6], y=[4096], pos=[4096, 3]), Data(x=[4096, 6], y=[4096], pos=[4096, 3]), Data(x=[4096, 6], y=[4096], pos=[4096, 3]), Data(x=[4096, 6], y=[4096], pos=[4096, 3]), Data(x=[4096, 6], y=[4096], pos=[4096, 3]), Data(x=[4096, 6], y=[4096], pos=[4096, 3]), Data(x=[4096, 6], y=[4096], pos=[4096, 3]), Data(x=[4096, 6], y=[4096], pos=[4096, 3]), Data(x=[4096, 6], y=[4096], pos=[4096, 3]), Data(x=[4096, 6], y=[4096], pos=[4096, 3]), Data(x=[4096, 6], y=[4096], pos=[4096, 3]), Data(x=[4096, 6], y=[4096], pos=[4096, 3]), Data(x=[4096, 6], y=[4096], pos=[4096, 3]), Data(x=[4096, 6], y=[4096], pos=[4096, 3]), Data(x=[4096, 6], y=[4096], pos=[4096, 3]), Data(x=[4096, 6], y=[4096], pos=[4096, 3]), Data(x=[4096, 6], y=[4096], pos=[4096, 3]), Data(x=[4096, 6], y=[4096], pos=[4096, 3]), Data(x=[4096, 6], y=[4096], pos=[4096, 3]), Data(x=[4096, 6], y=[4096], pos=[4096, 3]), Data(x=[4096, 6], y=[4096], pos=[4096, 3]), Data(x=[4096, 6], y=[4096], pos=[4096, 3]), Data(x=[4096, 6], y=[4096], pos=[4096, 3]), Data(x=[4096, 6], y=[4096], pos=[4096, 3]), Data(x=[4096, 6], y=[4096], pos=[4096, 3]), Data(x=[4096, 6], y=[4096], pos=[4096, 3]), Data(x=[4096, 6], y=[4096], pos=[4096, 3]), Data(x=[4096, 6], y=[4096], pos=[4096, 3]), Data(x=[4096, 6], y=[4096], pos=[4096, 3]), Data(x=[4096, 6], y=[4096], pos=[4096, 3]), Data(x=[4096, 6], y=[4096], pos=[4096, 3]), Data(x=[4096, 6], y=[4096], pos=[4096, 3]), Data(x=[4096, 6], y=[4096], pos=[4096, 3]), Data(x=[4096, 6], y=[4096], pos=[4096, 3]), Data(x=[4096, 6], y=[4096], pos=[4096, 3]), Data(x=[4096, 6], y=[4096], pos=[4096, 3]), Data(x=[4096, 6], y=[4096], pos=[4096, 3]), Data(x=[4096, 6], y=[4096], pos=[4096, 3]), Data(x=[4096, 6], y=[4096], pos=[4096, 3]), Data(x=[4096, 6], y=[4096], pos=[4096, 3]), Data(x=[4096, 6], y=[4096], pos=[4096, 3]), Data(x=[4096, 6], y=[4096], pos=[4096, 3]), Data(x=[4096, 6], y=[4096], pos=[4096, 3]), Data(x=[4096, 6], y=[4096], pos=[4096, 3]), Data(x=[4096, 6], y=[4096], pos=[4096, 3]), Data(x=[4096, 6], y=[4096], pos=[4096, 3]), Data(x=[4096, 6], y=[4096], pos=[4096, 3]), Data(x=[4096, 6], y=[4096], pos=[4096, 3]), Data(x=[4096, 6], y=[4096], pos=[4096, 3]), Data(x=[4096, 6], y=[4096], pos=[4096, 3]), Data(x=[4096, 6], y=[4096], pos=[4096, 3]), Data(x=[4096, 6], y=[4096], pos=[4096, 3]), Data(x=[4096, 6], y=[4096], pos=[4096, 3]), Data(x=[4096, 6], y=[4096], pos=[4096, 3]), Data(x=[4096, 6], y=[4096], pos=[4096, 3]), Data(x=[4096, 6], y=[4096], pos=[4096, 3]), Data(x=[4096, 6], y=[4096], pos=[4096, 3]), Data(x=[4096, 6], y=[4096], pos=[4096, 3]), Data(x=[4096, 6], y=[4096], pos=[4096, 3]), Data(x=[4096, 6], y=[4096], pos=[4096, 3]), Data(x=[4096, 6], y=[4096], pos=[4096, 3])]\n"
     ]
    }
   ],
   "source": [
    "print(train_dataset[1])"
   ]
  },
  {
   "cell_type": "markdown",
   "metadata": {},
   "source": [
    "Data(x=[4096, 6], y=[4096], pos=[4096, 3])"
   ]
  },
  {
   "cell_type": "markdown",
   "metadata": {},
   "source": [
    "Data(x=[4096, 6], y=[4096], pos=[4096, 3])"
   ]
  },
  {
   "cell_type": "code",
   "execution_count": 32,
   "metadata": {},
   "outputs": [
    {
     "ename": "AttributeError",
     "evalue": "'list' object has no attribute 'x'",
     "output_type": "error",
     "traceback": [
      "\u001b[1;31m---------------------------------------------------------------------------\u001b[0m",
      "\u001b[1;31mAttributeError\u001b[0m                            Traceback (most recent call last)",
      "Cell \u001b[1;32mIn[32], line 8\u001b[0m\n\u001b[0;32m      5\u001b[0m data_instance \u001b[38;5;241m=\u001b[39m train_dataset[index]\n\u001b[0;32m      7\u001b[0m \u001b[38;5;66;03m# Access the features, labels, and positions of this instance\u001b[39;00m\n\u001b[1;32m----> 8\u001b[0m x \u001b[38;5;241m=\u001b[39m \u001b[43mdata_instance\u001b[49m\u001b[38;5;241;43m.\u001b[39;49m\u001b[43mx\u001b[49m\n\u001b[0;32m      9\u001b[0m y \u001b[38;5;241m=\u001b[39m data_instance\u001b[38;5;241m.\u001b[39my\n\u001b[0;32m     10\u001b[0m pos \u001b[38;5;241m=\u001b[39m data_instance\u001b[38;5;241m.\u001b[39mpos\n",
      "\u001b[1;31mAttributeError\u001b[0m: 'list' object has no attribute 'x'"
     ]
    }
   ],
   "source": [
    "\n",
    "# Assuming 'dataset' is your PyTorch Geometric dataset\n",
    "index = 1  # Index of the data instance you want to extract\n",
    "\n",
    "# Extract the data instance from the dataset\n",
    "data_instance = train_dataset[index]\n",
    "\n",
    "# Access the features, labels, and positions of this instance\n",
    "x = data_instance.x\n",
    "y = data_instance.y\n",
    "pos = data_instance.pos\n",
    "\n",
    "# Print these values\n",
    "print(\"Features (x):\", x)\n",
    "print(\"Labels (y):\", y)\n",
    "print(\"Positions (pos):\", pos)\n",
    "print(\"Center Point:\", torch.mean(pos, dim=0))\n",
    "\n",
    "print(len(x))\n"
   ]
  },
  {
   "cell_type": "code",
   "execution_count": 40,
   "metadata": {},
   "outputs": [],
   "source": [
    "train_loader = DataLoader(train_dataset, batch_size=12, shuffle=True,\n",
    "                          num_workers=8)\n",
    "test_loader = DataLoader(test_dataset, batch_size=12, shuffle=False,\n",
    "                         num_workers=8)"
   ]
  },
  {
   "cell_type": "markdown",
   "metadata": {},
   "source": [
    "**Training with PointNet2**"
   ]
  },
  {
   "cell_type": "code",
   "execution_count": 41,
   "metadata": {},
   "outputs": [],
   "source": [
    "import torch\n",
    "import torch.nn.functional as F\n",
    "from torch_geometric.nn import MLP, PointNetConv, fps, global_max_pool, radius\n",
    "import torch_geometric.transforms as T\n",
    "from torch_geometric.loader import DataLoader\n",
    "from torch_geometric.nn import MLP, knn_interpolate\n",
    "from torch_geometric.typing import WITH_TORCH_CLUSTER\n",
    "from torch_geometric.data import Data\n",
    "\n",
    "from sklearn.linear_model import RANSACRegressor\n",
    "from scipy.spatial import ConvexHull\n",
    "\n",
    "if not WITH_TORCH_CLUSTER:\n",
    "    quit(\"This example requires 'torch-cluster'\")"
   ]
  },
  {
   "cell_type": "code",
   "execution_count": 42,
   "metadata": {},
   "outputs": [],
   "source": [
    "class SAModule(torch.nn.Module):\n",
    "    def __init__(self, ratio, r, nn):\n",
    "        super().__init__()\n",
    "        self.ratio = ratio\n",
    "        self.r = r\n",
    "        self.conv = PointNetConv(nn, add_self_loops=False)\n",
    "\n",
    "    def forward(self, x, pos, batch):\n",
    "        idx = fps(pos, batch, ratio=self.ratio)\n",
    "        row, col = radius(pos, pos[idx], self.r, batch, batch[idx],\n",
    "                          max_num_neighbors=64)\n",
    "        edge_index = torch.stack([col, row], dim=0)\n",
    "        x_dst = None if x is None else x[idx]\n",
    "        x = self.conv((x, x_dst), (pos, pos[idx]), edge_index)\n",
    "        pos, batch = pos[idx], batch[idx]\n",
    "        return x, pos, batch\n",
    "\n",
    "\n",
    "class GlobalSAModule(torch.nn.Module):\n",
    "    def __init__(self, nn):\n",
    "        super().__init__()\n",
    "        self.nn = nn\n",
    "\n",
    "    def forward(self, x, pos, batch):\n",
    "        x = self.nn(torch.cat([x, pos], dim=1))\n",
    "        x = global_max_pool(x, batch)\n",
    "        pos = pos.new_zeros((x.size(0), 3))\n",
    "        batch = torch.arange(x.size(0), device=batch.device)\n",
    "        return x, pos, batch"
   ]
  },
  {
   "cell_type": "code",
   "execution_count": 43,
   "metadata": {},
   "outputs": [],
   "source": [
    "class FPModule(torch.nn.Module):\n",
    "    def __init__(self, k, nn):\n",
    "        super().__init__()\n",
    "        self.k = k\n",
    "        self.nn = nn\n",
    "\n",
    "    def forward(self, x, pos, batch, x_skip, pos_skip, batch_skip):\n",
    "        x = knn_interpolate(x, pos, pos_skip, batch, batch_skip, k=self.k)\n",
    "        if x_skip is not None:\n",
    "            x = torch.cat([x, x_skip], dim=1)\n",
    "        x = self.nn(x)\n",
    "        return x, pos_skip, batch_skip"
   ]
  },
  {
   "cell_type": "code",
   "execution_count": 44,
   "metadata": {},
   "outputs": [],
   "source": [
    "class Net(torch.nn.Module):\n",
    "    def __init__(self, num_classes):\n",
    "        super().__init__()\n",
    "\n",
    "        # Input channels account for both `pos` and node features.\n",
    "        self.sa1_module = SAModule(0.2, 0.2, MLP([3 + 6, 64, 64, 128])) # 3 (pos) + 6 (x)\n",
    "        self.sa2_module = SAModule(0.25, 0.4, MLP([128 + 3, 128, 128, 256]))\n",
    "        self.sa3_module = GlobalSAModule(MLP([256 + 3, 256, 512, 1024]))\n",
    "\n",
    "        self.fp3_module = FPModule(1, MLP([1024 + 256, 256, 256]))\n",
    "        self.fp2_module = FPModule(3, MLP([256 + 128, 256, 128]))\n",
    "        self.fp1_module = FPModule(3, MLP([128 + 6, 128, 128, 128]))\n",
    "\n",
    "        self.mlp = MLP([128, 128, 128, num_classes], dropout=0.5, norm=None)\n",
    "\n",
    "        self.lin1 = torch.nn.Linear(128, 128)\n",
    "        self.lin2 = torch.nn.Linear(128, 128)\n",
    "        self.lin3 = torch.nn.Linear(128, num_classes)\n",
    "\n",
    "    def forward(self, data):\n",
    "        sa0_out = (data.x, data.pos, data.batch)\n",
    "        sa1_out = self.sa1_module(*sa0_out)\n",
    "        sa2_out = self.sa2_module(*sa1_out)\n",
    "        sa3_out = self.sa3_module(*sa2_out)\n",
    "\n",
    "        fp3_out = self.fp3_module(*sa3_out, *sa2_out)\n",
    "        fp2_out = self.fp2_module(*fp3_out, *sa1_out)\n",
    "        x, _, _ = self.fp1_module(*fp2_out, *sa0_out)\n",
    "\n",
    "        return self.mlp(x).log_softmax(dim=-1)"
   ]
  },
  {
   "cell_type": "code",
   "execution_count": 45,
   "metadata": {},
   "outputs": [],
   "source": [
    "device = torch.device('cuda' if torch.cuda.is_available() else 'cpu')\n",
    "model = Net(num_classes=13).to(device)\n",
    "\n",
    "optimizer = torch.optim.Adam(model.parameters(), lr=0.001)\n",
    "\n",
    "def train():\n",
    "    model.train()\n",
    "\n",
    "    total_loss = correct_nodes = total_nodes = 0\n",
    "    for i, data in enumerate(train_loader):\n",
    "        data = data.to(device)\n",
    "        optimizer.zero_grad()\n",
    "        out = model(data)\n",
    "        loss = F.nll_loss(out, data.y)\n",
    "        loss.backward()\n",
    "        optimizer.step()\n",
    "        total_loss += loss.item()\n",
    "        correct_nodes += out.argmax(dim=1).eq(data.y).sum().item()\n",
    "        total_nodes += data.num_nodes\n",
    "\n",
    "        if (i + 1) % 10 == 0:\n",
    "            print(f'[{i+1}/{len(train_loader)}] Loss: {total_loss / 10:.4f} '\n",
    "                  f'Train Acc: {correct_nodes / total_nodes:.4f}')\n",
    "            total_loss = correct_nodes = total_nodes = 0"
   ]
  },
  {
   "cell_type": "code",
   "execution_count": 46,
   "metadata": {},
   "outputs": [],
   "source": [
    "from torchmetrics.functional import jaccard_index\n",
    "@torch.no_grad()\n",
    "def test(loader):\n",
    "    model.eval()\n",
    "    ious = []\n",
    "    \n",
    "    for data in loader:\n",
    "        data = data.to(device)\n",
    "        outs = model(data)\n",
    "\n",
    "        sizes = (data.ptr[1:] - data.ptr[:-1]).tolist()\n",
    "        for out, y in zip(outs.split(sizes), data.y.split(sizes)):            \n",
    "            iou = jaccard_index(out.argmax(dim=-1), y, \n",
    "                                num_classes=loader.dataset.num_classes, \n",
    "                                task=\"multiclass\")\n",
    "            ious.append(iou)        \n",
    "\n",
    "    iou = torch.tensor(ious, device=device)\n",
    "\n",
    "    mean_iou = iou.mean()\n",
    "    return float(mean_iou)\n"
   ]
  },
  {
   "cell_type": "code",
   "execution_count": 47,
   "metadata": {},
   "outputs": [],
   "source": [
    "for epoch in range(1, 21):\n",
    "    train()\n",
    "    iou = test(test_loader)\n",
    "    print(f'Epoch: {epoch:02d}, Test IoU: {iou:.4f}')"
   ]
  },
  {
   "cell_type": "code",
   "execution_count": null,
   "metadata": {},
   "outputs": [],
   "source": [
    "# Check block and stride size from S3DIS file\n",
    "\n",
    "\n",
    "import h5py\n",
    "import numpy as np\n",
    "\n",
    "def get_block_size(h5_file):\n",
    "    block_sizes = []\n",
    "    for block_name in h5_file.keys():\n",
    "        data = h5_file[block_name]['data'][:]  # Shape: [N, 9] (XYZ, RGB, normalized XYZ)\n",
    "        xyz = data[:, :3]  # Original coordinates (not normalized)\n",
    "        \n",
    "        # Compute spatial extent (block size)\n",
    "        min_coords = np.min(xyz, axis=0)\n",
    "        max_coords = np.max(xyz, axis=0)\n",
    "        block_size = max_coords[:2] - min_coords[:2]  # Use X and Y dimensions (ignore Z)\n",
    "        block_sizes.append(block_size)\n",
    "    \n",
    "    avg_block_size = np.mean(block_sizes, axis=0)\n",
    "    print(f\"Average block size (X, Y): {avg_block_size} meters\")\n",
    "    return avg_block_size\n",
    "\n",
    "data_file_path = r\"C:\\Users\\yanpe\\OneDrive - Metropolia Ammattikorkeakoulu Oy\\Research\\AI\\scripts\\datasets\\s3dis\\raw\\ply_data_all_0.h5\"\n",
    "with h5py.File(data_file_path, 'r') as f:\n",
    "    avg_block_size = get_block_size(f)\n",
    "    print(avg_block_size)"
   ]
  },
  {
   "cell_type": "code",
   "execution_count": 34,
   "metadata": {},
   "outputs": [
    {
     "data": {
      "text/plain": [
       "['data', 'label']"
      ]
     },
     "execution_count": 34,
     "metadata": {},
     "output_type": "execute_result"
    }
   ],
   "source": [
    "import h5py\n",
    "f = h5py.File(data_file_path, 'r') #train_pc_path, data_file_path\n",
    "list(f.keys())"
   ]
  },
  {
   "cell_type": "code",
   "execution_count": 35,
   "metadata": {},
   "outputs": [
    {
     "data": {
      "text/plain": [
       "(1000, 4096, 9)"
      ]
     },
     "execution_count": 35,
     "metadata": {},
     "output_type": "execute_result"
    }
   ],
   "source": [
    "dset = f['data']\n",
    "dset.shape"
   ]
  },
  {
   "cell_type": "code",
   "execution_count": 36,
   "metadata": {},
   "outputs": [
    {
     "data": {
      "text/plain": [
       "(1000, 4096)"
      ]
     },
     "execution_count": 36,
     "metadata": {},
     "output_type": "execute_result"
    }
   ],
   "source": [
    "dlabel = f['label']\n",
    "dlabel.shape"
   ]
  },
  {
   "cell_type": "code",
   "execution_count": 28,
   "metadata": {},
   "outputs": [
    {
     "name": "stdout",
     "output_type": "stream",
     "text": [
      "[0.153      0.478      0.051      0.4        0.39215687 0.34509805\n",
      " 0.12577319 0.22026333 0.01600753]\n"
     ]
    }
   ],
   "source": [
    "print(f['data'][0][0])"
   ]
  },
  {
   "cell_type": "code",
   "execution_count": 22,
   "metadata": {},
   "outputs": [
    {
     "ename": "ValueError",
     "evalue": "Field names only allowed for compound types",
     "output_type": "error",
     "traceback": [
      "\u001b[1;31m---------------------------------------------------------------------------\u001b[0m",
      "\u001b[1;31mValueError\u001b[0m                                Traceback (most recent call last)",
      "Cell \u001b[1;32mIn[22], line 25\u001b[0m\n\u001b[0;32m     22\u001b[0m     \u001b[38;5;28;01mreturn\u001b[39;00m stride_x, stride_y\n\u001b[0;32m     24\u001b[0m \u001b[38;5;28;01mwith\u001b[39;00m h5py\u001b[38;5;241m.\u001b[39mFile(data_file_path, \u001b[38;5;124m'\u001b[39m\u001b[38;5;124mr\u001b[39m\u001b[38;5;124m'\u001b[39m) \u001b[38;5;28;01mas\u001b[39;00m f:\n\u001b[1;32m---> 25\u001b[0m     stride_x, stride_y \u001b[38;5;241m=\u001b[39m \u001b[43minfer_stride\u001b[49m\u001b[43m(\u001b[49m\u001b[43mf\u001b[49m\u001b[43m)\u001b[49m\n",
      "Cell \u001b[1;32mIn[22], line 4\u001b[0m, in \u001b[0;36minfer_stride\u001b[1;34m(h5_file)\u001b[0m\n\u001b[0;32m      2\u001b[0m origins \u001b[38;5;241m=\u001b[39m []\n\u001b[0;32m      3\u001b[0m \u001b[38;5;28;01mfor\u001b[39;00m block_name \u001b[38;5;129;01min\u001b[39;00m h5_file\u001b[38;5;241m.\u001b[39mkeys():\n\u001b[1;32m----> 4\u001b[0m     data \u001b[38;5;241m=\u001b[39m \u001b[43mh5_file\u001b[49m\u001b[43m[\u001b[49m\u001b[43mblock_name\u001b[49m\u001b[43m]\u001b[49m\u001b[43m[\u001b[49m\u001b[38;5;124;43m'\u001b[39;49m\u001b[38;5;124;43mdata\u001b[39;49m\u001b[38;5;124;43m'\u001b[39;49m\u001b[43m]\u001b[49m[:]\n\u001b[0;32m      5\u001b[0m     xyz \u001b[38;5;241m=\u001b[39m data[:, :\u001b[38;5;241m3\u001b[39m]\n\u001b[0;32m      6\u001b[0m     min_coords \u001b[38;5;241m=\u001b[39m np\u001b[38;5;241m.\u001b[39mmin(xyz, axis\u001b[38;5;241m=\u001b[39m\u001b[38;5;241m0\u001b[39m)\n",
      "File \u001b[1;32mh5py\\\\_objects.pyx:54\u001b[0m, in \u001b[0;36mh5py._objects.with_phil.wrapper\u001b[1;34m()\u001b[0m\n",
      "File \u001b[1;32mh5py\\\\_objects.pyx:55\u001b[0m, in \u001b[0;36mh5py._objects.with_phil.wrapper\u001b[1;34m()\u001b[0m\n",
      "File \u001b[1;32m~\\AppData\\Local\\Packages\\PythonSoftwareFoundation.Python.3.12_qbz5n2kfra8p0\\LocalCache\\local-packages\\Python312\\site-packages\\h5py\\_hl\\dataset.py:821\u001b[0m, in \u001b[0;36mDataset.__getitem__\u001b[1;34m(self, args, new_dtype)\u001b[0m\n\u001b[0;32m    819\u001b[0m         names \u001b[38;5;241m=\u001b[39m names[\u001b[38;5;241m0\u001b[39m]  \u001b[38;5;66;03m# Read with simpler dtype of this field\u001b[39;00m\n\u001b[0;32m    820\u001b[0m     args \u001b[38;5;241m=\u001b[39m \u001b[38;5;28mtuple\u001b[39m(x \u001b[38;5;28;01mfor\u001b[39;00m x \u001b[38;5;129;01min\u001b[39;00m args \u001b[38;5;28;01mif\u001b[39;00m \u001b[38;5;129;01mnot\u001b[39;00m \u001b[38;5;28misinstance\u001b[39m(x, \u001b[38;5;28mstr\u001b[39m))\n\u001b[1;32m--> 821\u001b[0m     \u001b[38;5;28;01mreturn\u001b[39;00m \u001b[38;5;28;43mself\u001b[39;49m\u001b[38;5;241;43m.\u001b[39;49m\u001b[43mfields\u001b[49m\u001b[43m(\u001b[49m\u001b[43mnames\u001b[49m\u001b[43m,\u001b[49m\u001b[43m \u001b[49m\u001b[43m_prior_dtype\u001b[49m\u001b[38;5;241;43m=\u001b[39;49m\u001b[43mnew_dtype\u001b[49m\u001b[43m)\u001b[49m[args]\n\u001b[0;32m    823\u001b[0m \u001b[38;5;28;01mif\u001b[39;00m new_dtype \u001b[38;5;129;01mis\u001b[39;00m \u001b[38;5;28;01mNone\u001b[39;00m:\n\u001b[0;32m    824\u001b[0m     new_dtype \u001b[38;5;241m=\u001b[39m \u001b[38;5;28mself\u001b[39m\u001b[38;5;241m.\u001b[39mdtype\n",
      "File \u001b[1;32m~\\AppData\\Local\\Packages\\PythonSoftwareFoundation.Python.3.12_qbz5n2kfra8p0\\LocalCache\\local-packages\\Python312\\site-packages\\h5py\\_hl\\dataset.py:472\u001b[0m, in \u001b[0;36mDataset.fields\u001b[1;34m(self, names, _prior_dtype)\u001b[0m\n\u001b[0;32m    470\u001b[0m \u001b[38;5;28;01mif\u001b[39;00m _prior_dtype \u001b[38;5;129;01mis\u001b[39;00m \u001b[38;5;28;01mNone\u001b[39;00m:\n\u001b[0;32m    471\u001b[0m     _prior_dtype \u001b[38;5;241m=\u001b[39m \u001b[38;5;28mself\u001b[39m\u001b[38;5;241m.\u001b[39mdtype\n\u001b[1;32m--> 472\u001b[0m \u001b[38;5;28;01mreturn\u001b[39;00m \u001b[43mFieldsView\u001b[49m\u001b[43m(\u001b[49m\u001b[38;5;28;43mself\u001b[39;49m\u001b[43m,\u001b[49m\u001b[43m \u001b[49m\u001b[43m_prior_dtype\u001b[49m\u001b[43m,\u001b[49m\u001b[43m \u001b[49m\u001b[43mnames\u001b[49m\u001b[43m)\u001b[49m\n",
      "File \u001b[1;32m~\\AppData\\Local\\Packages\\PythonSoftwareFoundation.Python.3.12_qbz5n2kfra8p0\\LocalCache\\local-packages\\Python312\\site-packages\\h5py\\_hl\\dataset.py:307\u001b[0m, in \u001b[0;36mFieldsView.__init__\u001b[1;34m(self, dset, prior_dtype, names)\u001b[0m\n\u001b[0;32m    305\u001b[0m \u001b[38;5;28;01melse\u001b[39;00m:\n\u001b[0;32m    306\u001b[0m     \u001b[38;5;28mself\u001b[39m\u001b[38;5;241m.\u001b[39mextract_field \u001b[38;5;241m=\u001b[39m \u001b[38;5;28;01mNone\u001b[39;00m\n\u001b[1;32m--> 307\u001b[0m \u001b[38;5;28mself\u001b[39m\u001b[38;5;241m.\u001b[39mread_dtype \u001b[38;5;241m=\u001b[39m \u001b[43mreadtime_dtype\u001b[49m\u001b[43m(\u001b[49m\u001b[43mprior_dtype\u001b[49m\u001b[43m,\u001b[49m\u001b[43m \u001b[49m\u001b[43mnames\u001b[49m\u001b[43m)\u001b[49m\n",
      "File \u001b[1;32m~\\AppData\\Local\\Packages\\PythonSoftwareFoundation.Python.3.12_qbz5n2kfra8p0\\LocalCache\\local-packages\\Python312\\site-packages\\h5py\\_hl\\dataset.py:326\u001b[0m, in \u001b[0;36mreadtime_dtype\u001b[1;34m(basetype, names)\u001b[0m\n\u001b[0;32m    324\u001b[0m \u001b[38;5;250m\u001b[39m\u001b[38;5;124;03m\"\"\"Make a NumPy compound dtype with a subset of available fields\"\"\"\u001b[39;00m\n\u001b[0;32m    325\u001b[0m \u001b[38;5;28;01mif\u001b[39;00m basetype\u001b[38;5;241m.\u001b[39mnames \u001b[38;5;129;01mis\u001b[39;00m \u001b[38;5;28;01mNone\u001b[39;00m:  \u001b[38;5;66;03m# Names provided, but not compound\u001b[39;00m\n\u001b[1;32m--> 326\u001b[0m     \u001b[38;5;28;01mraise\u001b[39;00m \u001b[38;5;167;01mValueError\u001b[39;00m(\u001b[38;5;124m\"\u001b[39m\u001b[38;5;124mField names only allowed for compound types\u001b[39m\u001b[38;5;124m\"\u001b[39m)\n\u001b[0;32m    328\u001b[0m \u001b[38;5;28;01mfor\u001b[39;00m name \u001b[38;5;129;01min\u001b[39;00m names:  \u001b[38;5;66;03m# Check all names are legal\u001b[39;00m\n\u001b[0;32m    329\u001b[0m     \u001b[38;5;28;01mif\u001b[39;00m name \u001b[38;5;129;01mnot\u001b[39;00m \u001b[38;5;129;01min\u001b[39;00m basetype\u001b[38;5;241m.\u001b[39mnames:\n",
      "\u001b[1;31mValueError\u001b[0m: Field names only allowed for compound types"
     ]
    }
   ],
   "source": [
    "def infer_stride(h5_file):\n",
    "    origins = []\n",
    "    for block_name in h5_file.keys():\n",
    "        data = h5_file[block_name]['data'][:]\n",
    "        xyz = data[:, :3]\n",
    "        min_coords = np.min(xyz, axis=0)\n",
    "        origins.append(min_coords[:2])  # Track X,Y origins\n",
    "    \n",
    "    # Sort origins by X then Y\n",
    "    origins_sorted = sorted(origins, key=lambda x: (x[0], x[1]))\n",
    "    \n",
    "    # Compute pairwise distances between consecutive blocks\n",
    "    strides = []\n",
    "    for i in range(1, len(origins_sorted)):\n",
    "        dx = origins_sorted[i][0] - origins_sorted[i-1][0]\n",
    "        dy = origins_sorted[i][1] - origins_sorted[i-1][1]\n",
    "        strides.extend([dx, dy])\n",
    "    \n",
    "    # Find most common stride (assuming fixed stride)\n",
    "    stride_x, stride_y = np.median(strides), np.median(strides)\n",
    "    print(f\"Inferred stride (X, Y): {stride_x}, {stride_y} meters\")\n",
    "    return stride_x, stride_y\n",
    "\n",
    "with h5py.File(data_file_path, 'r') as f:\n",
    "    stride_x, stride_y = infer_stride(f)"
   ]
  },
  {
   "cell_type": "code",
   "execution_count": null,
   "metadata": {},
   "outputs": [],
   "source": [
    "checkpoint_path = \".\\checkpoints\\pointnet2_s3dis_transform_seg_x6_27_checkpoint.pth\"  # Path to save the checkpoint\n",
    "\n",
    "# Save model, optimizer state, and any other info needed\n",
    "torch.save({\n",
    "    'epoch': 27,\n",
    "    'model_state_dict': model.state_dict(),\n",
    "    'optimizer_state_dict': optimizer.state_dict(),\n",
    "    #'loss': loss,\n",
    "    #'test_accuracy': test_acc\n",
    "}, checkpoint_path)\n",
    "\n",
    "print(\"Checkpoint saved successfully!\")"
   ]
  },
  {
   "cell_type": "code",
   "execution_count": null,
   "metadata": {},
   "outputs": [],
   "source": [
    "# Apply LoRA to segmentation head\n",
    "model.seg_head = lora.Linear(...)  # See earlier LoRA code\n",
    "\n",
    "# Train\n",
    "for epoch in range(epochs):\n",
    "    for data, labels in train_loader:\n",
    "        ..."
   ]
  },
  {
   "cell_type": "code",
   "execution_count": null,
   "metadata": {},
   "outputs": [],
   "source": [
    "import torch.nn as nn\n",
    "import loralib as lora\n",
    "\n",
    "# Load the original model\n",
    "model = torch.load(\"original_model.pth\")\n",
    "\n",
    "# Freeze the entire base model\n",
    "for param in model.parameters():\n",
    "    param.requires_grad = False\n",
    "\n",
    "# Replace specific layers with LoRA-enabled layers\n",
    "# Example: Replace a linear layer in the segmentation head\n",
    "model.seg_layer[0] = lora.Linear(\n",
    "    in_features=128,        # Original input dimension\n",
    "    out_features=64,       # Original output dimension\n",
    "    r=8,                   # Rank of the low-rank matrices (hyperparameter)\n",
    "    lora_alpha=16,         # Scaling factor for LoRA weights\n",
    "    merge_weights=False     # Keep LoRA separate during training\n",
    ")"
   ]
  },
  {
   "cell_type": "code",
   "execution_count": null,
   "metadata": {},
   "outputs": [],
   "source": [
    "device = torch.device(\"cuda\" if torch.cuda.is_available() else \"cpu\")\n",
    "model.to(device)\n",
    "\n",
    "# Define LoRA-compatible optimizer (only train LoRA params)\n",
    "optimizer = torch.optim.Adam(\n",
    "    lora.lora_parameters(model),  # Only LoRA parameters\n",
    "    lr=1e-3,                      # Higher LR for adapter training\n",
    "    weight_decay=0.01\n",
    ")\n",
    "\n",
    "# Training loop (similar to standard fine-tuning)\n",
    "for epoch in range(num_epochs):\n",
    "    model.train()\n",
    "    for points, labels in train_loader:\n",
    "        points, labels = points.to(device), labels.to(device)\n",
    "        optimizer.zero_grad()\n",
    "        outputs = model(points)\n",
    "        loss = criterion(outputs, labels)\n",
    "        loss.backward()\n",
    "        optimizer.step()"
   ]
  },
  {
   "cell_type": "code",
   "execution_count": null,
   "metadata": {},
   "outputs": [],
   "source": [
    "torch.save(lora.lora_state_dict(model), \"pointcloud_lora_weights.pth\")"
   ]
  },
  {
   "cell_type": "code",
   "execution_count": null,
   "metadata": {},
   "outputs": [],
   "source": [
    "# Load the original model and LoRA weights\n",
    "model = torch.load(\"original_model.pth\")\n",
    "lora_weights = torch.load(\"pointcloud_lora_weights.pth\")\n",
    "\n",
    "# Merge LoRA weights into the base model\n",
    "model.load_state_dict(lora_weights, strict=False)\n",
    "lora.mark_only_lora_as_trainable(model)  # Optional: Revert if needed later\n",
    "\n",
    "# Now use `model` as a standard fine-tuned model"
   ]
  },
  {
   "cell_type": "code",
   "execution_count": null,
   "metadata": {},
   "outputs": [],
   "source": []
  },
  {
   "cell_type": "code",
   "execution_count": null,
   "metadata": {},
   "outputs": [],
   "source": [
    "import torch\n",
    "from pointnet2 import PointNet2Seg\n",
    "import loralib as lora\n",
    "\n",
    "class PointNet2LoRA(PointNet2Seg):\n",
    "    def __init__(self, num_classes, r=8, alpha=16):\n",
    "        super().__init__(num_classes)\n",
    "        \n",
    "        # Freeze base model\n",
    "        for param in self.parameters():\n",
    "            param.requires_grad = False\n",
    "        \n",
    "        # Replace final MLP layers with LoRA\n",
    "        self.seg_layers = nn.Sequential(\n",
    "            lora.Linear(256, 128, r=r, lora_alpha=alpha),\n",
    "            nn.ReLU(),\n",
    "            lora.Linear(128, num_classes, r=r, lora_alpha=alpha)\n",
    "        )\n",
    "\n",
    "# Usage\n",
    "model = PointNet2LoRA(num_classes=10, r=8)"
   ]
  },
  {
   "cell_type": "code",
   "execution_count": null,
   "metadata": {},
   "outputs": [],
   "source": []
  }
 ],
 "metadata": {
  "kernelspec": {
   "display_name": "Python 3",
   "language": "python",
   "name": "python3"
  },
  "language_info": {
   "codemirror_mode": {
    "name": "ipython",
    "version": 3
   },
   "file_extension": ".py",
   "mimetype": "text/x-python",
   "name": "python",
   "nbconvert_exporter": "python",
   "pygments_lexer": "ipython3",
   "version": "3.12.10"
  }
 },
 "nbformat": 4,
 "nbformat_minor": 2
}
