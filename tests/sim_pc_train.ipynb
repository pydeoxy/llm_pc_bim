{
 "cells": [
  {
   "cell_type": "markdown",
   "metadata": {},
   "source": [
    "**Load the PLY File**"
   ]
  },
  {
   "cell_type": "code",
   "execution_count": 7,
   "metadata": {},
   "outputs": [],
   "source": [
    "import open3d as o3d\n",
    "import numpy as np\n",
    "import os\n",
    "import h5py\n",
    "\n",
    "script_dir = os.path.dirname(os.getcwd())"
   ]
  },
  {
   "cell_type": "code",
   "execution_count": 1,
   "metadata": {},
   "outputs": [
    {
     "name": "stdout",
     "output_type": "stream",
     "text": [
      "Jupyter environment detected. Enabling Open3D WebVisualizer.\n",
      "[Open3D INFO] WebRTC GUI backend enabled.\n",
      "[Open3D INFO] WebRTCWindowSystem: HTTP handshake server disabled.\n"
     ]
    }
   ],
   "source": [
    "\n",
    "\n",
    "\n",
    "sim_pc_path = os.path.join(script_dir, '.', 'docs', 'smartLab_simulated.ply')\n",
    "\n",
    "pcd = o3d.io.read_point_cloud(sim_pc_path)\n",
    "points = np.asarray(pcd.points)          # Shape: [N, 3]\n",
    "colors = np.asarray(pcd.colors)           # Shape: [N, 3]\n",
    "\n",
    "#o3d.visualization.draw_geometries([pcd])"
   ]
  },
  {
   "cell_type": "markdown",
   "metadata": {},
   "source": [
    "**Convert Colors to Labels**"
   ]
  },
  {
   "cell_type": "code",
   "execution_count": 3,
   "metadata": {},
   "outputs": [],
   "source": [
    "color_map = np.array([\n",
    "    [1.0, 0.0, 0.0],  # Label 0: Red,  'ceiling'\n",
    "    [0.0, 1.0, 0.0],  # Label 1: Green, 'floor'\n",
    "    [0.0, 0.0, 1.0],  # Label 2: Blue,  'wall'\n",
    "    [1.0, 1.0, 0.0],  # Label 3: Yellow, 'beam'\n",
    "    [1.0, 0.0, 1.0],  # Label 4: Magenta, 'column'\n",
    "    [0.0, 1.0, 1.0],  # Label 5: Cyan, 'window'\n",
    "    [0.5, 0.5, 0.5],  # Label 6: Gray, 'door'\n",
    "    [1.0, 0.5, 0.0],  # Label 7: Orange, 'chair'\n",
    "    [0.5, 0.0, 1.0],  # Label 8: Purple, 'table'\n",
    "    [0.5, 1.0, 0.5],  # Label 9: Light Green, 'bookcase'\n",
    "    [0.5, 0.5, 1.0],  # Label 10: Light Blue, 'sofa'\n",
    "    [1.0, 0.5, 0.5],  # Label 11: Pink, 'board'\n",
    "    [0.0, 0.0, 0.0]   # Label 12: Black, 'clutter'\n",
    "    ])\n",
    "\n",
    "# Find closest color in color_map for each point\n",
    "labels = np.argmin(np.linalg.norm(colors[:, None] - color_map, axis=2), axis=1)"
   ]
  },
  {
   "cell_type": "markdown",
   "metadata": {},
   "source": [
    "**Split into Blocks**"
   ]
  },
  {
   "cell_type": "code",
   "execution_count": 4,
   "metadata": {},
   "outputs": [],
   "source": [
    "def split_into_blocks(points, colors, labels, block_size=3.0, stride=1.5):\n",
    "    \"\"\"\n",
    "    Split into blocks of size 3m x 3m with 1.5m stride.\n",
    "    Returns: List of (block_points, block_colors, block_labels)\n",
    "    \"\"\"\n",
    "    min_coords = np.min(points[:, :2], axis=0)  # Ignore Z-axis for 2D splitting\n",
    "    max_coords = np.max(points[:, :2], axis=0)\n",
    "    \n",
    "    blocks = []\n",
    "    x = min_coords[0]\n",
    "    while x < max_coords[0]:\n",
    "        y = min_coords[1]\n",
    "        while y < max_coords[1]:\n",
    "            # Select points within the block\n",
    "            mask = (points[:, 0] >= x) & (points[:, 0] < x + block_size) & \\\n",
    "                   (points[:, 1] >= y) & (points[:, 1] < y + block_size)\n",
    "            block_points = points[mask]\n",
    "            block_colors = colors[mask]\n",
    "            block_labels = labels[mask]\n",
    "            \n",
    "            if len(block_points) > 100:  # Ignore sparse blocks\n",
    "                blocks.append((block_points, block_colors, block_labels))\n",
    "            y += stride\n",
    "        x += stride\n",
    "    return blocks"
   ]
  },
  {
   "cell_type": "markdown",
   "metadata": {},
   "source": [
    "**Normalize Coordinates**"
   ]
  },
  {
   "cell_type": "code",
   "execution_count": 6,
   "metadata": {},
   "outputs": [],
   "source": [
    "def normalize_block(block_points):\n",
    "    centroid = np.mean(block_points[:, :3], axis=0)\n",
    "    block_points[:, :3] -= centroid\n",
    "    max_dist = np.max(np.sqrt(np.sum(block_points[:, :3] ** 2, axis=1)))\n",
    "    block_points[:, :3] /= max_dist\n",
    "    return block_points, centroid, max_dist"
   ]
  },
  {
   "cell_type": "markdown",
   "metadata": {},
   "source": [
    "**Create HDF5 File**"
   ]
  },
  {
   "cell_type": "code",
   "execution_count": 7,
   "metadata": {},
   "outputs": [],
   "source": [
    "\n",
    "\n",
    "def save_to_h5(blocks, filename):\n",
    "    with h5py.File(filename, 'w') as f:\n",
    "        for i, (points, colors, labels) in enumerate(blocks):\n",
    "            # Normalize coordinates\n",
    "            norm_points, _, _ = normalize_block(points.copy())\n",
    "            \n",
    "            # Combine features: XYZ + RGB + normalized XYZ\n",
    "            features = np.hstack([points, colors, norm_points])\n",
    "            \n",
    "            grp = f.create_group(f'room_{i}')\n",
    "            grp.create_dataset('data', data=features.astype(np.float32))\n",
    "            grp.create_dataset('label', data=labels.astype(np.int32))"
   ]
  },
  {
   "cell_type": "markdown",
   "metadata": {},
   "source": [
    "**Split into Train/Val**"
   ]
  },
  {
   "cell_type": "code",
   "execution_count": 8,
   "metadata": {},
   "outputs": [],
   "source": [
    "import random\n",
    "\n",
    "blocks = split_into_blocks(points, colors, labels)\n",
    "random.shuffle(blocks)\n",
    "split_idx = int(0.8 * len(blocks))\n",
    "train_blocks = blocks[:split_idx]\n",
    "val_blocks = blocks[split_idx:]"
   ]
  },
  {
   "cell_type": "code",
   "execution_count": 8,
   "metadata": {},
   "outputs": [],
   "source": [
    "train_pc_path = os.path.join(script_dir, '.', 'docs', 'train.h5')\n",
    "val_pc_path = os.path.join(script_dir, '.', 'docs', 'val.h5')"
   ]
  },
  {
   "cell_type": "code",
   "execution_count": null,
   "metadata": {},
   "outputs": [],
   "source": [
    "save_to_h5(train_blocks, train_pc_path)\n",
    "save_to_h5(val_blocks, val_pc_path)"
   ]
  },
  {
   "cell_type": "markdown",
   "metadata": {},
   "source": [
    "**Dataset Class for Training**"
   ]
  },
  {
   "cell_type": "code",
   "execution_count": 9,
   "metadata": {},
   "outputs": [],
   "source": [
    "import torch\n",
    "from torch.utils.data import Dataset, DataLoader\n",
    "\n",
    "class S3DISDataset(Dataset):\n",
    "    def __init__(self, h5_path):\n",
    "        self.h5_file = h5py.File(h5_path, 'r')\n",
    "        self.keys = list(self.h5_file.keys())\n",
    "        \n",
    "    def __len__(self):\n",
    "        return len(self.keys)\n",
    "    \n",
    "    def __getitem__(self, idx):\n",
    "        key = self.keys[idx]\n",
    "        grp = self.h5_file[key]\n",
    "        data = torch.from_numpy(grp['data'][:])  # [N, 9]\n",
    "        label = torch.from_numpy(grp['label'][:])  # [N]\n",
    "        return data, label\n",
    "\n",
    "train_dataset = S3DISDataset(train_pc_path)\n",
    "train_loader = DataLoader(train_dataset, batch_size=8, shuffle=False)"
   ]
  },
  {
   "cell_type": "code",
   "execution_count": 11,
   "metadata": {},
   "outputs": [],
   "source": [
    "test_dataset = S3DISDataset(val_pc_path)\n",
    "test_loader = DataLoader(test_dataset, batch_size=8, shuffle=False)"
   ]
  },
  {
   "cell_type": "markdown",
   "metadata": {},
   "source": [
    "**Fine-Tuning with LoRA**"
   ]
  },
  {
   "cell_type": "code",
   "execution_count": 12,
   "metadata": {},
   "outputs": [],
   "source": [
    "import torch\n",
    "import torch.nn.functional as F\n",
    "from torch_geometric.nn import MLP, PointNetConv, fps, global_max_pool, radius\n",
    "import torch_geometric.transforms as T\n",
    "from torch_geometric.loader import DataLoader\n",
    "from torch_geometric.nn import MLP, knn_interpolate\n",
    "from torch_geometric.typing import WITH_TORCH_CLUSTER\n",
    "from torch_geometric.data import Data\n",
    "\n",
    "from sklearn.linear_model import RANSACRegressor\n",
    "from scipy.spatial import ConvexHull\n",
    "\n",
    "if not WITH_TORCH_CLUSTER:\n",
    "    quit(\"This example requires 'torch-cluster'\")"
   ]
  },
  {
   "cell_type": "code",
   "execution_count": 13,
   "metadata": {},
   "outputs": [],
   "source": [
    "class SAModule(torch.nn.Module):\n",
    "    def __init__(self, ratio, r, nn):\n",
    "        super().__init__()\n",
    "        self.ratio = ratio\n",
    "        self.r = r\n",
    "        self.conv = PointNetConv(nn, add_self_loops=False)\n",
    "\n",
    "    def forward(self, x, pos, batch):\n",
    "        idx = fps(pos, batch, ratio=self.ratio)\n",
    "        row, col = radius(pos, pos[idx], self.r, batch, batch[idx],\n",
    "                          max_num_neighbors=64)\n",
    "        edge_index = torch.stack([col, row], dim=0)\n",
    "        x_dst = None if x is None else x[idx]\n",
    "        x = self.conv((x, x_dst), (pos, pos[idx]), edge_index)\n",
    "        pos, batch = pos[idx], batch[idx]\n",
    "        return x, pos, batch\n",
    "\n",
    "\n",
    "class GlobalSAModule(torch.nn.Module):\n",
    "    def __init__(self, nn):\n",
    "        super().__init__()\n",
    "        self.nn = nn\n",
    "\n",
    "    def forward(self, x, pos, batch):\n",
    "        x = self.nn(torch.cat([x, pos], dim=1))\n",
    "        x = global_max_pool(x, batch)\n",
    "        pos = pos.new_zeros((x.size(0), 3))\n",
    "        batch = torch.arange(x.size(0), device=batch.device)\n",
    "        return x, pos, batch"
   ]
  },
  {
   "cell_type": "code",
   "execution_count": 14,
   "metadata": {},
   "outputs": [],
   "source": [
    "class FPModule(torch.nn.Module):\n",
    "    def __init__(self, k, nn):\n",
    "        super().__init__()\n",
    "        self.k = k\n",
    "        self.nn = nn\n",
    "\n",
    "    def forward(self, x, pos, batch, x_skip, pos_skip, batch_skip):\n",
    "        x = knn_interpolate(x, pos, pos_skip, batch, batch_skip, k=self.k)\n",
    "        if x_skip is not None:\n",
    "            x = torch.cat([x, x_skip], dim=1)\n",
    "        x = self.nn(x)\n",
    "        return x, pos_skip, batch_skip"
   ]
  },
  {
   "cell_type": "code",
   "execution_count": 15,
   "metadata": {},
   "outputs": [],
   "source": [
    "class Net(torch.nn.Module):\n",
    "    def __init__(self, num_classes):\n",
    "        super().__init__()\n",
    "\n",
    "        # Input channels account for both `pos` and node features.\n",
    "        self.sa1_module = SAModule(0.2, 0.2, MLP([3 + 6, 64, 64, 128])) # 3 (pos) + 6 (x)\n",
    "        self.sa2_module = SAModule(0.25, 0.4, MLP([128 + 3, 128, 128, 256]))\n",
    "        self.sa3_module = GlobalSAModule(MLP([256 + 3, 256, 512, 1024]))\n",
    "\n",
    "        self.fp3_module = FPModule(1, MLP([1024 + 256, 256, 256]))\n",
    "        self.fp2_module = FPModule(3, MLP([256 + 128, 256, 128]))\n",
    "        self.fp1_module = FPModule(3, MLP([128 + 6, 128, 128, 128]))\n",
    "\n",
    "        self.mlp = MLP([128, 128, 128, num_classes], dropout=0.5, norm=None)\n",
    "\n",
    "        self.lin1 = torch.nn.Linear(128, 128)\n",
    "        self.lin2 = torch.nn.Linear(128, 128)\n",
    "        self.lin3 = torch.nn.Linear(128, num_classes)\n",
    "\n",
    "    def forward(self, data):\n",
    "        sa0_out = (data.x, data.pos, data.batch)\n",
    "        sa1_out = self.sa1_module(*sa0_out)\n",
    "        sa2_out = self.sa2_module(*sa1_out)\n",
    "        sa3_out = self.sa3_module(*sa2_out)\n",
    "\n",
    "        fp3_out = self.fp3_module(*sa3_out, *sa2_out)\n",
    "        fp2_out = self.fp2_module(*fp3_out, *sa1_out)\n",
    "        x, _, _ = self.fp1_module(*fp2_out, *sa0_out)\n",
    "\n",
    "        return self.mlp(x).log_softmax(dim=-1)"
   ]
  },
  {
   "cell_type": "code",
   "execution_count": null,
   "metadata": {},
   "outputs": [],
   "source": [
    "\n",
    "\n",
    "\n",
    "# Load pre-trained weights\n",
    "# Load the checkpoint dictionary\n",
    "checkpoint = torch.load(r\".\\checkpoints\\pointnet2_s3dis_seg_x6_30_checkpoint.pth\", map_location=device)\n",
    "# Extract the model state dictionary\n",
    "model_state_dict = checkpoint['model_state_dict']\n",
    "\n"
   ]
  },
  {
   "cell_type": "code",
   "execution_count": 17,
   "metadata": {},
   "outputs": [],
   "source": [
    "device = torch.device('cuda' if torch.cuda.is_available() else 'cpu')\n",
    "model = Net(num_classes=13).to(device)\n",
    "\n",
    "optimizer = torch.optim.Adam(model.parameters(), lr=0.001)\n",
    "\n",
    "def train():\n",
    "    model.train()\n",
    "\n",
    "    total_loss = correct_nodes = total_nodes = 0\n",
    "    for i, data in enumerate(train_loader):\n",
    "        data = data.to(device)\n",
    "        optimizer.zero_grad()\n",
    "        out = model(data)\n",
    "        loss = F.nll_loss(out, data.y)\n",
    "        loss.backward()\n",
    "        optimizer.step()\n",
    "        total_loss += loss.item()\n",
    "        correct_nodes += out.argmax(dim=1).eq(data.y).sum().item()\n",
    "        total_nodes += data.num_nodes\n",
    "\n",
    "        if (i + 1) % 10 == 0:\n",
    "            print(f'[{i+1}/{len(train_loader)}] Loss: {total_loss / 10:.4f} '\n",
    "                  f'Train Acc: {correct_nodes / total_nodes:.4f}')\n",
    "            total_loss = correct_nodes = total_nodes = 0"
   ]
  },
  {
   "cell_type": "code",
   "execution_count": 19,
   "metadata": {},
   "outputs": [],
   "source": [
    "from torchmetrics.functional import jaccard_index\n",
    "@torch.no_grad()\n",
    "def test(loader):\n",
    "    model.eval()\n",
    "    ious = []\n",
    "    \n",
    "    for data in loader:\n",
    "        data = data.to(device)\n",
    "        outs = model(data)\n",
    "\n",
    "        sizes = (data.ptr[1:] - data.ptr[:-1]).tolist()\n",
    "        for out, y in zip(outs.split(sizes), data.y.split(sizes)):            \n",
    "            iou = jaccard_index(out.argmax(dim=-1), y, \n",
    "                                num_classes=loader.dataset.num_classes, \n",
    "                                task=\"multiclass\")\n",
    "            ious.append(iou)        \n",
    "\n",
    "    iou = torch.tensor(ious, device=device)\n",
    "\n",
    "    mean_iou = iou.mean()\n",
    "    return float(mean_iou)\n"
   ]
  },
  {
   "cell_type": "code",
   "execution_count": null,
   "metadata": {},
   "outputs": [],
   "source": [
    "for epoch in range(1, 21):\n",
    "    train()\n",
    "    iou = test(test_loader)\n",
    "    print(f'Epoch: {epoch:02d}, Test IoU: {iou:.4f}')"
   ]
  },
  {
   "cell_type": "code",
   "execution_count": null,
   "metadata": {},
   "outputs": [],
   "source": [
    "checkpoint_path = \".\\checkpoints\\pointnet2_s3dis_transform_seg_x6_27_checkpoint.pth\"  # Path to save the checkpoint\n",
    "\n",
    "# Save model, optimizer state, and any other info needed\n",
    "torch.save({\n",
    "    'epoch': 27,\n",
    "    'model_state_dict': model.state_dict(),\n",
    "    'optimizer_state_dict': optimizer.state_dict(),\n",
    "    #'loss': loss,\n",
    "    #'test_accuracy': test_acc\n",
    "}, checkpoint_path)\n",
    "\n",
    "print(\"Checkpoint saved successfully!\")"
   ]
  },
  {
   "cell_type": "code",
   "execution_count": null,
   "metadata": {},
   "outputs": [],
   "source": [
    "# Apply LoRA to segmentation head\n",
    "model.seg_head = lora.Linear(...)  # See earlier LoRA code\n",
    "\n",
    "# Train\n",
    "for epoch in range(epochs):\n",
    "    for data, labels in train_loader:\n",
    "        ..."
   ]
  },
  {
   "cell_type": "code",
   "execution_count": null,
   "metadata": {},
   "outputs": [],
   "source": [
    "import torch.nn as nn\n",
    "import loralib as lora\n",
    "\n",
    "# Load the original model\n",
    "model = torch.load(\"original_model.pth\")\n",
    "\n",
    "# Freeze the entire base model\n",
    "for param in model.parameters():\n",
    "    param.requires_grad = False\n",
    "\n",
    "# Replace specific layers with LoRA-enabled layers\n",
    "# Example: Replace a linear layer in the segmentation head\n",
    "model.seg_layer[0] = lora.Linear(\n",
    "    in_features=128,        # Original input dimension\n",
    "    out_features=64,       # Original output dimension\n",
    "    r=8,                   # Rank of the low-rank matrices (hyperparameter)\n",
    "    lora_alpha=16,         # Scaling factor for LoRA weights\n",
    "    merge_weights=False     # Keep LoRA separate during training\n",
    ")"
   ]
  },
  {
   "cell_type": "code",
   "execution_count": null,
   "metadata": {},
   "outputs": [],
   "source": [
    "device = torch.device(\"cuda\" if torch.cuda.is_available() else \"cpu\")\n",
    "model.to(device)\n",
    "\n",
    "# Define LoRA-compatible optimizer (only train LoRA params)\n",
    "optimizer = torch.optim.Adam(\n",
    "    lora.lora_parameters(model),  # Only LoRA parameters\n",
    "    lr=1e-3,                      # Higher LR for adapter training\n",
    "    weight_decay=0.01\n",
    ")\n",
    "\n",
    "# Training loop (similar to standard fine-tuning)\n",
    "for epoch in range(num_epochs):\n",
    "    model.train()\n",
    "    for points, labels in train_loader:\n",
    "        points, labels = points.to(device), labels.to(device)\n",
    "        optimizer.zero_grad()\n",
    "        outputs = model(points)\n",
    "        loss = criterion(outputs, labels)\n",
    "        loss.backward()\n",
    "        optimizer.step()"
   ]
  },
  {
   "cell_type": "code",
   "execution_count": null,
   "metadata": {},
   "outputs": [],
   "source": [
    "torch.save(lora.lora_state_dict(model), \"pointcloud_lora_weights.pth\")"
   ]
  },
  {
   "cell_type": "code",
   "execution_count": null,
   "metadata": {},
   "outputs": [],
   "source": [
    "# Load the original model and LoRA weights\n",
    "model = torch.load(\"original_model.pth\")\n",
    "lora_weights = torch.load(\"pointcloud_lora_weights.pth\")\n",
    "\n",
    "# Merge LoRA weights into the base model\n",
    "model.load_state_dict(lora_weights, strict=False)\n",
    "lora.mark_only_lora_as_trainable(model)  # Optional: Revert if needed later\n",
    "\n",
    "# Now use `model` as a standard fine-tuned model"
   ]
  },
  {
   "cell_type": "code",
   "execution_count": null,
   "metadata": {},
   "outputs": [],
   "source": []
  },
  {
   "cell_type": "code",
   "execution_count": null,
   "metadata": {},
   "outputs": [],
   "source": [
    "import torch\n",
    "from pointnet2 import PointNet2Seg\n",
    "import loralib as lora\n",
    "\n",
    "class PointNet2LoRA(PointNet2Seg):\n",
    "    def __init__(self, num_classes, r=8, alpha=16):\n",
    "        super().__init__(num_classes)\n",
    "        \n",
    "        # Freeze base model\n",
    "        for param in self.parameters():\n",
    "            param.requires_grad = False\n",
    "        \n",
    "        # Replace final MLP layers with LoRA\n",
    "        self.seg_layers = nn.Sequential(\n",
    "            lora.Linear(256, 128, r=r, lora_alpha=alpha),\n",
    "            nn.ReLU(),\n",
    "            lora.Linear(128, num_classes, r=r, lora_alpha=alpha)\n",
    "        )\n",
    "\n",
    "# Usage\n",
    "model = PointNet2LoRA(num_classes=10, r=8)"
   ]
  },
  {
   "cell_type": "code",
   "execution_count": null,
   "metadata": {},
   "outputs": [],
   "source": []
  }
 ],
 "metadata": {
  "kernelspec": {
   "display_name": "Python 3",
   "language": "python",
   "name": "python3"
  },
  "language_info": {
   "codemirror_mode": {
    "name": "ipython",
    "version": 3
   },
   "file_extension": ".py",
   "mimetype": "text/x-python",
   "name": "python",
   "nbconvert_exporter": "python",
   "pygments_lexer": "ipython3",
   "version": "3.12.10"
  }
 },
 "nbformat": 4,
 "nbformat_minor": 2
}
