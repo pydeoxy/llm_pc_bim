{
 "cells": [
  {
   "cell_type": "code",
   "execution_count": 28,
   "id": "41d2f9c4",
   "metadata": {},
   "outputs": [],
   "source": [
    "from haystack.components.agents import Agent\n",
    "from haystack.components.generators.chat import HuggingFaceLocalChatGenerator\n",
    "from haystack.components.websearch import SerperDevWebSearch\n",
    "from haystack.dataclasses import ChatMessage\n",
    "from haystack.tools.component_tool import ComponentTool\n",
    "from duckduckgo_api_haystack import DuckduckgoApiWebSearch\n",
    "\n",
    "import sys\n",
    "import os\n",
    "sys.path.append(os.path.abspath(os.path.join(os.getcwd(), '..')))\n",
    "\n",
    "from chatcore.tools.ifc_tool import ifc_entity_tool, ifc_query_tool, ifc_finetune_tool, no_call_tool, IfcToolCallAssistant\n",
    "from chatcore.utils.config_loader import load_llm_config  \n"
   ]
  },
  {
   "cell_type": "code",
   "execution_count": 33,
   "id": "6eae4aea",
   "metadata": {},
   "outputs": [
    {
     "data": {
      "application/vnd.jupyter.widget-view+json": {
       "model_id": "7421c4af1bdd465ab5a3da3a2036199c",
       "version_major": 2,
       "version_minor": 0
      },
      "text/plain": [
       "Loading checkpoint shards:   0%|          | 0/2 [00:00<?, ?it/s]"
      ]
     },
     "metadata": {},
     "output_type": "display_data"
    },
    {
     "name": "stderr",
     "output_type": "stream",
     "text": [
      "Some parameters are on the meta device because they were offloaded to the cpu and disk.\n",
      "Device set to use cuda:0\n"
     ]
    }
   ],
   "source": [
    "#llm_config = load_llm_config()\n",
    "llm = HuggingFaceLocalChatGenerator(\n",
    "        model=\"meta-llama/Llama-3.2-3B-Instruct\",\n",
    "        huggingface_pipeline_kwargs={\n",
    "            \"device_map\": \"auto\",\n",
    "            #\"torch_dtype\": llm_config[\"torch_dtype\"],   \n",
    "        },\n",
    "        generation_kwargs={\"max_new_tokens\": 1024,\n",
    "                           \"temperature\": 0.7,\n",
    "                           \"repetition_penalty\": 1.1}\n",
    "    )\n",
    "llm.warm_up()   "
   ]
  },
  {
   "cell_type": "code",
   "execution_count": 24,
   "id": "846bb512",
   "metadata": {},
   "outputs": [
    {
     "name": "stdout",
     "output_type": "stream",
     "text": [
      "{'messages': [ChatMessage(_role=<ChatRole.USER: 'user'>, _content=[TextContent(text='What are the main ifcentities in the ifc file from C:/Users/yanpe/OneDrive - Metropolia Ammattikorkeakoulu Oy/Courses/CRBE/IFC/BIM4EEB-TUD-2x3.ifc?')], _name=None, _meta={}), ChatMessage(_role=<ChatRole.ASSISTANT: 'assistant'>, _content=[TextContent(text='{\"name\": \"ifc_entity_tool\", \"parameters\": {\"ifc_file_path\": \"C:/Users/yanpe/OneDrive - Metropolia Ammattikorkeakoulu Oy/Courses/CRBE/IFC/BIM4EEB-TUD-2x3.ifc\"}}')], _name=None, _meta={'finish_reason': 'stop', 'index': 0, 'model': 'meta-llama/Llama-3.2-3B-Instruct', 'usage': {'completion_tokens': 64, 'prompt_tokens': 504, 'total_tokens': 568}})], 'last_message': ChatMessage(_role=<ChatRole.ASSISTANT: 'assistant'>, _content=[TextContent(text='{\"name\": \"ifc_entity_tool\", \"parameters\": {\"ifc_file_path\": \"C:/Users/yanpe/OneDrive - Metropolia Ammattikorkeakoulu Oy/Courses/CRBE/IFC/BIM4EEB-TUD-2x3.ifc\"}}')], _name=None, _meta={'finish_reason': 'stop', 'index': 0, 'model': 'meta-llama/Llama-3.2-3B-Instruct', 'usage': {'completion_tokens': 64, 'prompt_tokens': 504, 'total_tokens': 568}})}\n"
     ]
    }
   ],
   "source": [
    "# Create the agent with the web search tool\n",
    "agent = Agent(chat_generator=llm, tools=[ifc_entity_tool, ifc_query_tool, ifc_finetune_tool, no_call_tool])\n",
    "agent.warm_up()\n",
    "\n",
    "ifc_file_path= \"C:/Users/yanpe/OneDrive - Metropolia Ammattikorkeakoulu Oy/Courses/CRBE/IFC/BIM4EEB-TUD-2x3.ifc\"\n",
    "# Run the agent with a query\n",
    "result = agent.run(messages=[ChatMessage.from_user(f\"What are the main ifcentities in the ifc file from {ifc_file_path}?\")])\n",
    "\n",
    "# Print the final response\n",
    "print(result)"
   ]
  },
  {
   "cell_type": "code",
   "execution_count": 25,
   "id": "f0afa9f2",
   "metadata": {},
   "outputs": [
    {
     "name": "stdout",
     "output_type": "stream",
     "text": [
      "{\"name\": \"ifc_entity_tool\", \"parameters\": {\"ifc_file_path\": \"C:/Users/yanpe/OneDrive - Metropolia Ammattikorkeakoulu Oy/Courses/CRBE/IFC/BIM4EEB-TUD-2x3.ifc\"}}\n"
     ]
    }
   ],
   "source": [
    "print(result[\"messages\"][-1].text)"
   ]
  },
  {
   "cell_type": "code",
   "execution_count": 34,
   "id": "16bbe8ae",
   "metadata": {},
   "outputs": [
    {
     "name": "stdout",
     "output_type": "stream",
     "text": [
      "{\"name\": \"web_search\", \"parameters\": {\"query\": \"Berlin weather\"}}\n"
     ]
    }
   ],
   "source": [
    "# Create the web search component\n",
    "web_search = DuckduckgoApiWebSearch(top_k=3)\n",
    "\n",
    "# Create the ComponentTool with simpler parameters\n",
    "web_tool = ComponentTool(\n",
    "    component=web_search,\n",
    "    name=\"web_search\",\n",
    "    description=\"Search the web for current information like weather, news, or facts.\"\n",
    ")\n",
    "\n",
    "# Create the agent with the web tool\n",
    "tool_calling_agent = Agent(\n",
    "    chat_generator=llm,\n",
    "    system_prompt=\"\"\"You're a helpful agent. When asked about current information like weather, news, or facts, \n",
    "                     use the web_search tool to find the information and then summarize the findings.\n",
    "                     When you get web search results, extract the relevant information and present it in a clear, \n",
    "                     concise manner.\"\"\",\n",
    "    tools=[web_tool]\n",
    ")\n",
    "tool_calling_agent.warm_up()\n",
    "\n",
    "# Run the agent with the user message\n",
    "user_message = ChatMessage.from_user(\"How is the weather in Berlin?\")\n",
    "result = tool_calling_agent.run(messages=[user_message])\n",
    "\n",
    "# Print the result - using .text instead of .content\n",
    "print(result[\"messages\"][-1].text)"
   ]
  },
  {
   "cell_type": "code",
   "execution_count": 35,
   "id": "b2763e65",
   "metadata": {},
   "outputs": [
    {
     "name": "stdout",
     "output_type": "stream",
     "text": [
      "{'last_message': ChatMessage(_role=<ChatRole.ASSISTANT: 'assistant'>,\n",
      "                             _content=[TextContent(text='{\"name\": '\n",
      "                                                        '\"web_search\", '\n",
      "                                                        '\"parameters\": '\n",
      "                                                        '{\"query\": \"Berlin '\n",
      "                                                        'weather\"}}')],\n",
      "                             _name=None,\n",
      "                             _meta={'finish_reason': 'stop',\n",
      "                                    'index': 0,\n",
      "                                    'model': 'meta-llama/Llama-3.2-3B-Instruct',\n",
      "                                    'usage': {'completion_tokens': 17,\n",
      "                                              'prompt_tokens': 265,\n",
      "                                              'total_tokens': 282}}),\n",
      " 'messages': [ChatMessage(_role=<ChatRole.SYSTEM: 'system'>,\n",
      "                          _content=[TextContent(text=\"You're a helpful agent. \"\n",
      "                                                     'When asked about current '\n",
      "                                                     'information like '\n",
      "                                                     'weather, news, or '\n",
      "                                                     'facts, \\n'\n",
      "                                                     '                     use '\n",
      "                                                     'the web_search tool to '\n",
      "                                                     'find the information and '\n",
      "                                                     'then summarize the '\n",
      "                                                     'findings.\\n'\n",
      "                                                     '                     '\n",
      "                                                     'When you get web search '\n",
      "                                                     'results, extract the '\n",
      "                                                     'relevant information and '\n",
      "                                                     'present it in a clear, \\n'\n",
      "                                                     '                     '\n",
      "                                                     'concise manner.')],\n",
      "                          _name=None,\n",
      "                          _meta={}),\n",
      "              ChatMessage(_role=<ChatRole.USER: 'user'>,\n",
      "                          _content=[TextContent(text='How is the weather in '\n",
      "                                                     'Berlin?')],\n",
      "                          _name=None,\n",
      "                          _meta={}),\n",
      "              ChatMessage(_role=<ChatRole.ASSISTANT: 'assistant'>,\n",
      "                          _content=[TextContent(text='{\"name\": \"web_search\", '\n",
      "                                                     '\"parameters\": {\"query\": '\n",
      "                                                     '\"Berlin weather\"}}')],\n",
      "                          _name=None,\n",
      "                          _meta={'finish_reason': 'stop',\n",
      "                                 'index': 0,\n",
      "                                 'model': 'meta-llama/Llama-3.2-3B-Instruct',\n",
      "                                 'usage': {'completion_tokens': 17,\n",
      "                                           'prompt_tokens': 265,\n",
      "                                           'total_tokens': 282}})]}\n"
     ]
    }
   ],
   "source": [
    "from pprint import pprint\n",
    "pprint(result)"
   ]
  }
 ],
 "metadata": {
  "kernelspec": {
   "display_name": "Python 3",
   "language": "python",
   "name": "python3"
  },
  "language_info": {
   "codemirror_mode": {
    "name": "ipython",
    "version": 3
   },
   "file_extension": ".py",
   "mimetype": "text/x-python",
   "name": "python",
   "nbconvert_exporter": "python",
   "pygments_lexer": "ipython3",
   "version": "3.12.10"
  }
 },
 "nbformat": 4,
 "nbformat_minor": 5
}
