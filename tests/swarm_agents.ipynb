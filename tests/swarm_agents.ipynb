{
 "cells": [
  {
   "cell_type": "code",
   "execution_count": 1,
   "metadata": {},
   "outputs": [],
   "source": [
    "from typing import Annotated, Callable, Tuple\n",
    "from dataclasses import dataclass, field\n",
    "\n",
    "import random, re\n",
    "\n",
    "from typing import Annotated, Callable, Tuple\n",
    "from dataclasses import dataclass, field\n",
    "\n",
    "import random, re\n",
    "\n",
    "from haystack.dataclasses import ChatMessage, ChatRole\n",
    "from haystack.tools import create_tool_from_function\n",
    "from haystack.components.tools import ToolInvoker\n",
    "\n",
    "from haystack.components.generators import HuggingFaceLocalGenerator\n"
   ]
  },
  {
   "cell_type": "code",
   "execution_count": 3,
   "metadata": {},
   "outputs": [
    {
     "ename": "NameError",
     "evalue": "name '__file__' is not defined",
     "output_type": "error",
     "traceback": [
      "\u001b[1;31m---------------------------------------------------------------------------\u001b[0m",
      "\u001b[1;31mNameError\u001b[0m                                 Traceback (most recent call last)",
      "Cell \u001b[1;32mIn[3], line 3\u001b[0m\n\u001b[0;32m      1\u001b[0m \u001b[38;5;28;01mimport\u001b[39;00m \u001b[38;5;21;01msys\u001b[39;00m\n\u001b[0;32m      2\u001b[0m \u001b[38;5;28;01mimport\u001b[39;00m \u001b[38;5;21;01mos\u001b[39;00m\n\u001b[1;32m----> 3\u001b[0m repo_root \u001b[38;5;241m=\u001b[39m os\u001b[38;5;241m.\u001b[39mpath\u001b[38;5;241m.\u001b[39mabspath(os\u001b[38;5;241m.\u001b[39mpath\u001b[38;5;241m.\u001b[39mjoin(os\u001b[38;5;241m.\u001b[39mpath\u001b[38;5;241m.\u001b[39mdirname(\u001b[38;5;18;43m__file__\u001b[39;49m), \u001b[38;5;124m'\u001b[39m\u001b[38;5;124m..\u001b[39m\u001b[38;5;124m'\u001b[39m, \u001b[38;5;124m'\u001b[39m\u001b[38;5;124m..\u001b[39m\u001b[38;5;124m'\u001b[39m))\n\u001b[0;32m      4\u001b[0m \u001b[38;5;28;01mif\u001b[39;00m repo_root \u001b[38;5;129;01mnot\u001b[39;00m \u001b[38;5;129;01min\u001b[39;00m sys\u001b[38;5;241m.\u001b[39mpath:\n\u001b[0;32m      5\u001b[0m     sys\u001b[38;5;241m.\u001b[39mpath\u001b[38;5;241m.\u001b[39minsert(\u001b[38;5;241m0\u001b[39m, repo_root)\n",
      "\u001b[1;31mNameError\u001b[0m: name '__file__' is not defined"
     ]
    }
   ],
   "source": [
    "import sys\n",
    "import os\n",
    "repo_root = os.path.abspath(os.path.join(os.path.dirname(__file__), '..', '..'))\n",
    "if repo_root not in sys.path:\n",
    "    sys.path.insert(0, repo_root)"
   ]
  },
  {
   "cell_type": "code",
   "execution_count": 2,
   "metadata": {},
   "outputs": [
    {
     "ename": "ModuleNotFoundError",
     "evalue": "No module named 'chatcore'",
     "output_type": "error",
     "traceback": [
      "\u001b[1;31m---------------------------------------------------------------------------\u001b[0m",
      "\u001b[1;31mModuleNotFoundError\u001b[0m                       Traceback (most recent call last)",
      "Cell \u001b[1;32mIn[2], line 1\u001b[0m\n\u001b[1;32m----> 1\u001b[0m \u001b[38;5;28;01mfrom\u001b[39;00m \u001b[38;5;21;01mchatcore\u001b[39;00m\u001b[38;5;21;01m.\u001b[39;00m\u001b[38;5;21;01mutils\u001b[39;00m\u001b[38;5;21;01m.\u001b[39;00m\u001b[38;5;21;01mconfig_loader\u001b[39;00m \u001b[38;5;28;01mimport\u001b[39;00m load_llm_config\n\u001b[0;32m      2\u001b[0m \u001b[38;5;28;01mfrom\u001b[39;00m \u001b[38;5;21;01mduckduckgo_api_haystack\u001b[39;00m \u001b[38;5;28;01mimport\u001b[39;00m DuckduckgoApiWebSearch\n\u001b[0;32m      4\u001b[0m llm_config \u001b[38;5;241m=\u001b[39m load_llm_config()\n",
      "\u001b[1;31mModuleNotFoundError\u001b[0m: No module named 'chatcore'"
     ]
    }
   ],
   "source": [
    "from chatcore.utils.config_loader import load_llm_config\n",
    "from duckduckgo_api_haystack import DuckduckgoApiWebSearch\n",
    "    \n",
    "llm_config = load_llm_config()\n",
    "    \n",
    "llm = HuggingFaceLocalGenerator(\n",
    "        model=llm_config[\"model_name\"],\n",
    "        huggingface_pipeline_kwargs={\n",
    "            \"device_map\": llm_config[\"device_map\"],\n",
    "            \"torch_dtype\": llm_config[\"torch_dtype\"],        \n",
    "            #\"model_kwargs\": {\"use_auth_token\": llm_config[\"huggingface\"][\"use_auth_token\"]}\n",
    "        },\n",
    "        generation_kwargs=llm_config[\"generation\"]\n",
    "    )"
   ]
  },
  {
   "cell_type": "code",
   "execution_count": null,
   "metadata": {},
   "outputs": [],
   "source": [
    "HANDOFF_TEMPLATE = \"Transferred to: {agent_name}. Adopt persona immediately.\"\n",
    "HANDOFF_PATTERN = r\"Transferred to: (.*?)(?:\\.|$)\"\n",
    "\n",
    "\n",
    "@dataclass\n",
    "class SwarmAgent:\n",
    "    name: str = \"SwarmAgent\"\n",
    "    llm: object = llm\n",
    "    instructions: str = \"You are a helpful Agent\"\n",
    "    functions: list[Callable] = field(default_factory=list)\n",
    "\n",
    "    def __post_init__(self):\n",
    "        self._system_message = ChatMessage.from_system(self.instructions)\n",
    "        self.tools = [create_tool_from_function(fun) for fun in self.functions] if self.functions else None\n",
    "        self._tool_invoker = ToolInvoker(tools=self.tools, raise_on_failure=False) if self.tools else None\n",
    "\n",
    "    def run(self, messages: list[ChatMessage]) -> Tuple[str, list[ChatMessage]]:\n",
    "        # generate response\n",
    "        agent_message = self.llm.run(messages=[self._system_message] + messages, tools=self.tools)[\"replies\"][0]\n",
    "        new_messages = [agent_message]\n",
    "\n",
    "        if agent_message.text:\n",
    "            print(f\"\\n{self.name}: {agent_message.text}\")\n",
    "\n",
    "        if not agent_message.tool_calls:\n",
    "            return self.name, new_messages\n",
    "\n",
    "        # handle tool calls\n",
    "        for tc in agent_message.tool_calls:\n",
    "            # trick: Ollama do not produce IDs, but OpenAI and Anthropic require them.\n",
    "            if tc.id is None:\n",
    "                tc.id = str(random.randint(0, 1000000))\n",
    "        tool_results = self._tool_invoker.run(messages=[agent_message])[\"tool_messages\"]\n",
    "        new_messages.extend(tool_results)\n",
    "\n",
    "        # handoff\n",
    "        last_result = tool_results[-1].tool_call_result.result\n",
    "        match = re.search(HANDOFF_PATTERN, last_result)\n",
    "        new_agent_name = match.group(1) if match else self.name\n",
    "\n",
    "        return new_agent_name, new_messages\n"
   ]
  },
  {
   "cell_type": "code",
   "execution_count": null,
   "metadata": {},
   "outputs": [],
   "source": [
    "# to automatically convert functions into tools, we need to annotate fields with their descriptions in the signature\n",
    "def execute_refund(item_name: Annotated[str, \"The name of the item to refund\"]):\n",
    "    return f\"report: refund succeeded for {item_name} - refund id: {random.randint(0,10000)}\"\n"
   ]
  },
  {
   "cell_type": "code",
   "execution_count": null,
   "metadata": {},
   "outputs": [],
   "source": [
    "def transfer_to_refund():\n",
    "    \"\"\"Pass to this Agent for anything related to refunds\"\"\"\n",
    "    return HANDOFF_TEMPLATE.format(agent_name=\"Refund Agent\")\n",
    "\n",
    "\n",
    "def transfer_to_joker():\n",
    "    \"\"\"Pass to this Agent for anything NOT related to refunds.\"\"\"\n",
    "    return HANDOFF_TEMPLATE.format(agent_name=\"Joker Agent\")\n",
    "\n",
    "refund_agent = SwarmAgent(\n",
    "    name=\"Refund Agent\",\n",
    "    instructions=(\n",
    "        \"You are a refund agent. \"\n",
    "        \"Help the user with refunds. \"\n",
    "        \"Ask for basic information but be brief. \"\n",
    "        \"For anything unrelated to refunds, transfer to other agent.\"\n",
    "    ),\n",
    "    functions=[execute_refund, transfer_to_joker],\n",
    ")\n",
    "\n",
    "joker_agent = SwarmAgent(\n",
    "    name=\"Joker Agent\",\n",
    "    instructions=(\n",
    "        \"you are a funny assistant making jokes. \"\n",
    "        \"If the user asks questions related to refunds, send him to other agent.\"\n",
    "    ),\n",
    "    functions=[transfer_to_refund],\n",
    ")\n"
   ]
  },
  {
   "cell_type": "code",
   "execution_count": null,
   "metadata": {},
   "outputs": [],
   "source": [
    "agents = {agent.name: agent for agent in [joker_agent, refund_agent]}\n",
    "\n",
    "print(\"Type 'quit' to exit\")\n",
    "\n",
    "messages = []\n",
    "current_agent_name = \"Joker Agent\"\n",
    "\n",
    "while True:\n",
    "    agent = agents[current_agent_name]\n",
    "\n",
    "    if not messages or messages[-1].role == ChatRole.ASSISTANT:\n",
    "        user_input = input(\"User: \")\n",
    "        if user_input.lower() == \"quit\":\n",
    "            break\n",
    "        messages.append(ChatMessage.from_user(user_input))\n",
    "\n",
    "    current_agent_name, new_messages = agent.run(messages)\n",
    "    messages.extend(new_messages)\n"
   ]
  }
 ],
 "metadata": {
  "kernelspec": {
   "display_name": "Python 3",
   "language": "python",
   "name": "python3"
  },
  "language_info": {
   "codemirror_mode": {
    "name": "ipython",
    "version": 3
   },
   "file_extension": ".py",
   "mimetype": "text/x-python",
   "name": "python",
   "nbconvert_exporter": "python",
   "pygments_lexer": "ipython3",
   "version": "3.12.9"
  }
 },
 "nbformat": 4,
 "nbformat_minor": 2
}
