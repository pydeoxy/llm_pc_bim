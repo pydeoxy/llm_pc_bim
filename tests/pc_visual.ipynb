{
 "cells": [
  {
   "cell_type": "code",
   "execution_count": 1,
   "metadata": {},
   "outputs": [
    {
     "name": "stdout",
     "output_type": "stream",
     "text": [
      "Jupyter environment detected. Enabling Open3D WebVisualizer.\n",
      "[Open3D INFO] WebRTC GUI backend enabled.\n",
      "[Open3D INFO] WebRTCWindowSystem: HTTP handshake server disabled.\n"
     ]
    }
   ],
   "source": [
    "import os\n",
    "import open3d as o3d\n",
    "import numpy as np"
   ]
  },
  {
   "cell_type": "code",
   "execution_count": null,
   "metadata": {},
   "outputs": [],
   "source": [
    "# Pcd files\n",
    "#pcd_folder = \"C:/Users/yanpe/OneDrive - Metropolia Ammattikorkeakoulu Oy/Research/data/smartlab/labelled/\"\n",
    "#pcd_path = pcd_folder + \"Smartlab_aalto_pcd_s3dis_label_pointnet2_x6_0.03_20250422.ply\"\n",
    "#pcd_path = pcd_folder + \"Smartlab_aalto_pcd_finetuned_label_pointnet2_x3_0.03_20250416.ply\"\n",
    "#pcd_path = pcd_folder + \"Smartlab_aalto_pcd_s3dis_label_pointnet2_x3_0.03_20250423.ply\"\n",
    "#pcd_path = pcd_folder + \"Smartlab_pcd_lora_label_pointnet2_x3_0.03_20250426.ply\"\n",
    "#pcd_path = r\"C:\\Users\\yanpe\\OneDrive - Metropolia Ammattikorkeakoulu Oy\\Research\\data\\hexagon\\Fira- 1001.ply\"\n",
    "\n",
    "pcd_path = \"../docs/downpcd_lablled.pcd\"\n",
    "pcd = o3d.io.read_point_cloud(pcd_path)"
   ]
  },
  {
   "cell_type": "code",
   "execution_count": 6,
   "metadata": {},
   "outputs": [],
   "source": [
    "o3d.visualization.draw_geometries([pcd], point_show_normal=False)"
   ]
  },
  {
   "cell_type": "code",
   "execution_count": 1,
   "metadata": {},
   "outputs": [
    {
     "name": "stdout",
     "output_type": "stream",
     "text": [
      "Jupyter environment detected. Enabling Open3D WebVisualizer.\n",
      "[Open3D INFO] WebRTC GUI backend enabled.\n",
      "[Open3D INFO] WebRTCWindowSystem: HTTP handshake server disabled.\n"
     ]
    }
   ],
   "source": [
    "import numpy as np\n",
    "from sklearn.metrics import classification_report, accuracy_score\n",
    "from scipy.spatial import cKDTree\n",
    "import open3d as o3d\n",
    "\n",
    "import sys\n",
    "import os\n",
    "sys.path.append(os.path.abspath(os.path.join(os.getcwd(), '..')))\n",
    "from pc_seg.pc_label_map import color_map_dict\n",
    "\n",
    "import pandas as pd\n",
    "import seaborn as sns\n",
    "import matplotlib.pyplot as plt"
   ]
  },
  {
   "cell_type": "code",
   "execution_count": 2,
   "metadata": {},
   "outputs": [],
   "source": [
    "# Invert the colormap to get RGB → label index\n",
    "rgb_to_label = {tuple(v[0]): k for k, v in color_map_dict.items()}\n",
    "label_to_name = {k: v[1] for k, v in color_map_dict.items()}\n",
    "\n",
    "def get_label_from_color(color_array):\n",
    "    \"\"\"Match color to closest known semantic color label.\"\"\"\n",
    "    labels = []\n",
    "    for c in color_array:\n",
    "        # Round to 3 decimals to avoid float precision mismatch\n",
    "        key = tuple(np.round(c, 3))\n",
    "        label = rgb_to_label.get(key, -1)  # -1 if unmatched\n",
    "        labels.append(label)\n",
    "    return np.array(labels)"
   ]
  },
  {
   "cell_type": "code",
   "execution_count": 3,
   "metadata": {},
   "outputs": [],
   "source": [
    "# Load the ground truch point cloud\n",
    "\n",
    "#smartlab_path = \"../docs/SmartLab_2024_E57_Single_5mm_SEG_colors.ply\" # Manually labelled ground truth\n",
    "smartlab_path = \"../docs/smartLab_simulated.ply\" # Simulated from IFC model\n",
    "\n",
    "pcd = o3d.io.read_point_cloud(smartlab_path) "
   ]
  },
  {
   "cell_type": "code",
   "execution_count": 4,
   "metadata": {},
   "outputs": [],
   "source": [
    "o3d.visualization.draw_geometries([pcd], point_show_normal=False)"
   ]
  },
  {
   "cell_type": "code",
   "execution_count": 5,
   "metadata": {},
   "outputs": [],
   "source": [
    "def print_label_counts(label_array, name=\"Point Cloud\"):\n",
    "    print(f\"\\n📦 Label counts for {name}:\")\n",
    "    unique_labels, counts = np.unique(label_array, return_counts=True)\n",
    "    total_points = len(label_array)\n",
    "    for label, count in zip(unique_labels, counts):\n",
    "        class_name = label_to_name.get(label, f\"Class {label}\")\n",
    "        percentage = (count / total_points) * 100\n",
    "        print(f\"  {label:2d} ({class_name:10s}): {count:6d} points ({percentage:5.2f}%)\")"
   ]
  },
  {
   "cell_type": "code",
   "execution_count": 6,
   "metadata": {},
   "outputs": [],
   "source": [
    "# Extract point coordinates and colors\n",
    "points = np.asarray(pcd.points)\n",
    "origin_colors = np.asarray(pcd.colors)\n",
    "colors = np.round(origin_colors, 1)\n",
    "\n",
    "# Convert color to semantic labels\n",
    "labels = get_label_from_color(colors)"
   ]
  },
  {
   "cell_type": "code",
   "execution_count": 7,
   "metadata": {},
   "outputs": [
    {
     "name": "stdout",
     "output_type": "stream",
     "text": [
      "13958161 in total\n",
      "\n",
      "📦 Label counts for Ground Truth:\n",
      "   0 (ceiling   ): 3216123 points (23.04%)\n",
      "   1 (floor     ): 2574746 points (18.45%)\n",
      "   2 (wall      ): 5412366 points (38.78%)\n",
      "   3 (beam      ):  21448 points ( 0.15%)\n",
      "   4 (column    ):  36577 points ( 0.26%)\n",
      "   5 (window    ): 291669 points ( 2.09%)\n",
      "   6 (door      ): 355612 points ( 2.55%)\n",
      "   7 (table     ):  14756 points ( 0.11%)\n",
      "   8 (chair     ):  35844 points ( 0.26%)\n",
      "   9 (sofa      ): 176263 points ( 1.26%)\n",
      "  10 (bookcase  ): 274664 points ( 1.97%)\n",
      "  11 (board     ):  38795 points ( 0.28%)\n",
      "  12 (clutter   ): 1509298 points (10.81%)\n"
     ]
    }
   ],
   "source": [
    "# Ground Truth\n",
    "print(f'{len(points)} in total')\n",
    "print_label_counts(labels, name=\"Ground Truth\")\n",
    "\n",
    "# Prediction\n",
    "#print_label_counts(pred_labels, name=\"Prediction\")"
   ]
  },
  {
   "cell_type": "code",
   "execution_count": 8,
   "metadata": {},
   "outputs": [],
   "source": [
    "def visualize_label_distribution(label_array, label_to_name, title=\"Label Distribution\"):\n",
    "    unique_labels, counts = np.unique(label_array, return_counts=True)\n",
    "    total_points = len(label_array)\n",
    "    \n",
    "    labels = [label_to_name.get(label, f\"Class {label}\") for label in unique_labels]\n",
    "    percentages = (counts / total_points) * 100\n",
    "\n",
    "    plt.figure(figsize=(10, 6))\n",
    "    bars = plt.bar(labels, counts, color='skyblue')\n",
    "    \n",
    "    # Annotate percentage above each bar\n",
    "    for bar, pct in zip(bars, percentages):\n",
    "        plt.text(bar.get_x() + bar.get_width() / 2, bar.get_height(), f'{pct:.1f}%', \n",
    "                 ha='center', va='bottom', fontsize=10)\n",
    "\n",
    "    plt.title(title)\n",
    "    plt.xlabel(\"Labels\")\n",
    "    plt.ylabel(\"Number of Points\")\n",
    "    plt.xticks(rotation=45)\n",
    "    plt.tight_layout()\n",
    "    plt.grid(axis='y', linestyle='--', alpha=0.7)\n",
    "    plt.show()"
   ]
  },
  {
   "cell_type": "code",
   "execution_count": 9,
   "metadata": {},
   "outputs": [
    {
     "data": {
      "image/png": "[encoded data removed]",
      "text/plain": [
       "<Figure size 1000x600 with 1 Axes>"
      ]
     },
     "metadata": {},
     "output_type": "display_data"
    }
   ],
   "source": [
    "visualize_label_distribution(labels, label_to_name)"
   ]
  }
 ],
 "metadata": {
  "kernelspec": {
   "display_name": "Python 3",
   "language": "python",
   "name": "python3"
  },
  "language_info": {
   "codemirror_mode": {
    "name": "ipython",
    "version": 3
   },
   "file_extension": ".py",
   "mimetype": "text/x-python",
   "name": "python",
   "nbconvert_exporter": "python",
   "pygments_lexer": "ipython3",
   "version": "3.12.10"
  }
 },
 "nbformat": 4,
 "nbformat_minor": 2
}
