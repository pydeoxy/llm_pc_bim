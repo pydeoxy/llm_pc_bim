{
 "cells": [
  {
   "cell_type": "code",
   "execution_count": 1,
   "metadata": {},
   "outputs": [
    {
     "name": "stdout",
     "output_type": "stream",
     "text": [
      "Jupyter environment detected. Enabling Open3D WebVisualizer.\n",
      "[Open3D INFO] WebRTC GUI backend enabled.\n",
      "[Open3D INFO] WebRTCWindowSystem: HTTP handshake server disabled.\n"
     ]
    }
   ],
   "source": [
    "import os\n",
    "import open3d as o3d\n",
    "import numpy as np"
   ]
  },
  {
   "cell_type": "code",
   "execution_count": 3,
   "metadata": {},
   "outputs": [],
   "source": [
    "# Pcd files\n",
    "pcd_folder = \"C:/Users/yanpe/OneDrive - Metropolia Ammattikorkeakoulu Oy/Research/data/smartlab/labelled/\"\n",
    "#pcd_path = pcd_folder + \"Smartlab_aalto_pcd_s3dis_label_pointnet2_x6_0.03_20250422.ply\"\n",
    "pcd_path = pcd_folder + \"Smartlab_aalto_pcd_finetuned_label_pointnet2_x3_0.03_20250416.ply\"\n",
    "#pcd_path = pcd_folder + \"Smartlab_aalto_pcd_s3dis_label_pointnet2_x3_0.03_20250423.ply\"\n",
    "#pcd_path = pcd_folder + \"Smartlab_pcd_lora_label_pointnet2_x3_0.03_20250426.ply\"\n",
    "#pcd_path = r\"C:\\Users\\yanpe\\OneDrive - Metropolia Ammattikorkeakoulu Oy\\Research\\data\\hexagon\\Fira- 1001.ply\"\n",
    "pcd = o3d.io.read_point_cloud(pcd_path)"
   ]
  },
  {
   "cell_type": "code",
   "execution_count": 4,
   "metadata": {},
   "outputs": [],
   "source": [
    "o3d.visualization.draw_geometries([pcd], point_show_normal=False)"
   ]
  }
 ],
 "metadata": {
  "kernelspec": {
   "display_name": "Python 3",
   "language": "python",
   "name": "python3"
  },
  "language_info": {
   "codemirror_mode": {
    "name": "ipython",
    "version": 3
   },
   "file_extension": ".py",
   "mimetype": "text/x-python",
   "name": "python",
   "nbconvert_exporter": "python",
   "pygments_lexer": "ipython3",
   "version": "3.12.10"
  }
 },
 "nbformat": 4,
 "nbformat_minor": 2
}
