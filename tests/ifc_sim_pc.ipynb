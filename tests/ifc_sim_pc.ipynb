{
 "cells": [
  {
   "cell_type": "code",
   "execution_count": 19,
   "metadata": {},
   "outputs": [],
   "source": [
    "import ifcopenshell\n",
    "import numpy as np\n",
    "import os\n",
    "from ifcopenshell import geom\n",
    "import open3d as o3d\n",
    "\n",
    "settings = geom.settings()\n",
    "settings.set(settings.USE_WORLD_COORDS, True) "
   ]
  },
  {
   "cell_type": "code",
   "execution_count": 20,
   "metadata": {},
   "outputs": [],
   "source": [
    "import sys\n",
    "import os\n",
    "repo_root = os.path.abspath(os.path.join(os.getcwd(), '.', '.'))\n",
    "if repo_root not in sys.path:\n",
    "    sys.path.insert(0, repo_root)"
   ]
  },
  {
   "cell_type": "code",
   "execution_count": 21,
   "metadata": {},
   "outputs": [],
   "source": [
    "# Define a fixed color map for 13 labels\n",
    "color_map = np.array([\n",
    "    [1.0, 0.0, 0.0],  # Label 0: Red,  'ceiling'\n",
    "    [0.0, 1.0, 0.0],  # Label 1: Green, 'floor'\n",
    "    [0.0, 0.0, 1.0],  # Label 2: Blue,  'wall'\n",
    "    [1.0, 1.0, 0.0],  # Label 3: Yellow, 'beam'\n",
    "    [1.0, 0.0, 1.0],  # Label 4: Magenta, 'column'\n",
    "    [0.0, 1.0, 1.0],  # Label 5: Cyan, 'window'\n",
    "    [0.5, 0.5, 0.5],  # Label 6: Gray, 'door'\n",
    "    [1.0, 0.5, 0.0],  # Label 7: Orange, 'chair'\n",
    "    [0.5, 0.0, 1.0],  # Label 8: Purple, 'table'\n",
    "    [0.5, 1.0, 0.5],  # Label 9: Light Green, 'bookcase'\n",
    "    [0.5, 0.5, 1.0],  # Label 10: Light Blue, 'sofa'\n",
    "    [1.0, 0.5, 0.5],  # Label 11: Pink, 'board'\n",
    "    [0.0, 0.0, 0.0]   # Label 12: Black, 'clutter'\n",
    "    ])"
   ]
  },
  {
   "cell_type": "code",
   "execution_count": 27,
   "metadata": {},
   "outputs": [],
   "source": [
    "ifc_label_map = {\n",
    "  \"IfcCovering\": 0, # \"ceiling\"\n",
    "  \"IfcSlab\": 1, # \"floor\"\n",
    "  #\"IfcStair\": 1,\n",
    "  \"IfcWallStandardCase\": 2, # \"wall\"\n",
    "  \"IfcBeam\": 3, # \"beam\"\n",
    "  \"IfcColumn\": 4, # \"column\"\n",
    "  \"IfcWindow\": 5, # \"window\"\n",
    "  \"IfcDoor\": 6, # \"door\"\n",
    "  \"IfcBuildingElementProxy\": 12, # \"clutter\"\n",
    "  \"IfcDistributionElement\": 12, #\n",
    "  \"IfcFurnishingElement\": 12, \n",
    "}"
   ]
  },
  {
   "cell_type": "code",
   "execution_count": 28,
   "metadata": {},
   "outputs": [],
   "source": [
    "# Load IFC file\n",
    "script_dir = os.path.dirname(os.getcwd())\n",
    "ifc_file_path = os.path.join(script_dir, '.', 'docs', 'smartLab.ifc')\n",
    "\n",
    "ifc_file = ifcopenshell.open(ifc_file_path) \n",
    "\n",
    "# Get all building elements (e.g., walls, doors)\n",
    "elements = []\n",
    "for tp in ifc_label_map.keys():\n",
    "    elements += ifc_file.by_type(tp)"
   ]
  },
  {
   "cell_type": "code",
   "execution_count": 31,
   "metadata": {},
   "outputs": [
    {
     "name": "stdout",
     "output_type": "stream",
     "text": [
      "[#480708=IfcStair('3orDiQyEPBwxO8bTTuym2D',#19,'Stairs:Stairs:1130885',$,'Stairs:Stairs',#480707,#480705,'1130885',.NOTDEFINED.), #480710=IfcStair('3orDiQyEPBwxO8bTLuym2D',#19,'Stairs:Stairs:1130885',$,'Stairs:Stairs',#480704,$,'1130885',.NOTDEFINED.)]\n"
     ]
    }
   ],
   "source": [
    "stair = ifc_file.by_type(\"IfcStair\")\n",
    "print(stair)"
   ]
  },
  {
   "cell_type": "code",
   "execution_count": 29,
   "metadata": {},
   "outputs": [],
   "source": [
    "def sample_points_on_mesh(verts, faces, spacing_mm=10):\n",
    "    \"\"\"\n",
    "    Sample points on a mesh with a target spacing (e.g., 10mm between points).\n",
    "    - verts: Array of shape (N, 3) containing mesh vertices.\n",
    "    - faces: Array of shape (M, 3) containing triangular face indices.\n",
    "    - spacing_mm: Desired distance between points in millimeters.\n",
    "    Returns: Sampled points (shape: [K, 3]).\n",
    "    \"\"\"\n",
    "    # Convert faces to NumPy array if it's a tuple\n",
    "    if isinstance(faces, tuple):\n",
    "        faces = np.array(faces)\n",
    "    \n",
    "    # Reshape to 2D if needed\n",
    "    if len(faces.shape) == 1:\n",
    "        faces = faces.reshape(-1, 3)\n",
    "\n",
    "    triangles = verts[faces]\n",
    "    \n",
    "    # Calculate triangle areas (in mm²)\n",
    "    vec1 = triangles[:, 1] - triangles[:, 0]\n",
    "    vec2 = triangles[:, 2] - triangles[:, 0]\n",
    "    areas = 0.5 * np.linalg.norm(np.cross(vec1, vec2), axis=1)\n",
    "\n",
    "    # Calculate total surface area and number of points needed\n",
    "    total_area_mm2 = np.sum(areas)\n",
    "    points_per_mm2 = 1 / (spacing_mm ** 2)\n",
    "    num_points = int(total_area_mm2 * points_per_mm2)\n",
    "    num_points = max(num_points, 1)  # Ensure ≥1 point\n",
    "\n",
    "    # Sample triangles weighted by their area\n",
    "    probs = areas / areas.sum()\n",
    "    sampled_tri_indices = np.random.choice(len(faces), size=num_points, p=probs)\n",
    "    sampled_tris = triangles[sampled_tri_indices]\n",
    "\n",
    "    # Barycentric coordinate sampling\n",
    "    u = np.random.rand(num_points, 1)\n",
    "    v = np.random.rand(num_points, 1)\n",
    "    mask = (u + v) > 1\n",
    "    u[mask] = 1 - u[mask]\n",
    "    v[mask] = 1 - v[mask]\n",
    "    w = 1 - (u + v)\n",
    "\n",
    "    # Compute final points\n",
    "    sampled_points = (u * sampled_tris[:, 0]) + (v * sampled_tris[:, 1]) + (w * sampled_tris[:, 2])\n",
    "    return sampled_points"
   ]
  },
  {
   "cell_type": "code",
   "execution_count": 30,
   "metadata": {},
   "outputs": [],
   "source": [
    "points = []\n",
    "labels = []\n",
    "\n",
    "for element in elements:\n",
    "    # Get geometry\n",
    "    shape = geom.create_shape(settings, element)\n",
    "    verts = shape.geometry.verts  # Vertex coordinates (flat list)\n",
    "    faces = shape.geometry.faces  # Triangular faces (indices)\n",
    "    \n",
    "    # Reshape vertices into (N, 3) array\n",
    "    verts = np.array(verts).reshape(-1, 3)\n",
    "    \n",
    "    # Generate points on the mesh surface (see Step 4)\n",
    "    spacing_mm = 0.01  # Points every 10mm\n",
    "    sampled_points = sample_points_on_mesh(verts, faces, spacing_mm=spacing_mm)\n",
    "    points.extend(sampled_points)\n",
    "    \n",
    "    # Assign label\n",
    "    label = ifc_label_map.get(element.is_a(), -1)  # Default label for unknown classes\n",
    "    labels.extend([label] * len(sampled_points))"
   ]
  },
  {
   "cell_type": "code",
   "execution_count": null,
   "metadata": {},
   "outputs": [],
   "source": [
    "def add_noise(points, noise_level=0.01):\n",
    "    noise = np.random.randn(*points.shape) * noise_level\n",
    "    return points + noise\n",
    "\n",
    "noisy_points = add_noise(points)"
   ]
  },
  {
   "cell_type": "code",
   "execution_count": 13,
   "metadata": {},
   "outputs": [],
   "source": [
    "\n",
    "pcd = o3d.geometry.PointCloud()\n",
    "pcd.points = o3d.utility.Vector3dVector(points)\n",
    "pcd.colors = o3d.utility.Vector3dVector(color_map[labels])\n",
    "o3d.visualization.draw_geometries([pcd])\n",
    "#o3d.io.write_point_cloud(\"labeled_cloud.ply\", pcd)"
   ]
  },
  {
   "cell_type": "code",
   "execution_count": 14,
   "metadata": {},
   "outputs": [
    {
     "data": {
      "text/plain": [
       "True"
      ]
     },
     "execution_count": 14,
     "metadata": {},
     "output_type": "execute_result"
    }
   ],
   "source": [
    "sim_pc_path = os.path.join(script_dir, '.', 'docs', 'smartLab_simulated.ply')\n",
    "o3d.io.write_point_cloud(sim_pc_path, pcd)"
   ]
  },
  {
   "cell_type": "code",
   "execution_count": 32,
   "metadata": {},
   "outputs": [
    {
     "name": "stdout",
     "output_type": "stream",
     "text": [
      "33\n",
      "[#337=IfcWallStandardCase('1$r5rWYh98mwhKRHZG_Pyg',#19,'Basic Wall:Generic - 200mm:351395',$,'Basic Wall:Generic - 200mm',#321,#336,'351395'),\n",
      " #373=IfcWallStandardCase('1$r5rWYh98mwhKRHZG_Pzu',#19,'Basic Wall:Generic - 200mm:351473',$,'Basic Wall:Generic - 200mm',#361,#372,'351473'),\n",
      " #419=IfcWallStandardCase('1$r5rWYh98mwhKRHZG_Put',#19,'Basic Wall:Interior - 135mm Partition (2-hr):351678',$,'Basic Wall:Interior - 135mm Partition (2-hr)',#403,#418,'351678'),\n",
      " #467=IfcWallStandardCase('1$r5rWYh98mwhKRHZG_Psi',#19,'Basic Wall:Generic - 200mm:351781',$,'Basic Wall:Generic - 200mm',#455,#466,'351781'),\n",
      " #490=IfcWallStandardCase('1$r5rWYh98mwhKRHZG_PtW',#19,'Basic Wall:Generic - 200mm:351849',$,'Basic Wall:Generic - 200mm',#478,#489,'351849'),\n",
      " #513=IfcWallStandardCase('1$r5rWYh98mwhKRHZG_PqT',#19,'Basic Wall:Interior - 135mm Partition (2-hr):351892',$,'Basic Wall:Interior - 135mm Partition (2-hr)',#501,#512,'351892'),\n",
      " #572=IfcWallStandardCase('1$r5rWYh98mwhKRHZG_PoF',#19,'Basic Wall:Interior - 135mm Partition (2-hr):352006',$,'Basic Wall:Interior - 135mm Partition (2-hr)',#560,#571,'352006'),\n",
      " #602=IfcWallStandardCase('1$r5rWYh98mwhKRHZG_QFC',#19,'Basic Wall:Interior - 135mm Partition (2-hr):352325',$,'Basic Wall:Interior - 135mm Partition (2-hr)',#583,#601,'352325'),\n",
      " #625=IfcWallStandardCase('1$r5rWYh98mwhKRHZG_QC9',#19,'Basic Wall:Interior - 135mm Partition (2-hr):352384',$,'Basic Wall:Interior - 135mm Partition (2-hr)',#613,#624,'352384'),\n",
      " #648=IfcWallStandardCase('1$r5rWYh98mwhKRHZG_QCc',#19,'Basic Wall:Generic - 200mm:352431',$,'Basic Wall:Generic - 200mm',#636,#647,'352431'),\n",
      " #671=IfcWallStandardCase('1$r5rWYh98mwhKRHZG_Q9Q',#19,'Basic Wall:Generic - 200mm:352723',$,'Basic Wall:Generic - 200mm',#659,#670,'352723'),\n",
      " #694=IfcWallStandardCase('1$r5rWYh98mwhKRHZG_Q0p',#19,'Basic Wall:Generic - 200mm:353210',$,'Basic Wall:Generic - 200mm',#682,#693,'353210'),\n",
      " #337187=IfcWallStandardCase('3FXeLcgIvBuxX8yD03yETh',#19,'Basic Wall:Generic - 200mm:982657',$,'Basic Wall:Generic - 200mm',#337175,#337186,'982657'),\n",
      " #337210=IfcWallStandardCase('3FXeLcgIvBuxX8yD03yERA',#19,'Basic Wall:Generic - 200mm:982816',$,'Basic Wall:Generic - 200mm',#337198,#337209,'982816'),\n",
      " #337233=IfcWallStandardCase('3FXeLcgIvBuxX8yD03yEOz',#19,'Basic Wall:Generic - 200mm:982999',$,'Basic Wall:Generic - 200mm',#337221,#337232,'982999'),\n",
      " #337256=IfcWallStandardCase('3FXeLcgIvBuxX8yD03yHdc',#19,'Basic Wall:Generic - 200mm:983052',$,'Basic Wall:Generic - 200mm',#337244,#337255,'983052'),\n",
      " #449685=IfcWallStandardCase('3Lg6gRTt12CfsJZ9akXooL',#19,'Basic Wall:Interior - 79mm Partition (1-hr) 2:1103825',$,'Basic Wall:Interior - 79mm Partition (1-hr) 2',#449673,#449684,'1103825'),\n",
      " #487121=IfcWallStandardCase('1JVl$_jf576OCZNEFn9qNV',#19,'Basic Wall:Generic - 200mm:1228876',$,'Basic Wall:Generic - 200mm',#487109,#487120,'1228876'),\n",
      " #812=IfcDoor('1$r5rWYh98mwhKRHZG_QK0',#19,'M_Single-Flush:0762 x 2032mm:353929',$,'M_Single-Flush:0762 x 2032mm',#520118,#808,'353929',2032.,762.),\n",
      " #867=IfcDoor('1$r5rWYh98mwhKRHZG_QIw',#19,'M_Single-Flush:0762 x 2032mm:354099',$,'M_Single-Flush:0762 x 2032mm',#520103,#863,'354099',2032.,762.),\n",
      " #921=IfcDoor('1$r5rWYh98mwhKRHZG_QGL',#19,'M_Single-Flush:0864 x 2032mm:354204',$,'M_Single-Flush:0864 x 2032mm',#520163,#917,'354204',2032.,863.999999999999),\n",
      " #976=IfcDoor('1$r5rWYh98mwhKRHZG_QkH',#19,'M_Single-Flush:0864 x 2134mm:354328',$,'M_Single-Flush:0864 x 2134mm',#520133,#972,'354328',2134.,864.),\n",
      " #337312=IfcDoor('3FXeLcgIvBuxX8yD03yH6i',#19,'M_Single-Flush:0915 x 2134mm:985158',$,'M_Single-Flush:0915 x 2134mm',#520178,#337308,'985158',2134.,915.),\n",
      " #337429=IfcDoor('3FXeLcgIvBuxX8yD03yHCJ',#19,'M_Single-Flush:0915 x 2134mm:985849',$,'M_Single-Flush:0915 x 2134mm',#520223,#337425,'985849',2134.,915.),\n",
      " #457514=IfcSlab('3orDiQyEPBwxO8bTTuysfq',#19,'Basic Roof:Generic - 125mm:1125244',$,'Basic Roof:Generic - 125mm',#457513,#457499,'1125244',.ROOF.),\n",
      " #460908=IfcSlab('3orDiQyEPBwxO8bTLuytNZ',#19,'Floor:Generic 150mm:1127659',$,'Floor:Generic 150mm',#460885,#460907,'1127659',.FLOOR.),\n",
      " #480732=IfcSlab('2Yjkj8A$L9jhZriY0AjZlC',#19,'Floor:Generic 150mm:1134044',$,'Floor:Generic 150mm',#480717,#480731,'1134044',.FLOOR.),\n",
      " #480752=IfcSlab('2Yjkj8A$L9jhZriY0AjZla',#19,'Floor:Generic 150mm:1134068',$,'Floor:Generic 150mm',#480742,#480751,'1134068',.FLOOR.),\n",
      " #480772=IfcSlab('2Yjkj8A$L9jhZriY0AjZXZ',#19,'Floor:Generic 150mm:1134195',$,'Floor:Generic 150mm',#480762,#480771,'1134195',.FLOOR.),\n",
      " #480792=IfcSlab('2Yjkj8A$L9jhZriY0AjYO4',#19,'Floor:Generic 150mm:1134612',$,'Floor:Generic 150mm',#480782,#480791,'1134612',.FLOOR.),\n",
      " #480812=IfcSlab('3vakr5Vln0OBkrkOaR4hWI',#19,'Floor:Generic 150mm:1134930',$,'Floor:Generic 150mm',#480802,#480811,'1134930',.FLOOR.),\n",
      " #487490=IfcSlab('2xRy12Oc917OIw6hdyzmdv',#19,'Floor:Generic 150mm:1237564',$,'Floor:Generic 150mm',#487480,#487489,'1237564',.FLOOR.),\n",
      " #490604=IfcSlab('0BNq7qrkHC89ItIIr48010',#19,'Floor:Generic 150mm:1310916',$,'Floor:Generic 150mm',#490594,#490603,'1310916',.FLOOR.)]\n"
     ]
    }
   ],
   "source": [
    "from pprint import pprint\n",
    "print(len(elements))\n",
    "pprint(elements)\n",
    "\n",
    "\n"
   ]
  }
 ],
 "metadata": {
  "kernelspec": {
   "display_name": "Python 3",
   "language": "python",
   "name": "python3"
  },
  "language_info": {
   "codemirror_mode": {
    "name": "ipython",
    "version": 3
   },
   "file_extension": ".py",
   "mimetype": "text/x-python",
   "name": "python",
   "nbconvert_exporter": "python",
   "pygments_lexer": "ipython3",
   "version": "3.12.10"
  }
 },
 "nbformat": 4,
 "nbformat_minor": 2
}
