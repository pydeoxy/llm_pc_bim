{
 "cells": [
  {
   "cell_type": "code",
   "execution_count": 4,
   "metadata": {},
   "outputs": [
    {
     "name": "stdout",
     "output_type": "stream",
     "text": [
      "Jupyter environment detected. Enabling Open3D WebVisualizer.\n",
      "[Open3D INFO] WebRTC GUI backend enabled.\n",
      "[Open3D INFO] WebRTCWindowSystem: HTTP handshake server disabled.\n"
     ]
    }
   ],
   "source": [
    "import ifcopenshell\n",
    "import numpy as np\n",
    "from ifcopenshell import geom\n",
    "import open3d as o3d\n",
    "from pc_label_map import color_map, color_map_dict\n",
    "\n",
    "settings = geom.settings()\n",
    "settings.set(settings.USE_WORLD_COORDS, True) "
   ]
  },
  {
   "cell_type": "code",
   "execution_count": 2,
   "metadata": {},
   "outputs": [],
   "source": [
    "import sys\n",
    "import os\n",
    "repo_root = os.path.abspath(os.path.join(os.getcwd(), '.', '.'))\n",
    "if repo_root not in sys.path:\n",
    "    sys.path.insert(0, repo_root)"
   ]
  },
  {
   "cell_type": "code",
   "execution_count": 5,
   "metadata": {},
   "outputs": [
    {
     "name": "stdout",
     "output_type": "stream",
     "text": [
      "{0: [[1.0, 0.0, 0.0], 'ceiling'],\n",
      " 1: [[0.0, 1.0, 0.0], 'floor'],\n",
      " 2: [[0.0, 0.0, 1.0], 'wall'],\n",
      " 3: [[1.0, 1.0, 0.0], 'beam'],\n",
      " 4: [[1.0, 0.0, 1.0], 'column'],\n",
      " 5: [[0.0, 1.0, 1.0], 'window'],\n",
      " 6: [[0.5, 0.5, 0.5], 'door'],\n",
      " 7: [[1.0, 0.5, 0.0], 'table'],\n",
      " 8: [[0.5, 0.0, 1.0], 'chair'],\n",
      " 9: [[0.5, 1.0, 0.5], 'sofa'],\n",
      " 10: [[0.5, 0.5, 1.0], 'bookcase'],\n",
      " 11: [[1.0, 0.5, 0.5], 'board'],\n",
      " 12: [[0.0, 0.0, 0.0], 'clutter']}\n"
     ]
    }
   ],
   "source": [
    "from pprint import pprint\n",
    "pprint(color_map_dict)"
   ]
  },
  {
   "cell_type": "code",
   "execution_count": 6,
   "metadata": {},
   "outputs": [],
   "source": [
    "ifc_label_map = {\n",
    "  \"IfcCovering\": [\n",
    "       (\"1125344\", 3), # \"beam\", one frame of ceiling used to complete 13 labels\n",
    "       0, # \"ceiling\"\n",
    "      ], \n",
    "  \"IfcSlab\": [\n",
    "       (\"roof\", 0), # \"ceiling\"\n",
    "       1, # \"floor\"\n",
    "      ], \n",
    "  \"IfcStair\": 1, # \"floor\"\n",
    "  \"IfcWallStandardCase\": 2, # \"wall\"\n",
    "  \"IfcBeam\": 3, # \"beam\"\n",
    "  \"IfcColumn\": 4, # \"column\"\n",
    "  \"IfcWindow\": 5, # \"window\"\n",
    "  \"IfcDoor\": 6, # \"door\"\n",
    "  \"IfcFurnishingElement\": [\n",
    "      (\"table\", 7), #'table'\n",
    "      (\"chair\", 8), # 'chair'\n",
    "      (\"case\", 10), #'bookcase'\n",
    "      (\"cabinet\", 11), # 'board'\n",
    "      12  # Default for unmatched furnishings\n",
    "      ], #12, # \"clutter\"\n",
    "  \"IfcBuildingElementProxy\": [\n",
    "      (\"plaza\", 9), # 'sofa'\n",
    "      12 # Default for unmatched proxies\n",
    "      ], #12, # \"clutter\"\n",
    "  \"IfcDistributionElement\": 12, # \"clutter\"  \n",
    "}"
   ]
  },
  {
   "cell_type": "code",
   "execution_count": 7,
   "metadata": {},
   "outputs": [],
   "source": [
    "# Load IFC file\n",
    "script_dir = os.path.dirname(os.getcwd())\n",
    "ifc_file_path = os.path.join(script_dir, '.', 'docs', 'smartLab.ifc')\n",
    "\n",
    "ifc_file = ifcopenshell.open(ifc_file_path) \n",
    "\n",
    "# Get all building elements (e.g., walls, doors)\n",
    "elements = []\n",
    "for tp in ifc_label_map.keys():\n",
    "    elements += ifc_file.by_type(tp)"
   ]
  },
  {
   "cell_type": "code",
   "execution_count": 8,
   "metadata": {},
   "outputs": [],
   "source": [
    "def sample_points_on_mesh(verts, faces, spacing_mm=10):\n",
    "    \"\"\"\n",
    "    Sample points on a mesh with a target spacing (e.g., 10mm between points).\n",
    "    - verts: Array of shape (N, 3) containing mesh vertices.\n",
    "    - faces: Array of shape (M, 3) containing triangular face indices.\n",
    "    - spacing_mm: Desired distance between points in millimeters.\n",
    "    Returns: Sampled points (shape: [K, 3]).\n",
    "    \"\"\"\n",
    "    # Convert faces to NumPy array if it's a tuple\n",
    "    if isinstance(faces, tuple):\n",
    "        faces = np.array(faces)\n",
    "    \n",
    "    # Reshape to 2D if needed\n",
    "    if len(faces.shape) == 1:\n",
    "        faces = faces.reshape(-1, 3)\n",
    "\n",
    "    triangles = verts[faces]\n",
    "    \n",
    "    # Calculate triangle areas (in mm²)\n",
    "    vec1 = triangles[:, 1] - triangles[:, 0]\n",
    "    vec2 = triangles[:, 2] - triangles[:, 0]\n",
    "    areas = 0.5 * np.linalg.norm(np.cross(vec1, vec2), axis=1)\n",
    "\n",
    "    # Calculate total surface area and number of points needed\n",
    "    total_area_mm2 = np.sum(areas)\n",
    "    points_per_mm2 = 1 / (spacing_mm ** 2)\n",
    "    num_points = int(total_area_mm2 * points_per_mm2)\n",
    "    num_points = max(num_points, 1)  # Ensure ≥1 point\n",
    "\n",
    "    # Sample triangles weighted by their area\n",
    "    probs = areas / areas.sum()\n",
    "    sampled_tri_indices = np.random.choice(len(faces), size=num_points, p=probs)\n",
    "    sampled_tris = triangles[sampled_tri_indices]\n",
    "\n",
    "    # Barycentric coordinate sampling\n",
    "    u = np.random.rand(num_points, 1)\n",
    "    v = np.random.rand(num_points, 1)\n",
    "    mask = (u + v) > 1\n",
    "    u[mask] = 1 - u[mask]\n",
    "    v[mask] = 1 - v[mask]\n",
    "    w = 1 - (u + v)\n",
    "\n",
    "    # Compute final points\n",
    "    sampled_points = (u * sampled_tris[:, 0]) + (v * sampled_tris[:, 1]) + (w * sampled_tris[:, 2])\n",
    "    return sampled_points"
   ]
  },
  {
   "cell_type": "code",
   "execution_count": 9,
   "metadata": {},
   "outputs": [
    {
     "name": "stdout",
     "output_type": "stream",
     "text": [
      "Skipping 3orDiQyEPBwxO8bTLuym2D: No representation\n"
     ]
    }
   ],
   "source": [
    "points = []\n",
    "labels = []\n",
    "\n",
    "for element in elements:\n",
    "    if element.Representation is None:\n",
    "        print(f\"Skipping {element.GlobalId}: No representation\")\n",
    "        continue\n",
    "    # Get geometry\n",
    "    shape = geom.create_shape(settings, element)\n",
    "    verts = shape.geometry.verts  # Vertex coordinates (flat list)\n",
    "    faces = shape.geometry.faces  # Triangular faces (indices)\n",
    "    \n",
    "    # Reshape vertices into (N, 3) array\n",
    "    verts = np.array(verts).reshape(-1, 3)\n",
    "    \n",
    "    # Generate points on the mesh surface (see Step 4)\n",
    "    spacing_mm = 0.01  # Points every 10mm\n",
    "    sampled_points = sample_points_on_mesh(verts, faces, spacing_mm=spacing_mm)\n",
    "    points.extend(sampled_points)\n",
    "    \n",
    "    # Assign label\n",
    "    element_type = element.is_a()\n",
    "    label_spec = ifc_label_map.get(element_type, -1)  # Default to -1 for unknown classes\n",
    "    label = -1\n",
    "\n",
    "    # Handle list-based specifications with keyword matching\n",
    "    if isinstance(label_spec, list):\n",
    "        default = None\n",
    "        for item in label_spec:\n",
    "            if isinstance(item, tuple):\n",
    "                # Get element name in lowercase (handle potential None values)\n",
    "                element_name = element.Name.lower()\n",
    "                if item[0] in element_name:\n",
    "                    label = item[1]\n",
    "                    break  # First match wins\n",
    "            elif isinstance(item, int):\n",
    "                default = item  # Store potential default value\n",
    "        \n",
    "        # Use default if no matches found and default exists\n",
    "        if label == -1 and default is not None:\n",
    "            label = default\n",
    "    elif isinstance(label_spec, int):\n",
    "        # Direct integer mapping\n",
    "        label = label_spec\n",
    "\n",
    "    labels.extend([label] * len(sampled_points))"
   ]
  },
  {
   "cell_type": "code",
   "execution_count": null,
   "metadata": {},
   "outputs": [],
   "source": [
    "def add_noise(points, noise_level=0.01):\n",
    "    noise = np.random.randn(*points.shape) * noise_level\n",
    "    return points + noise\n",
    "\n",
    "noisy_points = add_noise(points)"
   ]
  },
  {
   "cell_type": "code",
   "execution_count": 10,
   "metadata": {},
   "outputs": [],
   "source": [
    "\n",
    "pcd = o3d.geometry.PointCloud()\n",
    "pcd.points = o3d.utility.Vector3dVector(points)\n",
    "pcd.colors = o3d.utility.Vector3dVector(color_map[labels])\n",
    "o3d.visualization.draw_geometries([pcd])"
   ]
  },
  {
   "cell_type": "code",
   "execution_count": 11,
   "metadata": {},
   "outputs": [
    {
     "data": {
      "text/plain": [
       "True"
      ]
     },
     "execution_count": 11,
     "metadata": {},
     "output_type": "execute_result"
    }
   ],
   "source": [
    "sim_pc_path = '../docs/smartLab_simulated.ply'\n",
    "o3d.io.write_point_cloud(sim_pc_path, pcd)"
   ]
  }
 ],
 "metadata": {
  "kernelspec": {
   "display_name": "Python 3",
   "language": "python",
   "name": "python3"
  },
  "language_info": {
   "codemirror_mode": {
    "name": "ipython",
    "version": 3
   },
   "file_extension": ".py",
   "mimetype": "text/x-python",
   "name": "python",
   "nbconvert_exporter": "python",
   "pygments_lexer": "ipython3",
   "version": "3.12.10"
  }
 },
 "nbformat": 4,
 "nbformat_minor": 2
}
