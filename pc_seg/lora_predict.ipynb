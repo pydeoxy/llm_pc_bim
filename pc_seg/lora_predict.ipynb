{
 "cells": [
  {
   "cell_type": "code",
   "execution_count": 1,
   "metadata": {},
   "outputs": [
    {
     "name": "stdout",
     "output_type": "stream",
     "text": [
      "Jupyter environment detected. Enabling Open3D WebVisualizer.\n",
      "[Open3D INFO] WebRTC GUI backend enabled.\n",
      "[Open3D INFO] WebRTCWindowSystem: HTTP handshake server disabled.\n"
     ]
    }
   ],
   "source": [
    "import torch\n",
    "import torch.nn as nn\n",
    "from pyg_pointnet2 import PyGPointNet2NoColor,PyGPointNet2NoColorLoRa\n",
    "import loralib as lora\n",
    "import open3d as o3d\n",
    "import numpy as np\n",
    "from torch_geometric.data import Data\n",
    "from torch_geometric.nn import MLP\n",
    "from torch_geometric.loader import DataLoader\n",
    "import time\n",
    "from pc_label_map import color_map\n"
   ]
  },
  {
   "cell_type": "code",
   "execution_count": 2,
   "metadata": {},
   "outputs": [
    {
     "data": {
      "text/plain": [
       "<All keys matched successfully>"
      ]
     },
     "execution_count": 2,
     "metadata": {},
     "output_type": "execute_result"
    }
   ],
   "source": [
    "pretrained_path = \"checkpoints/pointnet2_s3dis_colorless_seg_x3_45_checkpoint.pth\"\n",
    "\n",
    "# Initialize model\n",
    "device = torch.device('cuda' if torch.cuda.is_available() else 'cpu')\n",
    "model = PyGPointNet2NoColor(num_classes=13).to(device)\n",
    "\n",
    "checkpoint = torch.load(pretrained_path, map_location=device)\n",
    "# Extract the model state dictionary\n",
    "model_state_dict = checkpoint['model_state_dict']\n",
    "\n",
    "model.load_state_dict(model_state_dict, strict=False)\n"
   ]
  },
  {
   "cell_type": "code",
   "execution_count": 7,
   "metadata": {},
   "outputs": [
    {
     "name": "stdout",
     "output_type": "stream",
     "text": [
      "Trainable parameters:\n",
      "['sa1_module.conv.local_nn.lins.0.weight',\n",
      " 'sa1_module.conv.local_nn.lins.0.bias',\n",
      " 'sa1_module.conv.local_nn.lins.1.weight',\n",
      " 'sa1_module.conv.local_nn.lins.1.bias',\n",
      " 'sa1_module.conv.local_nn.lins.2.weight',\n",
      " 'sa1_module.conv.local_nn.lins.2.bias',\n",
      " 'sa1_module.conv.local_nn.norms.0.module.weight',\n",
      " 'sa1_module.conv.local_nn.norms.0.module.bias',\n",
      " 'sa1_module.conv.local_nn.norms.1.module.weight',\n",
      " 'sa1_module.conv.local_nn.norms.1.module.bias',\n",
      " 'sa2_module.conv.local_nn.lins.0.weight',\n",
      " 'sa2_module.conv.local_nn.lins.0.bias',\n",
      " 'sa2_module.conv.local_nn.lins.1.weight',\n",
      " 'sa2_module.conv.local_nn.lins.1.bias',\n",
      " 'sa2_module.conv.local_nn.lins.2.weight',\n",
      " 'sa2_module.conv.local_nn.lins.2.bias',\n",
      " 'sa2_module.conv.local_nn.norms.0.module.weight',\n",
      " 'sa2_module.conv.local_nn.norms.0.module.bias',\n",
      " 'sa2_module.conv.local_nn.norms.1.module.weight',\n",
      " 'sa2_module.conv.local_nn.norms.1.module.bias',\n",
      " 'sa3_module.nn.lins.0.weight',\n",
      " 'sa3_module.nn.lins.0.bias',\n",
      " 'sa3_module.nn.lins.1.weight',\n",
      " 'sa3_module.nn.lins.1.bias',\n",
      " 'sa3_module.nn.lins.2.weight',\n",
      " 'sa3_module.nn.lins.2.bias',\n",
      " 'sa3_module.nn.norms.0.module.weight',\n",
      " 'sa3_module.nn.norms.0.module.bias',\n",
      " 'sa3_module.nn.norms.1.module.weight',\n",
      " 'sa3_module.nn.norms.1.module.bias',\n",
      " 'fp3_module.nn.lins.0.weight',\n",
      " 'fp3_module.nn.lins.0.bias',\n",
      " 'fp3_module.nn.lins.1.weight',\n",
      " 'fp3_module.nn.lins.1.bias',\n",
      " 'fp3_module.nn.norms.0.module.weight',\n",
      " 'fp3_module.nn.norms.0.module.bias',\n",
      " 'fp2_module.nn.lins.0.weight',\n",
      " 'fp2_module.nn.lins.0.bias',\n",
      " 'fp2_module.nn.lins.1.weight',\n",
      " 'fp2_module.nn.lins.1.bias',\n",
      " 'fp2_module.nn.norms.0.module.weight',\n",
      " 'fp2_module.nn.norms.0.module.bias',\n",
      " 'fp1_module.nn.lins.0.weight',\n",
      " 'fp1_module.nn.lins.0.bias',\n",
      " 'fp1_module.nn.lins.1.weight',\n",
      " 'fp1_module.nn.lins.1.bias',\n",
      " 'fp1_module.nn.lins.2.weight',\n",
      " 'fp1_module.nn.lins.2.bias',\n",
      " 'fp1_module.nn.norms.0.module.weight',\n",
      " 'fp1_module.nn.norms.0.module.bias',\n",
      " 'fp1_module.nn.norms.1.module.weight',\n",
      " 'fp1_module.nn.norms.1.module.bias',\n",
      " 'mlp.lins.0.weight',\n",
      " 'mlp.lins.0.bias',\n",
      " 'mlp.lins.1.weight',\n",
      " 'mlp.lins.1.bias',\n",
      " 'mlp.lins.2.weight',\n",
      " 'mlp.lins.2.bias',\n",
      " 'lin1.weight',\n",
      " 'lin1.bias',\n",
      " 'lin2.weight',\n",
      " 'lin2.bias',\n",
      " 'lin3.weight',\n",
      " 'lin3.bias']\n"
     ]
    }
   ],
   "source": [
    "model.eval()\n",
    "# Verify trainable parameters\n",
    "trainable_params = [name for name, p in model.named_parameters() if p.requires_grad]\n",
    "print(\"Trainable parameters:\")\n",
    "from pprint import pprint\n",
    "pprint(trainable_params)"
   ]
  },
  {
   "cell_type": "code",
   "execution_count": 8,
   "metadata": {},
   "outputs": [],
   "source": [
    "def apply_lora(module, r=8, alpha=16, verbose=False):\n",
    "    \"\"\"\n",
    "    Recursively replaces ALL Linear layers with LoRA-enabled layers.\n",
    "    \"\"\"\n",
    "    for name, child in module.named_children():\n",
    "        if isinstance(child, nn.Linear):\n",
    "            # Replace this Linear layer with LoRA\n",
    "            lora_layer = lora.Linear(\n",
    "                in_features=child.in_features,\n",
    "                out_features=child.out_features,\n",
    "                r=r,\n",
    "                lora_alpha=alpha\n",
    "            )\n",
    "            \n",
    "            # Copy original weights and biases\n",
    "            lora_layer.weight.data = child.weight.data.clone()\n",
    "            if child.bias is not None:\n",
    "                lora_layer.bias.data = child.bias.data.clone()\n",
    "            \n",
    "            # Replace the layer\n",
    "            setattr(module, name, lora_layer)\n",
    "            if verbose:\n",
    "                print(f\"Replaced {name} with LoRA\")\n",
    "        elif isinstance(child, nn.Sequential):\n",
    "            # Handle Sequential containers (e.g., MLP layers)\n",
    "            for idx, layer in enumerate(child):\n",
    "                if isinstance(layer, nn.Linear):\n",
    "                    # Replace Linear layers inside Sequential\n",
    "                    lora_layer = lora.Linear(\n",
    "                        in_features=layer.in_features,\n",
    "                        out_features=layer.out_features,\n",
    "                        r=r,\n",
    "                        lora_alpha=alpha\n",
    "                    )\n",
    "                    lora_layer.weight.data = layer.weight.data.clone()\n",
    "                    if layer.bias is not None:\n",
    "                        lora_layer.bias.data = layer.bias.data.clone()\n",
    "                    child[idx] = lora_layer\n",
    "                    if verbose:\n",
    "                        print(f\"Replaced {name}[{idx}] with LoRA\")\n",
    "        else:\n",
    "            # Recursively apply to nested submodules\n",
    "            apply_lora(child, r, alpha, verbose)"
   ]
  },
  {
   "cell_type": "code",
   "execution_count": 9,
   "metadata": {},
   "outputs": [
    {
     "name": "stdout",
     "output_type": "stream",
     "text": [
      "Replaced lin1 with LoRA\n",
      "Replaced lin2 with LoRA\n",
      "Replaced lin3 with LoRA\n"
     ]
    }
   ],
   "source": [
    "apply_lora(model, r=8, alpha=16, verbose=True)"
   ]
  },
  {
   "cell_type": "code",
   "execution_count": 25,
   "metadata": {},
   "outputs": [],
   "source": [
    "# Freeze all parameters except LoRA\n",
    "for param in model.parameters():\n",
    "    param.requires_grad = False\n",
    "\n",
    "for name, param in model.named_parameters():\n",
    "    if \"lora_\" in name:\n",
    "        param.requires_grad = True"
   ]
  },
  {
   "cell_type": "code",
   "execution_count": 26,
   "metadata": {},
   "outputs": [
    {
     "name": "stdout",
     "output_type": "stream",
     "text": [
      "<bound method Module.load_state_dict of PyGPointNet2NoColor(\n",
      "  (sa1_module): SAModule(\n",
      "    (conv): PointNetConv(local_nn=MLP(6, 64, 64, 128), global_nn=None)\n",
      "  )\n",
      "  (sa2_module): SAModule(\n",
      "    (conv): PointNetConv(local_nn=MLP(131, 128, 128, 256), global_nn=None)\n",
      "  )\n",
      "  (sa3_module): GlobalSAModule(\n",
      "    (nn): MLP(259, 256, 512, 1024)\n",
      "  )\n",
      "  (fp3_module): FPModule(\n",
      "    (nn): MLP(1280, 256, 256)\n",
      "  )\n",
      "  (fp2_module): FPModule(\n",
      "    (nn): MLP(384, 256, 128)\n",
      "  )\n",
      "  (fp1_module): FPModule(\n",
      "    (nn): MLP(131, 128, 128, 128)\n",
      "  )\n",
      "  (mlp): MLP(128, 128, 128, 13)\n",
      "  (lin1): Linear(in_features=128, out_features=128, bias=True)\n",
      "  (lin2): Linear(in_features=128, out_features=128, bias=True)\n",
      "  (lin3): Linear(in_features=128, out_features=13, bias=True)\n",
      ")>\n"
     ]
    }
   ],
   "source": [
    "lora_path = \"checkpoints/smartlab_lora_weights_x3_45_20250416.pth\"\n",
    "\n",
    "model.load_state_dict(torch.load(lora_path), strict=False)\n"
   ]
  },
  {
   "cell_type": "code",
   "execution_count": 11,
   "metadata": {},
   "outputs": [
    {
     "name": "stdout",
     "output_type": "stream",
     "text": [
      "Trainable parameters:\n",
      "['sa1_module.conv.local_nn.lins.0.weight',\n",
      " 'sa1_module.conv.local_nn.lins.0.bias',\n",
      " 'sa1_module.conv.local_nn.lins.1.weight',\n",
      " 'sa1_module.conv.local_nn.lins.1.bias',\n",
      " 'sa1_module.conv.local_nn.lins.2.weight',\n",
      " 'sa1_module.conv.local_nn.lins.2.bias',\n",
      " 'sa1_module.conv.local_nn.norms.0.module.weight',\n",
      " 'sa1_module.conv.local_nn.norms.0.module.bias',\n",
      " 'sa1_module.conv.local_nn.norms.1.module.weight',\n",
      " 'sa1_module.conv.local_nn.norms.1.module.bias',\n",
      " 'sa2_module.conv.local_nn.lins.0.weight',\n",
      " 'sa2_module.conv.local_nn.lins.0.bias',\n",
      " 'sa2_module.conv.local_nn.lins.1.weight',\n",
      " 'sa2_module.conv.local_nn.lins.1.bias',\n",
      " 'sa2_module.conv.local_nn.lins.2.weight',\n",
      " 'sa2_module.conv.local_nn.lins.2.bias',\n",
      " 'sa2_module.conv.local_nn.norms.0.module.weight',\n",
      " 'sa2_module.conv.local_nn.norms.0.module.bias',\n",
      " 'sa2_module.conv.local_nn.norms.1.module.weight',\n",
      " 'sa2_module.conv.local_nn.norms.1.module.bias',\n",
      " 'sa3_module.nn.lins.0.weight',\n",
      " 'sa3_module.nn.lins.0.bias',\n",
      " 'sa3_module.nn.lins.1.weight',\n",
      " 'sa3_module.nn.lins.1.bias',\n",
      " 'sa3_module.nn.lins.2.weight',\n",
      " 'sa3_module.nn.lins.2.bias',\n",
      " 'sa3_module.nn.norms.0.module.weight',\n",
      " 'sa3_module.nn.norms.0.module.bias',\n",
      " 'sa3_module.nn.norms.1.module.weight',\n",
      " 'sa3_module.nn.norms.1.module.bias',\n",
      " 'fp3_module.nn.lins.0.weight',\n",
      " 'fp3_module.nn.lins.0.bias',\n",
      " 'fp3_module.nn.lins.1.weight',\n",
      " 'fp3_module.nn.lins.1.bias',\n",
      " 'fp3_module.nn.norms.0.module.weight',\n",
      " 'fp3_module.nn.norms.0.module.bias',\n",
      " 'fp2_module.nn.lins.0.weight',\n",
      " 'fp2_module.nn.lins.0.bias',\n",
      " 'fp2_module.nn.lins.1.weight',\n",
      " 'fp2_module.nn.lins.1.bias',\n",
      " 'fp2_module.nn.norms.0.module.weight',\n",
      " 'fp2_module.nn.norms.0.module.bias',\n",
      " 'fp1_module.nn.lins.0.weight',\n",
      " 'fp1_module.nn.lins.0.bias',\n",
      " 'fp1_module.nn.lins.1.weight',\n",
      " 'fp1_module.nn.lins.1.bias',\n",
      " 'fp1_module.nn.lins.2.weight',\n",
      " 'fp1_module.nn.lins.2.bias',\n",
      " 'fp1_module.nn.norms.0.module.weight',\n",
      " 'fp1_module.nn.norms.0.module.bias',\n",
      " 'fp1_module.nn.norms.1.module.weight',\n",
      " 'fp1_module.nn.norms.1.module.bias',\n",
      " 'mlp.lins.0.weight',\n",
      " 'mlp.lins.0.bias',\n",
      " 'mlp.lins.1.weight',\n",
      " 'mlp.lins.1.bias',\n",
      " 'mlp.lins.2.weight',\n",
      " 'mlp.lins.2.bias',\n",
      " 'lin1.bias',\n",
      " 'lin1.lora_A',\n",
      " 'lin1.lora_B',\n",
      " 'lin2.bias',\n",
      " 'lin2.lora_A',\n",
      " 'lin2.lora_B',\n",
      " 'lin3.bias',\n",
      " 'lin3.lora_A',\n",
      " 'lin3.lora_B']\n"
     ]
    }
   ],
   "source": [
    "# Verify trainable parameters\n",
    "trainable_params = [n for n, p in model.named_parameters() if p.requires_grad]\n",
    "\n",
    "print(\"Trainable parameters:\")\n",
    "from pprint import pprint\n",
    "pprint(trainable_params)"
   ]
  },
  {
   "cell_type": "code",
   "execution_count": 12,
   "metadata": {},
   "outputs": [],
   "source": [
    "# Pcd files\n",
    "#pcd_path = \"C:/Users/yanpe/OneDrive - Metropolia Ammattikorkeakoulu Oy/Research/data/smartlab/Smartlab-2024-04-05_10-58-26_colour_cleaned.pcd\"\n",
    "pcd_path = \"C:/Users/yanpe/OneDrive - Metropolia Ammattikorkeakoulu Oy/Research/data/smartlab/SmartLab_2024_E57_Single_5mm.pcd\"\n",
    "\n",
    "pcd = o3d.io.read_point_cloud(pcd_path)"
   ]
  },
  {
   "cell_type": "code",
   "execution_count": 13,
   "metadata": {},
   "outputs": [],
   "source": [
    "# Move the point cloud to its min(x,y,z) corner\n",
    " \n",
    "def move_to_corner(points):    \n",
    "    # Find the minimum x, y, z\n",
    "    min_xyz = points.min(axis=0)\n",
    "    # Translate the point cloud so that the min corner becomes the origin\n",
    "    moved_points = points - min_xyz\n",
    "    \n",
    "    return moved_points\n",
    "\n",
    "moved_points = move_to_corner(np.array(pcd.points))\n",
    "pcd.points = o3d.utility.Vector3dVector(moved_points)"
   ]
  },
  {
   "cell_type": "code",
   "execution_count": 14,
   "metadata": {},
   "outputs": [
    {
     "name": "stdout",
     "output_type": "stream",
     "text": [
      "866900\n"
     ]
    }
   ],
   "source": [
    "# Downsample the point cloud with a voxel of 0.03\n",
    "downpcd = pcd.voxel_down_sample(voxel_size=0.03)\n",
    "\n",
    "print(len(downpcd.points))"
   ]
  },
  {
   "cell_type": "code",
   "execution_count": 15,
   "metadata": {},
   "outputs": [],
   "source": [
    "def normalize_points_corner(points):\n",
    "    # Step 1: Shift points so that the minimum x, y, z becomes the origin.\n",
    "    min_vals = np.min(points, axis=0)\n",
    "    shifted_points = points - min_vals  # Now the lower bound is (0,0,0)\n",
    "    \n",
    "    # Step 2: Compute the scaling factors from the shifted points.\n",
    "    # The maximum after shifting represents the range in each dimension.\n",
    "    max_vals = np.max(shifted_points, axis=0)\n",
    "    scale = max_vals.copy()\n",
    "    \n",
    "    # Avoid division by zero if any dimension is flat.\n",
    "    scale[scale == 0] = 1\n",
    "    \n",
    "    # Normalize the shifted points to the [0, 1] interval.\n",
    "    normalized_points = shifted_points / scale\n",
    "\n",
    "    return normalized_points\n",
    "\n",
    "normalized = normalize_points_corner(np.array(downpcd.points))"
   ]
  },
  {
   "cell_type": "code",
   "execution_count": 16,
   "metadata": {},
   "outputs": [],
   "source": [
    "# Extract coordinates and colors from the point cloud\n",
    "down_points = torch.tensor(np.array(downpcd.points), dtype=torch.float32)  \n",
    "down_colors = torch.tensor(np.array(downpcd.colors), dtype=torch.float32)\n",
    "down_normalized = torch.tensor(normalized, dtype=torch.float32)"
   ]
  },
  {
   "cell_type": "code",
   "execution_count": 17,
   "metadata": {},
   "outputs": [],
   "source": [
    "# Create a Data object with x (3 features) and pos (coordinates)\n",
    "data = Data(x=down_normalized, pos=down_points)\n",
    "\n",
    "data = data.to(device)"
   ]
  },
  {
   "cell_type": "code",
   "execution_count": 20,
   "metadata": {},
   "outputs": [],
   "source": [
    "# If you have only one point cloud\n",
    "dataset = [data]  # List of Data objects\n",
    "\n",
    "num_workers = 0\n",
    "batch_size = 32\n",
    "\n",
    "# Create a DataLoader (batch_size can be adjusted as needed)\n",
    "custom_loader = DataLoader(dataset, batch_size=batch_size, shuffle=False,\n",
    "                         num_workers=num_workers) #, pin_memory=True"
   ]
  },
  {
   "cell_type": "code",
   "execution_count": 21,
   "metadata": {},
   "outputs": [
    {
     "name": "stdout",
     "output_type": "stream",
     "text": [
      "Label counts:\n",
      "tensor([[     0, 120882],\n",
      "        [     1, 127060],\n",
      "        [     2, 142705],\n",
      "        [     3,  64112],\n",
      "        [     4, 154410],\n",
      "        [     5,      2],\n",
      "        [     6,  82433],\n",
      "        [     7,   6415],\n",
      "        [     8,   5754],\n",
      "        [    10,   4143],\n",
      "        [    12, 158984]])\n",
      "Total inference time: 245.6908 seconds\n",
      "-------------------------------------------------------  ------------  ------------  ------------  ------------  ------------  ------------  ------------  ------------  ------------  ------------  \n",
      "                                                   Name    Self CPU %      Self CPU   CPU total %     CPU total  CPU time avg     Self CUDA   Self CUDA %    CUDA total  CUDA time avg    # of Calls  \n",
      "-------------------------------------------------------  ------------  ------------  ------------  ------------  ------------  ------------  ------------  ------------  ------------  ------------  \n",
      "                                     torch_cluster::fps         0.01%      15.207ms         0.01%      21.326ms      10.663ms      242.480s        98.70%      242.487s      121.244s             2  \n",
      "                                     torch_cluster::knn         0.00%       7.656ms         0.65%        1.596s     531.944ms        1.592s         0.65%        1.596s     532.035ms             3  \n",
      "                                  torch_cluster::radius         0.01%      13.170ms         0.32%     789.457ms     394.729ms     771.078ms         0.31%     796.518ms     398.259ms             2  \n",
      "                                           aten::linear         0.00%       1.854ms         0.13%     327.674ms       8.623ms       1.215ms         0.00%     527.718ms      13.887ms            38  \n",
      "                                  aten::scatter_reduce_         0.00%     708.200us         0.00%       1.072ms     357.300us     242.255ms         0.10%     256.320ms      85.440ms             3  \n",
      "                                            aten::addmm         0.07%     159.980ms         0.07%     160.469ms       8.446ms     255.321ms         0.10%     255.570ms      13.451ms            19  \n",
      "                                     aten::index_select         0.02%      48.001ms         0.02%      49.137ms       8.190ms      44.988ms         0.02%      52.595ms       8.766ms             6  \n",
      "                                       aten::batch_norm         0.00%     375.000us         0.01%      36.380ms       3.638ms      59.000us         0.00%      51.795ms       5.179ms            10  \n",
      "                           aten::_batch_norm_impl_index         0.00%     767.400us         0.01%      36.005ms       3.601ms      99.000us         0.00%      51.736ms       5.174ms            10  \n",
      "                                aten::native_batch_norm         0.01%      32.872ms         0.01%      35.204ms       3.520ms      30.181ms         0.01%      51.608ms       5.161ms            10  \n",
      "                                              aten::cat         0.00%       3.320ms         0.00%       3.651ms     192.147us      39.562ms         0.02%      39.928ms       2.101ms            19  \n",
      "                                             aten::relu         0.00%     555.400us         0.00%      12.260ms       1.022ms      82.000us         0.00%      34.410ms       2.868ms            12  \n",
      "                                        aten::clamp_min         0.00%      11.704ms         0.00%      11.704ms     975.375us      34.328ms         0.01%      34.328ms       2.861ms            12  \n",
      "                                         aten::_unique2         0.01%      21.743ms         0.01%      21.855ms      21.855ms      21.566ms         0.01%      21.721ms      21.721ms             1  \n",
      "                                    aten::empty_strided         0.00%       2.165ms         0.00%       2.165ms      31.838us      21.325ms         0.01%      21.325ms     313.603us            68  \n",
      "                                       aten::empty_like         0.00%     186.400us         0.00%       2.109ms     175.775us     439.000us         0.00%      21.277ms       1.773ms            12  \n",
      "                                               aten::to         0.00%     724.300us         0.11%     264.016ms       3.568ms     826.000us         0.00%      16.935ms     228.851us            74  \n",
      "                                         aten::_to_copy         0.00%       1.712ms         0.11%     263.291ms       4.702ms       1.290ms         0.00%      16.109ms     287.661us            56  \n",
      "                                              aten::sum         0.01%      15.832ms         0.01%      15.832ms       5.277ms      15.621ms         0.01%      15.621ms       5.207ms             3  \n",
      "                                          aten::resize_         0.00%       2.314ms         0.00%       2.314ms      57.838us      15.397ms         0.01%      15.397ms     384.925us            40  \n",
      "                                    aten::masked_select         0.00%       1.384ms         0.96%        2.358s     235.843ms       2.932ms         0.00%      14.764ms       1.476ms            10  \n",
      "                                            aten::copy_         0.11%     261.565ms         0.11%     261.565ms       3.963ms      14.438ms         0.01%      14.438ms     218.758us            66  \n",
      "                                     aten::scatter_add_         0.00%       4.665ms         0.00%       4.678ms     584.700us      14.184ms         0.01%      14.263ms       1.783ms             8  \n",
      "                                         aten::scatter_         0.00%     348.300us         0.00%     353.200us     117.733us      14.035ms         0.01%      14.047ms       4.682ms             3  \n",
      "                                            aten::index         0.00%       4.104ms         0.00%       4.454ms     212.114us       9.223ms         0.00%       9.635ms     458.810us            21  \n",
      "                                            aten::stack         0.00%     395.900us         0.00%       1.655ms     206.850us     227.000us         0.00%       9.499ms       1.187ms             8  \n",
      "enumerate(DataLoader)#_SingleProcessDataLoaderIter._...         0.00%       1.911ms         0.00%       9.853ms       4.926ms     906.000us         0.00%       9.166ms       4.583ms             2  \n",
      "                                              aten::mul         0.00%     899.100us         0.00%     899.100us      69.162us       8.460ms         0.00%       8.460ms     650.769us            13  \n",
      "                                           aten::arange         0.00%       3.890ms         0.00%       7.444ms     338.368us       3.804ms         0.00%       7.483ms     340.136us            22  \n",
      "                                             aten::full         0.00%     376.400us         0.00%       1.482ms     148.210us     211.000us         0.00%       7.358ms     735.800us            10  \n",
      "                                          aten::nonzero         0.96%        2.355s         0.96%        2.356s     235.591ms       3.225ms         0.00%       6.955ms     695.500us            10  \n",
      "                                           aten::argmax         0.00%       6.093ms         0.00%       6.098ms       6.098ms       6.422ms         0.00%       6.425ms       6.425ms             1  \n",
      "                                            aten::empty         0.00%       1.757ms         0.00%       1.757ms      12.551us       5.842ms         0.00%       5.842ms      41.729us           140  \n",
      "                                            aten::fill_         0.00%     777.500us         0.00%     777.500us      25.081us       5.747ms         0.00%       5.747ms     185.387us            31  \n",
      "                                              aten::sub         0.00%       1.100ms         0.00%       1.100ms     157.129us       4.726ms         0.00%       4.726ms     675.143us             7  \n",
      "                                        aten::new_zeros         0.00%     480.600us         0.00%       1.291ms      92.193us     503.000us         0.00%       4.228ms     302.000us            14  \n",
      "                                              aten::div         0.00%     312.700us         0.00%     312.700us     104.233us       4.136ms         0.00%       4.136ms       1.379ms             3  \n",
      "                                            aten::zero_         0.00%     317.200us         0.00%     687.100us      29.874us     361.000us         0.00%       3.476ms     151.130us            23  \n",
      "                                             aten::rand         0.00%     180.600us         0.00%       3.323ms       1.661ms     163.000us         0.00%       3.374ms       1.687ms             2  \n",
      "                                         aten::uniform_         0.00%       3.134ms         0.00%       3.134ms       1.567ms       3.194ms         0.00%       3.194ms       1.597ms             2  \n",
      "                                             aten::item         0.00%     775.600us        98.76%      242.639s        6.222s     621.000us         0.00%       2.658ms      68.154us            39  \n",
      "                              aten::_local_scalar_dense        98.76%      242.638s        98.76%      242.638s        6.221s       2.037ms         0.00%       2.037ms      52.231us            39  \n",
      "                                           aten::select         0.00%       1.043ms         0.00%       1.088ms      17.833us       1.102ms         0.00%       1.637ms      26.836us            61  \n",
      "                                              aten::max         0.00%       2.137ms         0.00%       2.291ms     176.254us       1.283ms         0.00%       1.566ms     120.462us            13  \n",
      "                                       aten::as_strided         0.00%     262.800us         0.00%     262.800us       1.314us       1.443ms         0.00%       1.443ms       7.215us           200  \n",
      "                                           aten::narrow         0.00%     603.400us         0.00%       1.223ms      48.904us     353.000us         0.00%       1.142ms      45.680us            25  \n",
      "                                            aten::slice         0.00%     652.600us         0.00%     694.100us      23.934us     634.000us         0.00%     875.000us      30.172us            29  \n",
      "                                           aten::unbind         0.00%     311.700us         0.00%     727.700us     242.567us     162.000us         0.00%     790.000us     263.333us             3  \n",
      "                                                aten::t         0.00%     527.600us         0.00%       1.058ms      36.476us     239.000us         0.00%     770.000us      26.552us            29  \n",
      "                                        aten::new_empty         0.00%     316.100us         0.00%     416.300us      21.911us     567.000us         0.00%     746.000us      39.263us            19  \n",
      "                                           aten::cumsum         0.00%     613.500us         0.00%     654.500us      72.722us     471.000us         0.00%     645.000us      71.667us             9  \n",
      "                                      aten::log_softmax         0.00%     313.700us         0.02%      37.572ms      37.572ms      36.000us         0.00%     568.000us     568.000us             1  \n",
      "                                     aten::_log_softmax         0.02%      37.259ms         0.02%      37.259ms      37.259ms     532.000us         0.00%     532.000us     532.000us             1  \n",
      "                                        aten::transpose         0.00%     475.600us         0.00%     530.200us      18.283us     319.000us         0.00%     531.000us      18.310us            29  \n",
      "                                          aten::reshape         0.00%     527.700us         0.00%     604.100us      18.878us     361.000us         0.00%     530.000us      16.562us            32  \n",
      "                                               aten::ne         0.00%     352.700us         0.00%     352.700us      70.540us     448.000us         0.00%     448.000us      89.600us             5  \n",
      "                                            aten::clamp         0.00%     369.300us         0.00%     372.500us     124.167us     368.000us         0.00%     379.000us     126.333us             3  \n",
      "                                        aten::expand_as         0.00%       5.428ms         0.00%       5.630ms     625.578us      61.000us         0.00%     345.000us      38.333us             9  \n",
      "                                        aten::ones_like         0.00%      65.700us         0.00%     154.600us      77.300us      76.000us         0.00%     297.000us     148.500us             2  \n",
      "                                           aten::expand         0.00%     188.400us         0.00%     202.300us      22.478us     254.000us         0.00%     284.000us      31.556us             9  \n",
      "                                             aten::view         0.00%     191.500us         0.00%     191.500us       3.830us     271.000us         0.00%     271.000us       5.420us            50  \n",
      "                                          aten::detach_         0.00%     124.600us         0.00%     160.500us      22.929us     141.000us         0.00%     265.000us      37.857us             7  \n",
      "                                       aten::reciprocal         0.00%     248.400us         0.00%     248.400us      82.800us     224.000us         0.00%     224.000us      74.667us             3  \n",
      "                                       aten::lift_fresh         0.00%       3.900us         0.00%       3.900us       0.557us     222.000us         0.00%     222.000us      31.714us             7  \n",
      "                                            aten::zeros         0.00%      62.700us         0.00%     188.700us      94.350us      27.000us         0.00%     179.000us      89.500us             2  \n",
      "                                                detach_         0.00%      35.900us         0.00%      35.900us       5.129us     124.000us         0.00%     124.000us      17.714us             7  \n",
      "                                          aten::dropout         0.00%      21.800us         0.00%      21.800us       1.147us      77.000us         0.00%      77.000us       4.053us            19  \n",
      "                                        aten::unsqueeze         0.00%      33.600us         0.00%      37.900us      18.950us      53.000us         0.00%      67.000us      33.500us             2  \n",
      "                                             aten::ceil         0.00%      43.900us         0.00%      43.900us      21.950us      59.000us         0.00%      59.000us      29.500us             2  \n",
      "                                             aten::set_         0.00%     194.900us         0.00%     194.900us      19.490us      49.000us         0.00%      49.000us       4.900us            10  \n",
      "                                     aten::resolve_conj         0.00%       2.400us         0.00%       2.400us       0.218us      39.000us         0.00%      39.000us       3.545us            11  \n",
      "                                      aten::resolve_neg         0.00%       1.700us         0.00%       1.700us       0.155us      31.000us         0.00%      31.000us       2.818us            11  \n",
      "                                          aten::random_         0.00%      25.900us         0.00%      25.900us      25.900us       5.000us         0.00%       5.000us       5.000us             1  \n",
      "-------------------------------------------------------  ------------  ------------  ------------  ------------  ------------  ------------  ------------  ------------  ------------  ------------  \n",
      "Self CPU time total: 245.681s\n",
      "Self CUDA time total: 245.683s\n",
      "\n"
     ]
    }
   ],
   "source": [
    "\n",
    "model.eval()\n",
    "\n",
    "import torch.profiler\n",
    "\n",
    "with torch.profiler.profile(\n",
    "    activities=[torch.profiler.ProfilerActivity.CPU, torch.profiler.ProfilerActivity.CUDA],\n",
    "    record_shapes=True,\n",
    ") as prof:\n",
    "\n",
    "    with torch.no_grad():\n",
    "        start_time = time.time()\n",
    "        for data in custom_loader:\n",
    "            data = data.to(device)\n",
    "            with torch.amp.autocast(\"cuda\"):\n",
    "                predictions = model(data)\n",
    "            labels = predictions.argmax(dim=-1)\n",
    "            # Process the labels as needed\n",
    "            #labels_arr = labels.cpu().numpy()\n",
    "            # Count occurrences of labels\n",
    "            unique_labels, label_counts = torch.unique(labels, return_counts=True)\n",
    "            # Combine and print\n",
    "            #result_labels = np.array(list(zip(unique_labels, label_counts)))\n",
    "            #print(\"Label counts:\")\n",
    "            #for label, count in zip(unique_labels, label_counts):\n",
    "            #    print(f\"Label {label.item()}: {count.item()}\")\n",
    "            result_labels = torch.stack((unique_labels, label_counts), dim=1).cpu()\n",
    "            print(\"Label counts:\")\n",
    "            print(result_labels)\n",
    "        end_time = time.time()\n",
    "        print(f\"Total inference time: {end_time - start_time:.4f} seconds\")  \n",
    "    \n",
    "print(prof.key_averages().table(sort_by=\"cuda_time_total\"))"
   ]
  },
  {
   "cell_type": "code",
   "execution_count": 22,
   "metadata": {},
   "outputs": [],
   "source": [
    "# Assuming `labels` is the tensor containing predicted labels for each point\n",
    "predicted_colors = color_map[labels.cpu().numpy()]  # Shape: [num_points, 3]\n",
    "\n",
    "# Assuming `pcd` is your Open3D point cloud object\n",
    "downpcd.colors = o3d.utility.Vector3dVector(predicted_colors)"
   ]
  },
  {
   "cell_type": "code",
   "execution_count": 27,
   "metadata": {},
   "outputs": [
    {
     "name": "stdout",
     "output_type": "stream",
     "text": [
      "[Open3D WARNING] [ViewControl] SetViewPoint() failed because window height and width are not set.\n",
      "[Open3D WARNING] [ViewControl] SetViewPoint() failed because window height and width are not set.\n",
      "[Open3D WARNING] [ViewControl] SetViewPoint() failed because window height and width are not set.\n",
      "[Open3D WARNING] [ViewControl] SetViewPoint() failed because window height and width are not set.\n",
      "[Open3D WARNING] [ViewControl] SetViewPoint() failed because window height and width are not set.\n"
     ]
    }
   ],
   "source": [
    "# Visualize the point cloud with colored labels\n",
    "o3d.visualization.draw_geometries([downpcd])"
   ]
  },
  {
   "cell_type": "code",
   "execution_count": 24,
   "metadata": {},
   "outputs": [
    {
     "data": {
      "text/plain": [
       "True"
      ]
     },
     "execution_count": 24,
     "metadata": {},
     "output_type": "execute_result"
    }
   ],
   "source": [
    "# Save the point cloud to a file\n",
    "save_path = \"C:/Users/yanpe/OneDrive - Metropolia Ammattikorkeakoulu Oy/Research/data/smartlab/labelled/Smartlab_aalto_pcd_lora_label_pointnet2_x3_0.03_20250418.ply\"\n",
    "o3d.io.write_point_cloud(save_path, downpcd)\n"
   ]
  }
 ],
 "metadata": {
  "kernelspec": {
   "display_name": "Python 3",
   "language": "python",
   "name": "python3"
  },
  "language_info": {
   "codemirror_mode": {
    "name": "ipython",
    "version": 3
   },
   "file_extension": ".py",
   "mimetype": "text/x-python",
   "name": "python",
   "nbconvert_exporter": "python",
   "pygments_lexer": "ipython3",
   "version": "3.12.10"
  }
 },
 "nbformat": 4,
 "nbformat_minor": 2
}
