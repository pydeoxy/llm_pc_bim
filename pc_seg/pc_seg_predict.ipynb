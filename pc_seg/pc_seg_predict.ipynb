{
 "cells": [
  {
   "cell_type": "code",
   "execution_count": 1,
   "metadata": {},
   "outputs": [
    {
     "name": "stdout",
     "output_type": "stream",
     "text": [
      "['C:\\\\Program Files\\\\WindowsApps\\\\PythonSoftwareFoundation.Python.3.12_3.12.2800.0_x64__qbz5n2kfra8p0\\\\python312.zip', 'C:\\\\Program Files\\\\WindowsApps\\\\PythonSoftwareFoundation.Python.3.12_3.12.2800.0_x64__qbz5n2kfra8p0\\\\DLLs', 'C:\\\\Program Files\\\\WindowsApps\\\\PythonSoftwareFoundation.Python.3.12_3.12.2800.0_x64__qbz5n2kfra8p0\\\\Lib', 'C:\\\\Program Files\\\\WindowsApps\\\\PythonSoftwareFoundation.Python.3.12_3.12.2800.0_x64__qbz5n2kfra8p0', '', 'C:\\\\Users\\\\yanpe\\\\AppData\\\\Local\\\\Packages\\\\PythonSoftwareFoundation.Python.3.12_qbz5n2kfra8p0\\\\LocalCache\\\\local-packages\\\\Python312\\\\site-packages', 'C:\\\\Users\\\\yanpe\\\\AppData\\\\Local\\\\Packages\\\\PythonSoftwareFoundation.Python.3.12_qbz5n2kfra8p0\\\\LocalCache\\\\local-packages\\\\Python312\\\\site-packages\\\\win32', 'C:\\\\Users\\\\yanpe\\\\AppData\\\\Local\\\\Packages\\\\PythonSoftwareFoundation.Python.3.12_qbz5n2kfra8p0\\\\LocalCache\\\\local-packages\\\\Python312\\\\site-packages\\\\win32\\\\lib', 'C:\\\\Users\\\\yanpe\\\\AppData\\\\Local\\\\Packages\\\\PythonSoftwareFoundation.Python.3.12_qbz5n2kfra8p0\\\\LocalCache\\\\local-packages\\\\Python312\\\\site-packages\\\\Pythonwin', 'C:\\\\Program Files\\\\WindowsApps\\\\PythonSoftwareFoundation.Python.3.12_3.12.2800.0_x64__qbz5n2kfra8p0\\\\Lib\\\\site-packages', 'C:\\\\Users\\\\yanpe\\\\.env\\\\Lib\\\\site-packages']\n"
     ]
    }
   ],
   "source": [
    "import sys\n",
    "sys.path\n",
    "sys.path.append(r\"C:\\Users\\yanpe\\.env\\Lib\\site-packages\")\n",
    "print(sys.path)"
   ]
  },
  {
   "cell_type": "code",
   "execution_count": 1,
   "metadata": {},
   "outputs": [
    {
     "name": "stdout",
     "output_type": "stream",
     "text": [
      "Jupyter environment detected. Enabling Open3D WebVisualizer.\n",
      "[Open3D INFO] WebRTC GUI backend enabled.\n",
      "[Open3D INFO] WebRTCWindowSystem: HTTP handshake server disabled.\n"
     ]
    }
   ],
   "source": [
    "import os\n",
    "import open3d as o3d\n",
    "import numpy as np\n",
    "import torch\n",
    "from torch_geometric.data import Data\n",
    "from torch_geometric.loader import DataLoader\n",
    "from torch_geometric.typing import WITH_TORCH_CLUSTER\n",
    "from pyg_pointnet2 import PyGPointNet2\n",
    "\n",
    "if not WITH_TORCH_CLUSTER:\n",
    "    quit(\"This example requires 'torch-cluster'\")"
   ]
  },
  {
   "cell_type": "code",
   "execution_count": 2,
   "metadata": {},
   "outputs": [],
   "source": [
    "# Empty the CUDA cache\n",
    "torch.cuda.empty_cache()"
   ]
  },
  {
   "cell_type": "code",
   "execution_count": 3,
   "metadata": {},
   "outputs": [],
   "source": [
    "device = torch.device('cuda' if torch.cuda.is_available() else 'cpu')\n",
    "model = PyGPointNet2(num_classes=13).to(device)"
   ]
  },
  {
   "cell_type": "code",
   "execution_count": 4,
   "metadata": {},
   "outputs": [],
   "source": [
    "# File path to the pre-trained model\n",
    "script_dir = os.path.dirname(os.getcwd())\n",
    "model_file_path= os.path.join(script_dir, '.', 'docs', 'pointnet2_s3dis_transform_seg_x6_45_checkpoint.pth')\n",
    "# pointnet2_s3dis_transform_seg_x6_27_checkpoint\n",
    "# pointnet2_smartlab_sim_bw_seg_x6_0413_checkpoint\n"
   ]
  },
  {
   "cell_type": "code",
   "execution_count": 5,
   "metadata": {},
   "outputs": [],
   "source": [
    "# Load the checkpoint dictionary\n",
    "checkpoint = torch.load(model_file_path, map_location=device)\n",
    "# Extract the model state dictionary\n",
    "model_state_dict = checkpoint['model_state_dict']\n",
    "\n",
    "# print(model_state_dict)"
   ]
  },
  {
   "cell_type": "code",
   "execution_count": 6,
   "metadata": {},
   "outputs": [
    {
     "data": {
      "text/plain": [
       "PyGPointNet2(\n",
       "  (sa1_module): SAModule(\n",
       "    (conv): PointNetConv(local_nn=MLP(9, 64, 64, 128), global_nn=None)\n",
       "  )\n",
       "  (sa2_module): SAModule(\n",
       "    (conv): PointNetConv(local_nn=MLP(131, 128, 128, 256), global_nn=None)\n",
       "  )\n",
       "  (sa3_module): GlobalSAModule(\n",
       "    (nn): MLP(259, 256, 512, 1024)\n",
       "  )\n",
       "  (fp3_module): FPModule(\n",
       "    (nn): MLP(1280, 256, 256)\n",
       "  )\n",
       "  (fp2_module): FPModule(\n",
       "    (nn): MLP(384, 256, 128)\n",
       "  )\n",
       "  (fp1_module): FPModule(\n",
       "    (nn): MLP(134, 128, 128, 128)\n",
       "  )\n",
       "  (mlp): MLP(128, 128, 128, 13)\n",
       "  (lin1): Linear(in_features=128, out_features=128, bias=True)\n",
       "  (lin2): Linear(in_features=128, out_features=128, bias=True)\n",
       "  (lin3): Linear(in_features=128, out_features=13, bias=True)\n",
       ")"
      ]
     },
     "execution_count": 6,
     "metadata": {},
     "output_type": "execute_result"
    }
   ],
   "source": [
    "model.load_state_dict(model_state_dict)\n",
    "model.eval()"
   ]
  },
  {
   "cell_type": "code",
   "execution_count": 7,
   "metadata": {},
   "outputs": [],
   "source": [
    "# Pcd files\n",
    "#pcd_path = \"C:/Users/yanpe/OneDrive - Metropolia Ammattikorkeakoulu Oy/Research/data/smartlab/Smartlab-2024-04-05_10-58-26_colour_cleaned.pcd\"\n",
    "pcd_path = \"C:/Users/yanpe/OneDrive - Metropolia Ammattikorkeakoulu Oy/Research/data/smartlab/SmartLab_2024_E57_Single_5mm.pcd\"\n",
    "#pcd_path = \"C:/Users/yanpe/OneDrive - Metropolia Ammattikorkeakoulu Oy/Research/data/smartlab/SmartLab_2024_E57_Single_5mm.ply\"\n",
    "pcd = o3d.io.read_point_cloud(pcd_path)"
   ]
  },
  {
   "cell_type": "code",
   "execution_count": 8,
   "metadata": {},
   "outputs": [
    {
     "name": "stdout",
     "output_type": "stream",
     "text": [
      "35966772\n",
      "35966772\n",
      "0\n"
     ]
    }
   ],
   "source": [
    "print(len(pcd.points))\n",
    "print(len(pcd.colors))\n",
    "print(len(pcd.normals))"
   ]
  },
  {
   "cell_type": "code",
   "execution_count": 9,
   "metadata": {},
   "outputs": [],
   "source": [
    "def array_range(array):\n",
    "    # Get min and max for each column\n",
    "    min_values = np.min(array, axis=0)\n",
    "    max_values = np.max(array, axis=0)\n",
    "\n",
    "    # Display ranges for each column\n",
    "    for i, (min_val, max_val) in enumerate(zip(min_values, max_values), start=1):\n",
    "        print(f\"Column {i}: min = {min_val}, max = {max_val}\")"
   ]
  },
  {
   "cell_type": "code",
   "execution_count": 54,
   "metadata": {},
   "outputs": [
    {
     "name": "stdout",
     "output_type": "stream",
     "text": [
      "Column 1: min = -1.037500023841858, max = 9.753499984741211\n",
      "Column 2: min = -4.067580223083496, max = 7.109419822692871\n",
      "Column 3: min = -1.562000036239624, max = 1.8949999809265137\n",
      "None\n"
     ]
    }
   ],
   "source": [
    "print(array_range(np.array(pcd.points)))"
   ]
  },
  {
   "cell_type": "code",
   "execution_count": 49,
   "metadata": {},
   "outputs": [],
   "source": [
    "#if not pcd.has_normals():\n",
    "#   pcd.estimate_normals()"
   ]
  },
  {
   "cell_type": "code",
   "execution_count": 10,
   "metadata": {},
   "outputs": [
    {
     "name": "stdout",
     "output_type": "stream",
     "text": [
      "866885\n"
     ]
    }
   ],
   "source": [
    "# Downsample the point cloud with a voxel of 0.02\n",
    "downpcd = pcd.voxel_down_sample(voxel_size=0.03)\n",
    "\n",
    "print(len(downpcd.points))"
   ]
  },
  {
   "cell_type": "code",
   "execution_count": 26,
   "metadata": {},
   "outputs": [],
   "source": [
    "o3d.visualization.draw_geometries([downpcd], point_show_normal=False)"
   ]
  },
  {
   "cell_type": "code",
   "execution_count": 11,
   "metadata": {},
   "outputs": [],
   "source": [
    "def normalize_points(points):\n",
    "    # Step 1: Center the points around the origin\n",
    "    centroid = np.mean(points, axis=0)\n",
    "    centered_points = points - centroid\n",
    "\n",
    "    # Step 2: Scale to fit within the [0, 1] interval\n",
    "    min_vals = np.min(centered_points, axis=0)\n",
    "    max_vals = np.max(centered_points, axis=0)\n",
    "    scale = max_vals - min_vals\n",
    "\n",
    "    # Avoid division by zero in case of flat dimension\n",
    "    scale[scale == 0] = 1  # Set zero scales to 1 to keep that dimension as 0.5 after normalization\n",
    "\n",
    "    normalized_points = (centered_points - min_vals) / scale\n",
    "\n",
    "    return normalized_points\n",
    "\n",
    "normalized = normalize_points(np.array(downpcd.points))"
   ]
  },
  {
   "cell_type": "code",
   "execution_count": 12,
   "metadata": {},
   "outputs": [],
   "source": [
    "def normalize_points_corner(points):\n",
    "    # Step 1: Shift points so that the minimum x, y, z becomes the origin.\n",
    "    min_vals = np.min(points, axis=0)\n",
    "    shifted_points = points - min_vals  # Now the lower bound is (0,0,0)\n",
    "    \n",
    "    # Step 2: Compute the scaling factors from the shifted points.\n",
    "    # The maximum after shifting represents the range in each dimension.\n",
    "    max_vals = np.max(shifted_points, axis=0)\n",
    "    scale = max_vals.copy()\n",
    "    \n",
    "    # Avoid division by zero if any dimension is flat.\n",
    "    scale[scale == 0] = 1\n",
    "    \n",
    "    # Normalize the shifted points to the [0, 1] interval.\n",
    "    normalized_points = shifted_points / scale\n",
    "\n",
    "    return normalized_points\n",
    "\n",
    "normalized = normalize_points_corner(np.array(downpcd.points))"
   ]
  },
  {
   "cell_type": "code",
   "execution_count": 13,
   "metadata": {},
   "outputs": [],
   "source": [
    "# Extract coordinates and colors from the point cloud\n",
    "down_points = torch.tensor(np.array(downpcd.points), dtype=torch.float32)  \n",
    "down_colors = torch.tensor(np.array(downpcd.colors), dtype=torch.float32)\n",
    "down_normalized = torch.tensor(normalized, dtype=torch.float32)"
   ]
  },
  {
   "cell_type": "code",
   "execution_count": 14,
   "metadata": {},
   "outputs": [],
   "source": [
    "# Concatenate coordinates and colors to form the input features\n",
    "x = torch.cat([down_colors, down_normalized], dim=1) # 6 (x)"
   ]
  },
  {
   "cell_type": "code",
   "execution_count": 15,
   "metadata": {},
   "outputs": [],
   "source": [
    "# Create a Data object with x (6 features) and pos (coordinates)\n",
    "data = Data(x=x, pos=down_points)\n",
    "\n",
    "#data = data.to(device)\n",
    "\n",
    "#pre_transform = T.NormalizeScale()\n",
    "#data = pre_transform(data)"
   ]
  },
  {
   "cell_type": "code",
   "execution_count": 88,
   "metadata": {},
   "outputs": [
    {
     "data": {
      "text/plain": [
       "22"
      ]
     },
     "execution_count": 88,
     "metadata": {},
     "output_type": "execute_result"
    }
   ],
   "source": [
    "import os\n",
    "os.cpu_count()"
   ]
  },
  {
   "cell_type": "code",
   "execution_count": 16,
   "metadata": {},
   "outputs": [],
   "source": [
    "# If you have only one point cloud\n",
    "dataset = [data]  # List of Data objects\n",
    "\n",
    "num_workers = 20\n",
    "batch_size = 32\n",
    "\n",
    "# Create a DataLoader (batch_size can be adjusted as needed)\n",
    "custom_loader = DataLoader(dataset, batch_size=batch_size, shuffle=False,\n",
    "                         num_workers=num_workers, pin_memory=True)"
   ]
  },
  {
   "cell_type": "code",
   "execution_count": 19,
   "metadata": {},
   "outputs": [
    {
     "name": "stdout",
     "output_type": "stream",
     "text": [
      "Total inference time: 259.0936 seconds\n"
     ]
    }
   ],
   "source": [
    "import time\n",
    "\n",
    "model.eval()\n",
    "\n",
    "all_labels = []\n",
    "start_time = time.time()\n",
    "\n",
    "# Profiler removed from this block\n",
    "with torch.no_grad(), torch.amp.autocast(\"cuda\"):\n",
    "    for data in custom_loader:\n",
    "        data = data.to(device, non_blocking=True)\n",
    "        predictions = model(data)\n",
    "        labels = predictions.argmax(dim=-1)\n",
    "        #all_labels.append(labels)\n",
    "    end_time = time.time()\n",
    "    print(f\"Total inference time: {end_time - start_time:.4f} seconds\")\n",
    "        \n",
    "# Concatenate all labels into one tensor\n",
    "#combined_labels = torch.cat(all_labels, dim=0)\n",
    "\n",
    "# Compute unique labels and their counts once over the whole tensor\n",
    "#unique_labels, label_counts = torch.unique(combined_labels, return_counts=True)\n",
    "#result_labels = torch.stack((unique_labels, label_counts), dim=1).cpu()\n",
    "\n",
    "#print(\"Label counts:\")\n",
    "#print(result_labels)"
   ]
  },
  {
   "cell_type": "code",
   "execution_count": 20,
   "metadata": {},
   "outputs": [
    {
     "name": "stdout",
     "output_type": "stream",
     "text": [
      "Label counts:\n",
      "tensor([[     0, 137945],\n",
      "        [     1, 123704],\n",
      "        [     2, 271396],\n",
      "        [     3,     17],\n",
      "        [     4,     26],\n",
      "        [     5,     12],\n",
      "        [     6,  26121],\n",
      "        [     7,    259],\n",
      "        [     8,   2761],\n",
      "        [    10,   7923],\n",
      "        [    11,      9],\n",
      "        [    12, 296712]])\n",
      "Total inference time: 258.5799 seconds\n",
      "-------------------------------------------------------  ------------  ------------  ------------  ------------  ------------  ------------  ------------  ------------  ------------  ------------  \n",
      "                                                   Name    Self CPU %      Self CPU   CPU total %     CPU total  CPU time avg     Self CUDA   Self CUDA %    CUDA total  CUDA time avg    # of Calls  \n",
      "-------------------------------------------------------  ------------  ------------  ------------  ------------  ------------  ------------  ------------  ------------  ------------  ------------  \n",
      "                                     torch_cluster::fps         0.00%       3.186ms         0.00%       5.384ms       2.692ms      242.376s        95.19%      242.379s      121.189s             2  \n",
      "enumerate(DataLoader)#_MultiProcessingDataLoaderIter...         3.60%        9.167s         3.60%        9.167s        4.583s        9.167s         3.60%        9.167s        4.583s             2  \n",
      "                                     torch_cluster::knn         0.00%     513.600us         0.65%        1.654s     551.233ms        1.650s         0.65%        1.654s     551.377ms             3  \n",
      "                                  torch_cluster::radius         0.00%       1.183ms         0.32%     819.554ms     409.777ms     813.446ms         0.32%     821.220ms     410.610ms             2  \n",
      "                                  aten::scatter_reduce_         0.00%     202.900us         0.00%     316.800us     105.600us     277.262ms         0.11%     327.662ms     109.221ms             3  \n",
      "                                           aten::linear         0.00%       1.488ms         0.00%      10.779ms     283.645us       1.430ms         0.00%     150.445ms       3.959ms            38  \n",
      "                                            aten::addmm         0.00%       2.204ms         0.00%       2.268ms     119.353us      65.725ms         0.03%      65.827ms       3.465ms            19  \n",
      "                                               aten::to         0.00%       1.018ms         0.13%     328.281ms       4.974ms       1.134ms         0.00%      57.760ms     875.152us            66  \n",
      "                                         aten::_to_copy         0.00%       2.612ms         0.13%     327.263ms       5.547ms       1.951ms         0.00%      56.626ms     959.763us            59  \n",
      "                                            aten::copy_         0.13%     324.530ms         0.13%     324.530ms       4.703ms      53.723ms         0.02%      53.723ms     778.594us            69  \n",
      "                                         aten::scatter_         0.00%     100.900us         0.00%     110.000us      36.667us      50.371ms         0.02%      50.383ms      16.794ms             3  \n",
      "                                       aten::batch_norm         0.00%     342.600us         0.00%       2.234ms     223.380us      80.000us         0.00%      35.031ms       3.503ms            10  \n",
      "                           aten::_batch_norm_impl_index         0.00%     505.100us         0.00%       1.891ms     189.120us     121.000us         0.00%      34.951ms       3.495ms            10  \n",
      "                                aten::native_batch_norm         0.00%     847.400us         0.00%       1.354ms     135.360us      33.644ms         0.01%      34.800ms       3.480ms            10  \n",
      "                                             aten::relu         0.00%     206.200us         0.00%     540.300us      45.025us      99.000us         0.00%      33.697ms       2.808ms            12  \n",
      "                                        aten::clamp_min         0.00%     334.100us         0.00%     334.100us      27.842us      33.598ms         0.01%      33.598ms       2.800ms            12  \n",
      "                                              aten::cat         0.00%     631.500us         0.00%     843.600us      52.725us      25.905ms         0.01%      26.118ms       1.632ms            16  \n",
      "                                     aten::scatter_add_         0.00%     411.900us         0.00%     426.500us      53.312us      13.782ms         0.01%      13.854ms       1.732ms             8  \n",
      "                                              aten::mul         0.00%     274.800us         0.00%     274.800us      21.138us      11.238ms         0.00%      11.238ms     864.462us            13  \n",
      "                                     aten::index_select         0.00%     232.400us         0.00%     259.400us      43.233us       8.935ms         0.00%       9.024ms       1.504ms             6  \n",
      "                                            aten::index         0.00%       1.098ms         0.00%       1.549ms      73.786us       7.629ms         0.00%       8.157ms     388.429us            21  \n",
      "                                    aten::masked_select         0.00%       1.310ms         0.97%        2.468s     246.833ms       2.920ms         0.00%       6.697ms     669.700us            10  \n",
      "                                              aten::div         0.00%      67.000us         0.00%      67.000us      22.333us       5.713ms         0.00%       5.713ms       1.904ms             3  \n",
      "                                        aten::new_zeros         0.00%     463.800us         0.00%       1.172ms      83.686us     472.000us         0.00%       4.550ms     325.000us            14  \n",
      "                                            aten::fill_         0.00%     425.900us         0.00%     425.900us      15.774us       4.199ms         0.00%       4.199ms     155.519us            27  \n",
      "                                           aten::arange         0.00%       2.358ms         0.00%       3.545ms     161.155us       2.375ms         0.00%       3.723ms     169.227us            22  \n",
      "                                            aten::zero_         0.00%     254.100us         0.00%     521.500us      32.594us     247.000us         0.00%       3.559ms     222.438us            16  \n",
      "                                            aten::stack         0.00%     266.000us         0.00%     547.800us      68.475us     123.000us         0.00%       3.186ms     398.250us             8  \n",
      "                                          aten::nonzero         0.97%        2.466s         0.97%        2.467s     246.654ms       2.489ms         0.00%       3.028ms     302.800us            10  \n",
      "                                              aten::sub         0.00%     234.800us         0.00%     234.800us      33.543us       1.810ms         0.00%       1.810ms     258.571us             7  \n",
      "                                             aten::item         0.00%     994.200us        95.29%      242.635s        6.221s     448.000us         0.00%       1.734ms      44.462us            39  \n",
      "                                              aten::max         0.00%       1.176ms         0.00%       1.351ms     103.954us       1.183ms         0.00%       1.715ms     131.923us            13  \n",
      "                                           aten::select         0.00%       1.040ms         0.00%       1.113ms      17.953us       1.083ms         0.00%       1.424ms      22.968us            62  \n",
      "                                       aten::as_strided         0.00%     271.800us         0.00%     271.800us       1.461us       1.367ms         0.00%       1.367ms       7.349us           186  \n",
      "                              aten::_local_scalar_dense        95.29%      242.634s        95.29%      242.634s        6.221s       1.286ms         0.00%       1.286ms      32.974us            39  \n",
      "                                    aten::empty_strided         0.00%     452.800us         0.00%     452.800us       6.377us       1.191ms         0.00%       1.191ms      16.775us            71  \n",
      "                                            aten::empty         0.00%     608.300us         0.00%     608.300us       4.716us       1.096ms         0.00%       1.096ms       8.496us           129  \n",
      "                                             aten::full         0.00%     343.100us         0.00%     523.400us      58.156us     155.000us         0.00%     989.000us     109.889us             9  \n",
      "                                           aten::unbind         0.00%     409.500us         0.00%     890.700us     296.900us     251.000us         0.00%     893.000us     297.667us             3  \n",
      "                                                aten::t         0.00%     462.600us         0.00%       1.006ms      34.686us     334.000us         0.00%     890.000us      30.690us            29  \n",
      "                                       aten::empty_like         0.00%     201.800us         0.00%     264.400us      22.033us     785.000us         0.00%     848.000us      70.667us            12  \n",
      "                                          aten::reshape         0.00%     621.600us         0.00%     689.600us      21.550us     604.000us         0.00%     782.000us      24.438us            32  \n",
      "                                             aten::rand         0.00%     357.200us         0.00%     421.800us     210.900us     706.000us         0.00%     762.000us     381.000us             2  \n",
      "                                        aten::new_empty         0.00%     189.000us         0.00%     270.300us      19.307us     485.000us         0.00%     597.000us      42.643us            14  \n",
      "                                         aten::_unique2         0.00%     335.700us         0.02%      53.406ms      53.406ms     391.000us         0.00%     570.000us     570.000us             1  \n",
      "                                        aten::transpose         0.00%     484.200us         0.00%     543.300us      18.734us     334.000us         0.00%     556.000us      19.172us            29  \n",
      "                                           aten::narrow         0.00%     234.300us         0.00%     420.800us      35.067us     251.000us         0.00%     530.000us      44.167us            12  \n",
      "                                               aten::ne         0.00%     155.800us         0.00%     155.800us      31.160us     457.000us         0.00%     457.000us      91.400us             5  \n",
      "                                          aten::resize_         0.00%     224.700us         0.00%     224.700us       5.617us     449.000us         0.00%     449.000us      11.225us            40  \n",
      "                                            aten::zeros         0.00%     144.400us         0.00%     247.300us     123.650us     241.000us         0.00%     347.000us     173.500us             2  \n",
      "                                            aten::slice         0.00%     261.600us         0.00%     276.800us      19.771us     178.000us         0.00%     305.000us      21.786us            14  \n",
      "                                        aten::expand_as         0.00%     140.700us         0.00%     340.500us      37.833us      63.000us         0.00%     303.000us      33.667us             9  \n",
      "                                             aten::view         0.00%     153.600us         0.00%     153.600us       3.072us     261.000us         0.00%     261.000us       5.220us            50  \n",
      "                                           aten::argmax         0.00%      44.300us         0.00%      45.600us      45.600us     258.000us         0.00%     261.000us     261.000us             1  \n",
      "                                           aten::cumsum         0.00%     261.200us         0.00%     264.700us      66.175us     193.000us         0.00%     247.000us      61.750us             4  \n",
      "                                           aten::expand         0.00%     177.500us         0.00%     199.800us      22.200us     191.000us         0.00%     240.000us      26.667us             9  \n",
      "                                        aten::ones_like         0.00%      65.800us         0.00%     162.200us      81.100us      35.000us         0.00%     213.000us     106.500us             2  \n",
      "                                              aten::sum         0.00%     116.800us         0.00%     116.800us      38.933us     206.000us         0.00%     206.000us      68.667us             3  \n",
      "                                      aten::log_softmax         0.00%      27.300us         0.00%      52.400us      52.400us       6.000us         0.00%     168.000us     168.000us             1  \n",
      "                                     aten::_log_softmax         0.00%      25.100us         0.00%      25.100us      25.100us     162.000us         0.00%     162.000us     162.000us             1  \n",
      "                                            aten::clamp         0.00%     124.900us         0.00%     128.900us      42.967us     119.000us         0.00%     132.000us      44.000us             3  \n",
      "                                             aten::ceil         0.00%      51.900us         0.00%      51.900us      25.950us     100.000us         0.00%     100.000us      50.000us             2  \n",
      "                                       aten::reciprocal         0.00%     152.700us         0.00%     152.700us      50.900us      88.000us         0.00%      88.000us      29.333us             3  \n",
      "                                          aten::detach_         0.00%      65.500us         0.00%      75.200us      37.600us      34.000us         0.00%      87.000us      43.500us             2  \n",
      "                                          aten::dropout         0.00%      20.000us         0.00%      20.000us       1.053us      77.000us         0.00%      77.000us       4.053us            19  \n",
      "                                             aten::set_         0.00%     259.000us         0.00%     259.000us      25.900us      76.000us         0.00%      76.000us       7.600us            10  \n",
      "                                                detach_         0.00%       9.700us         0.00%       9.700us       4.850us      53.000us         0.00%      53.000us      26.500us             2  \n",
      "                                      aten::resolve_neg         0.00%       2.000us         0.00%       2.000us       0.167us      50.000us         0.00%      50.000us       4.167us            12  \n",
      "                                     aten::resolve_conj         0.00%       3.500us         0.00%       3.500us       0.292us      47.000us         0.00%      47.000us       3.917us            12  \n",
      "                                         aten::uniform_         0.00%      57.800us         0.00%      57.800us      28.900us      41.000us         0.00%      41.000us      20.500us             2  \n",
      "                                        aten::unsqueeze         0.00%      24.700us         0.00%      29.000us      14.500us      23.000us         0.00%      34.000us      17.000us             2  \n",
      "                                       aten::lift_fresh         0.00%       2.500us         0.00%       2.500us       1.250us      16.000us         0.00%      16.000us       8.000us             2  \n",
      "                                          aten::random_         0.00%      29.700us         0.00%      29.700us      29.700us       5.000us         0.00%       5.000us       5.000us             1  \n",
      "-------------------------------------------------------  ------------  ------------  ------------  ------------  ------------  ------------  ------------  ------------  ------------  ------------  \n",
      "Self CPU time total: 254.625s\n",
      "Self CUDA time total: 254.628s\n",
      "\n"
     ]
    }
   ],
   "source": [
    "import time\n",
    "\n",
    "model.eval()\n",
    "\n",
    "import torch.profiler\n",
    "\n",
    "with torch.profiler.profile(\n",
    "    activities=[torch.profiler.ProfilerActivity.CPU, torch.profiler.ProfilerActivity.CUDA],\n",
    "    record_shapes=True,\n",
    ") as prof:\n",
    "\n",
    "    with torch.no_grad():\n",
    "        start_time = time.time()\n",
    "        for data in custom_loader:\n",
    "            data = data.to(device)\n",
    "            with torch.amp.autocast(\"cuda\"):\n",
    "                predictions = model(data)\n",
    "            labels = predictions.argmax(dim=-1)\n",
    "            # Process the labels as needed\n",
    "            #labels_arr = labels.cpu().numpy()\n",
    "            # Count occurrences of labels\n",
    "            unique_labels, label_counts = torch.unique(labels, return_counts=True)\n",
    "            # Combine and print\n",
    "            #result_labels = np.array(list(zip(unique_labels, label_counts)))\n",
    "            #print(\"Label counts:\")\n",
    "            #for label, count in zip(unique_labels, label_counts):\n",
    "            #    print(f\"Label {label.item()}: {count.item()}\")\n",
    "            result_labels = torch.stack((unique_labels, label_counts), dim=1).cpu()\n",
    "            print(\"Label counts:\")\n",
    "            print(result_labels)\n",
    "        end_time = time.time()\n",
    "        print(f\"Total inference time: {end_time - start_time:.4f} seconds\")  \n",
    "    \n",
    "print(prof.key_averages().table(sort_by=\"cuda_time_total\"))\n",
    "\n"
   ]
  },
  {
   "cell_type": "code",
   "execution_count": 23,
   "metadata": {},
   "outputs": [
    {
     "name": "stdout",
     "output_type": "stream",
     "text": [
      "-------------------------------------------------------  ------------  ------------  ------------  ------------  ------------  ------------  ------------  ------------  ------------  ------------  \n",
      "                                                   Name    Self CPU %      Self CPU   CPU total %     CPU total  CPU time avg     Self CUDA   Self CUDA %    CUDA total  CUDA time avg    # of Calls  \n",
      "-------------------------------------------------------  ------------  ------------  ------------  ------------  ------------  ------------  ------------  ------------  ------------  ------------  \n",
      "                                     torch_cluster::fps         0.00%       4.199ms         0.00%      10.015ms       5.008ms     1257.253s        88.79%     1257.260s      628.630s             2  \n",
      "                                     torch_cluster::knn         0.00%     468.699us         7.16%      101.444s       33.815s      101.438s         7.16%      101.443s       33.814s             3  \n",
      "                                           aten::linear         0.00%       1.790ms         0.00%      12.921ms     340.023us       2.066ms         0.00%       13.166s     346.480ms            38  \n",
      "                                  aten::scatter_reduce_         0.00%     263.400us         0.00%     416.100us     138.700us       12.304s         0.87%       12.760s        4.253s             3  \n",
      "enumerate(DataLoader)#_MultiProcessingDataLoaderIter...         0.79%       11.213s         0.79%       11.213s        5.606s       11.213s         0.79%       11.213s        5.606s             2  \n",
      "                                  torch_cluster::radius         0.00%     362.300us         0.63%        8.959s        4.479s        8.951s         0.63%        8.964s        4.482s             2  \n",
      "                                              aten::cat         0.00%     851.798us         0.00%       1.100ms      73.320us        5.754s         0.41%        5.754s     383.583ms            15  \n",
      "                                               aten::to         0.00%       1.522ms         0.96%       13.622s     209.565ms       1.738ms         0.00%        5.545s      85.308ms            65  \n",
      "                                         aten::_to_copy         0.00%       7.305ms         0.96%       13.620s     234.831ms       3.889ms         0.00%        5.543s      95.574ms            58  \n",
      "                                            aten::copy_         0.96%       13.613s         0.96%       13.613s     200.185ms        5.538s         0.39%        5.538s      81.445ms            68  \n",
      "                                       aten::batch_norm         0.00%     229.700us         0.00%       2.330ms     233.030us      60.000us         0.00%        5.341s     534.110ms            10  \n",
      "                           aten::_batch_norm_impl_index         0.00%     557.298us         0.00%       2.101ms     210.060us      91.000us         0.00%        5.341s     534.104ms            10  \n",
      "                                aten::native_batch_norm         0.00%     945.800us         0.00%       1.502ms     150.220us        5.340s         0.38%        5.341s     534.092ms            10  \n",
      "                                            aten::addmm         0.00%       2.886ms         0.00%       2.956ms     155.605us        3.852s         0.27%        3.852s     202.735ms            19  \n",
      "                                             aten::relu         0.00%     210.700us         0.00%     463.000us      38.583us      68.000us         0.00%        2.873s     239.423ms            12  \n",
      "                                        aten::clamp_min         0.00%     252.300us         0.00%     252.300us      21.025us        2.873s         0.20%        2.873s     239.417ms            12  \n",
      "                                         aten::scatter_         0.00%     140.800us         0.00%     144.900us      48.300us     456.732ms         0.03%     456.744ms     152.248ms             3  \n",
      "                                              aten::sub         0.00%     242.600us         0.00%     242.600us      34.657us     329.422ms         0.02%     329.422ms      47.060ms             7  \n",
      "                                              aten::mul         0.00%     348.700us         0.00%     348.700us      26.823us     265.098ms         0.02%     265.098ms      20.392ms            13  \n",
      "                                            aten::index         0.00%       1.148ms         0.00%       1.573ms      74.928us     173.765ms         0.01%     174.215ms       8.296ms            21  \n",
      "                                     aten::index_select         0.00%     256.200us         0.00%     289.500us      48.250us     123.173ms         0.01%     123.257ms      20.543ms             6  \n",
      "                                     aten::scatter_add_         0.00%     751.499us         0.00%     772.799us      96.600us     113.115ms         0.01%     113.252ms      14.156ms             8  \n",
      "                                              aten::div         0.00%     138.199us         0.00%     138.199us      46.066us      22.823ms         0.00%      22.823ms       7.608ms             3  \n",
      "                                    aten::masked_select         0.00%       1.342ms         7.80%      110.400s       11.040s       5.572ms         0.00%      10.358ms       1.036ms            10  \n",
      "                                            aten::fill_         0.00%     622.198us         0.00%     622.198us      23.044us       7.118ms         0.00%       7.118ms     263.630us            27  \n",
      "                                        aten::new_zeros         0.00%     467.798us         0.00%       1.356ms      96.828us     537.000us         0.00%       6.784ms     484.571us            14  \n",
      "                                            aten::stack         0.00%     310.100us         0.00%     568.999us      81.286us     111.000us         0.00%       6.124ms     874.857us             7  \n",
      "                                            aten::zero_         0.00%     267.400us         0.00%     673.199us      42.075us     283.000us         0.00%       5.810ms     363.125us            16  \n",
      "                                             aten::item         0.00%       1.033ms        90.45%     1280.803s       32.841s     618.000us         0.00%       4.929ms     126.385us            39  \n",
      "                              aten::_local_scalar_dense        90.45%     1280.802s        90.45%     1280.802s       32.841s       4.311ms         0.00%       4.311ms     110.538us            39  \n",
      "                                          aten::nonzero         7.80%      110.397s         7.80%      110.398s       11.040s       3.320ms         0.00%       4.020ms     402.000us            10  \n",
      "                                              aten::max         0.00%       1.832ms         0.00%       2.085ms     160.392us       2.850ms         0.00%       3.540ms     272.308us            13  \n",
      "                                            aten::empty         0.00%     939.598us         0.00%     939.598us       7.284us       3.406ms         0.00%       3.406ms      26.403us           129  \n",
      "                                           aten::unbind         0.00%       1.511ms         0.00%       2.673ms     668.224us       1.474ms         0.00%       2.955ms     738.750us             4  \n",
      "                                           aten::arange         0.00%       1.371ms         0.00%       2.515ms     114.309us       1.444ms         0.00%       2.713ms     123.318us            22  \n",
      "                                           aten::select         0.00%       1.572ms         0.00%       1.706ms      34.124us       1.220ms         0.00%       2.001ms      40.020us            50  \n",
      "                                       aten::as_strided         0.00%     370.000us         0.00%     370.000us       2.151us       1.998ms         0.00%       1.998ms      11.616us           172  \n",
      "                                             aten::full         0.00%     357.600us         0.00%     590.899us      65.655us     380.000us         0.00%       1.855ms     206.111us             9  \n",
      "                                             aten::rand         0.00%       2.658ms         0.00%       2.797ms       1.398ms     108.000us         0.00%       1.775ms     887.500us             2  \n",
      "                                    aten::empty_strided         0.00%     628.195us         0.00%     628.195us       8.974us       1.374ms         0.00%       1.374ms      19.629us            70  \n",
      "                                                aten::t         0.00%     538.398us         0.00%       1.066ms      36.755us     289.000us         0.00%     990.000us      34.138us            29  \n",
      "                                         aten::_unique2         0.00%     464.199us         0.04%     549.694ms     549.694ms     624.000us         0.00%     905.000us     905.000us             1  \n",
      "                                       aten::empty_like         0.00%     201.200us         0.00%     275.099us      22.925us     837.000us         0.00%     873.000us      72.750us            12  \n",
      "                                               aten::ne         0.00%     151.100us         0.00%     151.100us      30.220us     840.000us         0.00%     840.000us     168.000us             5  \n",
      "                                           aten::narrow         0.00%     317.300us         0.00%     588.600us      49.050us     267.000us         0.00%     767.000us      63.917us            12  \n",
      "                                        aten::transpose         0.00%     462.000us         0.00%     527.500us      18.190us     550.000us         0.00%     701.000us      24.172us            29  \n",
      "                                          aten::reshape         0.00%     569.399us         0.00%     635.099us      20.487us     404.000us         0.00%     640.000us      20.645us            31  \n",
      "                                        aten::new_empty         0.00%     247.497us         0.00%     354.597us      25.328us     418.000us         0.00%     589.000us      42.071us            14  \n",
      "                                            aten::slice         0.00%     326.999us         0.00%     348.899us      24.921us     311.000us         0.00%     549.000us      39.214us            14  \n",
      "                                           aten::cumsum         0.00%     457.999us         0.00%     461.999us     115.500us     511.000us         0.00%     547.000us     136.750us             4  \n",
      "                                          aten::resize_         0.00%     237.399us         0.00%     237.399us       5.935us     544.000us         0.00%     544.000us      13.600us            40  \n",
      "                                           aten::argmax         0.00%      58.300us         0.00%      59.800us      59.800us     531.000us         0.00%     534.000us     534.000us             1  \n",
      "                                            aten::zeros         0.00%     109.300us         0.00%     281.400us     140.700us      98.000us         0.00%     374.000us     187.000us             2  \n",
      "                                             aten::view         0.00%     170.200us         0.00%     170.200us       3.473us     355.000us         0.00%     355.000us       7.245us            49  \n",
      "                                      aten::log_softmax         0.00%      45.400us         0.00%      72.400us      72.400us       6.000us         0.00%     354.000us     354.000us             1  \n",
      "                                     aten::_log_softmax         0.00%      27.000us         0.00%      27.000us      27.000us     348.000us         0.00%     348.000us     348.000us             1  \n",
      "                                        aten::ones_like         0.00%      64.600us         0.00%     151.500us      75.750us     108.000us         0.00%     324.000us     162.000us             2  \n",
      "                                              aten::sum         0.00%     123.100us         0.00%     123.100us      41.033us     323.000us         0.00%     323.000us     107.667us             3  \n",
      "                                        aten::expand_as         0.00%     116.300us         0.00%     258.800us      28.756us      81.000us         0.00%     282.000us      31.333us             9  \n",
      "                                           aten::expand         0.00%     131.600us         0.00%     142.500us      15.833us     177.000us         0.00%     201.000us      22.333us             9  \n",
      "                                             aten::ceil         0.00%      82.200us         0.00%      82.200us      41.100us     164.000us         0.00%     164.000us      82.000us             2  \n",
      "                                            aten::clamp         0.00%     125.000us         0.00%     129.500us      43.167us      97.000us         0.00%     106.000us      35.333us             3  \n",
      "                                          aten::detach_         0.00%      70.300us         0.00%     103.200us      51.600us      52.000us         0.00%      95.000us      47.500us             2  \n",
      "                                         aten::uniform_         0.00%     131.300us         0.00%     131.300us      65.650us      88.000us         0.00%      88.000us      44.000us             2  \n",
      "                                       aten::reciprocal         0.00%     120.200us         0.00%     120.200us      40.067us      88.000us         0.00%      88.000us      29.333us             3  \n",
      "                                          aten::dropout         0.00%      21.000us         0.00%      21.000us       1.105us      54.000us         0.00%      54.000us       2.842us            19  \n",
      "                                                detach_         0.00%      32.900us         0.00%      32.900us      16.450us      43.000us         0.00%      43.000us      21.500us             2  \n",
      "                                             aten::set_         0.00%     552.799us         0.00%     552.799us      55.280us      41.000us         0.00%      41.000us       4.100us            10  \n",
      "                                       aten::lift_fresh         0.00%       3.500us         0.00%       3.500us       1.750us      12.000us         0.00%      12.000us       6.000us             2  \n",
      "                                          aten::random_         0.00%      28.600us         0.00%      28.600us      28.600us       4.000us         0.00%       4.000us       4.000us             1  \n",
      "-------------------------------------------------------  ------------  ------------  ------------  ------------  ------------  ------------  ------------  ------------  ------------  ------------  \n",
      "Self CPU time total: 1416.070s\n",
      "Self CUDA time total: 1416.051s\n",
      "\n"
     ]
    }
   ],
   "source": [
    "print(prof.key_averages().table(sort_by=\"cuda_time_total\"))"
   ]
  },
  {
   "cell_type": "markdown",
   "metadata": {},
   "source": [
    "batch_size 32, num_workers 16: prediction 7min\n",
    "\n",
    "batch_size = 32, num_workers 20: prediction 5min\n",
    "\n",
    "batch_size = 32, num_workers 20, pin_memory=True: prediction 4.5min\n",
    "\n"
   ]
  },
  {
   "cell_type": "code",
   "execution_count": 16,
   "metadata": {},
   "outputs": [],
   "source": [
    "\n",
    "# Define the number of classes in your model's predictions\n",
    "num_classes = 13  # Adjust based on your number of classes\n",
    "\n",
    "# class_names = ('ceiling', 'floor', 'wall', 'beam', 'column', 'window', 'door',\n",
    "#               'table', 'chair', 'sofa', 'bookcase', 'board', 'clutter')\n",
    "\n",
    "# Define a fixed color map for 13 labels\n",
    "color_map = np.array([\n",
    "    [1.0, 0.0, 0.0],  # Label 0: Red,  'ceiling'\n",
    "    [0.0, 1.0, 0.0],  # Label 1: Green, 'floor'\n",
    "    [0.0, 0.0, 1.0],  # Label 2: Blue,  'wall'\n",
    "    [1.0, 1.0, 0.0],  # Label 3: Yellow, 'beam'\n",
    "    [1.0, 0.0, 1.0],  # Label 4: Magenta, 'column'\n",
    "    [0.0, 1.0, 1.0],  # Label 5: Cyan, 'window'\n",
    "    [0.5, 0.5, 0.5],  # Label 6: Gray, 'door'\n",
    "    [1.0, 0.5, 0.0],  # Label 7: Orange, 'table'\n",
    "    [0.5, 0.0, 1.0],  # Label 8: Purple, 'chair'\n",
    "    [0.5, 1.0, 0.5],  # Label 9: Light Green, 'sofa'\n",
    "    [0.5, 0.5, 1.0],  # Label 10: Light Blue, 'bookcase'\n",
    "    [1.0, 0.5, 0.5],  # Label 11: Pink, 'board'\n",
    "    [0.0, 0.0, 0.0]   # Label 12: Black, 'clutter'\n",
    "])"
   ]
  },
  {
   "cell_type": "code",
   "execution_count": 17,
   "metadata": {},
   "outputs": [],
   "source": [
    "# Assuming `labels` is the tensor containing predicted labels for each point\n",
    "predicted_colors = color_map[labels.cpu().numpy()]  # Shape: [num_points, 3]\n"
   ]
  },
  {
   "cell_type": "code",
   "execution_count": 18,
   "metadata": {},
   "outputs": [
    {
     "name": "stdout",
     "output_type": "stream",
     "text": [
      "1950239\n"
     ]
    }
   ],
   "source": [
    "print(len(predicted_colors))"
   ]
  },
  {
   "cell_type": "code",
   "execution_count": 19,
   "metadata": {},
   "outputs": [],
   "source": [
    "# Assuming `pcd` is your Open3D point cloud object\n",
    "downpcd.colors = o3d.utility.Vector3dVector(predicted_colors)"
   ]
  },
  {
   "cell_type": "code",
   "execution_count": 20,
   "metadata": {},
   "outputs": [],
   "source": [
    "# Visualize the point cloud with colored labels\n",
    "o3d.visualization.draw_geometries([downpcd])"
   ]
  },
  {
   "cell_type": "code",
   "execution_count": 21,
   "metadata": {},
   "outputs": [
    {
     "data": {
      "text/plain": [
       "True"
      ]
     },
     "execution_count": 21,
     "metadata": {},
     "output_type": "execute_result"
    }
   ],
   "source": [
    "# Save the point cloud to a file\n",
    "save_path = \"C:/Users/yanpe/OneDrive - Metropolia Ammattikorkeakoulu Oy/Research/data/smartlab/labelled/Smartlab_aalto_pcd_center_norm_label_pointnet2_x6_0.02_20250414.ply\"\n",
    "o3d.io.write_point_cloud(save_path, downpcd)\n"
   ]
  },
  {
   "cell_type": "code",
   "execution_count": 50,
   "metadata": {},
   "outputs": [],
   "source": [
    "del down_points\n",
    "del down_colors\n",
    "torch.cuda.empty_cache()"
   ]
  }
 ],
 "metadata": {
  "kernelspec": {
   "display_name": "Python 3",
   "language": "python",
   "name": "python3"
  },
  "language_info": {
   "codemirror_mode": {
    "name": "ipython",
    "version": 3
   },
   "file_extension": ".py",
   "mimetype": "text/x-python",
   "name": "python",
   "nbconvert_exporter": "python",
   "pygments_lexer": "ipython3",
   "version": "3.12.10"
  }
 },
 "nbformat": 4,
 "nbformat_minor": 2
}
