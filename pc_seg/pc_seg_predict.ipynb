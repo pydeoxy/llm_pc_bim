{
 "cells": [
  {
   "cell_type": "code",
   "execution_count": 1,
   "metadata": {},
   "outputs": [
    {
     "name": "stdout",
     "output_type": "stream",
     "text": [
      "['C:\\\\Program Files\\\\WindowsApps\\\\PythonSoftwareFoundation.Python.3.12_3.12.2800.0_x64__qbz5n2kfra8p0\\\\python312.zip', 'C:\\\\Program Files\\\\WindowsApps\\\\PythonSoftwareFoundation.Python.3.12_3.12.2800.0_x64__qbz5n2kfra8p0\\\\DLLs', 'C:\\\\Program Files\\\\WindowsApps\\\\PythonSoftwareFoundation.Python.3.12_3.12.2800.0_x64__qbz5n2kfra8p0\\\\Lib', 'C:\\\\Program Files\\\\WindowsApps\\\\PythonSoftwareFoundation.Python.3.12_3.12.2800.0_x64__qbz5n2kfra8p0', '', 'C:\\\\Users\\\\yanpe\\\\AppData\\\\Local\\\\Packages\\\\PythonSoftwareFoundation.Python.3.12_qbz5n2kfra8p0\\\\LocalCache\\\\local-packages\\\\Python312\\\\site-packages', 'C:\\\\Users\\\\yanpe\\\\AppData\\\\Local\\\\Packages\\\\PythonSoftwareFoundation.Python.3.12_qbz5n2kfra8p0\\\\LocalCache\\\\local-packages\\\\Python312\\\\site-packages\\\\win32', 'C:\\\\Users\\\\yanpe\\\\AppData\\\\Local\\\\Packages\\\\PythonSoftwareFoundation.Python.3.12_qbz5n2kfra8p0\\\\LocalCache\\\\local-packages\\\\Python312\\\\site-packages\\\\win32\\\\lib', 'C:\\\\Users\\\\yanpe\\\\AppData\\\\Local\\\\Packages\\\\PythonSoftwareFoundation.Python.3.12_qbz5n2kfra8p0\\\\LocalCache\\\\local-packages\\\\Python312\\\\site-packages\\\\Pythonwin', 'C:\\\\Program Files\\\\WindowsApps\\\\PythonSoftwareFoundation.Python.3.12_3.12.2800.0_x64__qbz5n2kfra8p0\\\\Lib\\\\site-packages', 'C:\\\\Users\\\\yanpe\\\\.env\\\\Lib\\\\site-packages']\n"
     ]
    }
   ],
   "source": [
    "import sys\n",
    "sys.path\n",
    "sys.path.append(r\"C:\\Users\\yanpe\\.env\\Lib\\site-packages\")\n",
    "print(sys.path)"
   ]
  },
  {
   "cell_type": "code",
   "execution_count": 17,
   "metadata": {},
   "outputs": [],
   "source": [
    "import os\n",
    "import open3d as o3d\n",
    "import numpy as np\n",
    "import torch\n",
    "from torch_geometric.data import Data\n",
    "from torch_geometric.loader import DataLoader\n",
    "import torch_geometric.transforms as T\n",
    "from torch_geometric.typing import WITH_TORCH_CLUSTER\n",
    "from pyg_pointnet2 import PyGPointNet2, PyGPointNet2NoColor\n",
    "from pc_label_map import color_map\n",
    "\n",
    "if not WITH_TORCH_CLUSTER:\n",
    "    quit(\"This example requires 'torch-cluster'\")"
   ]
  },
  {
   "cell_type": "code",
   "execution_count": 26,
   "metadata": {},
   "outputs": [],
   "source": [
    "# Empty the CUDA cache\n",
    "torch.cuda.empty_cache()"
   ]
  },
  {
   "cell_type": "code",
   "execution_count": 27,
   "metadata": {},
   "outputs": [],
   "source": [
    "device = torch.device('cuda' if torch.cuda.is_available() else 'cpu')\n",
    "model = PyGPointNet2(num_classes=13).to(device)\n",
    "#model = PyGPointNet2NoColor(num_classes=13).to(device) # colorless model\n"
   ]
  },
  {
   "cell_type": "code",
   "execution_count": 28,
   "metadata": {},
   "outputs": [],
   "source": [
    "#model_file_path = \"checkpoints/pointnet2_s3dis_pretransform_seg_x6_45_checkpoint.pth\" # Orignial pretransformed x6 model\n",
    "model_file_path = \"checkpoints/pointnet2_s3dis_transform_seg_x6_45_checkpoint.pth\" # Orignial transformed x6 model\n",
    "#model_file_path = \"checkpoints/pointnet2_s3dis_colorless_seg_x3_45_checkpoint.pth\" # Orignial x3 model\n",
    "#model_file_path = \"checkpoints/pointnet2_smartlab_sim_grey_seg_x6_0413_checkpoint.pth\" # From Simulated PC\n",
    "#model_file_path = \"checkpoints/smartlab_fine_tuning_x3_50_20250416.pth\" # Fine-tuned model\n"
   ]
  },
  {
   "cell_type": "code",
   "execution_count": 29,
   "metadata": {},
   "outputs": [],
   "source": [
    "# Load the checkpoint dictionary\n",
    "checkpoint = torch.load(model_file_path, map_location=device)\n",
    "# Extract the model state dictionary\n",
    "model_state_dict = checkpoint['model_state_dict']\n"
   ]
  },
  {
   "cell_type": "code",
   "execution_count": 30,
   "metadata": {},
   "outputs": [
    {
     "data": {
      "text/plain": [
       "PyGPointNet2(\n",
       "  (sa1_module): SAModule(\n",
       "    (conv): PointNetConv(local_nn=MLP(9, 64, 64, 128), global_nn=None)\n",
       "  )\n",
       "  (sa2_module): SAModule(\n",
       "    (conv): PointNetConv(local_nn=MLP(131, 128, 128, 256), global_nn=None)\n",
       "  )\n",
       "  (sa3_module): GlobalSAModule(\n",
       "    (nn): MLP(259, 256, 512, 1024)\n",
       "  )\n",
       "  (fp3_module): FPModule(\n",
       "    (nn): MLP(1280, 256, 256)\n",
       "  )\n",
       "  (fp2_module): FPModule(\n",
       "    (nn): MLP(384, 256, 128)\n",
       "  )\n",
       "  (fp1_module): FPModule(\n",
       "    (nn): MLP(134, 128, 128, 128)\n",
       "  )\n",
       "  (mlp): MLP(128, 128, 128, 13)\n",
       "  (lin1): Linear(in_features=128, out_features=128, bias=True)\n",
       "  (lin2): Linear(in_features=128, out_features=128, bias=True)\n",
       "  (lin3): Linear(in_features=128, out_features=13, bias=True)\n",
       ")"
      ]
     },
     "execution_count": 30,
     "metadata": {},
     "output_type": "execute_result"
    }
   ],
   "source": [
    "model.load_state_dict(model_state_dict)\n",
    "model.eval()"
   ]
  },
  {
   "cell_type": "code",
   "execution_count": 31,
   "metadata": {},
   "outputs": [],
   "source": [
    "# Pcd files\n",
    "#pcd_path = \"C:/Users/yanpe/OneDrive - Metropolia Ammattikorkeakoulu Oy/Research/data/smartlab/Smartlab-2024-04-05_10-58-26_colour_cleaned.pcd\"\n",
    "pcd_path = \"C:/Users/yanpe/OneDrive - Metropolia Ammattikorkeakoulu Oy/Research/data/smartlab/SmartLab_2024_E57_Single_5mm.pcd\"\n",
    "#pcd_path = \"C:/Users/yanpe/OneDrive - Metropolia Ammattikorkeakoulu Oy/Research/data/smartlab/SmartLab_2024_E57_Single_5mm.ply\"\n",
    "pcd = o3d.io.read_point_cloud(pcd_path)"
   ]
  },
  {
   "cell_type": "code",
   "execution_count": 32,
   "metadata": {},
   "outputs": [
    {
     "name": "stdout",
     "output_type": "stream",
     "text": [
      "35966772\n",
      "35966772\n",
      "0\n"
     ]
    }
   ],
   "source": [
    "print(len(pcd.points))\n",
    "print(len(pcd.colors))\n",
    "print(len(pcd.normals))"
   ]
  },
  {
   "cell_type": "code",
   "execution_count": 33,
   "metadata": {},
   "outputs": [],
   "source": [
    "# Move the point cloud to its min(x,y,z) corner\n",
    " \n",
    "def move_to_corner(points):    \n",
    "    # Find the minimum x, y, z\n",
    "    min_xyz = points.min(axis=0)\n",
    "    # Translate the point cloud so that the min corner becomes the origin\n",
    "    moved_points = points - min_xyz\n",
    "    \n",
    "    return moved_points\n",
    "\n",
    "moved_points = move_to_corner(np.array(pcd.points))\n",
    "pcd.points = o3d.utility.Vector3dVector(moved_points)"
   ]
  },
  {
   "cell_type": "code",
   "execution_count": 10,
   "metadata": {},
   "outputs": [
    {
     "name": "stdout",
     "output_type": "stream",
     "text": [
      "Column 1: min = 0.0, max = 10.791000008583069\n",
      "Column 2: min = 0.0, max = 11.177000045776367\n",
      "Column 3: min = 0.0, max = 3.4570000171661377\n",
      "None\n"
     ]
    }
   ],
   "source": [
    "# Check the range of points\n",
    "\n",
    "def array_range(array):\n",
    "    # Get min and max for each column\n",
    "    min_values = np.min(array, axis=0)\n",
    "    max_values = np.max(array, axis=0)\n",
    "\n",
    "    # Display ranges for each column\n",
    "    for i, (min_val, max_val) in enumerate(zip(min_values, max_values), start=1):\n",
    "        print(f\"Column {i}: min = {min_val}, max = {max_val}\")\n",
    "\n",
    "print(array_range(np.array(pcd.points)))"
   ]
  },
  {
   "cell_type": "code",
   "execution_count": 49,
   "metadata": {},
   "outputs": [],
   "source": [
    "#if not pcd.has_normals():\n",
    "#   pcd.estimate_normals()"
   ]
  },
  {
   "cell_type": "code",
   "execution_count": 34,
   "metadata": {},
   "outputs": [
    {
     "name": "stdout",
     "output_type": "stream",
     "text": [
      "866900\n"
     ]
    }
   ],
   "source": [
    "# Downsample the point cloud with a voxel of 0.02\n",
    "downpcd = pcd.voxel_down_sample(voxel_size=0.03)\n",
    "\n",
    "print(len(downpcd.points))"
   ]
  },
  {
   "cell_type": "code",
   "execution_count": 26,
   "metadata": {},
   "outputs": [],
   "source": [
    "o3d.visualization.draw_geometries([downpcd], point_show_normal=False)"
   ]
  },
  {
   "cell_type": "code",
   "execution_count": 1,
   "metadata": {},
   "outputs": [],
   "source": [
    "def normalize_points_center(points):\n",
    "    # Step 1: Center the points around the origin\n",
    "    centroid = np.mean(points, axis=0)\n",
    "    centered_points = points - centroid\n",
    "\n",
    "    # Step 2: Scale to fit within the [0, 1] interval\n",
    "    min_vals = np.min(centered_points, axis=0)\n",
    "    max_vals = np.max(centered_points, axis=0)\n",
    "    scale = max_vals - min_vals\n",
    "\n",
    "    # Avoid division by zero in case of flat dimension\n",
    "    scale[scale == 0] = 1  # Set zero scales to 1 to keep that dimension as 0.5 after normalization\n",
    "\n",
    "    normalized_points = (centered_points - min_vals) / scale\n",
    "\n",
    "    return normalized_points\n",
    "\n",
    "# normalized = normalize_points_center(np.array(downpcd.points))"
   ]
  },
  {
   "cell_type": "code",
   "execution_count": 35,
   "metadata": {},
   "outputs": [],
   "source": [
    "def normalize_points_corner(points):\n",
    "    # Step 1: Shift points so that the minimum x, y, z becomes the origin.\n",
    "    min_vals = np.min(points, axis=0)\n",
    "    shifted_points = points - min_vals  # Now the lower bound is (0,0,0)\n",
    "    \n",
    "    # Step 2: Compute the scaling factors from the shifted points.\n",
    "    # The maximum after shifting represents the range in each dimension.\n",
    "    max_vals = np.max(shifted_points, axis=0)\n",
    "    scale = max_vals.copy()\n",
    "    \n",
    "    # Avoid division by zero if any dimension is flat.\n",
    "    scale[scale == 0] = 1\n",
    "    \n",
    "    # Normalize the shifted points to the [0, 1] interval.\n",
    "    normalized_points = shifted_points / scale\n",
    "\n",
    "    return normalized_points\n",
    "\n",
    "normalized = normalize_points_corner(np.array(downpcd.points))"
   ]
  },
  {
   "cell_type": "code",
   "execution_count": 36,
   "metadata": {},
   "outputs": [],
   "source": [
    "# Extract coordinates and colors from the point cloud\n",
    "down_points = torch.tensor(np.array(downpcd.points), dtype=torch.float32)  \n",
    "down_colors = torch.tensor(np.array(downpcd.colors), dtype=torch.float32)\n",
    "down_normalized = torch.tensor(normalized, dtype=torch.float32)"
   ]
  },
  {
   "cell_type": "code",
   "execution_count": 37,
   "metadata": {},
   "outputs": [],
   "source": [
    "# 6 Features data\n",
    "\n",
    "# Concatenate coordinates and colors to form the input features\n",
    "x = torch.cat([down_colors, down_normalized], dim=1) # 6 (x)\n",
    "# Create a Data object with x (6 features) and pos (coordinates)\n",
    "data = Data(x=x, pos=down_points)\n",
    "\n",
    "#pre_transform = T.NormalizeScale()\n",
    "#data = pre_transform(data)\n"
   ]
  },
  {
   "cell_type": "code",
   "execution_count": 16,
   "metadata": {},
   "outputs": [],
   "source": [
    "# 3 Features data\n",
    "\n",
    "# Create a Data object with x (3 features) and pos (coordinates)\n",
    "data = Data(x=down_normalized, pos=down_points)\n",
    "\n",
    "#data = data.to(device)\n",
    "\n",
    "#pre_transform = T.NormalizeScale()\n",
    "#data = pre_transform(data)"
   ]
  },
  {
   "cell_type": "code",
   "execution_count": 88,
   "metadata": {},
   "outputs": [
    {
     "data": {
      "text/plain": [
       "22"
      ]
     },
     "execution_count": 88,
     "metadata": {},
     "output_type": "execute_result"
    }
   ],
   "source": [
    "import os\n",
    "os.cpu_count()"
   ]
  },
  {
   "cell_type": "code",
   "execution_count": 38,
   "metadata": {},
   "outputs": [],
   "source": [
    "# If you have only one point cloud\n",
    "dataset = [data]  # List of Data objects\n",
    "\n",
    "num_workers = 20\n",
    "batch_size = 32\n",
    "\n",
    "# Create a DataLoader (batch_size can be adjusted as needed)\n",
    "custom_loader = DataLoader(dataset, batch_size=batch_size, shuffle=False,\n",
    "                         num_workers=num_workers, pin_memory=True)"
   ]
  },
  {
   "cell_type": "code",
   "execution_count": 39,
   "metadata": {},
   "outputs": [
    {
     "name": "stdout",
     "output_type": "stream",
     "text": [
      "Label counts:\n",
      "tensor([[     0, 131118],\n",
      "        [     1, 120195],\n",
      "        [     2, 280085],\n",
      "        [     3,      1],\n",
      "        [     4,   2118],\n",
      "        [     5,    318],\n",
      "        [     6,  17702],\n",
      "        [     7,      6],\n",
      "        [     8,      4],\n",
      "        [    10,  69591],\n",
      "        [    11,     21],\n",
      "        [    12, 245741]])\n",
      "Total inference time: 260.5432 seconds\n",
      "-------------------------------------------------------  ------------  ------------  ------------  ------------  ------------  ------------  ------------  ------------  ------------  ------------  \n",
      "                                                   Name    Self CPU %      Self CPU   CPU total %     CPU total  CPU time avg     Self CUDA   Self CUDA %    CUDA total  CUDA time avg    # of Calls  \n",
      "-------------------------------------------------------  ------------  ------------  ------------  ------------  ------------  ------------  ------------  ------------  ------------  ------------  \n",
      "                                     torch_cluster::fps         0.00%       3.502ms         0.00%       8.372ms       4.186ms      242.349s        94.57%      242.355s      121.178s             2  \n",
      "enumerate(DataLoader)#_MultiProcessingDataLoaderIter...         4.18%       10.700s         4.18%       10.700s        5.350s       10.700s         4.18%       10.700s        5.350s             2  \n",
      "                                     torch_cluster::knn         0.00%     400.400us         0.65%        1.657s     552.191ms        1.653s         0.64%        1.657s     552.331ms             3  \n",
      "                                  torch_cluster::radius         0.00%     310.300us         0.33%     840.577ms     420.289ms     810.729ms         0.32%     847.861ms     423.930ms             2  \n",
      "                                           aten::linear         0.00%       1.496ms         0.01%      34.341ms     903.705us       1.714ms         0.00%     310.977ms       8.184ms            38  \n",
      "                                  aten::scatter_reduce_         0.00%     224.900us         0.00%     360.100us     120.033us     273.176ms         0.11%     294.758ms      98.253ms             3  \n",
      "                                            aten::addmm         0.01%      13.848ms         0.01%      13.916ms     732.421us     145.685ms         0.06%     145.845ms       7.676ms            19  \n",
      "                                       aten::batch_norm         0.00%     194.600us         0.00%       5.205ms     520.510us      65.000us         0.00%      60.961ms       6.096ms            10  \n",
      "                           aten::_batch_norm_impl_index         0.00%     488.300us         0.00%       5.011ms     501.050us     101.000us         0.00%      60.896ms       6.090ms            10  \n",
      "                                aten::native_batch_norm         0.00%     900.300us         0.00%       4.499ms     449.930us      32.588ms         0.01%      60.765ms       6.077ms            10  \n",
      "                                               aten::to         0.00%       1.168ms         0.16%     401.455ms       6.083ms       1.104ms         0.00%      51.397ms     778.742us            66  \n",
      "                                         aten::_to_copy         0.00%       2.694ms         0.16%     400.287ms       6.785ms       2.154ms         0.00%      50.293ms     852.424us            59  \n",
      "                                            aten::copy_         0.16%     400.291ms         0.16%     400.291ms       5.638ms      49.615ms         0.02%      49.615ms     698.803us            71  \n",
      "                                              aten::cat         0.00%       3.396ms         0.00%       3.620ms     226.238us      40.320ms         0.02%      40.530ms       2.533ms            16  \n",
      "                                             aten::relu         0.00%     191.000us         0.00%     410.200us      34.183us      79.000us         0.00%      33.624ms       2.802ms            12  \n",
      "                                        aten::clamp_min         0.00%     219.200us         0.00%     219.200us      18.267us      33.545ms         0.01%      33.545ms       2.795ms            12  \n",
      "                                          aten::resize_         0.01%      17.942ms         0.01%      17.942ms     448.550us      31.469ms         0.01%      31.469ms     786.725us            40  \n",
      "                                    aten::masked_select         0.00%       1.500ms         0.97%        2.493s     249.329ms       3.105ms         0.00%      29.646ms       2.965ms            10  \n",
      "                                    aten::empty_strided         0.00%       4.066ms         0.00%       4.066ms      57.269us      28.224ms         0.01%      28.224ms     397.521us            71  \n",
      "                                       aten::empty_like         0.00%     255.000us         0.00%       3.420ms     284.975us     538.000us         0.00%      27.914ms       2.326ms            12  \n",
      "                                          aten::nonzero         0.97%        2.475s         0.97%        2.491s     249.073ms       2.718ms         0.00%      21.607ms       2.161ms            10  \n",
      "                                         aten::scatter_         0.00%     126.800us         0.00%     130.800us      43.600us      21.538ms         0.01%      21.552ms       7.184ms             3  \n",
      "                                     aten::index_select         0.00%     369.000us         0.00%       2.005ms     334.117us       9.654ms         0.00%      18.024ms       3.004ms             6  \n",
      "                                     aten::scatter_add_         0.00%     445.300us         0.00%     461.200us      57.650us      14.101ms         0.01%      14.454ms       1.807ms             8  \n",
      "                                              aten::mul         0.00%     281.300us         0.00%     281.300us      21.638us      11.225ms         0.00%      11.225ms     863.462us            13  \n",
      "                                            aten::stack         0.00%     330.200us         0.00%       1.863ms     232.913us     139.000us         0.00%       9.437ms       1.180ms             8  \n",
      "                                            aten::index         0.00%       1.249ms         0.00%       1.598ms      76.100us       7.491ms         0.00%       8.058ms     383.714us            21  \n",
      "                                            aten::empty         0.00%       1.552ms         0.00%       1.552ms      11.671us       6.044ms         0.00%       6.044ms      45.444us           133  \n",
      "                                             aten::full         0.00%     322.800us         0.00%       1.438ms     159.778us     178.000us         0.00%       5.630ms     625.556us             9  \n",
      "                                              aten::div         0.00%      73.800us         0.00%      73.800us      24.600us       5.195ms         0.00%       5.195ms       1.732ms             3  \n",
      "                                        aten::new_zeros         0.00%     458.400us         0.00%       1.356ms      96.836us     457.000us         0.00%       4.228ms     302.000us            14  \n",
      "                                              aten::sub         0.00%     591.300us         0.00%     591.300us      84.471us       4.177ms         0.00%       4.177ms     596.714us             7  \n",
      "                                            aten::fill_         0.00%     496.600us         0.00%     496.600us      18.393us       3.744ms         0.00%       3.744ms     138.667us            27  \n",
      "                                            aten::zero_         0.00%     290.500us         0.00%     600.300us      37.519us     300.000us         0.00%       3.168ms     198.000us            16  \n",
      "                                           aten::select         0.00%       1.159ms         0.00%       1.276ms      20.581us       1.718ms         0.00%       2.247ms      36.242us            62  \n",
      "                                             aten::item         0.00%       1.780ms        94.68%      242.615s        6.221s     675.000us         0.00%       2.246ms      57.590us            39  \n",
      "                                              aten::max         0.00%       1.244ms         0.00%       1.413ms     108.662us       1.664ms         0.00%       2.044ms     157.231us            13  \n",
      "                                           aten::unbind         0.00%     633.200us         0.00%       1.272ms     424.033us     364.000us         0.00%       1.836ms     612.000us             3  \n",
      "                              aten::_local_scalar_dense        94.68%      242.613s        94.68%      242.613s        6.221s       1.571ms         0.00%       1.571ms      40.282us            39  \n",
      "                                       aten::as_strided         0.00%     306.400us         0.00%     306.400us       1.647us       1.520ms         0.00%       1.520ms       8.172us           186  \n",
      "                                            aten::zeros         0.00%      62.700us         0.00%     160.800us      80.400us       1.196ms         0.00%       1.320ms     660.000us             2  \n",
      "                                           aten::arange         0.00%     721.900us         0.00%       1.154ms      52.432us     629.000us         0.00%       1.311ms      59.591us            22  \n",
      "                                                aten::t         0.00%     491.600us         0.00%       1.029ms      35.490us     328.000us         0.00%     972.000us      33.517us            29  \n",
      "                                          aten::reshape         0.00%     507.300us         0.00%     609.600us      19.050us     591.000us         0.00%     818.000us      25.562us            32  \n",
      "                                         aten::_unique2         0.00%     334.700us         0.02%      54.204ms      54.204ms     463.000us         0.00%     782.000us     782.000us             1  \n",
      "                                        aten::new_empty         0.00%     288.500us         0.00%     379.300us      27.093us     509.000us         0.00%     701.000us      50.071us            14  \n",
      "                                        aten::transpose         0.00%     486.100us         0.00%     537.600us      18.538us     482.000us         0.00%     644.000us      22.207us            29  \n",
      "                                               aten::ne         0.00%     169.500us         0.00%     169.500us      33.900us     487.000us         0.00%     487.000us      97.400us             5  \n",
      "                                           aten::narrow         0.00%     190.200us         0.00%     412.100us      34.342us     205.000us         0.00%     419.000us      34.917us            12  \n",
      "                                           aten::cumsum         0.00%     495.200us         0.00%     498.900us     124.725us     320.000us         0.00%     347.000us      86.750us             4  \n",
      "                                        aten::ones_like         0.00%      99.000us         0.00%     242.900us     121.450us      80.000us         0.00%     345.000us     172.500us             2  \n",
      "                                             aten::view         0.00%     205.100us         0.00%     205.100us       4.102us     321.000us         0.00%     321.000us       6.420us            50  \n",
      "                                        aten::expand_as         0.00%     144.100us         0.00%     321.800us      35.756us      67.000us         0.00%     268.000us      29.778us             9  \n",
      "                                           aten::argmax         0.00%      53.300us         0.00%      54.500us      54.500us     263.000us         0.00%     266.000us     266.000us             1  \n",
      "                                            aten::slice         0.00%     262.800us         0.00%     279.600us      19.971us     171.000us         0.00%     240.000us      17.143us            14  \n",
      "                                           aten::expand         0.00%     163.900us         0.00%     177.700us      19.744us     168.000us         0.00%     201.000us      22.333us             9  \n",
      "                                             aten::rand         0.00%      64.300us         0.00%     125.000us      62.500us     120.000us         0.00%     200.000us     100.000us             2  \n",
      "                                              aten::sum         0.00%     116.100us         0.00%     116.100us      38.700us     173.000us         0.00%     173.000us      57.667us             3  \n",
      "                                      aten::log_softmax         0.00%      27.600us         0.00%      51.500us      51.500us       7.000us         0.00%     172.000us     172.000us             1  \n",
      "                                     aten::_log_softmax         0.00%      23.900us         0.00%      23.900us      23.900us     165.000us         0.00%     165.000us     165.000us             1  \n",
      "                                            aten::clamp         0.00%     112.400us         0.00%     115.800us      38.600us      87.000us         0.00%      99.000us      33.000us             3  \n",
      "                                             aten::set_         0.00%     238.500us         0.00%     238.500us      17.036us      84.000us         0.00%      84.000us       6.000us            14  \n",
      "                                       aten::reciprocal         0.00%     110.200us         0.00%     110.200us      36.733us      65.000us         0.00%      65.000us      21.667us             3  \n",
      "                                          aten::detach_         0.00%      34.700us         0.00%      49.700us      24.850us      34.000us         0.00%      62.000us      31.000us             2  \n",
      "                                         aten::uniform_         0.00%      54.200us         0.00%      54.200us      27.100us      58.000us         0.00%      58.000us      29.000us             2  \n",
      "                                          aten::dropout         0.00%      19.200us         0.00%      19.200us       1.011us      58.000us         0.00%      58.000us       3.053us            19  \n",
      "                                      aten::resolve_neg         0.00%       2.100us         0.00%       2.100us       0.175us      52.000us         0.00%      52.000us       4.333us            12  \n",
      "                                             aten::ceil         0.00%      56.100us         0.00%      56.100us      28.050us      50.000us         0.00%      50.000us      25.000us             2  \n",
      "                                     aten::resolve_conj         0.00%       3.400us         0.00%       3.400us       0.283us      47.000us         0.00%      47.000us       3.917us            12  \n",
      "                                                detach_         0.00%      15.000us         0.00%      15.000us       7.500us      28.000us         0.00%      28.000us      14.000us             2  \n",
      "                                       aten::lift_fresh         0.00%       1.900us         0.00%       1.900us       0.950us      20.000us         0.00%      20.000us      10.000us             2  \n",
      "                                        aten::unsqueeze         0.00%      28.600us         0.00%      33.800us      16.900us      11.000us         0.00%      17.000us       8.500us             2  \n",
      "                                          aten::random_         0.00%      19.700us         0.00%      19.700us      19.700us       5.000us         0.00%       5.000us       5.000us             1  \n",
      "-------------------------------------------------------  ------------  ------------  ------------  ------------  ------------  ------------  ------------  ------------  ------------  ------------  \n",
      "Self CPU time total: 256.258s\n",
      "Self CUDA time total: 256.258s\n",
      "\n"
     ]
    }
   ],
   "source": [
    "import time\n",
    "\n",
    "model.eval()\n",
    "\n",
    "import torch.profiler\n",
    "\n",
    "with torch.profiler.profile(\n",
    "    activities=[torch.profiler.ProfilerActivity.CPU, torch.profiler.ProfilerActivity.CUDA],\n",
    "    record_shapes=True,\n",
    ") as prof:\n",
    "\n",
    "    with torch.no_grad():\n",
    "        start_time = time.time()\n",
    "        for data in custom_loader:\n",
    "            data = data.to(device)\n",
    "            with torch.amp.autocast(\"cuda\"):\n",
    "                predictions = model(data)\n",
    "            labels = predictions.argmax(dim=-1)\n",
    "            # Process the labels as needed\n",
    "            #labels_arr = labels.cpu().numpy()\n",
    "            # Count occurrences of labels\n",
    "            unique_labels, label_counts = torch.unique(labels, return_counts=True)\n",
    "            # Combine and print\n",
    "            #result_labels = np.array(list(zip(unique_labels, label_counts)))\n",
    "            #print(\"Label counts:\")\n",
    "            #for label, count in zip(unique_labels, label_counts):\n",
    "            #    print(f\"Label {label.item()}: {count.item()}\")\n",
    "            result_labels = torch.stack((unique_labels, label_counts), dim=1).cpu()\n",
    "            print(\"Label counts:\")\n",
    "            print(result_labels)\n",
    "        end_time = time.time()\n",
    "        print(f\"Total inference time: {end_time - start_time:.4f} seconds\")  \n",
    "    \n",
    "print(prof.key_averages().table(sort_by=\"cuda_time_total\"))\n",
    "\n"
   ]
  },
  {
   "cell_type": "code",
   "execution_count": 21,
   "metadata": {},
   "outputs": [],
   "source": [
    "# Save profiler output to csv\n",
    "import csv\n",
    "\n",
    "# Generate the profiling table\n",
    "table_str = prof.key_averages().table(sort_by=\"cuda_time_total\")\n",
    "\n",
    "# Split into lines and clean\n",
    "lines = table_str.split('\\n')\n",
    "header = lines[6].strip().split()\n",
    "rows = [line.strip().split(None, len(header)-1) for line in lines[7:] if line.strip()]\n",
    "\n",
    "# Save as CSV\n",
    "profiler_record = \"../docs/original_x6_prediction_profiler_output.csv\"\n",
    "with open(profiler_record, \"w\", newline='') as f:\n",
    "    writer = csv.writer(f)\n",
    "    writer.writerow(header)\n",
    "    writer.writerows(rows)"
   ]
  },
  {
   "cell_type": "markdown",
   "metadata": {},
   "source": [
    "batch_size 32, num_workers 16: prediction 7min\n",
    "\n",
    "batch_size = 32, num_workers 20: prediction 5min\n",
    "\n",
    "batch_size = 32, num_workers 20, pin_memory=True: prediction 4.5min\n",
    "\n"
   ]
  },
  {
   "cell_type": "code",
   "execution_count": 40,
   "metadata": {},
   "outputs": [],
   "source": [
    "# Assuming `labels` is the tensor containing predicted labels for each point\n",
    "predicted_colors = color_map[labels.cpu().numpy()]  # Shape: [num_points, 3]\n"
   ]
  },
  {
   "cell_type": "code",
   "execution_count": 19,
   "metadata": {},
   "outputs": [
    {
     "name": "stdout",
     "output_type": "stream",
     "text": [
      "866900\n"
     ]
    }
   ],
   "source": [
    "print(len(predicted_colors))"
   ]
  },
  {
   "cell_type": "code",
   "execution_count": 41,
   "metadata": {},
   "outputs": [],
   "source": [
    "# Assuming `pcd` is your Open3D point cloud object\n",
    "downpcd.colors = o3d.utility.Vector3dVector(predicted_colors)"
   ]
  },
  {
   "cell_type": "code",
   "execution_count": 42,
   "metadata": {},
   "outputs": [],
   "source": [
    "# Visualize the point cloud with colored labels\n",
    "o3d.visualization.draw_geometries([downpcd])"
   ]
  },
  {
   "cell_type": "code",
   "execution_count": 43,
   "metadata": {},
   "outputs": [
    {
     "data": {
      "text/plain": [
       "True"
      ]
     },
     "execution_count": 43,
     "metadata": {},
     "output_type": "execute_result"
    }
   ],
   "source": [
    "# Save the point cloud to a file\n",
    "save_path = \"C:/Users/yanpe/OneDrive - Metropolia Ammattikorkeakoulu Oy/Research/data/smartlab/labelled/Smartlab_s3dis_transform_label_pointnet2_x6_0.03_20250423.ply\"\n",
    "o3d.io.write_point_cloud(save_path, downpcd)\n"
   ]
  },
  {
   "cell_type": "code",
   "execution_count": 44,
   "metadata": {},
   "outputs": [],
   "source": [
    "del down_points\n",
    "del down_colors\n",
    "torch.cuda.empty_cache()"
   ]
  }
 ],
 "metadata": {
  "kernelspec": {
   "display_name": "Python 3",
   "language": "python",
   "name": "python3"
  },
  "language_info": {
   "codemirror_mode": {
    "name": "ipython",
    "version": 3
   },
   "file_extension": ".py",
   "mimetype": "text/x-python",
   "name": "python",
   "nbconvert_exporter": "python",
   "pygments_lexer": "ipython3",
   "version": "3.12.10"
  }
 },
 "nbformat": 4,
 "nbformat_minor": 2
}
