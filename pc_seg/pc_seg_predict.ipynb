{
 "cells": [
  {
   "cell_type": "code",
   "execution_count": 1,
   "metadata": {},
   "outputs": [
    {
     "name": "stdout",
     "output_type": "stream",
     "text": [
      "['C:\\\\Program Files\\\\WindowsApps\\\\PythonSoftwareFoundation.Python.3.12_3.12.2800.0_x64__qbz5n2kfra8p0\\\\python312.zip', 'C:\\\\Program Files\\\\WindowsApps\\\\PythonSoftwareFoundation.Python.3.12_3.12.2800.0_x64__qbz5n2kfra8p0\\\\DLLs', 'C:\\\\Program Files\\\\WindowsApps\\\\PythonSoftwareFoundation.Python.3.12_3.12.2800.0_x64__qbz5n2kfra8p0\\\\Lib', 'C:\\\\Program Files\\\\WindowsApps\\\\PythonSoftwareFoundation.Python.3.12_3.12.2800.0_x64__qbz5n2kfra8p0', '', 'C:\\\\Users\\\\yanpe\\\\AppData\\\\Local\\\\Packages\\\\PythonSoftwareFoundation.Python.3.12_qbz5n2kfra8p0\\\\LocalCache\\\\local-packages\\\\Python312\\\\site-packages', 'C:\\\\Users\\\\yanpe\\\\AppData\\\\Local\\\\Packages\\\\PythonSoftwareFoundation.Python.3.12_qbz5n2kfra8p0\\\\LocalCache\\\\local-packages\\\\Python312\\\\site-packages\\\\win32', 'C:\\\\Users\\\\yanpe\\\\AppData\\\\Local\\\\Packages\\\\PythonSoftwareFoundation.Python.3.12_qbz5n2kfra8p0\\\\LocalCache\\\\local-packages\\\\Python312\\\\site-packages\\\\win32\\\\lib', 'C:\\\\Users\\\\yanpe\\\\AppData\\\\Local\\\\Packages\\\\PythonSoftwareFoundation.Python.3.12_qbz5n2kfra8p0\\\\LocalCache\\\\local-packages\\\\Python312\\\\site-packages\\\\Pythonwin', 'C:\\\\Program Files\\\\WindowsApps\\\\PythonSoftwareFoundation.Python.3.12_3.12.2800.0_x64__qbz5n2kfra8p0\\\\Lib\\\\site-packages', 'C:\\\\Users\\\\yanpe\\\\.env\\\\Lib\\\\site-packages']\n"
     ]
    }
   ],
   "source": [
    "import sys\n",
    "sys.path\n",
    "sys.path.append(r\"C:\\Users\\yanpe\\.env\\Lib\\site-packages\")\n",
    "print(sys.path)"
   ]
  },
  {
   "cell_type": "code",
   "execution_count": 1,
   "metadata": {},
   "outputs": [
    {
     "name": "stdout",
     "output_type": "stream",
     "text": [
      "Jupyter environment detected. Enabling Open3D WebVisualizer.\n",
      "[Open3D INFO] WebRTC GUI backend enabled.\n",
      "[Open3D INFO] WebRTCWindowSystem: HTTP handshake server disabled.\n"
     ]
    }
   ],
   "source": [
    "import os\n",
    "import open3d as o3d\n",
    "import numpy as np\n",
    "import torch\n",
    "from torch_geometric.data import Data\n",
    "from torch_geometric.loader import DataLoader\n",
    "import torch_geometric.transforms as T\n",
    "from torch_geometric.typing import WITH_TORCH_CLUSTER\n",
    "from pyg_pointnet2 import PyGPointNet2, PyGPointNet2NoColor\n",
    "from pc_label_map import color_map\n",
    "\n",
    "if not WITH_TORCH_CLUSTER:\n",
    "    quit(\"This example requires 'torch-cluster'\")"
   ]
  },
  {
   "cell_type": "code",
   "execution_count": 44,
   "metadata": {},
   "outputs": [],
   "source": [
    "# Empty the CUDA cache\n",
    "torch.cuda.empty_cache()"
   ]
  },
  {
   "cell_type": "code",
   "execution_count": 105,
   "metadata": {},
   "outputs": [],
   "source": [
    "device = torch.device('cuda' if torch.cuda.is_available() else 'cpu')\n",
    "model = PyGPointNet2(num_classes=13).to(device) # x6 model\n",
    "#model = PyGPointNet2NoColor(num_classes=13).to(device) # x3 model\n"
   ]
  },
  {
   "cell_type": "code",
   "execution_count": 106,
   "metadata": {},
   "outputs": [],
   "source": [
    "#model_file_path = \"checkpoints/pointnet2_s3dis_pretransform_seg_x6_45_checkpoint.pth\" # Orignial pretransformed x6 model\n",
    "model_file_path = \"checkpoints/pointnet2_s3dis_transform_seg_x6_45_checkpoint.pth\" # Orignial transformed x6 model\n",
    "#model_file_path = \"checkpoints/pointnet2_s3dis_pretransform_seg_x3_45_checkpoint.pth\" # Orignial pretransformed x3 model\n",
    "#model_file_path = \"checkpoints/pointnet2_s3dis_transform_seg_x3_45_checkpoint.pth\" # Orignial transformed x3 model\n",
    "#model_file_path = \"checkpoints/pointnet2_smartlab_sim_transform_seg_x3_100_checkpoint.pth\" # Simulated transformed x3 model\n",
    "#model_file_path = \"checkpoints/pointnet2_smartlab_sim_pretransform_seg_x3_100_checkpoint.pth\" # Simulated pretransformed x3 model\n",
    "#model_file_path = \"checkpoints/smartlab_fine_tuning_transform_x3_50_20250611.pth\" # Fine-tuned model\n"
   ]
  },
  {
   "cell_type": "code",
   "execution_count": 107,
   "metadata": {},
   "outputs": [],
   "source": [
    "# Load the checkpoint dictionary\n",
    "checkpoint = torch.load(model_file_path, map_location=device)\n",
    "# Extract the model state dictionary\n",
    "model_state_dict = checkpoint['model_state_dict']\n"
   ]
  },
  {
   "cell_type": "code",
   "execution_count": 108,
   "metadata": {},
   "outputs": [
    {
     "data": {
      "text/plain": [
       "PyGPointNet2(\n",
       "  (sa1_module): SAModule(\n",
       "    (conv): PointNetConv(local_nn=MLP(9, 64, 64, 128), global_nn=None)\n",
       "  )\n",
       "  (sa2_module): SAModule(\n",
       "    (conv): PointNetConv(local_nn=MLP(131, 128, 128, 256), global_nn=None)\n",
       "  )\n",
       "  (sa3_module): GlobalSAModule(\n",
       "    (nn): MLP(259, 256, 512, 1024)\n",
       "  )\n",
       "  (fp3_module): FPModule(\n",
       "    (nn): MLP(1280, 256, 256)\n",
       "  )\n",
       "  (fp2_module): FPModule(\n",
       "    (nn): MLP(384, 256, 128)\n",
       "  )\n",
       "  (fp1_module): FPModule(\n",
       "    (nn): MLP(134, 128, 128, 128)\n",
       "  )\n",
       "  (mlp): MLP(128, 128, 128, 13)\n",
       "  (lin1): Linear(in_features=128, out_features=128, bias=True)\n",
       "  (lin2): Linear(in_features=128, out_features=128, bias=True)\n",
       "  (lin3): Linear(in_features=128, out_features=13, bias=True)\n",
       ")"
      ]
     },
     "execution_count": 108,
     "metadata": {},
     "output_type": "execute_result"
    }
   ],
   "source": [
    "model.load_state_dict(model_state_dict)\n",
    "model.eval()"
   ]
  },
  {
   "cell_type": "code",
   "execution_count": 110,
   "metadata": {},
   "outputs": [],
   "source": [
    "# Pcd files\n",
    "#pcd_path = \"C:/Users/yanpe/OneDrive - Metropolia Ammattikorkeakoulu Oy/Research/data/smartlab/Smartlab-2024-04-05_10-58-26_colour_cleaned.pcd\"\n",
    "#pcd_path = \"C:/Users/yanpe/OneDrive - Metropolia Ammattikorkeakoulu Oy/Research/data/smartlab/SmartLab_2024_E57_Single_5mm.pcd\"\n",
    "#pcd_path = \"C:/Users/yanpe/OneDrive - Metropolia Ammattikorkeakoulu Oy/Research/data/smartlab/SmartLab_2024_E57_Single_5mm.ply\"\n",
    "pcd_path = r\"C:\\Users\\yanpe\\OneDrive - Metropolia Ammattikorkeakoulu Oy\\Research\\data\\hexagon\\Fira- 1001.ply\"\n",
    "pcd = o3d.io.read_point_cloud(pcd_path)"
   ]
  },
  {
   "cell_type": "code",
   "execution_count": 123,
   "metadata": {},
   "outputs": [
    {
     "name": "stdout",
     "output_type": "stream",
     "text": [
      "169443222\n",
      "169443222\n",
      "0\n"
     ]
    }
   ],
   "source": [
    "print(len(pcd.points))\n",
    "print(len(pcd.colors))\n",
    "print(len(pcd.normals))"
   ]
  },
  {
   "cell_type": "code",
   "execution_count": 124,
   "metadata": {},
   "outputs": [],
   "source": [
    "# Move the point cloud to its min(x,y,z) corner\n",
    " \n",
    "def move_to_corner(points):    \n",
    "    # Find the minimum x, y, z\n",
    "    min_xyz = points.min(axis=0)\n",
    "    # Translate the point cloud so that the min corner becomes the origin\n",
    "    moved_points = points - min_xyz\n",
    "    \n",
    "    return moved_points\n",
    "\n",
    "moved_points = move_to_corner(np.array(pcd.points))\n",
    "pcd.points = o3d.utility.Vector3dVector(moved_points)"
   ]
  },
  {
   "cell_type": "code",
   "execution_count": 125,
   "metadata": {},
   "outputs": [
    {
     "name": "stdout",
     "output_type": "stream",
     "text": [
      "Column 1: min = 0.0, max = 14.10556000098586\n",
      "Column 2: min = 0.0, max = 15.527526999823749\n",
      "Column 3: min = 0.0, max = 2.828240000000001\n",
      "None\n"
     ]
    }
   ],
   "source": [
    "# Check the range of points\n",
    "\n",
    "def array_range(array):\n",
    "    # Get min and max for each column\n",
    "    min_values = np.min(array, axis=0)\n",
    "    max_values = np.max(array, axis=0)\n",
    "\n",
    "    # Display ranges for each column\n",
    "    for i, (min_val, max_val) in enumerate(zip(min_values, max_values), start=1):\n",
    "        print(f\"Column {i}: min = {min_val}, max = {max_val}\")\n",
    "\n",
    "print(array_range(np.array(pcd.points)))"
   ]
  },
  {
   "cell_type": "code",
   "execution_count": 49,
   "metadata": {},
   "outputs": [],
   "source": [
    "#if not pcd.has_normals():\n",
    "#   pcd.estimate_normals()"
   ]
  },
  {
   "cell_type": "code",
   "execution_count": 126,
   "metadata": {},
   "outputs": [
    {
     "name": "stdout",
     "output_type": "stream",
     "text": [
      "280016\n"
     ]
    }
   ],
   "source": [
    "# Downsample the point cloud with a voxel of 0.03\n",
    "downpcd = pcd.voxel_down_sample(voxel_size=0.03)\n",
    "\n",
    "print(len(downpcd.points))"
   ]
  },
  {
   "cell_type": "code",
   "execution_count": 79,
   "metadata": {},
   "outputs": [],
   "source": [
    "o3d.visualization.draw_geometries([downpcd], point_show_normal=False)"
   ]
  },
  {
   "cell_type": "code",
   "execution_count": 127,
   "metadata": {},
   "outputs": [],
   "source": [
    "def normalize_points_center(points):\n",
    "    # Step 1: Center the points around the origin\n",
    "    centroid = np.mean(points, axis=0)\n",
    "    centered_points = points - centroid\n",
    "\n",
    "    # Step 2: Scale to fit within the [0, 1] interval\n",
    "    min_vals = np.min(centered_points, axis=0)\n",
    "    max_vals = np.max(centered_points, axis=0)\n",
    "    scale = max_vals - min_vals\n",
    "\n",
    "    # Avoid division by zero in case of flat dimension\n",
    "    scale[scale == 0] = 1  # Set zero scales to 1 to keep that dimension as 0.5 after normalization\n",
    "\n",
    "    normalized_points = (centered_points - min_vals) / scale\n",
    "\n",
    "    return normalized_points\n",
    "\n",
    "# normalized = normalize_points_center(np.array(downpcd.points))"
   ]
  },
  {
   "cell_type": "code",
   "execution_count": 128,
   "metadata": {},
   "outputs": [],
   "source": [
    "def normalize_points_corner(points):\n",
    "    # Step 1: Shift points so that the minimum x, y, z becomes the origin.\n",
    "    min_vals = np.min(points, axis=0)\n",
    "    shifted_points = points - min_vals  # Now the lower bound is (0,0,0)\n",
    "    \n",
    "    # Step 2: Compute the scaling factors from the shifted points.\n",
    "    # The maximum after shifting represents the range in each dimension.\n",
    "    max_vals = np.max(shifted_points, axis=0)\n",
    "    scale = max_vals.copy()\n",
    "    \n",
    "    # Avoid division by zero if any dimension is flat.\n",
    "    scale[scale == 0] = 1\n",
    "    \n",
    "    # Normalize the shifted points to the [0, 1] interval.\n",
    "    normalized_points = shifted_points / scale\n",
    "\n",
    "    return normalized_points\n",
    "\n",
    "normalized = normalize_points_corner(np.array(downpcd.points))"
   ]
  },
  {
   "cell_type": "code",
   "execution_count": 129,
   "metadata": {},
   "outputs": [],
   "source": [
    "# Extract coordinates and colors from the point cloud\n",
    "down_points = torch.tensor(np.array(downpcd.points), dtype=torch.float32)  \n",
    "down_colors = torch.tensor(np.array(downpcd.colors), dtype=torch.float32)\n",
    "down_normalized = torch.tensor(normalized, dtype=torch.float32)"
   ]
  },
  {
   "cell_type": "code",
   "execution_count": 130,
   "metadata": {},
   "outputs": [],
   "source": [
    "# 6 Features data\n",
    "\n",
    "# Concatenate coordinates and colors to form the input features\n",
    "x = torch.cat([down_colors, down_normalized], dim=1) # 6 (x)\n",
    "# Create a Data object with x (6 features) and pos (coordinates)\n",
    "data = Data(x=x, pos=down_points)\n",
    "\n",
    "#pre_transform = T.NormalizeScale()\n",
    "#data = pre_transform(data)\n"
   ]
  },
  {
   "cell_type": "code",
   "execution_count": 97,
   "metadata": {},
   "outputs": [],
   "source": [
    "# 3 Features data\n",
    "\n",
    "# Create a Data object with x (3 features) and pos (coordinates)\n",
    "data = Data(x=down_normalized, pos=down_points)\n",
    "\n",
    "#data = data.to(device)\n",
    "\n",
    "#pre_transform = T.NormalizeScale()\n",
    "#data = pre_transform(data)"
   ]
  },
  {
   "cell_type": "code",
   "execution_count": 131,
   "metadata": {},
   "outputs": [],
   "source": [
    "# If you have only one point cloud\n",
    "dataset = [data]  # List of Data objects\n",
    "\n",
    "num_workers = 20 # use os.cpu_count() to check number of cpu cores\n",
    "batch_size = 32\n",
    "\n",
    "# Create a DataLoader (batch_size can be adjusted as needed)\n",
    "custom_loader = DataLoader(dataset, batch_size=batch_size, shuffle=False,\n",
    "                         num_workers=num_workers, pin_memory=True)"
   ]
  },
  {
   "cell_type": "code",
   "execution_count": 132,
   "metadata": {},
   "outputs": [
    {
     "name": "stdout",
     "output_type": "stream",
     "text": [
      "Label counts:\n",
      "tensor([[     0,  69631],\n",
      "        [     1,  54760],\n",
      "        [     2, 122039],\n",
      "        [     3,    138],\n",
      "        [     5,    113],\n",
      "        [     6,    331],\n",
      "        [     7,   4389],\n",
      "        [     8,    577],\n",
      "        [    10,   7983],\n",
      "        [    11,      7],\n",
      "        [    12,  20048]])\n",
      "Total inference time: 38.9543 seconds\n",
      "-------------------------------------------------------  ------------  ------------  ------------  ------------  ------------  ------------  ------------  ------------  ------------  ------------  \n",
      "                                                   Name    Self CPU %      Self CPU   CPU total %     CPU total  CPU time avg     Self CUDA   Self CUDA %    CUDA total  CUDA time avg    # of Calls  \n",
      "-------------------------------------------------------  ------------  ------------  ------------  ------------  ------------  ------------  ------------  ------------  ------------  ------------  \n",
      "                                     torch_cluster::fps         0.00%       1.695ms         0.01%       4.047ms       2.024ms       25.553s        72.93%       25.555s       12.777s             2  \n",
      "enumerate(DataLoader)#_MultiProcessingDataLoaderIter...        25.70%        9.002s        25.70%        9.002s        4.501s        9.002s        25.69%        9.002s        4.501s             2  \n",
      "                                     torch_cluster::knn         0.00%     470.295us         0.56%     194.929ms      64.976ms     191.757ms         0.55%     194.733ms      64.911ms             3  \n",
      "                                  torch_cluster::radius         0.00%     244.797us         0.27%      92.972ms      46.486ms      88.535ms         0.25%      95.745ms      47.873ms             2  \n",
      "                                           aten::linear         0.00%       1.364ms         0.05%      17.794ms     468.272us       1.078ms         0.00%      81.651ms       2.149ms            38  \n",
      "                                  aten::scatter_reduce_         0.00%     200.498us         0.00%     312.098us     104.033us      58.785ms         0.17%      62.445ms      20.815ms             3  \n",
      "                                            aten::addmm         0.02%       6.025ms         0.02%       6.081ms     320.061us      36.271ms         0.10%      36.511ms       1.922ms            19  \n",
      "                                               aten::to         0.00%     884.591us         0.31%     109.991ms       1.667ms       1.005ms         0.00%      20.499ms     310.591us            66  \n",
      "                                         aten::_to_copy         0.01%       2.391ms         0.31%     109.107ms       1.849ms       1.782ms         0.01%      19.494ms     330.407us            59  \n",
      "                                            aten::copy_         0.31%     108.306ms         0.31%     108.306ms       1.525ms      19.124ms         0.05%      19.124ms     269.352us            71  \n",
      "                                       aten::batch_norm         0.00%     165.197us         0.01%       3.132ms     313.237us      82.000us         0.00%      19.020ms       1.902ms            10  \n",
      "                           aten::_batch_norm_impl_index         0.00%     487.098us         0.01%       2.967ms     296.718us     114.000us         0.00%      18.938ms       1.894ms            10  \n",
      "                                aten::native_batch_norm         0.00%     772.293us         0.01%       2.453ms     245.338us       9.093ms         0.03%      18.794ms       1.879ms            10  \n",
      "                                              aten::cat         0.00%       1.193ms         0.00%       1.461ms      91.337us      11.873ms         0.03%      12.027ms     751.688us            16  \n",
      "                                       aten::empty_like         0.00%     599.495us         0.01%       1.930ms     160.799us     876.000us         0.00%       9.810ms     817.500us            12  \n",
      "                                             aten::relu         0.00%     251.899us         0.00%     443.897us      36.991us     100.000us         0.00%       9.625ms     802.083us            12  \n",
      "                                        aten::clamp_min         0.00%     191.998us         0.00%     191.998us      16.000us       9.525ms         0.03%       9.525ms     793.750us            12  \n",
      "                                    aten::empty_strided         0.01%       1.826ms         0.01%       1.826ms      25.724us       9.505ms         0.03%       9.505ms     133.873us            71  \n",
      "                                    aten::masked_select         0.00%       1.198ms         0.82%     285.763ms      28.576ms       1.204ms         0.00%       7.108ms     710.800us            10  \n",
      "                                          aten::resize_         0.00%       1.312ms         0.00%       1.312ms      32.812us       6.659ms         0.02%       6.659ms     166.475us            40  \n",
      "                                     aten::index_select         0.00%     310.998us         0.00%       1.008ms     168.082us       3.037ms         0.01%       6.415ms       1.069ms             6  \n",
      "                                     aten::scatter_add_         0.00%     341.596us         0.00%     355.096us      44.387us       4.144ms         0.01%       4.280ms     535.000us             8  \n",
      "                                         aten::scatter_         0.00%     103.800us         0.00%     107.200us      35.733us       3.614ms         0.01%       3.643ms       1.214ms             3  \n",
      "                                          aten::nonzero         0.81%     283.108ms         0.81%     283.905ms      28.390ms       1.811ms         0.01%       3.509ms     350.900us            10  \n",
      "                                            aten::index         0.00%       1.021ms         0.00%       1.366ms      65.038us       2.874ms         0.01%       3.264ms     155.429us            21  \n",
      "                                              aten::mul         0.00%     284.400us         0.00%     284.400us      21.877us       2.945ms         0.01%       2.945ms     226.538us            13  \n",
      "                                             aten::item         0.00%     968.393us        73.09%       25.606s     692.061ms     566.000us         0.00%       2.726ms      73.676us            37  \n",
      "                                            aten::stack         0.00%     237.199us         0.00%     680.495us      85.062us     132.000us         0.00%       2.463ms     307.875us             8  \n",
      "                              aten::_local_scalar_dense        73.09%       25.605s        73.09%       25.605s     692.035ms       2.160ms         0.01%       2.160ms      58.378us            37  \n",
      "                                        aten::new_zeros         0.00%     372.295us         0.00%       1.022ms      72.985us     371.000us         0.00%       2.126ms     151.857us            14  \n",
      "                                            aten::fill_         0.00%     407.197us         0.00%     407.197us      15.081us       1.569ms         0.00%       1.569ms      58.111us            27  \n",
      "                                            aten::zero_         0.00%     448.396us         0.00%     710.395us      44.400us     223.000us         0.00%       1.482ms      92.625us            16  \n",
      "                                              aten::sub         0.00%     436.898us         0.00%     436.898us      62.414us       1.399ms         0.00%       1.399ms     199.857us             7  \n",
      "                                              aten::max         0.00%     909.890us         0.00%       1.055ms      81.122us       1.057ms         0.00%       1.319ms     101.462us            13  \n",
      "                                           aten::select         0.00%       1.051ms         0.00%       1.092ms      18.510us       1.012ms         0.00%       1.302ms      22.068us            59  \n",
      "                                              aten::div         0.00%      53.600us         0.00%      53.600us      17.867us       1.243ms         0.00%       1.243ms     414.333us             3  \n",
      "                                        aten::ones_like         0.00%      63.799us         0.00%     582.395us     291.197us     660.000us         0.00%       1.099ms     549.500us             2  \n",
      "                                            aten::empty         0.00%     503.398us         0.00%     503.398us       3.785us       1.055ms         0.00%       1.055ms       7.932us           133  \n",
      "                                       aten::as_strided         0.00%     191.099us         0.00%     191.099us       1.044us       1.041ms         0.00%       1.041ms       5.689us           183  \n",
      "                                           aten::arange         0.00%     541.095us         0.00%     877.791us      39.900us     545.000us         0.00%       1.029ms      46.773us            22  \n",
      "                                                aten::t         0.00%     441.896us         0.00%     886.692us      30.576us     300.000us         0.00%     865.000us      29.828us            29  \n",
      "                                           aten::unbind         0.00%     304.996us         0.00%     789.892us     263.297us     247.000us         0.00%     779.000us     259.667us             3  \n",
      "                                        aten::transpose         0.00%     400.096us         0.00%     444.796us      15.338us     396.000us         0.00%     565.000us      19.483us            29  \n",
      "                                          aten::reshape         0.00%     488.898us         0.00%     544.495us      17.015us     393.000us         0.00%     535.000us      16.719us            32  \n",
      "                                         aten::_unique2         0.00%     245.798us         0.03%      11.631ms      11.631ms     251.000us         0.00%     472.000us     472.000us             1  \n",
      "                                        aten::new_empty         0.00%     169.497us         0.00%     238.697us      17.050us     377.000us         0.00%     451.000us      32.214us            14  \n",
      "                                             aten::full         0.00%     222.699us         0.00%     367.996us      40.888us     144.000us         0.00%     443.000us      49.222us             9  \n",
      "                                           aten::narrow         0.00%     218.998us         0.00%     400.297us      33.358us     111.000us         0.00%     416.000us      34.667us            12  \n",
      "                                            aten::slice         0.00%     249.399us         0.00%     262.998us      18.786us     215.000us         0.00%     329.000us      23.500us            14  \n",
      "                                        aten::expand_as         0.00%      97.199us         0.00%     237.398us      26.378us      65.000us         0.00%     286.000us      31.778us             9  \n",
      "                                           aten::cumsum         0.00%     327.996us         0.00%     331.296us      82.824us     135.000us         0.00%     278.000us      69.500us             4  \n",
      "                                            aten::zeros         0.00%     217.098us         0.00%     523.996us     261.998us      82.000us         0.00%     269.000us     134.500us             2  \n",
      "                                             aten::view         0.00%     131.895us         0.00%     131.895us       2.638us     224.000us         0.00%     224.000us       4.480us            50  \n",
      "                                           aten::expand         0.00%     130.299us         0.00%     140.199us      15.578us     189.000us         0.00%     221.000us      24.556us             9  \n",
      "                                             aten::rand         0.00%     105.598us         0.00%     178.498us      89.249us      98.000us         0.00%     185.000us      92.500us             2  \n",
      "                                               aten::ne         0.00%     137.900us         0.00%     137.900us      27.580us     148.000us         0.00%     148.000us      29.600us             5  \n",
      "                                            aten::clamp         0.00%     104.399us         0.00%     107.399us      35.800us      97.000us         0.00%     111.000us      37.000us             3  \n",
      "                                              aten::sum         0.00%     112.299us         0.00%     112.299us      37.433us     106.000us         0.00%     106.000us      35.333us             3  \n",
      "                                          aten::dropout         0.00%      17.100us         0.00%      17.100us       0.900us      94.000us         0.00%      94.000us       4.947us            19  \n",
      "                                      aten::resolve_neg         0.00%       1.800us         0.00%       1.800us       0.164us      94.000us         0.00%      94.000us       8.545us            11  \n",
      "                                           aten::argmax         0.00%      40.600us         0.00%      41.600us      41.600us      76.000us         0.00%      79.000us      79.000us             1  \n",
      "                                       aten::reciprocal         0.00%     100.799us         0.00%     100.799us      33.600us      73.000us         0.00%      73.000us      24.333us             3  \n",
      "                                             aten::set_         0.00%     245.699us         0.00%     245.699us      17.550us      69.000us         0.00%      69.000us       4.929us            14  \n",
      "                                         aten::uniform_         0.00%      62.500us         0.00%      62.500us      31.250us      68.000us         0.00%      68.000us      34.000us             2  \n",
      "                                        aten::unsqueeze         0.00%      40.699us         0.00%      42.399us      21.199us      56.000us         0.00%      68.000us      34.000us             2  \n",
      "                                          aten::detach_         0.00%      35.000us         0.00%      44.200us      22.100us      42.000us         0.00%      64.000us      32.000us             2  \n",
      "                                      aten::log_softmax         0.00%      30.299us         0.00%      54.199us      54.199us       7.000us         0.00%      48.000us      48.000us             1  \n",
      "                                          aten::random_         0.00%      24.600us         0.00%      24.600us      24.600us      46.000us         0.00%      46.000us      46.000us             1  \n",
      "                                     aten::_log_softmax         0.00%      23.900us         0.00%      23.900us      23.900us      41.000us         0.00%      41.000us      41.000us             1  \n",
      "                                             aten::ceil         0.00%      51.599us         0.00%      51.599us      25.799us      35.000us         0.00%      35.000us      17.500us             2  \n",
      "                                     aten::resolve_conj         0.00%       2.600us         0.00%       2.600us       0.236us      35.000us         0.00%      35.000us       3.182us            11  \n",
      "                                                detach_         0.00%       9.200us         0.00%       9.200us       4.600us      22.000us         0.00%      22.000us      11.000us             2  \n",
      "                                       aten::lift_fresh         0.00%       1.900us         0.00%       1.900us       0.950us      21.000us         0.00%      21.000us      10.500us             2  \n",
      "-------------------------------------------------------  ------------  ------------  ------------  ------------  ------------  ------------  ------------  ------------  ------------  ------------  \n",
      "Self CPU time total: 35.033s\n",
      "Self CUDA time total: 35.038s\n",
      "\n"
     ]
    }
   ],
   "source": [
    "import time\n",
    "\n",
    "model.eval()\n",
    "\n",
    "import torch.profiler\n",
    "\n",
    "with torch.profiler.profile(\n",
    "    activities=[torch.profiler.ProfilerActivity.CPU, torch.profiler.ProfilerActivity.CUDA],\n",
    "    record_shapes=True,\n",
    ") as prof:\n",
    "\n",
    "    with torch.no_grad():\n",
    "        start_time = time.time()\n",
    "        for data in custom_loader:\n",
    "            data = data.to(device)\n",
    "            with torch.amp.autocast(\"cuda\"):\n",
    "                predictions = model(data)\n",
    "            labels = predictions.argmax(dim=-1)\n",
    "            # Process the labels as needed\n",
    "            #labels_arr = labels.cpu().numpy()\n",
    "            # Count occurrences of labels\n",
    "            unique_labels, label_counts = torch.unique(labels, return_counts=True)\n",
    "            # Combine and print\n",
    "            #result_labels = np.array(list(zip(unique_labels, label_counts)))\n",
    "            #print(\"Label counts:\")\n",
    "            #for label, count in zip(unique_labels, label_counts):\n",
    "            #    print(f\"Label {label.item()}: {count.item()}\")\n",
    "            result_labels = torch.stack((unique_labels, label_counts), dim=1).cpu()\n",
    "            print(\"Label counts:\")\n",
    "            print(result_labels)\n",
    "        end_time = time.time()\n",
    "        print(f\"Total inference time: {end_time - start_time:.4f} seconds\")  \n",
    "    \n",
    "print(prof.key_averages().table(sort_by=\"cuda_time_total\"))\n",
    "\n"
   ]
  },
  {
   "cell_type": "code",
   "execution_count": 21,
   "metadata": {},
   "outputs": [],
   "source": [
    "'''# Save profiler output to csv\n",
    "import csv\n",
    "\n",
    "# Generate the profiling table\n",
    "table_str = prof.key_averages().table(sort_by=\"cuda_time_total\")\n",
    "\n",
    "# Split into lines and clean\n",
    "lines = table_str.split('\\n')\n",
    "header = lines[6].strip().split()\n",
    "rows = [line.strip().split(None, len(header)-1) for line in lines[7:] if line.strip()]\n",
    "\n",
    "# Save as CSV\n",
    "profiler_record = \"../docs/original_x6_prediction_profiler_output.csv\"\n",
    "with open(profiler_record, \"w\", newline='') as f:\n",
    "    writer = csv.writer(f)\n",
    "    writer.writerow(header)\n",
    "    writer.writerows(rows)'''"
   ]
  },
  {
   "cell_type": "markdown",
   "metadata": {},
   "source": [
    "batch_size 32, num_workers 16: prediction 7min\n",
    "\n",
    "batch_size = 32, num_workers 20: prediction 5min\n",
    "\n",
    "batch_size = 32, num_workers 20, pin_memory=True: prediction 4.5min\n",
    "\n"
   ]
  },
  {
   "cell_type": "code",
   "execution_count": 133,
   "metadata": {},
   "outputs": [],
   "source": [
    "# Assuming `labels` is the tensor containing predicted labels for each point\n",
    "predicted_colors = color_map[labels.cpu().numpy()]  # Shape: [num_points, 3]\n"
   ]
  },
  {
   "cell_type": "code",
   "execution_count": 19,
   "metadata": {},
   "outputs": [
    {
     "name": "stdout",
     "output_type": "stream",
     "text": [
      "866900\n"
     ]
    }
   ],
   "source": [
    "print(len(predicted_colors))"
   ]
  },
  {
   "cell_type": "code",
   "execution_count": 134,
   "metadata": {},
   "outputs": [],
   "source": [
    "# Assuming `pcd` is your Open3D point cloud object\n",
    "downpcd.colors = o3d.utility.Vector3dVector(predicted_colors)"
   ]
  },
  {
   "cell_type": "code",
   "execution_count": 102,
   "metadata": {},
   "outputs": [],
   "source": [
    "# Visualize the point cloud with colored labels\n",
    "o3d.visualization.draw_geometries([downpcd])"
   ]
  },
  {
   "cell_type": "code",
   "execution_count": 135,
   "metadata": {},
   "outputs": [
    {
     "data": {
      "text/plain": [
       "True"
      ]
     },
     "execution_count": 135,
     "metadata": {},
     "output_type": "execute_result"
    }
   ],
   "source": [
    "# Save the point cloud to a file\n",
    "save_path = \"C:/Users/yanpe/OneDrive - Metropolia Ammattikorkeakoulu Oy/Research/data/smartlab/labelled/Hexagon_move2corner_label_pointnet2_x6_0.03_20250704.ply\"\n",
    "o3d.io.write_point_cloud(save_path, downpcd)\n"
   ]
  },
  {
   "cell_type": "code",
   "execution_count": 136,
   "metadata": {},
   "outputs": [],
   "source": [
    "del down_points\n",
    "del down_colors\n",
    "torch.cuda.empty_cache()"
   ]
  }
 ],
 "metadata": {
  "kernelspec": {
   "display_name": "Python 3",
   "language": "python",
   "name": "python3"
  },
  "language_info": {
   "codemirror_mode": {
    "name": "ipython",
    "version": 3
   },
   "file_extension": ".py",
   "mimetype": "text/x-python",
   "name": "python",
   "nbconvert_exporter": "python",
   "pygments_lexer": "ipython3",
   "version": "3.12.10"
  }
 },
 "nbformat": 4,
 "nbformat_minor": 2
}
