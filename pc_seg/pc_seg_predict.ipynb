{
 "cells": [
  {
   "cell_type": "code",
   "execution_count": 1,
   "metadata": {},
   "outputs": [
    {
     "name": "stdout",
     "output_type": "stream",
     "text": [
      "['C:\\\\Program Files\\\\WindowsApps\\\\PythonSoftwareFoundation.Python.3.12_3.12.2800.0_x64__qbz5n2kfra8p0\\\\python312.zip', 'C:\\\\Program Files\\\\WindowsApps\\\\PythonSoftwareFoundation.Python.3.12_3.12.2800.0_x64__qbz5n2kfra8p0\\\\DLLs', 'C:\\\\Program Files\\\\WindowsApps\\\\PythonSoftwareFoundation.Python.3.12_3.12.2800.0_x64__qbz5n2kfra8p0\\\\Lib', 'C:\\\\Program Files\\\\WindowsApps\\\\PythonSoftwareFoundation.Python.3.12_3.12.2800.0_x64__qbz5n2kfra8p0', '', 'C:\\\\Users\\\\yanpe\\\\AppData\\\\Local\\\\Packages\\\\PythonSoftwareFoundation.Python.3.12_qbz5n2kfra8p0\\\\LocalCache\\\\local-packages\\\\Python312\\\\site-packages', 'C:\\\\Users\\\\yanpe\\\\AppData\\\\Local\\\\Packages\\\\PythonSoftwareFoundation.Python.3.12_qbz5n2kfra8p0\\\\LocalCache\\\\local-packages\\\\Python312\\\\site-packages\\\\win32', 'C:\\\\Users\\\\yanpe\\\\AppData\\\\Local\\\\Packages\\\\PythonSoftwareFoundation.Python.3.12_qbz5n2kfra8p0\\\\LocalCache\\\\local-packages\\\\Python312\\\\site-packages\\\\win32\\\\lib', 'C:\\\\Users\\\\yanpe\\\\AppData\\\\Local\\\\Packages\\\\PythonSoftwareFoundation.Python.3.12_qbz5n2kfra8p0\\\\LocalCache\\\\local-packages\\\\Python312\\\\site-packages\\\\Pythonwin', 'C:\\\\Program Files\\\\WindowsApps\\\\PythonSoftwareFoundation.Python.3.12_3.12.2800.0_x64__qbz5n2kfra8p0\\\\Lib\\\\site-packages', 'C:\\\\Users\\\\yanpe\\\\.env\\\\Lib\\\\site-packages']\n"
     ]
    }
   ],
   "source": [
    "import sys\n",
    "sys.path\n",
    "sys.path.append(r\"C:\\Users\\yanpe\\.env\\Lib\\site-packages\")\n",
    "print(sys.path)"
   ]
  },
  {
   "cell_type": "code",
   "execution_count": 2,
   "metadata": {},
   "outputs": [
    {
     "name": "stdout",
     "output_type": "stream",
     "text": [
      "Jupyter environment detected. Enabling Open3D WebVisualizer.\n",
      "[Open3D INFO] WebRTC GUI backend enabled.\n",
      "[Open3D INFO] WebRTCWindowSystem: HTTP handshake server disabled.\n"
     ]
    },
    {
     "name": "stderr",
     "output_type": "stream",
     "text": [
      "C:\\Users\\yanpe\\AppData\\Local\\Packages\\PythonSoftwareFoundation.Python.3.12_qbz5n2kfra8p0\\LocalCache\\local-packages\\Python312\\site-packages\\torch_geometric\\typing.py:68: UserWarning: An issue occurred while importing 'pyg-lib'. Disabling its usage. Stacktrace: [WinError 127] The specified procedure could not be found\n",
      "  warnings.warn(f\"An issue occurred while importing 'pyg-lib'. \"\n",
      "C:\\Users\\yanpe\\AppData\\Local\\Packages\\PythonSoftwareFoundation.Python.3.12_qbz5n2kfra8p0\\LocalCache\\local-packages\\Python312\\site-packages\\torch_geometric\\typing.py:124: UserWarning: An issue occurred while importing 'torch-sparse'. Disabling its usage. Stacktrace: [WinError 127] The specified procedure could not be found\n",
      "  warnings.warn(f\"An issue occurred while importing 'torch-sparse'. \"\n"
     ]
    }
   ],
   "source": [
    "import os\n",
    "import open3d as o3d\n",
    "import numpy as np\n",
    "import torch\n",
    "from torch_geometric.data import Data\n",
    "from torch_geometric.loader import DataLoader\n",
    "from torch_geometric.typing import WITH_TORCH_CLUSTER\n",
    "from pyg_pointnet2 import PyGPointNet2, PyGPointNet2NoColor\n",
    "\n",
    "if not WITH_TORCH_CLUSTER:\n",
    "    quit(\"This example requires 'torch-cluster'\")"
   ]
  },
  {
   "cell_type": "code",
   "execution_count": 3,
   "metadata": {},
   "outputs": [],
   "source": [
    "# Empty the CUDA cache\n",
    "torch.cuda.empty_cache()"
   ]
  },
  {
   "cell_type": "code",
   "execution_count": 6,
   "metadata": {},
   "outputs": [],
   "source": [
    "device = torch.device('cuda' if torch.cuda.is_available() else 'cpu')\n",
    "#model = PyGPointNet2(num_classes=13).to(device)\n",
    "model = PyGPointNet2NoColor(num_classes=13).to(device) # colorless model\n"
   ]
  },
  {
   "cell_type": "code",
   "execution_count": 7,
   "metadata": {},
   "outputs": [],
   "source": [
    "# File path to the pre-trained model\n",
    "script_dir = os.path.dirname(os.getcwd())\n",
    "#model_file_path= os.path.join(script_dir, '.', 'docs', 'pointnet2_s3dis_transform_seg_x6_45_checkpoint.pth')\n",
    "model_file_path= os.path.join(script_dir, '.', 'docs', 'pointnet2_s3dis_colorless_seg_x3_45_checkpoint.pth') # colorless model\n",
    "# pointnet2_s3dis_transform_seg_x6_27_checkpoint\n",
    "# pointnet2_smartlab_sim_bw_seg_x6_0413_checkpoint\n",
    "# pointnet2_s3dis_colorless_seg_x3_45_checkpoint.pth\n"
   ]
  },
  {
   "cell_type": "code",
   "execution_count": 4,
   "metadata": {},
   "outputs": [],
   "source": [
    "model_file_path = \"checkpoints/pointnet2_s3dis_colorless_seg_x3_45_checkpoint.pth\""
   ]
  },
  {
   "cell_type": "code",
   "execution_count": 7,
   "metadata": {},
   "outputs": [],
   "source": [
    "# Load the checkpoint dictionary\n",
    "checkpoint = torch.load(model_file_path, map_location=device)\n",
    "# Extract the model state dictionary\n",
    "model_state_dict = checkpoint['model_state_dict']\n",
    "\n",
    "# print(model_state_dict)"
   ]
  },
  {
   "cell_type": "code",
   "execution_count": 8,
   "metadata": {},
   "outputs": [
    {
     "data": {
      "text/plain": [
       "PyGPointNet2NoColor(\n",
       "  (sa1_module): SAModule(\n",
       "    (conv): PointNetConv(local_nn=MLP(6, 64, 64, 128), global_nn=None)\n",
       "  )\n",
       "  (sa2_module): SAModule(\n",
       "    (conv): PointNetConv(local_nn=MLP(131, 128, 128, 256), global_nn=None)\n",
       "  )\n",
       "  (sa3_module): GlobalSAModule(\n",
       "    (nn): MLP(259, 256, 512, 1024)\n",
       "  )\n",
       "  (fp3_module): FPModule(\n",
       "    (nn): MLP(1280, 256, 256)\n",
       "  )\n",
       "  (fp2_module): FPModule(\n",
       "    (nn): MLP(384, 256, 128)\n",
       "  )\n",
       "  (fp1_module): FPModule(\n",
       "    (nn): MLP(131, 128, 128, 128)\n",
       "  )\n",
       "  (mlp): MLP(128, 128, 128, 13)\n",
       "  (lin1): Linear(in_features=128, out_features=128, bias=True)\n",
       "  (lin2): Linear(in_features=128, out_features=128, bias=True)\n",
       "  (lin3): Linear(in_features=128, out_features=13, bias=True)\n",
       ")"
      ]
     },
     "execution_count": 8,
     "metadata": {},
     "output_type": "execute_result"
    }
   ],
   "source": [
    "model.load_state_dict(model_state_dict)\n",
    "model.eval()"
   ]
  },
  {
   "cell_type": "code",
   "execution_count": 9,
   "metadata": {},
   "outputs": [],
   "source": [
    "# Pcd files\n",
    "#pcd_path = \"C:/Users/yanpe/OneDrive - Metropolia Ammattikorkeakoulu Oy/Research/data/smartlab/Smartlab-2024-04-05_10-58-26_colour_cleaned.pcd\"\n",
    "pcd_path = \"C:/Users/yanpe/OneDrive - Metropolia Ammattikorkeakoulu Oy/Research/data/smartlab/SmartLab_2024_E57_Single_5mm.pcd\"\n",
    "#pcd_path = \"C:/Users/yanpe/OneDrive - Metropolia Ammattikorkeakoulu Oy/Research/data/smartlab/SmartLab_2024_E57_Single_5mm.ply\"\n",
    "pcd = o3d.io.read_point_cloud(pcd_path)"
   ]
  },
  {
   "cell_type": "code",
   "execution_count": 8,
   "metadata": {},
   "outputs": [
    {
     "name": "stdout",
     "output_type": "stream",
     "text": [
      "35966772\n",
      "35966772\n",
      "0\n"
     ]
    }
   ],
   "source": [
    "print(len(pcd.points))\n",
    "print(len(pcd.colors))\n",
    "print(len(pcd.normals))"
   ]
  },
  {
   "cell_type": "code",
   "execution_count": 9,
   "metadata": {},
   "outputs": [],
   "source": [
    "def array_range(array):\n",
    "    # Get min and max for each column\n",
    "    min_values = np.min(array, axis=0)\n",
    "    max_values = np.max(array, axis=0)\n",
    "\n",
    "    # Display ranges for each column\n",
    "    for i, (min_val, max_val) in enumerate(zip(min_values, max_values), start=1):\n",
    "        print(f\"Column {i}: min = {min_val}, max = {max_val}\")"
   ]
  },
  {
   "cell_type": "code",
   "execution_count": 54,
   "metadata": {},
   "outputs": [
    {
     "name": "stdout",
     "output_type": "stream",
     "text": [
      "Column 1: min = -1.037500023841858, max = 9.753499984741211\n",
      "Column 2: min = -4.067580223083496, max = 7.109419822692871\n",
      "Column 3: min = -1.562000036239624, max = 1.8949999809265137\n",
      "None\n"
     ]
    }
   ],
   "source": [
    "print(array_range(np.array(pcd.points)))"
   ]
  },
  {
   "cell_type": "code",
   "execution_count": 49,
   "metadata": {},
   "outputs": [],
   "source": [
    "#if not pcd.has_normals():\n",
    "#   pcd.estimate_normals()"
   ]
  },
  {
   "cell_type": "code",
   "execution_count": 10,
   "metadata": {},
   "outputs": [
    {
     "name": "stdout",
     "output_type": "stream",
     "text": [
      "866885\n"
     ]
    }
   ],
   "source": [
    "# Downsample the point cloud with a voxel of 0.02\n",
    "downpcd = pcd.voxel_down_sample(voxel_size=0.03)\n",
    "\n",
    "print(len(downpcd.points))"
   ]
  },
  {
   "cell_type": "code",
   "execution_count": 26,
   "metadata": {},
   "outputs": [],
   "source": [
    "o3d.visualization.draw_geometries([downpcd], point_show_normal=False)"
   ]
  },
  {
   "cell_type": "code",
   "execution_count": 11,
   "metadata": {},
   "outputs": [],
   "source": [
    "def normalize_points(points):\n",
    "    # Step 1: Center the points around the origin\n",
    "    centroid = np.mean(points, axis=0)\n",
    "    centered_points = points - centroid\n",
    "\n",
    "    # Step 2: Scale to fit within the [0, 1] interval\n",
    "    min_vals = np.min(centered_points, axis=0)\n",
    "    max_vals = np.max(centered_points, axis=0)\n",
    "    scale = max_vals - min_vals\n",
    "\n",
    "    # Avoid division by zero in case of flat dimension\n",
    "    scale[scale == 0] = 1  # Set zero scales to 1 to keep that dimension as 0.5 after normalization\n",
    "\n",
    "    normalized_points = (centered_points - min_vals) / scale\n",
    "\n",
    "    return normalized_points\n",
    "\n",
    "normalized = normalize_points(np.array(downpcd.points))"
   ]
  },
  {
   "cell_type": "code",
   "execution_count": 11,
   "metadata": {},
   "outputs": [],
   "source": [
    "def normalize_points_corner(points):\n",
    "    # Step 1: Shift points so that the minimum x, y, z becomes the origin.\n",
    "    min_vals = np.min(points, axis=0)\n",
    "    shifted_points = points - min_vals  # Now the lower bound is (0,0,0)\n",
    "    \n",
    "    # Step 2: Compute the scaling factors from the shifted points.\n",
    "    # The maximum after shifting represents the range in each dimension.\n",
    "    max_vals = np.max(shifted_points, axis=0)\n",
    "    scale = max_vals.copy()\n",
    "    \n",
    "    # Avoid division by zero if any dimension is flat.\n",
    "    scale[scale == 0] = 1\n",
    "    \n",
    "    # Normalize the shifted points to the [0, 1] interval.\n",
    "    normalized_points = shifted_points / scale\n",
    "\n",
    "    return normalized_points\n",
    "\n",
    "normalized = normalize_points_corner(np.array(downpcd.points))"
   ]
  },
  {
   "cell_type": "code",
   "execution_count": 12,
   "metadata": {},
   "outputs": [],
   "source": [
    "# Extract coordinates and colors from the point cloud\n",
    "down_points = torch.tensor(np.array(downpcd.points), dtype=torch.float32)  \n",
    "down_colors = torch.tensor(np.array(downpcd.colors), dtype=torch.float32)\n",
    "down_normalized = torch.tensor(normalized, dtype=torch.float32)"
   ]
  },
  {
   "cell_type": "code",
   "execution_count": 13,
   "metadata": {},
   "outputs": [],
   "source": [
    "# Concatenate coordinates and colors to form the input features\n",
    "x = torch.cat([down_colors, down_normalized], dim=1) # 6 (x)\n"
   ]
  },
  {
   "cell_type": "code",
   "execution_count": 17,
   "metadata": {},
   "outputs": [],
   "source": [
    "# Create a Data object with x (6 features) and pos (coordinates)\n",
    "#data = Data(x=x, pos=down_points)\n",
    "\n",
    "# Create a Data object with x (3 features) and pos (coordinates)\n",
    "data = Data(x=down_normalized, pos=down_points)\n",
    "\n",
    "#data = data.to(device)\n",
    "\n",
    "#pre_transform = T.NormalizeScale()\n",
    "#data = pre_transform(data)"
   ]
  },
  {
   "cell_type": "code",
   "execution_count": 88,
   "metadata": {},
   "outputs": [
    {
     "data": {
      "text/plain": [
       "22"
      ]
     },
     "execution_count": 88,
     "metadata": {},
     "output_type": "execute_result"
    }
   ],
   "source": [
    "import os\n",
    "os.cpu_count()"
   ]
  },
  {
   "cell_type": "code",
   "execution_count": 18,
   "metadata": {},
   "outputs": [],
   "source": [
    "# If you have only one point cloud\n",
    "dataset = [data]  # List of Data objects\n",
    "\n",
    "num_workers = 20\n",
    "batch_size = 32\n",
    "\n",
    "# Create a DataLoader (batch_size can be adjusted as needed)\n",
    "custom_loader = DataLoader(dataset, batch_size=batch_size, shuffle=False,\n",
    "                         num_workers=num_workers, pin_memory=True)"
   ]
  },
  {
   "cell_type": "code",
   "execution_count": null,
   "metadata": {},
   "outputs": [],
   "source": [
    "import time\n",
    "\n",
    "model.eval()\n",
    "\n",
    "all_labels = []\n",
    "start_time = time.time()\n",
    "\n",
    "# Profiler removed from this block\n",
    "with torch.no_grad(), torch.amp.autocast(\"cuda\"):\n",
    "    for data in custom_loader:\n",
    "        data = data.to(device, non_blocking=True)\n",
    "        predictions = model(data)\n",
    "        labels = predictions.argmax(dim=-1)\n",
    "        #all_labels.append(labels)\n",
    "    end_time = time.time()\n",
    "    print(f\"Total inference time: {end_time - start_time:.4f} seconds\")\n",
    "        \n",
    "# Concatenate all labels into one tensor\n",
    "#combined_labels = torch.cat(all_labels, dim=0)\n",
    "\n",
    "# Compute unique labels and their counts once over the whole tensor\n",
    "#unique_labels, label_counts = torch.unique(combined_labels, return_counts=True)\n",
    "#result_labels = torch.stack((unique_labels, label_counts), dim=1).cpu()\n",
    "\n",
    "#print(\"Label counts:\")\n",
    "#print(result_labels)"
   ]
  },
  {
   "cell_type": "code",
   "execution_count": 19,
   "metadata": {},
   "outputs": [
    {
     "name": "stdout",
     "output_type": "stream",
     "text": [
      "Label counts:\n",
      "tensor([[     0,  94891],\n",
      "        [     1, 127005],\n",
      "        [     2, 159255],\n",
      "        [     3, 114407],\n",
      "        [     4,  25909],\n",
      "        [     6, 117425],\n",
      "        [     7,   3835],\n",
      "        [     8,   7415],\n",
      "        [    10,     34],\n",
      "        [    12, 216709]])\n",
      "Total inference time: 257.6336 seconds\n",
      "-------------------------------------------------------  ------------  ------------  ------------  ------------  ------------  ------------  ------------  ------------  ------------  ------------  \n",
      "                                                   Name    Self CPU %      Self CPU   CPU total %     CPU total  CPU time avg     Self CUDA   Self CUDA %    CUDA total  CUDA time avg    # of Calls  \n",
      "-------------------------------------------------------  ------------  ------------  ------------  ------------  ------------  ------------  ------------  ------------  ------------  ------------  \n",
      "                                     torch_cluster::fps         0.00%       2.464ms         0.00%       4.671ms       2.335ms      240.733s        95.00%      240.736s      120.368s             2  \n",
      "enumerate(DataLoader)#_MultiProcessingDataLoaderIter...         3.73%        9.464s         3.73%        9.464s        4.732s        9.464s         3.73%        9.464s        4.732s             2  \n",
      "                                     torch_cluster::knn         0.00%       8.188ms         0.65%        1.636s     545.345ms        1.632s         0.64%        1.636s     545.484ms             3  \n",
      "                                  torch_cluster::radius         0.00%     702.000us         0.30%     752.084ms     376.042ms     745.628ms         0.29%     754.848ms     377.424ms             2  \n",
      "                                           aten::linear         0.00%       1.719ms         0.15%     367.722ms       9.677ms       1.450ms         0.00%     541.530ms      14.251ms            38  \n",
      "                                            aten::addmm         0.07%     180.384ms         0.07%     180.645ms       9.508ms     261.084ms         0.10%     261.279ms      13.752ms            19  \n",
      "                                  aten::scatter_reduce_         0.00%       1.995ms         0.00%       2.562ms     853.900us     232.364ms         0.09%     252.328ms      84.109ms             3  \n",
      "                                       aten::batch_norm         0.00%     674.500us         0.02%      38.776ms       3.878ms     101.000us         0.00%      62.805ms       6.280ms            10  \n",
      "                           aten::_batch_norm_impl_index         0.00%     989.600us         0.02%      38.102ms       3.810ms     100.000us         0.00%      62.704ms       6.270ms            10  \n",
      "                                aten::native_batch_norm         0.01%      34.244ms         0.01%      37.072ms       3.707ms      38.106ms         0.02%      62.573ms       6.257ms            10  \n",
      "                                               aten::to         0.00%       1.589ms         0.10%     252.661ms       3.828ms       1.947ms         0.00%      44.277ms     670.864us            66  \n",
      "                                            aten::copy_         0.10%     249.807ms         0.10%     249.807ms       3.569ms      42.527ms         0.02%      42.527ms     607.529us            70  \n",
      "                                         aten::_to_copy         0.00%       2.835ms         0.10%     251.072ms       4.255ms       1.467ms         0.00%      42.330ms     717.458us            59  \n",
      "                                             aten::relu         0.00%       1.007ms         0.01%      13.994ms       1.166ms      81.000us         0.00%      41.253ms       3.438ms            12  \n",
      "                                        aten::clamp_min         0.01%      12.988ms         0.01%      12.988ms       1.082ms      41.172ms         0.02%      41.172ms       3.431ms            12  \n",
      "                                              aten::cat         0.00%       2.612ms         0.00%       2.828ms     176.744us      34.259ms         0.01%      34.493ms       2.156ms            16  \n",
      "                                         aten::_unique2         0.01%      24.134ms         0.01%      24.255ms      24.255ms      24.120ms         0.01%      24.280ms      24.280ms             1  \n",
      "                                    aten::empty_strided         0.00%       2.744ms         0.00%       2.744ms      38.651us      24.232ms         0.01%      24.232ms     341.296us            71  \n",
      "                                       aten::empty_like         0.00%     257.900us         0.00%       2.560ms     213.300us     760.000us         0.00%      24.173ms       2.014ms            12  \n",
      "                                         aten::scatter_         0.00%     555.900us         0.00%     561.100us     187.033us      19.932ms         0.01%      19.945ms       6.648ms             3  \n",
      "                                              aten::sum         0.01%      15.724ms         0.01%      15.724ms       5.241ms      15.666ms         0.01%      15.666ms       5.222ms             3  \n",
      "                                     aten::scatter_add_         0.00%     624.500us         0.00%     641.000us      80.125us      14.081ms         0.01%      14.172ms       1.772ms             8  \n",
      "                                     aten::index_select         0.00%     937.300us         0.00%       1.640ms     273.367us      10.347ms         0.00%      13.034ms       2.172ms             6  \n",
      "                                              aten::mul         0.00%       1.264ms         0.00%       1.264ms      97.238us      11.889ms         0.00%      11.889ms     914.538us            13  \n",
      "                                              aten::div         0.00%       8.124ms         0.00%       8.124ms       2.708ms      11.211ms         0.00%      11.211ms       3.737ms             3  \n",
      "                                            aten::index         0.00%       2.061ms         0.00%       2.408ms     114.648us       7.780ms         0.00%       8.416ms     400.762us            21  \n",
      "                                    aten::masked_select         0.00%       1.523ms         0.94%        2.376s     237.630ms       3.449ms         0.00%       7.681ms     768.100us            10  \n",
      "                                            aten::stack         0.00%     568.800us         0.00%       1.425ms     178.100us     406.000us         0.00%       7.676ms     959.500us             8  \n",
      "                                           aten::argmax         0.00%       7.146ms         0.00%       7.149ms       7.149ms       7.387ms         0.00%       7.397ms       7.397ms             1  \n",
      "                                              aten::sub         0.00%     777.300us         0.00%     777.300us     111.043us       5.096ms         0.00%       5.096ms     728.000us             7  \n",
      "                                        aten::new_zeros         0.00%     603.100us         0.00%       1.809ms     129.179us     538.000us         0.00%       4.898ms     349.857us            14  \n",
      "                                            aten::fill_         0.00%     715.900us         0.00%     715.900us      26.515us       4.373ms         0.00%       4.373ms     161.963us            27  \n",
      "                                            aten::zero_         0.00%     349.800us         0.00%     896.500us      56.031us     278.000us         0.00%       3.883ms     242.688us            16  \n",
      "                                          aten::nonzero         0.94%        2.373s         0.94%        2.374s     237.433ms       2.777ms         0.00%       3.445ms     344.500us            10  \n",
      "                                          aten::resize_         0.00%     889.900us         0.00%     889.900us      22.247us       3.040ms         0.00%       3.040ms      76.000us            40  \n",
      "                                           aten::arange         0.00%       2.057ms         0.00%       2.805ms     127.477us       1.970ms         0.00%       2.927ms     133.045us            22  \n",
      "                                              aten::max         0.00%       1.560ms         0.00%       1.713ms     131.808us       2.209ms         0.00%       2.696ms     207.385us            13  \n",
      "                                             aten::item         0.00%     728.100us        95.08%      240.932s        6.884s     596.000us         0.00%       2.081ms      59.457us            35  \n",
      "                              aten::_local_scalar_dense        95.08%      240.931s        95.08%      240.931s        6.884s       1.485ms         0.00%       1.485ms      42.429us            35  \n",
      "                                           aten::select         0.00%       1.039ms         0.00%       1.090ms      19.461us       1.120ms         0.00%       1.479ms      26.411us            56  \n",
      "                                       aten::as_strided         0.00%     238.000us         0.00%     238.000us       1.322us       1.433ms         0.00%       1.433ms       7.961us           180  \n",
      "                                            aten::empty         0.00%     960.100us         0.00%     960.100us       7.329us       1.317ms         0.00%       1.317ms      10.053us           131  \n",
      "                                                aten::t         0.00%     447.300us         0.00%       1.345ms      46.376us     353.000us         0.00%       1.039ms      35.828us            29  \n",
      "                                          aten::reshape         0.00%     523.700us         0.00%     733.900us      22.934us     569.000us         0.00%     988.000us      30.875us            32  \n",
      "                                             aten::full         0.00%     264.500us         0.00%     445.300us      49.478us     222.000us         0.00%     910.000us     101.111us             9  \n",
      "                                       aten::reciprocal         0.00%       1.164ms         0.00%       1.164ms     388.000us     899.000us         0.00%     899.000us     299.667us             3  \n",
      "                                           aten::unbind         0.00%     351.900us         0.00%     768.300us     256.100us     169.000us         0.00%     786.000us     262.000us             3  \n",
      "                                        aten::transpose         0.00%     846.000us         0.00%     897.600us      30.952us     491.000us         0.00%     686.000us      23.655us            29  \n",
      "                                        aten::new_empty         0.00%     310.200us         0.00%     411.100us      29.364us     409.000us         0.00%     586.000us      41.857us            14  \n",
      "                                               aten::ne         0.00%     194.600us         0.00%     194.600us      38.920us     563.000us         0.00%     563.000us     112.600us             5  \n",
      "                                            aten::clamp         0.00%     538.700us         0.00%     542.700us     180.900us     542.000us         0.00%     557.000us     185.667us             3  \n",
      "                                             aten::view         0.00%     321.700us         0.00%     321.700us       6.434us     540.000us         0.00%     540.000us      10.800us            50  \n",
      "                                           aten::narrow         0.00%     168.000us         0.00%     372.100us      31.008us     130.000us         0.00%     523.000us      43.583us            12  \n",
      "                                            aten::slice         0.00%     262.700us         0.00%     282.500us      20.179us     208.000us         0.00%     415.000us      29.643us            14  \n",
      "                                             aten::rand         0.00%     314.900us         0.00%     393.400us     196.700us     313.000us         0.00%     404.000us     202.000us             2  \n",
      "                                           aten::cumsum         0.00%     468.100us         0.00%     472.100us     118.025us     358.000us         0.00%     378.000us      94.500us             4  \n",
      "                                        aten::expand_as         0.00%     355.200us         0.00%       1.111ms     123.411us      92.000us         0.00%     343.000us      38.111us             9  \n",
      "                                      aten::log_softmax         0.00%     422.600us         0.02%      53.054ms      53.054ms       6.000us         0.00%     335.000us     335.000us             1  \n",
      "                                     aten::_log_softmax         0.02%      52.632ms         0.02%      52.632ms      52.632ms     329.000us         0.00%     329.000us     329.000us             1  \n",
      "                                           aten::expand         0.00%     742.200us         0.00%     755.500us      83.944us     217.000us         0.00%     251.000us      27.889us             9  \n",
      "                                        aten::ones_like         0.00%      60.900us         0.00%     149.600us      74.800us      33.000us         0.00%     195.000us      97.500us             2  \n",
      "                                            aten::zeros         0.00%      98.500us         0.00%     209.200us     104.600us      30.000us         0.00%     164.000us      82.000us             2  \n",
      "                                        aten::unsqueeze         0.00%     142.100us         0.00%     146.900us      73.450us     142.000us         0.00%     154.000us      77.000us             2  \n",
      "                                             aten::set_         0.00%     188.100us         0.00%     188.100us      15.675us      81.000us         0.00%      81.000us       6.750us            12  \n",
      "                                             aten::ceil         0.00%      59.400us         0.00%      59.400us      29.700us      75.000us         0.00%      75.000us      37.500us             2  \n",
      "                                          aten::detach_         0.00%      43.000us         0.00%      53.300us      26.650us      52.000us         0.00%      74.000us      37.000us             2  \n",
      "                                         aten::uniform_         0.00%      71.500us         0.00%      71.500us      35.750us      73.000us         0.00%      73.000us      36.500us             2  \n",
      "                                          aten::dropout         0.00%     229.700us         0.00%     229.700us      12.089us      59.000us         0.00%      59.000us       3.105us            19  \n",
      "                                     aten::resolve_conj         0.00%       2.300us         0.00%       2.300us       0.230us      40.000us         0.00%      40.000us       4.000us            10  \n",
      "                                      aten::resolve_neg         0.00%       1.300us         0.00%       1.300us       0.130us      32.000us         0.00%      32.000us       3.200us            10  \n",
      "                                                detach_         0.00%      10.300us         0.00%      10.300us       5.150us      22.000us         0.00%      22.000us      11.000us             2  \n",
      "                                       aten::lift_fresh         0.00%       3.100us         0.00%       3.100us       1.550us      20.000us         0.00%      20.000us      10.000us             2  \n",
      "                                          aten::random_         0.00%      20.900us         0.00%      20.900us      20.900us       4.000us         0.00%       4.000us       4.000us             1  \n",
      "-------------------------------------------------------  ------------  ------------  ------------  ------------  ------------  ------------  ------------  ------------  ------------  ------------  \n",
      "Self CPU time total: 253.407s\n",
      "Self CUDA time total: 253.414s\n",
      "\n"
     ]
    }
   ],
   "source": [
    "import time\n",
    "\n",
    "model.eval()\n",
    "\n",
    "import torch.profiler\n",
    "\n",
    "with torch.profiler.profile(\n",
    "    activities=[torch.profiler.ProfilerActivity.CPU, torch.profiler.ProfilerActivity.CUDA],\n",
    "    record_shapes=True,\n",
    ") as prof:\n",
    "\n",
    "    with torch.no_grad():\n",
    "        start_time = time.time()\n",
    "        for data in custom_loader:\n",
    "            data = data.to(device)\n",
    "            with torch.amp.autocast(\"cuda\"):\n",
    "                predictions = model(data)\n",
    "            labels = predictions.argmax(dim=-1)\n",
    "            # Process the labels as needed\n",
    "            #labels_arr = labels.cpu().numpy()\n",
    "            # Count occurrences of labels\n",
    "            unique_labels, label_counts = torch.unique(labels, return_counts=True)\n",
    "            # Combine and print\n",
    "            #result_labels = np.array(list(zip(unique_labels, label_counts)))\n",
    "            #print(\"Label counts:\")\n",
    "            #for label, count in zip(unique_labels, label_counts):\n",
    "            #    print(f\"Label {label.item()}: {count.item()}\")\n",
    "            result_labels = torch.stack((unique_labels, label_counts), dim=1).cpu()\n",
    "            print(\"Label counts:\")\n",
    "            print(result_labels)\n",
    "        end_time = time.time()\n",
    "        print(f\"Total inference time: {end_time - start_time:.4f} seconds\")  \n",
    "    \n",
    "print(prof.key_averages().table(sort_by=\"cuda_time_total\"))\n",
    "\n"
   ]
  },
  {
   "cell_type": "markdown",
   "metadata": {},
   "source": [
    "batch_size 32, num_workers 16: prediction 7min\n",
    "\n",
    "batch_size = 32, num_workers 20: prediction 5min\n",
    "\n",
    "batch_size = 32, num_workers 20, pin_memory=True: prediction 4.5min\n",
    "\n"
   ]
  },
  {
   "cell_type": "code",
   "execution_count": 20,
   "metadata": {},
   "outputs": [],
   "source": [
    "\n",
    "# Define the number of classes in your model's predictions\n",
    "num_classes = 13  # Adjust based on your number of classes\n",
    "\n",
    "# class_names = ('ceiling', 'floor', 'wall', 'beam', 'column', 'window', 'door',\n",
    "#               'table', 'chair', 'sofa', 'bookcase', 'board', 'clutter')\n",
    "\n",
    "# Define a fixed color map for 13 labels\n",
    "color_map = np.array([\n",
    "    [1.0, 0.0, 0.0],  # Label 0: Red,  'ceiling'\n",
    "    [0.0, 1.0, 0.0],  # Label 1: Green, 'floor'\n",
    "    [0.0, 0.0, 1.0],  # Label 2: Blue,  'wall'\n",
    "    [1.0, 1.0, 0.0],  # Label 3: Yellow, 'beam'\n",
    "    [1.0, 0.0, 1.0],  # Label 4: Magenta, 'column'\n",
    "    [0.0, 1.0, 1.0],  # Label 5: Cyan, 'window'\n",
    "    [0.5, 0.5, 0.5],  # Label 6: Gray, 'door'\n",
    "    [1.0, 0.5, 0.0],  # Label 7: Orange, 'table'\n",
    "    [0.5, 0.0, 1.0],  # Label 8: Purple, 'chair'\n",
    "    [0.5, 1.0, 0.5],  # Label 9: Light Green, 'sofa'\n",
    "    [0.5, 0.5, 1.0],  # Label 10: Light Blue, 'bookcase'\n",
    "    [1.0, 0.5, 0.5],  # Label 11: Pink, 'board'\n",
    "    [0.0, 0.0, 0.0]   # Label 12: Black, 'clutter'\n",
    "])"
   ]
  },
  {
   "cell_type": "code",
   "execution_count": 21,
   "metadata": {},
   "outputs": [],
   "source": [
    "# Assuming `labels` is the tensor containing predicted labels for each point\n",
    "predicted_colors = color_map[labels.cpu().numpy()]  # Shape: [num_points, 3]\n"
   ]
  },
  {
   "cell_type": "code",
   "execution_count": 18,
   "metadata": {},
   "outputs": [
    {
     "name": "stdout",
     "output_type": "stream",
     "text": [
      "1950239\n"
     ]
    }
   ],
   "source": [
    "print(len(predicted_colors))"
   ]
  },
  {
   "cell_type": "code",
   "execution_count": 22,
   "metadata": {},
   "outputs": [],
   "source": [
    "# Assuming `pcd` is your Open3D point cloud object\n",
    "downpcd.colors = o3d.utility.Vector3dVector(predicted_colors)"
   ]
  },
  {
   "cell_type": "code",
   "execution_count": 23,
   "metadata": {},
   "outputs": [],
   "source": [
    "# Visualize the point cloud with colored labels\n",
    "o3d.visualization.draw_geometries([downpcd])"
   ]
  },
  {
   "cell_type": "code",
   "execution_count": 24,
   "metadata": {},
   "outputs": [
    {
     "data": {
      "text/plain": [
       "True"
      ]
     },
     "execution_count": 24,
     "metadata": {},
     "output_type": "execute_result"
    }
   ],
   "source": [
    "# Save the point cloud to a file\n",
    "save_path = \"C:/Users/yanpe/OneDrive - Metropolia Ammattikorkeakoulu Oy/Research/data/smartlab/labelled/Smartlab_aalto_pcd_center_norm_label_pointnet2_x3_0.03_20250415.ply\"\n",
    "o3d.io.write_point_cloud(save_path, downpcd)\n"
   ]
  },
  {
   "cell_type": "code",
   "execution_count": 50,
   "metadata": {},
   "outputs": [],
   "source": [
    "del down_points\n",
    "del down_colors\n",
    "torch.cuda.empty_cache()"
   ]
  }
 ],
 "metadata": {
  "kernelspec": {
   "display_name": "Python 3",
   "language": "python",
   "name": "python3"
  },
  "language_info": {
   "codemirror_mode": {
    "name": "ipython",
    "version": 3
   },
   "file_extension": ".py",
   "mimetype": "text/x-python",
   "name": "python",
   "nbconvert_exporter": "python",
   "pygments_lexer": "ipython3",
   "version": "3.12.10"
  }
 },
 "nbformat": 4,
 "nbformat_minor": 2
}
