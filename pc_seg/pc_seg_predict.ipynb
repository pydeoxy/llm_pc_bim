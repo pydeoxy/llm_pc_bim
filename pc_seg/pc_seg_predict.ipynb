{
 "cells": [
  {
   "cell_type": "code",
   "execution_count": 1,
   "metadata": {},
   "outputs": [
    {
     "name": "stdout",
     "output_type": "stream",
     "text": [
      "['C:\\\\Program Files\\\\WindowsApps\\\\PythonSoftwareFoundation.Python.3.12_3.12.2800.0_x64__qbz5n2kfra8p0\\\\python312.zip', 'C:\\\\Program Files\\\\WindowsApps\\\\PythonSoftwareFoundation.Python.3.12_3.12.2800.0_x64__qbz5n2kfra8p0\\\\DLLs', 'C:\\\\Program Files\\\\WindowsApps\\\\PythonSoftwareFoundation.Python.3.12_3.12.2800.0_x64__qbz5n2kfra8p0\\\\Lib', 'C:\\\\Program Files\\\\WindowsApps\\\\PythonSoftwareFoundation.Python.3.12_3.12.2800.0_x64__qbz5n2kfra8p0', '', 'C:\\\\Users\\\\yanpe\\\\AppData\\\\Local\\\\Packages\\\\PythonSoftwareFoundation.Python.3.12_qbz5n2kfra8p0\\\\LocalCache\\\\local-packages\\\\Python312\\\\site-packages', 'C:\\\\Users\\\\yanpe\\\\AppData\\\\Local\\\\Packages\\\\PythonSoftwareFoundation.Python.3.12_qbz5n2kfra8p0\\\\LocalCache\\\\local-packages\\\\Python312\\\\site-packages\\\\win32', 'C:\\\\Users\\\\yanpe\\\\AppData\\\\Local\\\\Packages\\\\PythonSoftwareFoundation.Python.3.12_qbz5n2kfra8p0\\\\LocalCache\\\\local-packages\\\\Python312\\\\site-packages\\\\win32\\\\lib', 'C:\\\\Users\\\\yanpe\\\\AppData\\\\Local\\\\Packages\\\\PythonSoftwareFoundation.Python.3.12_qbz5n2kfra8p0\\\\LocalCache\\\\local-packages\\\\Python312\\\\site-packages\\\\Pythonwin', 'C:\\\\Program Files\\\\WindowsApps\\\\PythonSoftwareFoundation.Python.3.12_3.12.2800.0_x64__qbz5n2kfra8p0\\\\Lib\\\\site-packages', 'C:\\\\Users\\\\yanpe\\\\.env\\\\Lib\\\\site-packages']\n"
     ]
    }
   ],
   "source": [
    "import sys\n",
    "sys.path\n",
    "sys.path.append(r\"C:\\Users\\yanpe\\.env\\Lib\\site-packages\")\n",
    "print(sys.path)"
   ]
  },
  {
   "cell_type": "code",
   "execution_count": 1,
   "metadata": {},
   "outputs": [
    {
     "name": "stdout",
     "output_type": "stream",
     "text": [
      "Jupyter environment detected. Enabling Open3D WebVisualizer.\n",
      "[Open3D INFO] WebRTC GUI backend enabled.\n",
      "[Open3D INFO] WebRTCWindowSystem: HTTP handshake server disabled.\n"
     ]
    }
   ],
   "source": [
    "import os\n",
    "import open3d as o3d\n",
    "import numpy as np\n",
    "import torch\n",
    "from torch_geometric.data import Data\n",
    "from torch_geometric.loader import DataLoader\n",
    "import torch_geometric.transforms as T\n",
    "from torch_geometric.typing import WITH_TORCH_CLUSTER\n",
    "from pyg_pointnet2 import PyGPointNet2, PyGPointNet2NoColor\n",
    "from pc_label_map import color_map\n",
    "\n",
    "if not WITH_TORCH_CLUSTER:\n",
    "    quit(\"This example requires 'torch-cluster'\")"
   ]
  },
  {
   "cell_type": "code",
   "execution_count": 2,
   "metadata": {},
   "outputs": [],
   "source": [
    "# Empty the CUDA cache\n",
    "torch.cuda.empty_cache()"
   ]
  },
  {
   "cell_type": "code",
   "execution_count": 3,
   "metadata": {},
   "outputs": [],
   "source": [
    "device = torch.device('cuda' if torch.cuda.is_available() else 'cpu')\n",
    "#model = PyGPointNet2(num_classes=13).to(device) # x6 model\n",
    "model = PyGPointNet2NoColor(num_classes=13).to(device) # x3 model\n"
   ]
  },
  {
   "cell_type": "code",
   "execution_count": 4,
   "metadata": {},
   "outputs": [],
   "source": [
    "#model_file_path = \"checkpoints/pointnet2_s3dis_pretransform_seg_x6_45_checkpoint.pth\" # Orignial pretransformed x6 model\n",
    "#model_file_path = \"checkpoints/pointnet2_s3dis_transform_seg_x6_45_checkpoint.pth\" # Orignial transformed x6 model\n",
    "#model_file_path = \"checkpoints/pointnet2_s3dis_pretransform_seg_x3_45_checkpoint.pth\" # Orignial pretransformed x3 model\n",
    "#model_file_path = \"checkpoints/pointnet2_s3dis_transform_seg_x3_45_checkpoint.pth\" # Orignial transformed x3 model\n",
    "model_file_path = \"checkpoints/pointnet2_smartlab_sim_transform_seg_x3_100_checkpoint.pth\" # Simulated transformed x3 model\n",
    "#model_file_path = \"checkpoints/pointnet2_smartlab_sim_pretransform_seg_x3_100_checkpoint.pth\" # Simulated pretransformed x3 model\n",
    "#model_file_path = \"checkpoints/smartlab_fine_tuning_x3_50_20250416.pth\" # Fine-tuned model\n"
   ]
  },
  {
   "cell_type": "code",
   "execution_count": 5,
   "metadata": {},
   "outputs": [],
   "source": [
    "# Load the checkpoint dictionary\n",
    "checkpoint = torch.load(model_file_path, map_location=device)\n",
    "# Extract the model state dictionary\n",
    "model_state_dict = checkpoint['model_state_dict']\n"
   ]
  },
  {
   "cell_type": "code",
   "execution_count": 6,
   "metadata": {},
   "outputs": [
    {
     "data": {
      "text/plain": [
       "PyGPointNet2NoColor(\n",
       "  (sa1_module): SAModule(\n",
       "    (conv): PointNetConv(local_nn=MLP(6, 64, 64, 128), global_nn=None)\n",
       "  )\n",
       "  (sa2_module): SAModule(\n",
       "    (conv): PointNetConv(local_nn=MLP(131, 128, 128, 256), global_nn=None)\n",
       "  )\n",
       "  (sa3_module): GlobalSAModule(\n",
       "    (nn): MLP(259, 256, 512, 1024)\n",
       "  )\n",
       "  (fp3_module): FPModule(\n",
       "    (nn): MLP(1280, 256, 256)\n",
       "  )\n",
       "  (fp2_module): FPModule(\n",
       "    (nn): MLP(384, 256, 128)\n",
       "  )\n",
       "  (fp1_module): FPModule(\n",
       "    (nn): MLP(131, 128, 128, 128)\n",
       "  )\n",
       "  (mlp): MLP(128, 128, 128, 13)\n",
       "  (lin1): Linear(in_features=128, out_features=128, bias=True)\n",
       "  (lin2): Linear(in_features=128, out_features=128, bias=True)\n",
       "  (lin3): Linear(in_features=128, out_features=13, bias=True)\n",
       ")"
      ]
     },
     "execution_count": 6,
     "metadata": {},
     "output_type": "execute_result"
    }
   ],
   "source": [
    "model.load_state_dict(model_state_dict)\n",
    "model.eval()"
   ]
  },
  {
   "cell_type": "code",
   "execution_count": 7,
   "metadata": {},
   "outputs": [],
   "source": [
    "# Pcd files\n",
    "#pcd_path = \"C:/Users/yanpe/OneDrive - Metropolia Ammattikorkeakoulu Oy/Research/data/smartlab/Smartlab-2024-04-05_10-58-26_colour_cleaned.pcd\"\n",
    "pcd_path = \"C:/Users/yanpe/OneDrive - Metropolia Ammattikorkeakoulu Oy/Research/data/smartlab/SmartLab_2024_E57_Single_5mm.pcd\"\n",
    "#pcd_path = \"C:/Users/yanpe/OneDrive - Metropolia Ammattikorkeakoulu Oy/Research/data/smartlab/SmartLab_2024_E57_Single_5mm.ply\"\n",
    "pcd = o3d.io.read_point_cloud(pcd_path)"
   ]
  },
  {
   "cell_type": "code",
   "execution_count": 130,
   "metadata": {},
   "outputs": [
    {
     "name": "stdout",
     "output_type": "stream",
     "text": [
      "35966772\n",
      "35966772\n",
      "0\n"
     ]
    }
   ],
   "source": [
    "print(len(pcd.points))\n",
    "print(len(pcd.colors))\n",
    "print(len(pcd.normals))"
   ]
  },
  {
   "cell_type": "code",
   "execution_count": 8,
   "metadata": {},
   "outputs": [],
   "source": [
    "# Move the point cloud to its min(x,y,z) corner\n",
    " \n",
    "def move_to_corner(points):    \n",
    "    # Find the minimum x, y, z\n",
    "    min_xyz = points.min(axis=0)\n",
    "    # Translate the point cloud so that the min corner becomes the origin\n",
    "    moved_points = points - min_xyz\n",
    "    \n",
    "    return moved_points\n",
    "\n",
    "moved_points = move_to_corner(np.array(pcd.points))\n",
    "pcd.points = o3d.utility.Vector3dVector(moved_points)"
   ]
  },
  {
   "cell_type": "code",
   "execution_count": 109,
   "metadata": {},
   "outputs": [
    {
     "name": "stdout",
     "output_type": "stream",
     "text": [
      "Column 1: min = 0.0, max = 10.791000008583069\n",
      "Column 2: min = 0.0, max = 11.177000045776367\n",
      "Column 3: min = 0.0, max = 3.4570000171661377\n",
      "None\n"
     ]
    }
   ],
   "source": [
    "# Check the range of points\n",
    "\n",
    "def array_range(array):\n",
    "    # Get min and max for each column\n",
    "    min_values = np.min(array, axis=0)\n",
    "    max_values = np.max(array, axis=0)\n",
    "\n",
    "    # Display ranges for each column\n",
    "    for i, (min_val, max_val) in enumerate(zip(min_values, max_values), start=1):\n",
    "        print(f\"Column {i}: min = {min_val}, max = {max_val}\")\n",
    "\n",
    "print(array_range(np.array(pcd.points)))"
   ]
  },
  {
   "cell_type": "code",
   "execution_count": 49,
   "metadata": {},
   "outputs": [],
   "source": [
    "#if not pcd.has_normals():\n",
    "#   pcd.estimate_normals()"
   ]
  },
  {
   "cell_type": "code",
   "execution_count": 9,
   "metadata": {},
   "outputs": [
    {
     "name": "stdout",
     "output_type": "stream",
     "text": [
      "866900\n"
     ]
    }
   ],
   "source": [
    "# Downsample the point cloud with a voxel of 0.02\n",
    "downpcd = pcd.voxel_down_sample(voxel_size=0.03)\n",
    "\n",
    "print(len(downpcd.points))"
   ]
  },
  {
   "cell_type": "code",
   "execution_count": 20,
   "metadata": {},
   "outputs": [],
   "source": [
    "o3d.visualization.draw_geometries([downpcd], point_show_normal=False)"
   ]
  },
  {
   "cell_type": "code",
   "execution_count": 1,
   "metadata": {},
   "outputs": [],
   "source": [
    "def normalize_points_center(points):\n",
    "    # Step 1: Center the points around the origin\n",
    "    centroid = np.mean(points, axis=0)\n",
    "    centered_points = points - centroid\n",
    "\n",
    "    # Step 2: Scale to fit within the [0, 1] interval\n",
    "    min_vals = np.min(centered_points, axis=0)\n",
    "    max_vals = np.max(centered_points, axis=0)\n",
    "    scale = max_vals - min_vals\n",
    "\n",
    "    # Avoid division by zero in case of flat dimension\n",
    "    scale[scale == 0] = 1  # Set zero scales to 1 to keep that dimension as 0.5 after normalization\n",
    "\n",
    "    normalized_points = (centered_points - min_vals) / scale\n",
    "\n",
    "    return normalized_points\n",
    "\n",
    "# normalized = normalize_points_center(np.array(downpcd.points))"
   ]
  },
  {
   "cell_type": "code",
   "execution_count": 10,
   "metadata": {},
   "outputs": [],
   "source": [
    "def normalize_points_corner(points):\n",
    "    # Step 1: Shift points so that the minimum x, y, z becomes the origin.\n",
    "    min_vals = np.min(points, axis=0)\n",
    "    shifted_points = points - min_vals  # Now the lower bound is (0,0,0)\n",
    "    \n",
    "    # Step 2: Compute the scaling factors from the shifted points.\n",
    "    # The maximum after shifting represents the range in each dimension.\n",
    "    max_vals = np.max(shifted_points, axis=0)\n",
    "    scale = max_vals.copy()\n",
    "    \n",
    "    # Avoid division by zero if any dimension is flat.\n",
    "    scale[scale == 0] = 1\n",
    "    \n",
    "    # Normalize the shifted points to the [0, 1] interval.\n",
    "    normalized_points = shifted_points / scale\n",
    "\n",
    "    return normalized_points\n",
    "\n",
    "normalized = normalize_points_corner(np.array(downpcd.points))"
   ]
  },
  {
   "cell_type": "code",
   "execution_count": 11,
   "metadata": {},
   "outputs": [],
   "source": [
    "# Extract coordinates and colors from the point cloud\n",
    "down_points = torch.tensor(np.array(downpcd.points), dtype=torch.float32)  \n",
    "down_colors = torch.tensor(np.array(downpcd.colors), dtype=torch.float32)\n",
    "down_normalized = torch.tensor(normalized, dtype=torch.float32)"
   ]
  },
  {
   "cell_type": "code",
   "execution_count": 193,
   "metadata": {},
   "outputs": [],
   "source": [
    "# 6 Features data\n",
    "\n",
    "# Concatenate coordinates and colors to form the input features\n",
    "x = torch.cat([down_colors, down_normalized], dim=1) # 6 (x)\n",
    "# Create a Data object with x (6 features) and pos (coordinates)\n",
    "data = Data(x=x, pos=down_points)\n",
    "\n",
    "#pre_transform = T.NormalizeScale()\n",
    "#data = pre_transform(data)\n"
   ]
  },
  {
   "cell_type": "code",
   "execution_count": 12,
   "metadata": {},
   "outputs": [],
   "source": [
    "# 3 Features data\n",
    "\n",
    "# Create a Data object with x (3 features) and pos (coordinates)\n",
    "data = Data(x=down_normalized, pos=down_points)\n",
    "\n",
    "#data = data.to(device)\n",
    "\n",
    "#pre_transform = T.NormalizeScale()\n",
    "#data = pre_transform(data)"
   ]
  },
  {
   "cell_type": "code",
   "execution_count": 88,
   "metadata": {},
   "outputs": [
    {
     "data": {
      "text/plain": [
       "22"
      ]
     },
     "execution_count": 88,
     "metadata": {},
     "output_type": "execute_result"
    }
   ],
   "source": [
    "import os\n",
    "os.cpu_count()"
   ]
  },
  {
   "cell_type": "code",
   "execution_count": 14,
   "metadata": {},
   "outputs": [],
   "source": [
    "# If you have only one point cloud\n",
    "dataset = [data]  # List of Data objects\n",
    "\n",
    "num_workers = 20\n",
    "batch_size = 32\n",
    "\n",
    "# Create a DataLoader (batch_size can be adjusted as needed)\n",
    "custom_loader = DataLoader(dataset, batch_size=batch_size, shuffle=False,\n",
    "                         num_workers=num_workers, pin_memory=True)"
   ]
  },
  {
   "cell_type": "code",
   "execution_count": 15,
   "metadata": {},
   "outputs": [
    {
     "name": "stdout",
     "output_type": "stream",
     "text": [
      "Label counts:\n",
      "tensor([[     0, 170832],\n",
      "        [     1, 125569],\n",
      "        [     2, 360083],\n",
      "        [     8,    901],\n",
      "        [    12, 209515]])\n",
      "Total inference time: 261.8178 seconds\n",
      "-------------------------------------------------------  ------------  ------------  ------------  ------------  ------------  ------------  ------------  ------------  ------------  ------------  \n",
      "                                                   Name    Self CPU %      Self CPU   CPU total %     CPU total  CPU time avg     Self CUDA   Self CUDA %    CUDA total  CUDA time avg    # of Calls  \n",
      "-------------------------------------------------------  ------------  ------------  ------------  ------------  ------------  ------------  ------------  ------------  ------------  ------------  \n",
      "                                     torch_cluster::fps         0.11%     291.020ms         0.15%     390.980ms     195.490ms      242.514s        94.01%      242.614s      121.307s             2  \n",
      "enumerate(DataLoader)#_MultiProcessingDataLoaderIter...         4.56%       11.774s         4.56%       11.774s        5.887s       11.774s         4.56%       11.774s        5.887s             2  \n",
      "                                     torch_cluster::knn         0.01%      37.083ms         0.65%        1.677s     559.095ms        1.673s         0.65%        1.678s     559.207ms             3  \n",
      "                                  torch_cluster::radius         0.01%      16.252ms         0.33%     839.247ms     419.623ms     813.525ms         0.32%     845.636ms     422.818ms             2  \n",
      "                                           aten::linear         0.00%       2.697ms         0.17%     444.044ms      11.685ms       1.567ms         0.00%     657.259ms      17.296ms            38  \n",
      "                                            aten::addmm         0.08%     217.160ms         0.08%     217.442ms      11.444ms     319.468ms         0.12%     319.570ms      16.819ms            19  \n",
      "                                  aten::scatter_reduce_         0.00%       2.175ms         0.00%       2.764ms     921.400us     258.600ms         0.10%     279.221ms      93.074ms             3  \n",
      "                                               aten::to         0.00%       1.368ms         0.12%     310.278ms       4.701ms       1.085ms         0.00%      73.715ms       1.117ms            66  \n",
      "                                         aten::_to_copy         0.00%       3.155ms         0.12%     308.910ms       5.236ms       1.740ms         0.00%      72.630ms       1.231ms            59  \n",
      "                                            aten::copy_         0.12%     307.943ms         0.12%     307.943ms       4.337ms      70.166ms         0.03%      70.166ms     988.254us            71  \n",
      "                                     aten::index_select         0.02%      62.229ms         0.02%      63.553ms      10.592ms      60.885ms         0.02%      68.092ms      11.349ms             6  \n",
      "                                       aten::batch_norm         0.00%     659.500us         0.02%      38.957ms       3.896ms      80.000us         0.00%      56.141ms       5.614ms            10  \n",
      "                           aten::_batch_norm_impl_index         0.00%       1.161ms         0.01%      38.298ms       3.830ms      96.000us         0.00%      56.061ms       5.606ms            10  \n",
      "                                aten::native_batch_norm         0.01%      34.586ms         0.01%      37.097ms       3.710ms      31.444ms         0.01%      55.936ms       5.594ms            10  \n",
      "                                              aten::max         0.02%      45.167ms         0.02%      45.495ms       3.500ms      45.567ms         0.02%      45.971ms       3.536ms            13  \n",
      "                                              aten::cat         0.01%      12.931ms         0.01%      13.220ms     826.275us      43.993ms         0.02%      44.169ms       2.761ms            16  \n",
      "                                             aten::relu         0.00%     736.300us         0.01%      13.828ms       1.152ms      80.000us         0.00%      36.246ms       3.021ms            12  \n",
      "                                        aten::clamp_min         0.01%      13.091ms         0.01%      13.091ms       1.091ms      36.166ms         0.01%      36.166ms       3.014ms            12  \n",
      "                                    aten::empty_strided         0.00%       3.201ms         0.00%       3.201ms      45.079us      29.706ms         0.01%      29.706ms     418.394us            71  \n",
      "                                              aten::mul         0.01%      18.544ms         0.01%      18.544ms       1.426ms      27.522ms         0.01%      27.522ms       2.117ms            13  \n",
      "                                         aten::_unique2         0.01%      27.236ms         0.01%      27.373ms      27.373ms      27.187ms         0.01%      27.377ms      27.377ms             1  \n",
      "                                       aten::empty_like         0.00%     236.600us         0.00%       2.554ms     212.875us     667.000us         0.00%      26.506ms       2.209ms            12  \n",
      "                                           aten::cumsum         0.01%      24.434ms         0.01%      24.438ms       6.110ms      22.473ms         0.01%      22.499ms       5.625ms             4  \n",
      "                                              aten::sub         0.01%      18.484ms         0.01%      18.484ms       2.641ms      21.982ms         0.01%      21.982ms       3.140ms             7  \n",
      "                                     aten::scatter_add_         0.00%       9.926ms         0.00%       9.955ms       1.244ms      21.308ms         0.01%      21.384ms       2.673ms             8  \n",
      "                                         aten::scatter_         0.00%     578.800us         0.00%     584.100us     194.700us      20.585ms         0.01%      20.602ms       6.867ms             3  \n",
      "                                    aten::masked_select         0.00%       2.375ms         0.66%        1.692s     169.162ms       3.838ms         0.00%      19.721ms       1.972ms            10  \n",
      "                                             aten::ceil         0.01%      18.088ms         0.01%      18.088ms       9.044ms      18.161ms         0.01%      18.161ms       9.081ms             2  \n",
      "                                              aten::sum         0.01%      17.253ms         0.01%      17.253ms       5.751ms      17.136ms         0.01%      17.136ms       5.712ms             3  \n",
      "                                          aten::resize_         0.00%       2.640ms         0.00%       2.640ms      66.010us      15.422ms         0.01%      15.422ms     385.550us            40  \n",
      "                                        aten::new_zeros         0.00%       1.254ms         0.00%      10.365ms     740.364us       1.218ms         0.00%      12.963ms     925.929us            14  \n",
      "                                            aten::fill_         0.00%       8.849ms         0.00%       8.849ms     327.752us      11.867ms         0.00%      11.867ms     439.519us            27  \n",
      "                                            aten::zero_         0.00%     597.300us         0.00%       8.869ms     554.319us     376.000us         0.00%      11.068ms     691.750us            16  \n",
      "                                              aten::div         0.00%       8.833ms         0.00%       8.833ms       2.944ms      10.943ms         0.00%      10.943ms       3.648ms             3  \n",
      "                                          aten::nonzero         0.65%        1.687s         0.65%        1.688s     168.819ms       7.254ms         0.00%      10.563ms       1.056ms            10  \n",
      "                                            aten::stack         0.00%       1.172ms         0.00%       2.424ms     303.050us     474.000us         0.00%      10.055ms       1.257ms             8  \n",
      "                                           aten::arange         0.00%       5.104ms         0.00%       9.623ms     437.427us       5.189ms         0.00%      10.039ms     456.318us            22  \n",
      "                                            aten::index        89.40%      230.612s        89.41%      230.613s       10.982s       9.177ms         0.00%       9.576ms     456.000us            21  \n",
      "                                           aten::argmax         0.00%       8.701ms         0.00%       8.708ms       8.708ms       8.989ms         0.00%       8.996ms       8.996ms             1  \n",
      "                                             aten::rand         0.00%     829.300us         0.00%       6.482ms       3.241ms     726.000us         0.00%       6.707ms       3.353ms             2  \n",
      "                                             aten::full         0.00%     437.900us         0.00%       1.510ms     167.722us     279.000us         0.00%       5.963ms     662.556us             9  \n",
      "                                         aten::uniform_         0.00%       5.617ms         0.00%       5.617ms       2.808ms       5.907ms         0.00%       5.907ms       2.954ms             2  \n",
      "                                            aten::empty         0.00%       1.673ms         0.00%       1.673ms      12.576us       5.840ms         0.00%       5.840ms      43.910us           133  \n",
      "                                             aten::item         0.00%     973.000us         4.58%       11.811s     472.423ms     507.000us         0.00%       4.206ms     168.240us            25  \n",
      "                              aten::_local_scalar_dense         4.58%       11.810s         4.58%       11.810s     472.384ms       3.699ms         0.00%       3.699ms     147.960us            25  \n",
      "                                        aten::ones_like         0.00%     469.300us         0.00%     896.000us     448.000us      28.000us         0.00%       2.521ms       1.260ms             2  \n",
      "                                             aten::view         0.00%       1.940ms         0.00%       1.940ms      38.792us       2.341ms         0.00%       2.341ms      46.820us            50  \n",
      "                                       aten::reciprocal         0.00%       1.332ms         0.00%       1.332ms     443.967us       1.137ms         0.00%       1.137ms     379.000us             3  \n",
      "                                           aten::select         0.00%     759.400us         0.00%     806.400us      19.668us     792.000us         0.00%       1.030ms      25.122us            41  \n",
      "                                       aten::as_strided         0.00%     462.200us         0.00%     462.200us       2.801us     976.000us         0.00%     976.000us       5.915us           165  \n",
      "                                                aten::t         0.00%       1.387ms         0.00%       2.096ms      72.266us     362.000us         0.00%     942.000us      32.483us            29  \n",
      "                                        aten::new_empty         0.00%     241.000us         0.00%     370.700us      26.479us     622.000us         0.00%     785.000us      56.071us            14  \n",
      "                                          aten::reshape         0.00%     717.800us         0.00%     995.800us      31.119us     414.000us         0.00%     780.000us      24.375us            32  \n",
      "                                        aten::expand_as         0.00%     464.100us         0.00%       1.182ms     131.344us      69.000us         0.00%     774.000us      86.000us             9  \n",
      "                                           aten::expand         0.00%     701.800us         0.00%     718.000us      79.778us     672.000us         0.00%     705.000us      78.333us             9  \n",
      "                                               aten::ne         0.30%     763.989ms         0.30%     763.989ms     152.798ms     647.000us         0.00%     647.000us     129.400us             5  \n",
      "                                            aten::clamp         0.00%     611.900us         0.00%     616.600us     205.533us     611.000us         0.00%     630.000us     210.000us             3  \n",
      "                                      aten::log_softmax         0.00%       1.050ms         0.02%      46.066ms      46.066ms       6.000us         0.00%     621.000us     621.000us             1  \n",
      "                                     aten::_log_softmax         0.02%      45.016ms         0.02%      45.016ms      45.016ms     615.000us         0.00%     615.000us     615.000us             1  \n",
      "                                        aten::transpose         0.00%     644.600us         0.00%     708.400us      24.428us     381.000us         0.00%     580.000us      20.000us            29  \n",
      "                                           aten::unbind         0.00%     823.900us         0.00%       1.094ms     364.567us     145.000us         0.00%     519.000us     173.000us             3  \n",
      "                                           aten::narrow         0.00%     239.800us         0.00%     497.400us      41.450us     183.000us         0.00%     380.000us      31.667us            12  \n",
      "                                            aten::slice         0.00%     313.000us         0.00%     340.900us      24.350us     153.000us         0.00%     250.000us      17.857us            14  \n",
      "                                        aten::unsqueeze         0.00%     179.300us         0.00%     184.500us      92.250us     180.000us         0.00%     195.000us      97.500us             2  \n",
      "                                            aten::zeros         0.00%      57.800us         0.00%     198.300us      99.150us      27.000us         0.00%     144.000us      72.000us             2  \n",
      "                                             aten::set_         0.00%     238.500us         0.00%     238.500us      17.036us      73.000us         0.00%      73.000us       5.214us            14  \n",
      "                                          aten::detach_         0.00%      63.300us         0.00%      73.400us      36.700us      38.000us         0.00%      58.000us      29.000us             2  \n",
      "                                          aten::dropout         0.00%     182.500us         0.00%     182.500us       9.605us      57.000us         0.00%      57.000us       3.000us            19  \n",
      "                                     aten::resolve_conj         0.00%       2.000us         0.00%       2.000us       0.400us      32.000us         0.00%      32.000us       6.400us             5  \n",
      "                                      aten::resolve_neg         0.00%       0.600us         0.00%       0.600us       0.120us      25.000us         0.00%      25.000us       5.000us             5  \n",
      "                                                detach_         0.00%      10.100us         0.00%      10.100us       5.050us      20.000us         0.00%      20.000us      10.000us             2  \n",
      "                                       aten::lift_fresh         0.00%       3.100us         0.00%       3.100us       1.550us      19.000us         0.00%      19.000us       9.500us             2  \n",
      "                                          aten::random_         0.00%     453.800us         0.00%     453.800us     453.800us       6.000us         0.00%       6.000us       6.000us             1  \n",
      "-------------------------------------------------------  ------------  ------------  ------------  ------------  ------------  ------------  ------------  ------------  ------------  ------------  \n",
      "Self CPU time total: 257.941s\n",
      "Self CUDA time total: 257.955s\n",
      "\n"
     ]
    }
   ],
   "source": [
    "import time\n",
    "\n",
    "model.eval()\n",
    "\n",
    "import torch.profiler\n",
    "\n",
    "with torch.profiler.profile(\n",
    "    activities=[torch.profiler.ProfilerActivity.CPU, torch.profiler.ProfilerActivity.CUDA],\n",
    "    record_shapes=True,\n",
    ") as prof:\n",
    "\n",
    "    with torch.no_grad():\n",
    "        start_time = time.time()\n",
    "        for data in custom_loader:\n",
    "            data = data.to(device)\n",
    "            with torch.amp.autocast(\"cuda\"):\n",
    "                predictions = model(data)\n",
    "            labels = predictions.argmax(dim=-1)\n",
    "            # Process the labels as needed\n",
    "            #labels_arr = labels.cpu().numpy()\n",
    "            # Count occurrences of labels\n",
    "            unique_labels, label_counts = torch.unique(labels, return_counts=True)\n",
    "            # Combine and print\n",
    "            #result_labels = np.array(list(zip(unique_labels, label_counts)))\n",
    "            #print(\"Label counts:\")\n",
    "            #for label, count in zip(unique_labels, label_counts):\n",
    "            #    print(f\"Label {label.item()}: {count.item()}\")\n",
    "            result_labels = torch.stack((unique_labels, label_counts), dim=1).cpu()\n",
    "            print(\"Label counts:\")\n",
    "            print(result_labels)\n",
    "        end_time = time.time()\n",
    "        print(f\"Total inference time: {end_time - start_time:.4f} seconds\")  \n",
    "    \n",
    "print(prof.key_averages().table(sort_by=\"cuda_time_total\"))\n",
    "\n"
   ]
  },
  {
   "cell_type": "code",
   "execution_count": 21,
   "metadata": {},
   "outputs": [],
   "source": [
    "# Save profiler output to csv\n",
    "import csv\n",
    "\n",
    "# Generate the profiling table\n",
    "table_str = prof.key_averages().table(sort_by=\"cuda_time_total\")\n",
    "\n",
    "# Split into lines and clean\n",
    "lines = table_str.split('\\n')\n",
    "header = lines[6].strip().split()\n",
    "rows = [line.strip().split(None, len(header)-1) for line in lines[7:] if line.strip()]\n",
    "\n",
    "# Save as CSV\n",
    "profiler_record = \"../docs/original_x6_prediction_profiler_output.csv\"\n",
    "with open(profiler_record, \"w\", newline='') as f:\n",
    "    writer = csv.writer(f)\n",
    "    writer.writerow(header)\n",
    "    writer.writerows(rows)"
   ]
  },
  {
   "cell_type": "markdown",
   "metadata": {},
   "source": [
    "batch_size 32, num_workers 16: prediction 7min\n",
    "\n",
    "batch_size = 32, num_workers 20: prediction 5min\n",
    "\n",
    "batch_size = 32, num_workers 20, pin_memory=True: prediction 4.5min\n",
    "\n"
   ]
  },
  {
   "cell_type": "code",
   "execution_count": 16,
   "metadata": {},
   "outputs": [],
   "source": [
    "# Assuming `labels` is the tensor containing predicted labels for each point\n",
    "predicted_colors = color_map[labels.cpu().numpy()]  # Shape: [num_points, 3]\n"
   ]
  },
  {
   "cell_type": "code",
   "execution_count": 19,
   "metadata": {},
   "outputs": [
    {
     "name": "stdout",
     "output_type": "stream",
     "text": [
      "866900\n"
     ]
    }
   ],
   "source": [
    "print(len(predicted_colors))"
   ]
  },
  {
   "cell_type": "code",
   "execution_count": 17,
   "metadata": {},
   "outputs": [],
   "source": [
    "# Assuming `pcd` is your Open3D point cloud object\n",
    "downpcd.colors = o3d.utility.Vector3dVector(predicted_colors)"
   ]
  },
  {
   "cell_type": "code",
   "execution_count": 18,
   "metadata": {},
   "outputs": [],
   "source": [
    "# Visualize the point cloud with colored labels\n",
    "o3d.visualization.draw_geometries([downpcd])"
   ]
  },
  {
   "cell_type": "code",
   "execution_count": 19,
   "metadata": {},
   "outputs": [
    {
     "data": {
      "text/plain": [
       "True"
      ]
     },
     "execution_count": 19,
     "metadata": {},
     "output_type": "execute_result"
    }
   ],
   "source": [
    "# Save the point cloud to a file\n",
    "save_path = \"C:/Users/yanpe/OneDrive - Metropolia Ammattikorkeakoulu Oy/Research/data/smartlab/labelled/Smartlab_simulated_transform_label_pointnet2_x3_0.03_20250423.ply\"\n",
    "o3d.io.write_point_cloud(save_path, downpcd)\n"
   ]
  },
  {
   "cell_type": "code",
   "execution_count": 21,
   "metadata": {},
   "outputs": [],
   "source": [
    "del down_points\n",
    "del down_colors\n",
    "torch.cuda.empty_cache()"
   ]
  }
 ],
 "metadata": {
  "kernelspec": {
   "display_name": "Python 3",
   "language": "python",
   "name": "python3"
  },
  "language_info": {
   "codemirror_mode": {
    "name": "ipython",
    "version": 3
   },
   "file_extension": ".py",
   "mimetype": "text/x-python",
   "name": "python",
   "nbconvert_exporter": "python",
   "pygments_lexer": "ipython3",
   "version": "3.12.10"
  }
 },
 "nbformat": 4,
 "nbformat_minor": 2
}
