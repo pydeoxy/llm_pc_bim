{
 "cells": [
  {
   "cell_type": "code",
   "execution_count": 1,
   "metadata": {},
   "outputs": [
    {
     "name": "stdout",
     "output_type": "stream",
     "text": [
      "['C:\\\\Program Files\\\\WindowsApps\\\\PythonSoftwareFoundation.Python.3.12_3.12.2800.0_x64__qbz5n2kfra8p0\\\\python312.zip', 'C:\\\\Program Files\\\\WindowsApps\\\\PythonSoftwareFoundation.Python.3.12_3.12.2800.0_x64__qbz5n2kfra8p0\\\\DLLs', 'C:\\\\Program Files\\\\WindowsApps\\\\PythonSoftwareFoundation.Python.3.12_3.12.2800.0_x64__qbz5n2kfra8p0\\\\Lib', 'C:\\\\Program Files\\\\WindowsApps\\\\PythonSoftwareFoundation.Python.3.12_3.12.2800.0_x64__qbz5n2kfra8p0', '', 'C:\\\\Users\\\\yanpe\\\\AppData\\\\Local\\\\Packages\\\\PythonSoftwareFoundation.Python.3.12_qbz5n2kfra8p0\\\\LocalCache\\\\local-packages\\\\Python312\\\\site-packages', 'C:\\\\Users\\\\yanpe\\\\AppData\\\\Local\\\\Packages\\\\PythonSoftwareFoundation.Python.3.12_qbz5n2kfra8p0\\\\LocalCache\\\\local-packages\\\\Python312\\\\site-packages\\\\win32', 'C:\\\\Users\\\\yanpe\\\\AppData\\\\Local\\\\Packages\\\\PythonSoftwareFoundation.Python.3.12_qbz5n2kfra8p0\\\\LocalCache\\\\local-packages\\\\Python312\\\\site-packages\\\\win32\\\\lib', 'C:\\\\Users\\\\yanpe\\\\AppData\\\\Local\\\\Packages\\\\PythonSoftwareFoundation.Python.3.12_qbz5n2kfra8p0\\\\LocalCache\\\\local-packages\\\\Python312\\\\site-packages\\\\Pythonwin', 'C:\\\\Program Files\\\\WindowsApps\\\\PythonSoftwareFoundation.Python.3.12_3.12.2800.0_x64__qbz5n2kfra8p0\\\\Lib\\\\site-packages', 'C:\\\\Users\\\\yanpe\\\\.env\\\\Lib\\\\site-packages']\n"
     ]
    }
   ],
   "source": [
    "import sys\n",
    "sys.path\n",
    "sys.path.append(r\"C:\\Users\\yanpe\\.env\\Lib\\site-packages\")\n",
    "print(sys.path)"
   ]
  },
  {
   "cell_type": "code",
   "execution_count": 1,
   "metadata": {},
   "outputs": [
    {
     "name": "stdout",
     "output_type": "stream",
     "text": [
      "Jupyter environment detected. Enabling Open3D WebVisualizer.\n",
      "[Open3D INFO] WebRTC GUI backend enabled.\n",
      "[Open3D INFO] WebRTCWindowSystem: HTTP handshake server disabled.\n"
     ]
    }
   ],
   "source": [
    "import os\n",
    "import open3d as o3d\n",
    "import numpy as np\n",
    "import torch\n",
    "from torch_geometric.data import Data\n",
    "from torch_geometric.loader import DataLoader\n",
    "import torch_geometric.transforms as T\n",
    "from torch_geometric.typing import WITH_TORCH_CLUSTER\n",
    "from pyg_pointnet2 import PyGPointNet2, PyGPointNet2NoColor\n",
    "from pc_label_map import color_map\n",
    "\n",
    "if not WITH_TORCH_CLUSTER:\n",
    "    quit(\"This example requires 'torch-cluster'\")"
   ]
  },
  {
   "cell_type": "code",
   "execution_count": 2,
   "metadata": {},
   "outputs": [],
   "source": [
    "# Empty the CUDA cache\n",
    "torch.cuda.empty_cache()"
   ]
  },
  {
   "cell_type": "code",
   "execution_count": 7,
   "metadata": {},
   "outputs": [],
   "source": [
    "device = torch.device('cuda' if torch.cuda.is_available() else 'cpu')\n",
    "#model = PyGPointNet2(num_classes=13).to(device) # x6 model\n",
    "model = PyGPointNet2NoColor(num_classes=13).to(device) # x3 model\n"
   ]
  },
  {
   "cell_type": "code",
   "execution_count": 8,
   "metadata": {},
   "outputs": [],
   "source": [
    "#model_file_path = \"checkpoints/pointnet2_s3dis_pretransform_seg_x6_45_checkpoint.pth\" # Orignial pretransformed x6 model\n",
    "#model_file_path = \"checkpoints/pointnet2_s3dis_transform_seg_x6_45_checkpoint.pth\" # Orignial transformed x6 model\n",
    "#model_file_path = \"checkpoints/pointnet2_s3dis_pretransform_seg_x3_45_checkpoint.pth\" # Orignial pretransformed x3 model\n",
    "#model_file_path = \"checkpoints/pointnet2_s3dis_transform_seg_x3_45_checkpoint.pth\" # Orignial transformed x3 model\n",
    "#model_file_path = \"checkpoints/pointnet2_smartlab_sim_transform_seg_x3_100_checkpoint.pth\" # Simulated transformed x3 model\n",
    "#model_file_path = \"checkpoints/pointnet2_smartlab_sim_pretransform_seg_x3_100_checkpoint.pth\" # Simulated pretransformed x3 model\n",
    "model_file_path = \"checkpoints/smartlab_fine_tuning_transform_x3_50_20250611.pth\" # Fine-tuned model\n"
   ]
  },
  {
   "cell_type": "code",
   "execution_count": 9,
   "metadata": {},
   "outputs": [],
   "source": [
    "# Load the checkpoint dictionary\n",
    "checkpoint = torch.load(model_file_path, map_location=device)\n",
    "# Extract the model state dictionary\n",
    "model_state_dict = checkpoint['model_state_dict']\n"
   ]
  },
  {
   "cell_type": "code",
   "execution_count": 10,
   "metadata": {},
   "outputs": [
    {
     "data": {
      "text/plain": [
       "PyGPointNet2NoColor(\n",
       "  (sa1_module): SAModule(\n",
       "    (conv): PointNetConv(local_nn=MLP(6, 64, 64, 128), global_nn=None)\n",
       "  )\n",
       "  (sa2_module): SAModule(\n",
       "    (conv): PointNetConv(local_nn=MLP(131, 128, 128, 256), global_nn=None)\n",
       "  )\n",
       "  (sa3_module): GlobalSAModule(\n",
       "    (nn): MLP(259, 256, 512, 1024)\n",
       "  )\n",
       "  (fp3_module): FPModule(\n",
       "    (nn): MLP(1280, 256, 256)\n",
       "  )\n",
       "  (fp2_module): FPModule(\n",
       "    (nn): MLP(384, 256, 128)\n",
       "  )\n",
       "  (fp1_module): FPModule(\n",
       "    (nn): MLP(131, 128, 128, 128)\n",
       "  )\n",
       "  (mlp): MLP(128, 128, 128, 13)\n",
       "  (lin1): Linear(in_features=128, out_features=128, bias=True)\n",
       "  (lin2): Linear(in_features=128, out_features=128, bias=True)\n",
       "  (lin3): Linear(in_features=128, out_features=13, bias=True)\n",
       ")"
      ]
     },
     "execution_count": 10,
     "metadata": {},
     "output_type": "execute_result"
    }
   ],
   "source": [
    "model.load_state_dict(model_state_dict)\n",
    "model.eval()"
   ]
  },
  {
   "cell_type": "code",
   "execution_count": 20,
   "metadata": {},
   "outputs": [],
   "source": [
    "# Pcd files\n",
    "#pcd_path = \"C:/Users/yanpe/OneDrive - Metropolia Ammattikorkeakoulu Oy/Research/data/smartlab/Smartlab-2024-04-05_10-58-26_colour_cleaned.pcd\"\n",
    "pcd_path = \"C:/Users/yanpe/OneDrive - Metropolia Ammattikorkeakoulu Oy/Research/data/smartlab/SmartLab_2024_E57_Single_5mm.pcd\"\n",
    "#pcd_path = \"C:/Users/yanpe/OneDrive - Metropolia Ammattikorkeakoulu Oy/Research/data/smartlab/SmartLab_2024_E57_Single_5mm.ply\"\n",
    "#pcd_path = r\"C:\\Users\\yanpe\\OneDrive - Metropolia Ammattikorkeakoulu Oy\\Research\\data\\hexagon\\Fira- 1001.ply\"\n",
    "pcd = o3d.io.read_point_cloud(pcd_path)"
   ]
  },
  {
   "cell_type": "code",
   "execution_count": 12,
   "metadata": {},
   "outputs": [
    {
     "name": "stdout",
     "output_type": "stream",
     "text": [
      "35966772\n",
      "35966772\n",
      "0\n"
     ]
    }
   ],
   "source": [
    "print(len(pcd.points))\n",
    "print(len(pcd.colors))\n",
    "print(len(pcd.normals))"
   ]
  },
  {
   "cell_type": "code",
   "execution_count": 21,
   "metadata": {},
   "outputs": [],
   "source": [
    "# Move the point cloud to its min(x,y,z) corner\n",
    " \n",
    "def move_to_corner(points):    \n",
    "    # Find the minimum x, y, z\n",
    "    min_xyz = points.min(axis=0)\n",
    "    # Translate the point cloud so that the min corner becomes the origin\n",
    "    moved_points = points - min_xyz\n",
    "    \n",
    "    return moved_points\n",
    "\n",
    "moved_points = move_to_corner(np.array(pcd.points))\n",
    "pcd.points = o3d.utility.Vector3dVector(moved_points)"
   ]
  },
  {
   "cell_type": "code",
   "execution_count": 16,
   "metadata": {},
   "outputs": [
    {
     "name": "stdout",
     "output_type": "stream",
     "text": [
      "Column 1: min = 25496152.443604, max = 25496166.549164\n",
      "Column 2: min = 6676355.158966, max = 6676370.686493\n",
      "Column 3: min = 45.603172, max = 48.431412\n",
      "None\n"
     ]
    }
   ],
   "source": [
    "# Check the range of points\n",
    "\n",
    "def array_range(array):\n",
    "    # Get min and max for each column\n",
    "    min_values = np.min(array, axis=0)\n",
    "    max_values = np.max(array, axis=0)\n",
    "\n",
    "    # Display ranges for each column\n",
    "    for i, (min_val, max_val) in enumerate(zip(min_values, max_values), start=1):\n",
    "        print(f\"Column {i}: min = {min_val}, max = {max_val}\")\n",
    "\n",
    "print(array_range(np.array(pcd.points)))"
   ]
  },
  {
   "cell_type": "code",
   "execution_count": 49,
   "metadata": {},
   "outputs": [],
   "source": [
    "#if not pcd.has_normals():\n",
    "#   pcd.estimate_normals()"
   ]
  },
  {
   "cell_type": "code",
   "execution_count": 22,
   "metadata": {},
   "outputs": [
    {
     "name": "stdout",
     "output_type": "stream",
     "text": [
      "866900\n"
     ]
    }
   ],
   "source": [
    "# Downsample the point cloud with a voxel of 0.02\n",
    "downpcd = pcd.voxel_down_sample(voxel_size=0.03)\n",
    "\n",
    "print(len(downpcd.points))"
   ]
  },
  {
   "cell_type": "code",
   "execution_count": 23,
   "metadata": {},
   "outputs": [],
   "source": [
    "o3d.visualization.draw_geometries([downpcd], point_show_normal=False)"
   ]
  },
  {
   "cell_type": "code",
   "execution_count": 1,
   "metadata": {},
   "outputs": [],
   "source": [
    "def normalize_points_center(points):\n",
    "    # Step 1: Center the points around the origin\n",
    "    centroid = np.mean(points, axis=0)\n",
    "    centered_points = points - centroid\n",
    "\n",
    "    # Step 2: Scale to fit within the [0, 1] interval\n",
    "    min_vals = np.min(centered_points, axis=0)\n",
    "    max_vals = np.max(centered_points, axis=0)\n",
    "    scale = max_vals - min_vals\n",
    "\n",
    "    # Avoid division by zero in case of flat dimension\n",
    "    scale[scale == 0] = 1  # Set zero scales to 1 to keep that dimension as 0.5 after normalization\n",
    "\n",
    "    normalized_points = (centered_points - min_vals) / scale\n",
    "\n",
    "    return normalized_points\n",
    "\n",
    "# normalized = normalize_points_center(np.array(downpcd.points))"
   ]
  },
  {
   "cell_type": "code",
   "execution_count": 23,
   "metadata": {},
   "outputs": [],
   "source": [
    "def normalize_points_corner(points):\n",
    "    # Step 1: Shift points so that the minimum x, y, z becomes the origin.\n",
    "    min_vals = np.min(points, axis=0)\n",
    "    shifted_points = points - min_vals  # Now the lower bound is (0,0,0)\n",
    "    \n",
    "    # Step 2: Compute the scaling factors from the shifted points.\n",
    "    # The maximum after shifting represents the range in each dimension.\n",
    "    max_vals = np.max(shifted_points, axis=0)\n",
    "    scale = max_vals.copy()\n",
    "    \n",
    "    # Avoid division by zero if any dimension is flat.\n",
    "    scale[scale == 0] = 1\n",
    "    \n",
    "    # Normalize the shifted points to the [0, 1] interval.\n",
    "    normalized_points = shifted_points / scale\n",
    "\n",
    "    return normalized_points\n",
    "\n",
    "normalized = normalize_points_corner(np.array(downpcd.points))"
   ]
  },
  {
   "cell_type": "code",
   "execution_count": 24,
   "metadata": {},
   "outputs": [],
   "source": [
    "# Extract coordinates and colors from the point cloud\n",
    "down_points = torch.tensor(np.array(downpcd.points), dtype=torch.float32)  \n",
    "down_colors = torch.tensor(np.array(downpcd.colors), dtype=torch.float32)\n",
    "down_normalized = torch.tensor(normalized, dtype=torch.float32)"
   ]
  },
  {
   "cell_type": "code",
   "execution_count": 17,
   "metadata": {},
   "outputs": [],
   "source": [
    "# 6 Features data\n",
    "\n",
    "# Concatenate coordinates and colors to form the input features\n",
    "x = torch.cat([down_colors, down_normalized], dim=1) # 6 (x)\n",
    "# Create a Data object with x (6 features) and pos (coordinates)\n",
    "data = Data(x=x, pos=down_points)\n",
    "\n",
    "#pre_transform = T.NormalizeScale()\n",
    "#data = pre_transform(data)\n"
   ]
  },
  {
   "cell_type": "code",
   "execution_count": 25,
   "metadata": {},
   "outputs": [],
   "source": [
    "# 3 Features data\n",
    "\n",
    "# Create a Data object with x (3 features) and pos (coordinates)\n",
    "data = Data(x=down_normalized, pos=down_points)\n",
    "\n",
    "#data = data.to(device)\n",
    "\n",
    "#pre_transform = T.NormalizeScale()\n",
    "#data = pre_transform(data)"
   ]
  },
  {
   "cell_type": "code",
   "execution_count": 88,
   "metadata": {},
   "outputs": [
    {
     "data": {
      "text/plain": [
       "22"
      ]
     },
     "execution_count": 88,
     "metadata": {},
     "output_type": "execute_result"
    }
   ],
   "source": [
    "import os\n",
    "os.cpu_count()"
   ]
  },
  {
   "cell_type": "code",
   "execution_count": 26,
   "metadata": {},
   "outputs": [],
   "source": [
    "# If you have only one point cloud\n",
    "dataset = [data]  # List of Data objects\n",
    "\n",
    "num_workers = 20\n",
    "batch_size = 32\n",
    "\n",
    "# Create a DataLoader (batch_size can be adjusted as needed)\n",
    "custom_loader = DataLoader(dataset, batch_size=batch_size, shuffle=False,\n",
    "                         num_workers=num_workers, pin_memory=True)"
   ]
  },
  {
   "cell_type": "code",
   "execution_count": 27,
   "metadata": {},
   "outputs": [
    {
     "name": "stdout",
     "output_type": "stream",
     "text": [
      "Label counts:\n",
      "tensor([[     0, 126420],\n",
      "        [     1, 144569],\n",
      "        [     2, 249890],\n",
      "        [     6,   5137],\n",
      "        [     7,    735],\n",
      "        [     8,   1661],\n",
      "        [    10,  39806],\n",
      "        [    12, 298682]])\n",
      "Total inference time: 270.3704 seconds\n",
      "-------------------------------------------------------  ------------  ------------  ------------  ------------  ------------  ------------  ------------  ------------  ------------  ------------  \n",
      "                                                   Name    Self CPU %      Self CPU   CPU total %     CPU total  CPU time avg     Self CUDA   Self CUDA %    CUDA total  CUDA time avg    # of Calls  \n",
      "-------------------------------------------------------  ------------  ------------  ------------  ------------  ------------  ------------  ------------  ------------  ------------  ------------  \n",
      "                                     torch_cluster::fps         0.01%      31.894ms         0.04%      98.138ms      49.069ms      242.526s        91.21%      242.592s      121.296s             2  \n",
      "                                           aten::linear         0.00%       2.799ms         0.96%        2.551s      67.138ms       1.313ms         0.00%       15.062s     396.358ms            38  \n",
      "enumerate(DataLoader)#_MultiProcessingDataLoaderIter...         3.46%        9.212s         3.46%        9.212s        4.606s        9.213s         3.46%        9.213s        4.606s             2  \n",
      "                                            aten::addmm         0.48%        1.272s         0.48%        1.272s      66.931ms        7.522s         2.83%        7.522s     395.887ms            19  \n",
      "                                       aten::batch_norm         0.00%     489.588us         1.41%        3.755s     375.465ms      75.000us         0.00%        3.361s     336.140ms            10  \n",
      "                           aten::_batch_norm_impl_index         0.00%     759.784us         1.41%        3.754s     375.416ms     109.000us         0.00%        3.361s     336.132ms            10  \n",
      "                                aten::native_batch_norm         1.41%        3.751s         1.41%        3.753s     375.335ms      39.163ms         0.01%        3.361s     336.118ms            10  \n",
      "                                    aten::empty_strided         0.00%       3.202ms         0.00%       3.202ms      45.102us        3.325s         1.25%        3.325s      46.828ms            71  \n",
      "                                       aten::empty_like         0.00%     267.093us         0.00%       2.709ms     225.744us     596.000us         0.00%        3.323s     276.937ms            12  \n",
      "                                     torch_cluster::knn         0.00%       9.324ms         0.67%        1.793s     597.620ms        1.787s         0.67%        1.794s     598.097ms             3  \n",
      "                                  torch_cluster::radius         0.00%      10.442ms         0.31%     822.188ms     411.094ms     802.541ms         0.30%     829.740ms     414.870ms             2  \n",
      "                                  aten::scatter_reduce_         0.00%       1.191ms         0.00%       1.490ms     496.722us     242.745ms         0.09%     266.886ms      88.962ms             3  \n",
      "                                     aten::index_select         0.02%      48.171ms         0.02%      49.635ms       8.273ms      45.372ms         0.02%      53.146ms       8.858ms             6  \n",
      "                                              aten::cat         0.00%       8.353ms         0.00%       8.585ms     536.537us      40.542ms         0.02%      40.699ms       2.544ms            16  \n",
      "                                             aten::relu         0.00%     235.896us         0.00%      13.005ms       1.084ms      89.000us         0.00%      39.771ms       3.314ms            12  \n",
      "                                        aten::clamp_min         0.00%      12.769ms         0.00%      12.769ms       1.064ms      39.682ms         0.01%      39.682ms       3.307ms            12  \n",
      "                                               aten::to         0.00%       1.434ms         2.26%        6.003s      90.961ms       1.797ms         0.00%      35.064ms     531.273us            66  \n",
      "                                            aten::copy_         2.26%        6.003s         2.26%        6.003s      84.554ms      34.091ms         0.01%      34.091ms     480.155us            71  \n",
      "                                         aten::_to_copy         0.00%       2.539ms         2.26%        6.002s     101.729ms       1.627ms         0.00%      33.267ms     563.847us            59  \n",
      "                                           aten::cumsum         0.01%      26.992ms         0.01%      26.997ms       6.749ms      25.952ms         0.01%      26.036ms       6.509ms             4  \n",
      "                                              aten::max         0.01%      24.771ms         0.01%      24.909ms       1.916ms      25.342ms         0.01%      25.638ms       1.972ms            13  \n",
      "                                              aten::sub         0.01%      20.532ms         0.01%      20.532ms       2.933ms      24.267ms         0.01%      24.267ms       3.467ms             7  \n",
      "                                         aten::scatter_         0.00%     286.493us         0.00%     293.493us      97.831us      24.107ms         0.01%      24.121ms       8.040ms             3  \n",
      "                                              aten::mul         0.00%       9.728ms         0.00%       9.728ms     748.344us      20.376ms         0.01%      20.376ms       1.567ms            13  \n",
      "                                     aten::scatter_add_         0.00%       7.870ms         0.00%       7.889ms     986.126us      20.090ms         0.01%      20.221ms       2.528ms             8  \n",
      "                                    aten::masked_select         0.00%       1.349ms         0.69%        1.832s     183.228ms       3.047ms         0.00%      18.794ms       1.879ms            10  \n",
      "                                             aten::ceil         0.01%      16.652ms         0.01%      16.652ms       8.326ms      16.712ms         0.01%      16.712ms       8.356ms             2  \n",
      "                                         aten::_unique2         0.01%      16.340ms         0.01%      16.508ms      16.508ms      16.292ms         0.01%      16.512ms      16.512ms             1  \n",
      "                                          aten::resize_         0.00%       2.492ms         0.00%       2.492ms      62.291us      15.899ms         0.01%      15.899ms     397.475us            40  \n",
      "                                        aten::new_zeros         0.00%     620.387us         0.00%       8.406ms     600.407us     478.000us         0.00%      10.795ms     771.071us            14  \n",
      "                                          aten::nonzero         0.69%        1.828s         0.69%        1.830s     182.992ms       6.742ms         0.00%      10.727ms       1.073ms            10  \n",
      "                                            aten::fill_         0.00%       7.336ms         0.00%       7.336ms     271.719us      10.183ms         0.00%      10.183ms     377.148us            27  \n",
      "                                            aten::stack         0.00%     463.387us         0.00%       2.351ms     293.868us     124.000us         0.00%      10.077ms       1.260ms             8  \n",
      "                                            aten::zero_         0.00%     395.989us         0.00%       7.438ms     464.864us     313.000us         0.00%       9.736ms     608.500us            16  \n",
      "                                            aten::index        86.84%      230.877s        86.84%      230.877s       10.994s       8.986ms         0.00%       9.519ms     453.286us            21  \n",
      "                                              aten::sum         0.00%       9.280ms         0.00%       9.280ms       3.093ms       9.328ms         0.00%       9.328ms       3.109ms             3  \n",
      "                                              aten::div         0.00%       5.459ms         0.00%       5.459ms       1.820ms       8.176ms         0.00%       8.176ms       2.725ms             3  \n",
      "                                           aten::arange         0.00%       3.975ms         0.00%       6.731ms     305.933us       3.868ms         0.00%       6.758ms     307.182us            22  \n",
      "                                            aten::empty         0.00%       1.849ms         0.00%       1.849ms      13.904us       5.990ms         0.00%       5.990ms      45.038us           133  \n",
      "                                             aten::full         0.00%     343.893us         0.00%       1.365ms     151.674us     208.000us         0.00%       5.467ms     607.444us             9  \n",
      "                                           aten::argmax         0.00%       4.485ms         0.00%       4.489ms       4.489ms       4.756ms         0.00%       4.767ms       4.767ms             1  \n",
      "                                             aten::rand         0.00%     417.289us         0.00%       2.166ms       1.083ms     365.000us         0.00%       2.179ms       1.089ms             2  \n",
      "                                             aten::item         0.00%     928.577us         4.44%       11.816s     381.169ms     627.000us         0.00%       1.776ms      57.290us            31  \n",
      "                                         aten::uniform_         0.00%       1.724ms         0.00%       1.724ms     861.830us       1.758ms         0.00%       1.758ms     879.000us             2  \n",
      "                                        aten::ones_like         0.00%     163.795us         0.00%     685.483us     342.742us      88.000us         0.00%       1.697ms     848.500us             2  \n",
      "                                           aten::select         0.00%     908.973us         0.00%     958.273us      19.165us     934.000us         0.00%       1.287ms      25.740us            50  \n",
      "                                       aten::as_strided         0.00%     291.297us         0.00%     291.297us       1.674us       1.284ms         0.00%       1.284ms       7.379us           174  \n",
      "                              aten::_local_scalar_dense         4.44%       11.815s         4.44%       11.815s     381.139ms       1.149ms         0.00%       1.149ms      37.065us            31  \n",
      "                                                aten::t         0.00%     512.790us         0.00%       1.577ms      54.392us     341.000us         0.00%       1.007ms      34.724us            29  \n",
      "                                          aten::reshape         0.00%     564.782us         0.00%     888.477us      27.765us     487.000us         0.00%     953.000us      29.781us            32  \n",
      "                                        aten::expand_as         0.00%     122.199us         0.00%     351.193us      39.021us      73.000us         0.00%     766.000us      85.111us             9  \n",
      "                                           aten::unbind         0.00%     338.095us         0.00%     691.484us     230.495us     184.000us         0.00%     718.000us     239.333us             3  \n",
      "                                           aten::expand         0.00%     213.595us         0.00%     228.994us      25.444us     658.000us         0.00%     693.000us      77.000us             9  \n",
      "                                        aten::new_empty         0.00%     251.596us         0.00%     432.391us      30.885us     512.000us         0.00%     680.000us      48.571us            14  \n",
      "                                        aten::transpose         0.00%       1.000ms         0.00%       1.065ms      36.709us     424.000us         0.00%     666.000us      22.966us            29  \n",
      "                                             aten::view         0.00%     484.591us         0.00%     484.591us       9.692us     628.000us         0.00%     628.000us      12.560us            50  \n",
      "                                               aten::ne         0.28%     756.571ms         0.28%     756.571ms     151.314ms     604.000us         0.00%     604.000us     120.800us             5  \n",
      "                                           aten::narrow         0.00%     178.397us         0.00%     465.490us      38.791us     148.000us         0.00%     440.000us      36.667us            12  \n",
      "                                      aten::log_softmax         0.00%     374.792us         0.02%      52.312ms      52.312ms       7.000us         0.00%     427.000us     427.000us             1  \n",
      "                                     aten::_log_softmax         0.02%      51.937ms         0.02%      51.937ms      51.937ms     420.000us         0.00%     420.000us     420.000us             1  \n",
      "                                            aten::slice         0.00%     364.690us         0.00%     397.690us      28.406us     275.000us         0.00%     411.000us      29.357us            14  \n",
      "                                            aten::zeros         0.00%     104.096us         0.00%     201.594us     100.797us      90.000us         0.00%     214.000us     107.000us             2  \n",
      "                                            aten::clamp         0.00%     212.593us         0.00%     216.793us      72.264us     187.000us         0.00%     203.000us      67.667us             3  \n",
      "                                             aten::set_         0.00%     379.888us         0.00%     379.888us      27.135us     155.000us         0.00%     155.000us      11.071us            14  \n",
      "                                       aten::reciprocal         0.00%     366.492us         0.00%     366.492us     122.164us     122.000us         0.00%     122.000us      40.667us             3  \n",
      "                                          aten::detach_         0.00%      80.798us         0.00%      92.197us      46.099us      73.000us         0.00%     105.000us      52.500us             2  \n",
      "                                        aten::unsqueeze         0.00%      69.798us         0.00%      74.498us      37.249us      50.000us         0.00%      83.000us      41.500us             2  \n",
      "                                          aten::dropout         0.00%      23.999us         0.00%      23.999us       1.263us      68.000us         0.00%      68.000us       3.579us            19  \n",
      "                                          aten::random_         0.00%      34.499us         0.00%      34.499us      34.499us      55.000us         0.00%      55.000us      55.000us             1  \n",
      "                                     aten::resolve_conj         0.00%       2.500us         0.00%       2.500us       0.312us      39.000us         0.00%      39.000us       4.875us             8  \n",
      "                                                detach_         0.00%      11.399us         0.00%      11.399us       5.699us      32.000us         0.00%      32.000us      16.000us             2  \n",
      "                                      aten::resolve_neg         0.00%       1.400us         0.00%       1.400us       0.175us      30.000us         0.00%      30.000us       3.750us             8  \n",
      "                                       aten::lift_fresh         0.00%       2.300us         0.00%       2.300us       1.150us      20.000us         0.00%      20.000us      10.000us             2  \n",
      "-------------------------------------------------------  ------------  ------------  ------------  ------------  ------------  ------------  ------------  ------------  ------------  ------------  \n",
      "Self CPU time total: 265.872s\n",
      "Self CUDA time total: 265.886s\n",
      "\n"
     ]
    }
   ],
   "source": [
    "import time\n",
    "\n",
    "model.eval()\n",
    "\n",
    "import torch.profiler\n",
    "\n",
    "with torch.profiler.profile(\n",
    "    activities=[torch.profiler.ProfilerActivity.CPU, torch.profiler.ProfilerActivity.CUDA],\n",
    "    record_shapes=True,\n",
    ") as prof:\n",
    "\n",
    "    with torch.no_grad():\n",
    "        start_time = time.time()\n",
    "        for data in custom_loader:\n",
    "            data = data.to(device)\n",
    "            with torch.amp.autocast(\"cuda\"):\n",
    "                predictions = model(data)\n",
    "            labels = predictions.argmax(dim=-1)\n",
    "            # Process the labels as needed\n",
    "            #labels_arr = labels.cpu().numpy()\n",
    "            # Count occurrences of labels\n",
    "            unique_labels, label_counts = torch.unique(labels, return_counts=True)\n",
    "            # Combine and print\n",
    "            #result_labels = np.array(list(zip(unique_labels, label_counts)))\n",
    "            #print(\"Label counts:\")\n",
    "            #for label, count in zip(unique_labels, label_counts):\n",
    "            #    print(f\"Label {label.item()}: {count.item()}\")\n",
    "            result_labels = torch.stack((unique_labels, label_counts), dim=1).cpu()\n",
    "            print(\"Label counts:\")\n",
    "            print(result_labels)\n",
    "        end_time = time.time()\n",
    "        print(f\"Total inference time: {end_time - start_time:.4f} seconds\")  \n",
    "    \n",
    "print(prof.key_averages().table(sort_by=\"cuda_time_total\"))\n",
    "\n"
   ]
  },
  {
   "cell_type": "code",
   "execution_count": 21,
   "metadata": {},
   "outputs": [],
   "source": [
    "# Save profiler output to csv\n",
    "import csv\n",
    "\n",
    "# Generate the profiling table\n",
    "table_str = prof.key_averages().table(sort_by=\"cuda_time_total\")\n",
    "\n",
    "# Split into lines and clean\n",
    "lines = table_str.split('\\n')\n",
    "header = lines[6].strip().split()\n",
    "rows = [line.strip().split(None, len(header)-1) for line in lines[7:] if line.strip()]\n",
    "\n",
    "# Save as CSV\n",
    "profiler_record = \"../docs/original_x6_prediction_profiler_output.csv\"\n",
    "with open(profiler_record, \"w\", newline='') as f:\n",
    "    writer = csv.writer(f)\n",
    "    writer.writerow(header)\n",
    "    writer.writerows(rows)"
   ]
  },
  {
   "cell_type": "markdown",
   "metadata": {},
   "source": [
    "batch_size 32, num_workers 16: prediction 7min\n",
    "\n",
    "batch_size = 32, num_workers 20: prediction 5min\n",
    "\n",
    "batch_size = 32, num_workers 20, pin_memory=True: prediction 4.5min\n",
    "\n"
   ]
  },
  {
   "cell_type": "code",
   "execution_count": 28,
   "metadata": {},
   "outputs": [],
   "source": [
    "# Assuming `labels` is the tensor containing predicted labels for each point\n",
    "predicted_colors = color_map[labels.cpu().numpy()]  # Shape: [num_points, 3]\n"
   ]
  },
  {
   "cell_type": "code",
   "execution_count": 19,
   "metadata": {},
   "outputs": [
    {
     "name": "stdout",
     "output_type": "stream",
     "text": [
      "866900\n"
     ]
    }
   ],
   "source": [
    "print(len(predicted_colors))"
   ]
  },
  {
   "cell_type": "code",
   "execution_count": 29,
   "metadata": {},
   "outputs": [],
   "source": [
    "# Assuming `pcd` is your Open3D point cloud object\n",
    "downpcd.colors = o3d.utility.Vector3dVector(predicted_colors)"
   ]
  },
  {
   "cell_type": "code",
   "execution_count": 30,
   "metadata": {},
   "outputs": [],
   "source": [
    "# Visualize the point cloud with colored labels\n",
    "o3d.visualization.draw_geometries([downpcd])"
   ]
  },
  {
   "cell_type": "code",
   "execution_count": 19,
   "metadata": {},
   "outputs": [
    {
     "data": {
      "text/plain": [
       "True"
      ]
     },
     "execution_count": 19,
     "metadata": {},
     "output_type": "execute_result"
    }
   ],
   "source": [
    "# Save the point cloud to a file\n",
    "save_path = \"C:/Users/yanpe/OneDrive - Metropolia Ammattikorkeakoulu Oy/Research/data/smartlab/labelled/Smartlab_simulated_transform_label_pointnet2_x3_0.03_20250423.ply\"\n",
    "o3d.io.write_point_cloud(save_path, downpcd)\n"
   ]
  },
  {
   "cell_type": "code",
   "execution_count": 21,
   "metadata": {},
   "outputs": [],
   "source": [
    "del down_points\n",
    "del down_colors\n",
    "torch.cuda.empty_cache()"
   ]
  }
 ],
 "metadata": {
  "kernelspec": {
   "display_name": "Python 3",
   "language": "python",
   "name": "python3"
  },
  "language_info": {
   "codemirror_mode": {
    "name": "ipython",
    "version": 3
   },
   "file_extension": ".py",
   "mimetype": "text/x-python",
   "name": "python",
   "nbconvert_exporter": "python",
   "pygments_lexer": "ipython3",
   "version": "3.12.10"
  }
 },
 "nbformat": 4,
 "nbformat_minor": 2
}
