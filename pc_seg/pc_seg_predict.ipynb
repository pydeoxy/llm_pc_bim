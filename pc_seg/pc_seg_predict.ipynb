{
 "cells": [
  {
   "cell_type": "code",
   "execution_count": 1,
   "metadata": {},
   "outputs": [
    {
     "name": "stdout",
     "output_type": "stream",
     "text": [
      "['C:\\\\Program Files\\\\WindowsApps\\\\PythonSoftwareFoundation.Python.3.12_3.12.2800.0_x64__qbz5n2kfra8p0\\\\python312.zip', 'C:\\\\Program Files\\\\WindowsApps\\\\PythonSoftwareFoundation.Python.3.12_3.12.2800.0_x64__qbz5n2kfra8p0\\\\DLLs', 'C:\\\\Program Files\\\\WindowsApps\\\\PythonSoftwareFoundation.Python.3.12_3.12.2800.0_x64__qbz5n2kfra8p0\\\\Lib', 'C:\\\\Program Files\\\\WindowsApps\\\\PythonSoftwareFoundation.Python.3.12_3.12.2800.0_x64__qbz5n2kfra8p0', '', 'C:\\\\Users\\\\yanpe\\\\AppData\\\\Local\\\\Packages\\\\PythonSoftwareFoundation.Python.3.12_qbz5n2kfra8p0\\\\LocalCache\\\\local-packages\\\\Python312\\\\site-packages', 'C:\\\\Users\\\\yanpe\\\\AppData\\\\Local\\\\Packages\\\\PythonSoftwareFoundation.Python.3.12_qbz5n2kfra8p0\\\\LocalCache\\\\local-packages\\\\Python312\\\\site-packages\\\\win32', 'C:\\\\Users\\\\yanpe\\\\AppData\\\\Local\\\\Packages\\\\PythonSoftwareFoundation.Python.3.12_qbz5n2kfra8p0\\\\LocalCache\\\\local-packages\\\\Python312\\\\site-packages\\\\win32\\\\lib', 'C:\\\\Users\\\\yanpe\\\\AppData\\\\Local\\\\Packages\\\\PythonSoftwareFoundation.Python.3.12_qbz5n2kfra8p0\\\\LocalCache\\\\local-packages\\\\Python312\\\\site-packages\\\\Pythonwin', 'C:\\\\Program Files\\\\WindowsApps\\\\PythonSoftwareFoundation.Python.3.12_3.12.2800.0_x64__qbz5n2kfra8p0\\\\Lib\\\\site-packages', 'C:\\\\Users\\\\yanpe\\\\.env\\\\Lib\\\\site-packages']\n"
     ]
    }
   ],
   "source": [
    "import sys\n",
    "sys.path\n",
    "sys.path.append(r\"C:\\Users\\yanpe\\.env\\Lib\\site-packages\")\n",
    "print(sys.path)"
   ]
  },
  {
   "cell_type": "code",
   "execution_count": 21,
   "metadata": {},
   "outputs": [],
   "source": [
    "import os\n",
    "import open3d as o3d\n",
    "import numpy as np\n",
    "import torch\n",
    "from torch_geometric.data import Data\n",
    "from torch_geometric.loader import DataLoader\n",
    "import torch_geometric.transforms as T\n",
    "from torch_geometric.typing import WITH_TORCH_CLUSTER\n",
    "from pyg_pointnet2 import PyGPointNet2, PyGPointNet2NoColor\n",
    "from pc_label_map import color_map\n",
    "\n",
    "if not WITH_TORCH_CLUSTER:\n",
    "    quit(\"This example requires 'torch-cluster'\")"
   ]
  },
  {
   "cell_type": "code",
   "execution_count": 23,
   "metadata": {},
   "outputs": [],
   "source": [
    "# Empty the CUDA cache\n",
    "torch.cuda.empty_cache()"
   ]
  },
  {
   "cell_type": "code",
   "execution_count": 24,
   "metadata": {},
   "outputs": [],
   "source": [
    "device = torch.device('cuda' if torch.cuda.is_available() else 'cpu')\n",
    "#model = PyGPointNet2(num_classes=13).to(device) # x6 model\n",
    "model = PyGPointNet2NoColor(num_classes=13).to(device) # x3 model\n"
   ]
  },
  {
   "cell_type": "code",
   "execution_count": 25,
   "metadata": {},
   "outputs": [],
   "source": [
    "#model_file_path = \"checkpoints/pointnet2_s3dis_pretransform_seg_x6_45_checkpoint.pth\" # Orignial pretransformed x6 model\n",
    "#model_file_path = \"checkpoints/pointnet2_s3dis_transform_seg_x6_45_checkpoint.pth\" # Orignial transformed x6 model\n",
    "#model_file_path = \"checkpoints/pointnet2_s3dis_pretransform_seg_x3_45_checkpoint.pth\" # Orignial pretransformed x3 model\n",
    "#model_file_path = \"checkpoints/pointnet2_s3dis_transform_seg_x3_45_checkpoint.pth\" # Orignial transformed x3 model\n",
    "#model_file_path = \"checkpoints/pointnet2_smartlab_sim_transform_seg_x3_100_checkpoint.pth\" # Simulated transformed x3 model\n",
    "#model_file_path = \"checkpoints/pointnet2_smartlab_sim_pretransform_seg_x3_100_checkpoint.pth\" # Simulated pretransformed x3 model\n",
    "#model_file_path = \"checkpoints/smartlab_fine_tuning_transform_x3_50_20250611.pth\" # Fine-tuned model\n",
    "\n",
    "#model_file_path = \"checkpoints/pointnet2_smartlab_sim_noise_seg_x3_50_checkpoint.pth\" # Simulated transformed x3 model with noise\n",
    "model_file_path = \"checkpoints/smartlab_fine_tuning_transform_x3_50_20250831.pth\" # Fine-tuned model\n"
   ]
  },
  {
   "cell_type": "code",
   "execution_count": 26,
   "metadata": {},
   "outputs": [],
   "source": [
    "# Load the checkpoint dictionary\n",
    "checkpoint = torch.load(model_file_path, map_location=device)\n",
    "# Extract the model state dictionary\n",
    "model_state_dict = checkpoint['model_state_dict']\n"
   ]
  },
  {
   "cell_type": "code",
   "execution_count": 27,
   "metadata": {},
   "outputs": [
    {
     "data": {
      "text/plain": [
       "PyGPointNet2NoColor(\n",
       "  (sa1_module): SAModule(\n",
       "    (conv): PointNetConv(local_nn=MLP(6, 64, 64, 128), global_nn=None)\n",
       "  )\n",
       "  (sa2_module): SAModule(\n",
       "    (conv): PointNetConv(local_nn=MLP(131, 128, 128, 256), global_nn=None)\n",
       "  )\n",
       "  (sa3_module): GlobalSAModule(\n",
       "    (nn): MLP(259, 256, 512, 1024)\n",
       "  )\n",
       "  (fp3_module): FPModule(\n",
       "    (nn): MLP(1280, 256, 256)\n",
       "  )\n",
       "  (fp2_module): FPModule(\n",
       "    (nn): MLP(384, 256, 128)\n",
       "  )\n",
       "  (fp1_module): FPModule(\n",
       "    (nn): MLP(131, 128, 128, 128)\n",
       "  )\n",
       "  (mlp): MLP(128, 128, 128, 13)\n",
       "  (lin1): Linear(in_features=128, out_features=128, bias=True)\n",
       "  (lin2): Linear(in_features=128, out_features=128, bias=True)\n",
       "  (lin3): Linear(in_features=128, out_features=13, bias=True)\n",
       ")"
      ]
     },
     "execution_count": 27,
     "metadata": {},
     "output_type": "execute_result"
    }
   ],
   "source": [
    "model.load_state_dict(model_state_dict)\n",
    "model.eval()"
   ]
  },
  {
   "cell_type": "code",
   "execution_count": 28,
   "metadata": {},
   "outputs": [],
   "source": [
    "# Pcd files\n",
    "#pcd_path = \"C:/Users/yanpe/OneDrive - Metropolia Ammattikorkeakoulu Oy/Research/data/smartlab/Smartlab-2024-04-05_10-58-26_colour_cleaned.pcd\"\n",
    "pcd_path = \"C:/Users/yanpe/OneDrive - Metropolia Ammattikorkeakoulu Oy/Research/data/smartlab/SmartLab_2024_E57_Single_5mm.pcd\"\n",
    "#pcd_path = \"C:/Users/yanpe/OneDrive - Metropolia Ammattikorkeakoulu Oy/Research/data/smartlab/SmartLab_2024_E57_Single_5mm.ply\"\n",
    "#pcd_path = r\"C:\\Users\\yanpe\\OneDrive - Metropolia Ammattikorkeakoulu Oy\\Research\\data\\hexagon\\Fira- 1001.ply\"\n",
    "pcd = o3d.io.read_point_cloud(pcd_path)"
   ]
  },
  {
   "cell_type": "code",
   "execution_count": 123,
   "metadata": {},
   "outputs": [
    {
     "name": "stdout",
     "output_type": "stream",
     "text": [
      "169443222\n",
      "169443222\n",
      "0\n"
     ]
    }
   ],
   "source": [
    "print(len(pcd.points))\n",
    "print(len(pcd.colors))\n",
    "print(len(pcd.normals))"
   ]
  },
  {
   "cell_type": "code",
   "execution_count": 29,
   "metadata": {},
   "outputs": [],
   "source": [
    "# Move the point cloud to its min(x,y,z) corner\n",
    " \n",
    "def move_to_corner(points):    \n",
    "    # Find the minimum x, y, z\n",
    "    min_xyz = points.min(axis=0)\n",
    "    # Translate the point cloud so that the min corner becomes the origin\n",
    "    moved_points = points - min_xyz\n",
    "    \n",
    "    return moved_points\n",
    "\n",
    "moved_points = move_to_corner(np.array(pcd.points))\n",
    "pcd.points = o3d.utility.Vector3dVector(moved_points)"
   ]
  },
  {
   "cell_type": "code",
   "execution_count": 30,
   "metadata": {},
   "outputs": [
    {
     "name": "stdout",
     "output_type": "stream",
     "text": [
      "Column 1: min = 0.0, max = 10.791000008583069\n",
      "Column 2: min = 0.0, max = 11.177000045776367\n",
      "Column 3: min = 0.0, max = 3.4570000171661377\n",
      "None\n"
     ]
    }
   ],
   "source": [
    "# Check the range of points\n",
    "\n",
    "def array_range(array):\n",
    "    # Get min and max for each column\n",
    "    min_values = np.min(array, axis=0)\n",
    "    max_values = np.max(array, axis=0)\n",
    "\n",
    "    # Display ranges for each column\n",
    "    for i, (min_val, max_val) in enumerate(zip(min_values, max_values), start=1):\n",
    "        print(f\"Column {i}: min = {min_val}, max = {max_val}\")\n",
    "\n",
    "print(array_range(np.array(pcd.points)))"
   ]
  },
  {
   "cell_type": "code",
   "execution_count": 49,
   "metadata": {},
   "outputs": [],
   "source": [
    "#if not pcd.has_normals():\n",
    "#   pcd.estimate_normals()"
   ]
  },
  {
   "cell_type": "code",
   "execution_count": 31,
   "metadata": {},
   "outputs": [
    {
     "name": "stdout",
     "output_type": "stream",
     "text": [
      "866900\n"
     ]
    }
   ],
   "source": [
    "# Downsample the point cloud with a voxel of 0.03\n",
    "downpcd = pcd.voxel_down_sample(voxel_size=0.03)\n",
    "\n",
    "print(len(downpcd.points))"
   ]
  },
  {
   "cell_type": "code",
   "execution_count": 79,
   "metadata": {},
   "outputs": [],
   "source": [
    "o3d.visualization.draw_geometries([downpcd], point_show_normal=False)"
   ]
  },
  {
   "cell_type": "code",
   "execution_count": 127,
   "metadata": {},
   "outputs": [],
   "source": [
    "def normalize_points_center(points):\n",
    "    # Step 1: Center the points around the origin\n",
    "    centroid = np.mean(points, axis=0)\n",
    "    centered_points = points - centroid\n",
    "\n",
    "    # Step 2: Scale to fit within the [0, 1] interval\n",
    "    min_vals = np.min(centered_points, axis=0)\n",
    "    max_vals = np.max(centered_points, axis=0)\n",
    "    scale = max_vals - min_vals\n",
    "\n",
    "    # Avoid division by zero in case of flat dimension\n",
    "    scale[scale == 0] = 1  # Set zero scales to 1 to keep that dimension as 0.5 after normalization\n",
    "\n",
    "    normalized_points = (centered_points - min_vals) / scale\n",
    "\n",
    "    return normalized_points\n",
    "\n",
    "# normalized = normalize_points_center(np.array(downpcd.points))"
   ]
  },
  {
   "cell_type": "code",
   "execution_count": 32,
   "metadata": {},
   "outputs": [],
   "source": [
    "def normalize_points_corner(points):\n",
    "    # Step 1: Shift points so that the minimum x, y, z becomes the origin.\n",
    "    min_vals = np.min(points, axis=0)\n",
    "    shifted_points = points - min_vals  # Now the lower bound is (0,0,0)\n",
    "    \n",
    "    # Step 2: Compute the scaling factors from the shifted points.\n",
    "    # The maximum after shifting represents the range in each dimension.\n",
    "    max_vals = np.max(shifted_points, axis=0)\n",
    "    scale = max_vals.copy()\n",
    "    \n",
    "    # Avoid division by zero if any dimension is flat.\n",
    "    scale[scale == 0] = 1\n",
    "    \n",
    "    # Normalize the shifted points to the [0, 1] interval.\n",
    "    normalized_points = shifted_points / scale\n",
    "\n",
    "    return normalized_points\n",
    "\n",
    "normalized = normalize_points_corner(np.array(downpcd.points))"
   ]
  },
  {
   "cell_type": "code",
   "execution_count": 33,
   "metadata": {},
   "outputs": [],
   "source": [
    "# Extract coordinates and colors from the point cloud\n",
    "down_points = torch.tensor(np.array(downpcd.points), dtype=torch.float32)  \n",
    "down_colors = torch.tensor(np.array(downpcd.colors), dtype=torch.float32)\n",
    "down_normalized = torch.tensor(normalized, dtype=torch.float32)"
   ]
  },
  {
   "cell_type": "code",
   "execution_count": 130,
   "metadata": {},
   "outputs": [],
   "source": [
    "# 6 Features data\n",
    "\n",
    "# Concatenate coordinates and colors to form the input features\n",
    "x = torch.cat([down_colors, down_normalized], dim=1) # 6 (x)\n",
    "# Create a Data object with x (6 features) and pos (coordinates)\n",
    "data = Data(x=x, pos=down_points)\n",
    "\n",
    "#pre_transform = T.NormalizeScale()\n",
    "#data = pre_transform(data)\n"
   ]
  },
  {
   "cell_type": "code",
   "execution_count": 34,
   "metadata": {},
   "outputs": [],
   "source": [
    "# 3 Features data\n",
    "\n",
    "# Create a Data object with x (3 features) and pos (coordinates)\n",
    "data = Data(x=down_normalized, pos=down_points)\n",
    "\n",
    "#data = data.to(device)\n",
    "\n",
    "#pre_transform = T.NormalizeScale()\n",
    "#data = pre_transform(data)"
   ]
  },
  {
   "cell_type": "code",
   "execution_count": 35,
   "metadata": {},
   "outputs": [],
   "source": [
    "# If you have only one point cloud\n",
    "dataset = [data]  # List of Data objects\n",
    "\n",
    "num_workers = 20 # use os.cpu_count() to check number of cpu cores\n",
    "batch_size = 32\n",
    "\n",
    "# Create a DataLoader (batch_size can be adjusted as needed)\n",
    "custom_loader = DataLoader(dataset, batch_size=batch_size, shuffle=False,\n",
    "                         num_workers=num_workers, pin_memory=True)"
   ]
  },
  {
   "cell_type": "code",
   "execution_count": 36,
   "metadata": {},
   "outputs": [
    {
     "name": "stdout",
     "output_type": "stream",
     "text": [
      "Label counts:\n",
      "tensor([[     0, 122491],\n",
      "        [     1, 144211],\n",
      "        [     2, 175742],\n",
      "        [     6,   6312],\n",
      "        [     7,    982],\n",
      "        [     8,   5451],\n",
      "        [     9,     17],\n",
      "        [    10,   6618],\n",
      "        [    12, 405076]])\n",
      "Total inference time: 263.7567 seconds\n",
      "-------------------------------------------------------  ------------  ------------  ------------  ------------  ------------  ------------  ------------  ------------  ------------  ------------  \n",
      "                                                   Name    Self CPU %      Self CPU   CPU total %     CPU total  CPU time avg     Self CUDA   Self CUDA %    CUDA total  CUDA time avg    # of Calls  \n",
      "-------------------------------------------------------  ------------  ------------  ------------  ------------  ------------  ------------  ------------  ------------  ------------  ------------  \n",
      "                                     torch_cluster::fps         0.00%       3.385ms         0.00%       5.406ms       2.703ms      242.602s        93.43%      242.604s      121.302s             2  \n",
      "enumerate(DataLoader)#_MultiProcessingDataLoaderIter...         5.08%       13.182s         5.08%       13.182s        6.591s       13.182s         5.08%       13.182s        6.591s             2  \n",
      "                                     torch_cluster::knn         0.00%       1.264ms         0.70%        1.815s     605.115ms        1.811s         0.70%        1.817s     605.560ms             3  \n",
      "                                           aten::linear         0.00%       1.632ms         0.01%      38.419ms       1.011ms       1.205ms         0.00%        1.478s      38.897ms            38  \n",
      "                                  torch_cluster::radius         0.00%     313.900us         0.32%     828.043ms     414.021ms     803.223ms         0.31%     835.309ms     417.654ms             2  \n",
      "                                            aten::addmm         0.01%      15.937ms         0.01%      16.018ms     843.053us     729.939ms         0.28%     730.093ms      38.426ms            19  \n",
      "                                  aten::scatter_reduce_         0.00%     319.800us         0.00%     731.100us     243.700us     242.473ms         0.09%     263.641ms      87.880ms             3  \n",
      "                                       aten::batch_norm         0.00%     194.600us         0.00%       7.114ms     711.440us      61.000us         0.00%      54.471ms       5.447ms            10  \n",
      "                           aten::_batch_norm_impl_index         0.00%     548.700us         0.00%       6.920ms     691.980us     101.000us         0.00%      54.410ms       5.441ms            10  \n",
      "                                aten::native_batch_norm         0.00%     959.200us         0.00%       6.343ms     634.280us      35.666ms         0.01%      54.277ms       5.428ms            10  \n",
      "                                            aten::copy_         0.36%     927.118ms         0.36%     927.118ms      13.058ms      42.523ms         0.02%      42.523ms     598.915us            71  \n",
      "                                               aten::to         0.00%     962.700us         0.36%     921.819ms      13.967ms       1.048ms         0.00%      37.224ms     564.000us            66  \n",
      "                                         aten::_to_copy         0.00%       2.372ms         0.35%     920.857ms      15.608ms       1.764ms         0.00%      36.176ms     613.153us            59  \n",
      "                                              aten::cat         0.00%       3.116ms         0.00%       3.324ms     207.731us      34.711ms         0.01%      34.870ms       2.179ms            16  \n",
      "                                             aten::relu         0.00%     200.500us         0.00%     432.800us      36.067us      86.000us         0.00%      33.686ms       2.807ms            12  \n",
      "                                        aten::clamp_min         0.00%     232.300us         0.00%     232.300us      19.358us      33.600ms         0.01%      33.600ms       2.800ms            12  \n",
      "                                         aten::scatter_         0.00%     164.900us         0.00%     171.300us      57.100us      21.137ms         0.01%      21.150ms       7.050ms             3  \n",
      "                                    aten::empty_strided         0.00%       5.268ms         0.00%       5.268ms      74.194us      18.616ms         0.01%      18.616ms     262.197us            71  \n",
      "                                       aten::empty_like         0.00%     226.100us         0.00%       5.119ms     426.558us     572.000us         0.00%      18.471ms       1.539ms            12  \n",
      "                                    aten::masked_select         0.00%       1.597ms         1.01%        2.631s     263.097ms       2.830ms         0.00%      15.918ms       1.592ms            10  \n",
      "                                            aten::empty         0.00%       9.265ms         0.00%       9.265ms      69.665us      15.753ms         0.01%      15.753ms     118.444us           133  \n",
      "                                             aten::full         0.00%     340.100us         0.00%       9.175ms       1.019ms     181.000us         0.00%      15.532ms       1.726ms             9  \n",
      "                                     aten::index_select         0.00%     483.300us         0.00%       1.797ms     299.567us       8.568ms         0.00%      14.817ms       2.470ms             6  \n",
      "                                          aten::resize_         0.00%       2.527ms         0.00%       2.527ms      63.175us      14.198ms         0.01%      14.198ms     354.950us            40  \n",
      "                                     aten::scatter_add_         0.00%     440.100us         0.00%     475.100us      59.387us      13.541ms         0.01%      13.646ms       1.706ms             8  \n",
      "                                              aten::mul         0.00%     298.900us         0.00%     298.900us      22.992us      11.589ms         0.00%      11.589ms     891.462us            13  \n",
      "                                            aten::stack         0.00%     308.700us         0.00%       2.193ms     274.125us     119.000us         0.00%       9.700ms       1.212ms             8  \n",
      "                                          aten::nonzero         1.01%        2.627s         1.01%        2.628s     262.830ms       4.348ms         0.00%       8.271ms     827.100us            10  \n",
      "                                            aten::index         0.00%       1.354ms         0.00%       1.736ms      82.652us       7.413ms         0.00%       7.851ms     373.857us            21  \n",
      "                                              aten::div         0.00%      68.900us         0.00%      68.900us      22.967us       5.238ms         0.00%       5.238ms       1.746ms             3  \n",
      "                                        aten::new_zeros         0.00%     538.100us         0.00%       1.432ms     102.314us     405.000us         0.00%       4.500ms     321.429us            14  \n",
      "                                            aten::fill_         0.00%     496.900us         0.00%     496.900us      18.404us       4.402ms         0.00%       4.402ms     163.037us            27  \n",
      "                                              aten::sub         0.00%     809.600us         0.00%     809.600us     115.657us       4.145ms         0.00%       4.145ms     592.143us             7  \n",
      "                                            aten::zero_         0.00%     250.800us         0.00%     538.000us      33.625us     172.000us         0.00%       3.720ms     232.500us            16  \n",
      "                                             aten::item         0.00%       1.104ms        93.53%      242.865s        7.360s     509.000us         0.00%       2.851ms      86.394us            33  \n",
      "                              aten::_local_scalar_dense        93.53%      242.864s        93.53%      242.864s        7.360s       2.342ms         0.00%       2.342ms      70.970us            33  \n",
      "                                              aten::max         0.00%       1.150ms         0.00%       1.300ms     100.015us       1.161ms         0.00%       1.465ms     112.692us            13  \n",
      "                                           aten::select         0.00%     929.300us         0.00%     986.700us      18.617us     904.000us         0.00%       1.252ms      23.623us            53  \n",
      "                                           aten::arange         0.00%     668.800us         0.00%       1.100ms      49.991us     564.000us         0.00%       1.214ms      55.182us            22  \n",
      "                                       aten::as_strided         0.00%     518.700us         0.00%     518.700us       2.931us       1.157ms         0.00%       1.157ms       6.537us           177  \n",
      "                                                aten::t         0.00%     479.500us         0.00%       1.074ms      37.045us     297.000us         0.00%     791.000us      27.276us            29  \n",
      "                                           aten::unbind         0.00%     347.200us         0.00%     731.700us     243.900us     179.000us         0.00%     783.000us     261.000us             3  \n",
      "                                          aten::reshape         0.00%     530.800us         0.00%     610.900us      19.091us     487.000us         0.00%     715.000us      22.344us            32  \n",
      "                                         aten::_unique2         0.00%     325.200us         0.02%      54.017ms      54.017ms     373.000us         0.00%     604.000us     604.000us             1  \n",
      "                                           aten::cumsum         0.00%     443.700us         0.00%     447.600us     111.900us     444.000us         0.00%     542.000us     135.500us             4  \n",
      "                                        aten::transpose         0.00%     533.700us         0.00%     594.800us      20.510us     328.000us         0.00%     494.000us      17.034us            29  \n",
      "                                        aten::new_empty         0.00%     313.400us         0.00%     416.900us      29.779us     386.000us         0.00%     473.000us      33.786us            14  \n",
      "                                               aten::ne         0.00%     199.000us         0.00%     199.000us      39.800us     443.000us         0.00%     443.000us      88.600us             5  \n",
      "                                           aten::narrow         0.00%     187.400us         0.00%     406.700us      33.892us     108.000us         0.00%     410.000us      34.167us            12  \n",
      "                                              aten::sum         0.00%     115.300us         0.00%     115.300us      38.433us     370.000us         0.00%     370.000us     123.333us             3  \n",
      "                                            aten::slice         0.00%     298.600us         0.00%     315.200us      22.514us     218.000us         0.00%     334.000us      23.857us            14  \n",
      "                                             aten::view         0.00%     190.800us         0.00%     190.800us       3.816us     316.000us         0.00%     316.000us       6.320us            50  \n",
      "                                        aten::ones_like         0.00%      62.700us         0.00%     141.500us      70.750us     101.000us         0.00%     304.000us     152.000us             2  \n",
      "                                            aten::zeros         0.00%      66.700us         0.00%     136.000us      68.000us     152.000us         0.00%     281.000us     140.500us             2  \n",
      "                                        aten::expand_as         0.00%     130.200us         0.00%     319.500us      35.500us      74.000us         0.00%     280.000us      31.111us             9  \n",
      "                                           aten::argmax         0.00%      51.400us         0.00%      53.800us      53.800us     272.000us         0.00%     275.000us     275.000us             1  \n",
      "                                           aten::expand         0.00%     174.600us         0.00%     189.300us      21.033us     172.000us         0.00%     206.000us      22.889us             9  \n",
      "                                             aten::rand         0.00%      77.100us         0.00%     163.000us      81.500us      59.000us         0.00%     205.000us     102.500us             2  \n",
      "                                      aten::log_softmax         0.00%      36.100us         0.00%      65.900us      65.900us       7.000us         0.00%     174.000us     174.000us             1  \n",
      "                                     aten::_log_softmax         0.00%      29.800us         0.00%      29.800us      29.800us     167.000us         0.00%     167.000us     167.000us             1  \n",
      "                                          aten::detach_         0.00%      69.900us         0.00%      83.300us      41.650us      70.000us         0.00%     108.000us      54.000us             2  \n",
      "                                             aten::ceil         0.00%      61.500us         0.00%      61.500us      30.750us     108.000us         0.00%     108.000us      54.000us             2  \n",
      "                                             aten::set_         0.00%     257.800us         0.00%     257.800us      18.414us      77.000us         0.00%      77.000us       5.500us            14  \n",
      "                                            aten::clamp         0.00%      95.700us         0.00%      99.600us      33.200us      59.000us         0.00%      72.000us      24.000us             3  \n",
      "                                        aten::unsqueeze         0.00%      48.600us         0.00%      54.700us      27.350us      29.000us         0.00%      64.000us      32.000us             2  \n",
      "                                          aten::dropout         0.00%      20.800us         0.00%      20.800us       1.095us      57.000us         0.00%      57.000us       3.000us            19  \n",
      "                                       aten::reciprocal         0.00%     105.600us         0.00%     105.600us      35.200us      50.000us         0.00%      50.000us      16.667us             3  \n",
      "                                     aten::resolve_conj         0.00%       2.600us         0.00%       2.600us       0.289us      47.000us         0.00%      47.000us       5.222us             9  \n",
      "                                                detach_         0.00%      13.400us         0.00%      13.400us       6.700us      38.000us         0.00%      38.000us      19.000us             2  \n",
      "                                      aten::resolve_neg         0.00%       1.900us         0.00%       1.900us       0.211us      38.000us         0.00%      38.000us       4.222us             9  \n",
      "                                         aten::uniform_         0.00%      77.300us         0.00%      77.300us      38.650us      31.000us         0.00%      31.000us      15.500us             2  \n",
      "                                       aten::lift_fresh         0.00%       1.700us         0.00%       1.700us       0.850us      20.000us         0.00%      20.000us      10.000us             2  \n",
      "                                          aten::random_         0.00%      27.700us         0.00%      27.700us      27.700us       5.000us         0.00%       5.000us       5.000us             1  \n",
      "-------------------------------------------------------  ------------  ------------  ------------  ------------  ------------  ------------  ------------  ------------  ------------  ------------  \n",
      "Self CPU time total: 259.665s\n",
      "Self CUDA time total: 259.666s\n",
      "\n"
     ]
    }
   ],
   "source": [
    "import time\n",
    "\n",
    "model.eval()\n",
    "\n",
    "import torch.profiler\n",
    "\n",
    "with torch.profiler.profile(\n",
    "    activities=[torch.profiler.ProfilerActivity.CPU, torch.profiler.ProfilerActivity.CUDA],\n",
    "    record_shapes=True,\n",
    ") as prof:\n",
    "\n",
    "    with torch.no_grad():\n",
    "        start_time = time.time()\n",
    "        for data in custom_loader:\n",
    "            data = data.to(device)\n",
    "            with torch.amp.autocast(\"cuda\"):\n",
    "                predictions = model(data)\n",
    "            labels = predictions.argmax(dim=-1)\n",
    "            # Process the labels as needed\n",
    "            #labels_arr = labels.cpu().numpy()\n",
    "            # Count occurrences of labels\n",
    "            unique_labels, label_counts = torch.unique(labels, return_counts=True)\n",
    "            # Combine and print\n",
    "            #result_labels = np.array(list(zip(unique_labels, label_counts)))\n",
    "            #print(\"Label counts:\")\n",
    "            #for label, count in zip(unique_labels, label_counts):\n",
    "            #    print(f\"Label {label.item()}: {count.item()}\")\n",
    "            result_labels = torch.stack((unique_labels, label_counts), dim=1).cpu()\n",
    "            print(\"Label counts:\")\n",
    "            print(result_labels)\n",
    "        end_time = time.time()\n",
    "        print(f\"Total inference time: {end_time - start_time:.4f} seconds\")  \n",
    "    \n",
    "print(prof.key_averages().table(sort_by=\"cuda_time_total\"))\n",
    "\n"
   ]
  },
  {
   "cell_type": "code",
   "execution_count": 21,
   "metadata": {},
   "outputs": [],
   "source": [
    "'''# Save profiler output to csv\n",
    "import csv\n",
    "\n",
    "# Generate the profiling table\n",
    "table_str = prof.key_averages().table(sort_by=\"cuda_time_total\")\n",
    "\n",
    "# Split into lines and clean\n",
    "lines = table_str.split('\\n')\n",
    "header = lines[6].strip().split()\n",
    "rows = [line.strip().split(None, len(header)-1) for line in lines[7:] if line.strip()]\n",
    "\n",
    "# Save as CSV\n",
    "profiler_record = \"../docs/original_x6_prediction_profiler_output.csv\"\n",
    "with open(profiler_record, \"w\", newline='') as f:\n",
    "    writer = csv.writer(f)\n",
    "    writer.writerow(header)\n",
    "    writer.writerows(rows)'''"
   ]
  },
  {
   "cell_type": "markdown",
   "metadata": {},
   "source": [
    "batch_size 32, num_workers 16: prediction 7min\n",
    "\n",
    "batch_size = 32, num_workers 20: prediction 5min\n",
    "\n",
    "batch_size = 32, num_workers 20, pin_memory=True: prediction 4.5min\n",
    "\n"
   ]
  },
  {
   "cell_type": "code",
   "execution_count": 37,
   "metadata": {},
   "outputs": [],
   "source": [
    "# Assuming `labels` is the tensor containing predicted labels for each point\n",
    "predicted_colors = color_map[labels.cpu().numpy()]  # Shape: [num_points, 3]\n"
   ]
  },
  {
   "cell_type": "code",
   "execution_count": 19,
   "metadata": {},
   "outputs": [
    {
     "name": "stdout",
     "output_type": "stream",
     "text": [
      "866900\n"
     ]
    }
   ],
   "source": [
    "print(len(predicted_colors))"
   ]
  },
  {
   "cell_type": "code",
   "execution_count": 38,
   "metadata": {},
   "outputs": [],
   "source": [
    "# Assuming `pcd` is your Open3D point cloud object\n",
    "downpcd.colors = o3d.utility.Vector3dVector(predicted_colors)"
   ]
  },
  {
   "cell_type": "code",
   "execution_count": 39,
   "metadata": {},
   "outputs": [
    {
     "name": "stdout",
     "output_type": "stream",
     "text": [
      "[Open3D WARNING] [ViewControl] SetViewPoint() failed because window height and width are not set.\n"
     ]
    }
   ],
   "source": [
    "# Visualize the point cloud with colored labels\n",
    "o3d.visualization.draw_geometries([downpcd])"
   ]
  },
  {
   "cell_type": "code",
   "execution_count": 40,
   "metadata": {},
   "outputs": [
    {
     "data": {
      "text/plain": [
       "True"
      ]
     },
     "execution_count": 40,
     "metadata": {},
     "output_type": "execute_result"
    }
   ],
   "source": [
    "# Save the point cloud to a file\n",
    "save_path = \"C:/Users/yanpe/OneDrive - Metropolia Ammattikorkeakoulu Oy/Research/data/smartlab/labelled/Smartlab_finetune_noise_label_pointnet2_x3_0.03_20250831.ply\"\n",
    "o3d.io.write_point_cloud(save_path, downpcd)\n"
   ]
  },
  {
   "cell_type": "code",
   "execution_count": 41,
   "metadata": {},
   "outputs": [],
   "source": [
    "del down_points\n",
    "del down_colors\n",
    "torch.cuda.empty_cache()"
   ]
  }
 ],
 "metadata": {
  "kernelspec": {
   "display_name": "Python 3",
   "language": "python",
   "name": "python3"
  },
  "language_info": {
   "codemirror_mode": {
    "name": "ipython",
    "version": 3
   },
   "file_extension": ".py",
   "mimetype": "text/x-python",
   "name": "python",
   "nbconvert_exporter": "python",
   "pygments_lexer": "ipython3",
   "version": "3.12.10"
  }
 },
 "nbformat": 4,
 "nbformat_minor": 2
}
