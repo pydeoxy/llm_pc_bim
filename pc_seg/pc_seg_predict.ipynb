{
 "cells": [
  {
   "cell_type": "code",
   "execution_count": 1,
   "metadata": {},
   "outputs": [
    {
     "name": "stdout",
     "output_type": "stream",
     "text": [
      "['C:\\\\Program Files\\\\WindowsApps\\\\PythonSoftwareFoundation.Python.3.12_3.12.2800.0_x64__qbz5n2kfra8p0\\\\python312.zip', 'C:\\\\Program Files\\\\WindowsApps\\\\PythonSoftwareFoundation.Python.3.12_3.12.2800.0_x64__qbz5n2kfra8p0\\\\DLLs', 'C:\\\\Program Files\\\\WindowsApps\\\\PythonSoftwareFoundation.Python.3.12_3.12.2800.0_x64__qbz5n2kfra8p0\\\\Lib', 'C:\\\\Program Files\\\\WindowsApps\\\\PythonSoftwareFoundation.Python.3.12_3.12.2800.0_x64__qbz5n2kfra8p0', '', 'C:\\\\Users\\\\yanpe\\\\AppData\\\\Local\\\\Packages\\\\PythonSoftwareFoundation.Python.3.12_qbz5n2kfra8p0\\\\LocalCache\\\\local-packages\\\\Python312\\\\site-packages', 'C:\\\\Users\\\\yanpe\\\\AppData\\\\Local\\\\Packages\\\\PythonSoftwareFoundation.Python.3.12_qbz5n2kfra8p0\\\\LocalCache\\\\local-packages\\\\Python312\\\\site-packages\\\\win32', 'C:\\\\Users\\\\yanpe\\\\AppData\\\\Local\\\\Packages\\\\PythonSoftwareFoundation.Python.3.12_qbz5n2kfra8p0\\\\LocalCache\\\\local-packages\\\\Python312\\\\site-packages\\\\win32\\\\lib', 'C:\\\\Users\\\\yanpe\\\\AppData\\\\Local\\\\Packages\\\\PythonSoftwareFoundation.Python.3.12_qbz5n2kfra8p0\\\\LocalCache\\\\local-packages\\\\Python312\\\\site-packages\\\\Pythonwin', 'C:\\\\Program Files\\\\WindowsApps\\\\PythonSoftwareFoundation.Python.3.12_3.12.2800.0_x64__qbz5n2kfra8p0\\\\Lib\\\\site-packages', 'C:\\\\Users\\\\yanpe\\\\.env\\\\Lib\\\\site-packages']\n"
     ]
    }
   ],
   "source": [
    "import sys\n",
    "sys.path\n",
    "sys.path.append(r\"C:\\Users\\yanpe\\.env\\Lib\\site-packages\")\n",
    "print(sys.path)"
   ]
  },
  {
   "cell_type": "code",
   "execution_count": 17,
   "metadata": {},
   "outputs": [],
   "source": [
    "import os\n",
    "import open3d as o3d\n",
    "import numpy as np\n",
    "import torch\n",
    "from torch_geometric.data import Data\n",
    "from torch_geometric.loader import DataLoader\n",
    "from torch_geometric.typing import WITH_TORCH_CLUSTER\n",
    "from pyg_pointnet2 import PyGPointNet2, PyGPointNet2NoColor\n",
    "from pc_label_map import color_map\n",
    "\n",
    "if not WITH_TORCH_CLUSTER:\n",
    "    quit(\"This example requires 'torch-cluster'\")"
   ]
  },
  {
   "cell_type": "code",
   "execution_count": 2,
   "metadata": {},
   "outputs": [],
   "source": [
    "# Empty the CUDA cache\n",
    "torch.cuda.empty_cache()"
   ]
  },
  {
   "cell_type": "code",
   "execution_count": 3,
   "metadata": {},
   "outputs": [],
   "source": [
    "device = torch.device('cuda' if torch.cuda.is_available() else 'cpu')\n",
    "#model = PyGPointNet2(num_classes=13).to(device)\n",
    "model = PyGPointNet2NoColor(num_classes=13).to(device) # colorless model\n"
   ]
  },
  {
   "cell_type": "code",
   "execution_count": 4,
   "metadata": {},
   "outputs": [],
   "source": [
    "#model_file_path = \"checkpoints/pointnet2_s3dis_colorless_seg_x3_45_checkpoint.pth\" # Orignial model\n",
    "model_file_path = \"checkpoints/smartlab_fine_tuning_x3_50_20250416.pth\" # Fine-tuned model"
   ]
  },
  {
   "cell_type": "code",
   "execution_count": 5,
   "metadata": {},
   "outputs": [],
   "source": [
    "# Load the checkpoint dictionary\n",
    "checkpoint = torch.load(model_file_path, map_location=device)\n",
    "# Extract the model state dictionary\n",
    "model_state_dict = checkpoint['model_state_dict']\n"
   ]
  },
  {
   "cell_type": "code",
   "execution_count": 6,
   "metadata": {},
   "outputs": [
    {
     "data": {
      "text/plain": [
       "PyGPointNet2NoColor(\n",
       "  (sa1_module): SAModule(\n",
       "    (conv): PointNetConv(local_nn=MLP(6, 64, 64, 128), global_nn=None)\n",
       "  )\n",
       "  (sa2_module): SAModule(\n",
       "    (conv): PointNetConv(local_nn=MLP(131, 128, 128, 256), global_nn=None)\n",
       "  )\n",
       "  (sa3_module): GlobalSAModule(\n",
       "    (nn): MLP(259, 256, 512, 1024)\n",
       "  )\n",
       "  (fp3_module): FPModule(\n",
       "    (nn): MLP(1280, 256, 256)\n",
       "  )\n",
       "  (fp2_module): FPModule(\n",
       "    (nn): MLP(384, 256, 128)\n",
       "  )\n",
       "  (fp1_module): FPModule(\n",
       "    (nn): MLP(131, 128, 128, 128)\n",
       "  )\n",
       "  (mlp): MLP(128, 128, 128, 13)\n",
       "  (lin1): Linear(in_features=128, out_features=128, bias=True)\n",
       "  (lin2): Linear(in_features=128, out_features=128, bias=True)\n",
       "  (lin3): Linear(in_features=128, out_features=13, bias=True)\n",
       ")"
      ]
     },
     "execution_count": 6,
     "metadata": {},
     "output_type": "execute_result"
    }
   ],
   "source": [
    "model.load_state_dict(model_state_dict)\n",
    "model.eval()"
   ]
  },
  {
   "cell_type": "code",
   "execution_count": 7,
   "metadata": {},
   "outputs": [],
   "source": [
    "# Pcd files\n",
    "#pcd_path = \"C:/Users/yanpe/OneDrive - Metropolia Ammattikorkeakoulu Oy/Research/data/smartlab/Smartlab-2024-04-05_10-58-26_colour_cleaned.pcd\"\n",
    "pcd_path = \"C:/Users/yanpe/OneDrive - Metropolia Ammattikorkeakoulu Oy/Research/data/smartlab/SmartLab_2024_E57_Single_5mm.pcd\"\n",
    "#pcd_path = \"C:/Users/yanpe/OneDrive - Metropolia Ammattikorkeakoulu Oy/Research/data/smartlab/SmartLab_2024_E57_Single_5mm.ply\"\n",
    "pcd = o3d.io.read_point_cloud(pcd_path)"
   ]
  },
  {
   "cell_type": "code",
   "execution_count": 8,
   "metadata": {},
   "outputs": [
    {
     "name": "stdout",
     "output_type": "stream",
     "text": [
      "35966772\n",
      "35966772\n",
      "0\n"
     ]
    }
   ],
   "source": [
    "print(len(pcd.points))\n",
    "print(len(pcd.colors))\n",
    "print(len(pcd.normals))"
   ]
  },
  {
   "cell_type": "code",
   "execution_count": 9,
   "metadata": {},
   "outputs": [],
   "source": [
    "# Move the point cloud to its min(x,y,z) corner\n",
    " \n",
    "def move_to_corner(points):    \n",
    "    # Find the minimum x, y, z\n",
    "    min_xyz = points.min(axis=0)\n",
    "    # Translate the point cloud so that the min corner becomes the origin\n",
    "    moved_points = points - min_xyz\n",
    "    \n",
    "    return moved_points\n",
    "\n",
    "moved_points = move_to_corner(np.array(pcd.points))\n",
    "pcd.points = o3d.utility.Vector3dVector(moved_points)"
   ]
  },
  {
   "cell_type": "code",
   "execution_count": 10,
   "metadata": {},
   "outputs": [
    {
     "name": "stdout",
     "output_type": "stream",
     "text": [
      "Column 1: min = 0.0, max = 10.791000008583069\n",
      "Column 2: min = 0.0, max = 11.177000045776367\n",
      "Column 3: min = 0.0, max = 3.4570000171661377\n",
      "None\n"
     ]
    }
   ],
   "source": [
    "# Check the range of points\n",
    "\n",
    "def array_range(array):\n",
    "    # Get min and max for each column\n",
    "    min_values = np.min(array, axis=0)\n",
    "    max_values = np.max(array, axis=0)\n",
    "\n",
    "    # Display ranges for each column\n",
    "    for i, (min_val, max_val) in enumerate(zip(min_values, max_values), start=1):\n",
    "        print(f\"Column {i}: min = {min_val}, max = {max_val}\")\n",
    "\n",
    "print(array_range(np.array(pcd.points)))"
   ]
  },
  {
   "cell_type": "code",
   "execution_count": 49,
   "metadata": {},
   "outputs": [],
   "source": [
    "#if not pcd.has_normals():\n",
    "#   pcd.estimate_normals()"
   ]
  },
  {
   "cell_type": "code",
   "execution_count": 11,
   "metadata": {},
   "outputs": [
    {
     "name": "stdout",
     "output_type": "stream",
     "text": [
      "866900\n"
     ]
    }
   ],
   "source": [
    "# Downsample the point cloud with a voxel of 0.02\n",
    "downpcd = pcd.voxel_down_sample(voxel_size=0.03)\n",
    "\n",
    "print(len(downpcd.points))"
   ]
  },
  {
   "cell_type": "code",
   "execution_count": 26,
   "metadata": {},
   "outputs": [],
   "source": [
    "o3d.visualization.draw_geometries([downpcd], point_show_normal=False)"
   ]
  },
  {
   "cell_type": "code",
   "execution_count": 15,
   "metadata": {},
   "outputs": [],
   "source": [
    "def normalize_points_center(points):\n",
    "    # Step 1: Center the points around the origin\n",
    "    centroid = np.mean(points, axis=0)\n",
    "    centered_points = points - centroid\n",
    "\n",
    "    # Step 2: Scale to fit within the [0, 1] interval\n",
    "    min_vals = np.min(centered_points, axis=0)\n",
    "    max_vals = np.max(centered_points, axis=0)\n",
    "    scale = max_vals - min_vals\n",
    "\n",
    "    # Avoid division by zero in case of flat dimension\n",
    "    scale[scale == 0] = 1  # Set zero scales to 1 to keep that dimension as 0.5 after normalization\n",
    "\n",
    "    normalized_points = (centered_points - min_vals) / scale\n",
    "\n",
    "    return normalized_points\n",
    "\n",
    "normalized = normalize_points_center(np.array(downpcd.points))"
   ]
  },
  {
   "cell_type": "code",
   "execution_count": 12,
   "metadata": {},
   "outputs": [],
   "source": [
    "def normalize_points_corner(points):\n",
    "    # Step 1: Shift points so that the minimum x, y, z becomes the origin.\n",
    "    min_vals = np.min(points, axis=0)\n",
    "    shifted_points = points - min_vals  # Now the lower bound is (0,0,0)\n",
    "    \n",
    "    # Step 2: Compute the scaling factors from the shifted points.\n",
    "    # The maximum after shifting represents the range in each dimension.\n",
    "    max_vals = np.max(shifted_points, axis=0)\n",
    "    scale = max_vals.copy()\n",
    "    \n",
    "    # Avoid division by zero if any dimension is flat.\n",
    "    scale[scale == 0] = 1\n",
    "    \n",
    "    # Normalize the shifted points to the [0, 1] interval.\n",
    "    normalized_points = shifted_points / scale\n",
    "\n",
    "    return normalized_points\n",
    "\n",
    "normalized = normalize_points_corner(np.array(downpcd.points))"
   ]
  },
  {
   "cell_type": "code",
   "execution_count": 13,
   "metadata": {},
   "outputs": [],
   "source": [
    "# Extract coordinates and colors from the point cloud\n",
    "down_points = torch.tensor(np.array(downpcd.points), dtype=torch.float32)  \n",
    "down_colors = torch.tensor(np.array(downpcd.colors), dtype=torch.float32)\n",
    "down_normalized = torch.tensor(normalized, dtype=torch.float32)"
   ]
  },
  {
   "cell_type": "code",
   "execution_count": 13,
   "metadata": {},
   "outputs": [],
   "source": [
    "# Concatenate coordinates and colors to form the input features\n",
    "x = torch.cat([down_colors, down_normalized], dim=1) # 6 (x)\n"
   ]
  },
  {
   "cell_type": "code",
   "execution_count": 14,
   "metadata": {},
   "outputs": [],
   "source": [
    "# Create a Data object with x (6 features) and pos (coordinates)\n",
    "#data = Data(x=x, pos=down_points)\n",
    "\n",
    "# Create a Data object with x (3 features) and pos (coordinates)\n",
    "data = Data(x=down_normalized, pos=down_points)\n",
    "\n",
    "#data = data.to(device)\n",
    "\n",
    "#pre_transform = T.NormalizeScale()\n",
    "#data = pre_transform(data)"
   ]
  },
  {
   "cell_type": "code",
   "execution_count": 88,
   "metadata": {},
   "outputs": [
    {
     "data": {
      "text/plain": [
       "22"
      ]
     },
     "execution_count": 88,
     "metadata": {},
     "output_type": "execute_result"
    }
   ],
   "source": [
    "import os\n",
    "os.cpu_count()"
   ]
  },
  {
   "cell_type": "code",
   "execution_count": 15,
   "metadata": {},
   "outputs": [],
   "source": [
    "# If you have only one point cloud\n",
    "dataset = [data]  # List of Data objects\n",
    "\n",
    "num_workers = 20\n",
    "batch_size = 32\n",
    "\n",
    "# Create a DataLoader (batch_size can be adjusted as needed)\n",
    "custom_loader = DataLoader(dataset, batch_size=batch_size, shuffle=False,\n",
    "                         num_workers=num_workers, pin_memory=True)"
   ]
  },
  {
   "cell_type": "code",
   "execution_count": 16,
   "metadata": {},
   "outputs": [
    {
     "name": "stdout",
     "output_type": "stream",
     "text": [
      "Label counts:\n",
      "tensor([[     0, 175547],\n",
      "        [     1, 186414],\n",
      "        [     2, 230993],\n",
      "        [     3,    104],\n",
      "        [     4,      7],\n",
      "        [     6,    932],\n",
      "        [     7,    597],\n",
      "        [     8,   8231],\n",
      "        [     9,     20],\n",
      "        [    10,    139],\n",
      "        [    12, 263916]])\n",
      "Total inference time: 261.8819 seconds\n",
      "-------------------------------------------------------  ------------  ------------  ------------  ------------  ------------  ------------  ------------  ------------  ------------  ------------  \n",
      "                                                   Name    Self CPU %      Self CPU   CPU total %     CPU total  CPU time avg     Self CUDA   Self CUDA %    CUDA total  CUDA time avg    # of Calls  \n",
      "-------------------------------------------------------  ------------  ------------  ------------  ------------  ------------  ------------  ------------  ------------  ------------  ------------  \n",
      "                                     torch_cluster::fps         0.00%       4.259ms         0.02%      59.139ms      29.569ms      242.081s        94.05%      242.136s      121.068s             2  \n",
      "enumerate(DataLoader)#_MultiProcessingDataLoaderIter...         4.58%       11.797s         4.58%       11.797s        5.898s       11.797s         4.58%       11.797s        5.898s             2  \n",
      "                                     torch_cluster::knn         0.00%       7.520ms         0.64%        1.658s     552.803ms        1.654s         0.64%        1.659s     552.943ms             3  \n",
      "                                  torch_cluster::radius         0.01%      14.473ms         0.33%     859.224ms     429.612ms     838.968ms         0.33%     866.235ms     433.118ms             2  \n",
      "                                           aten::linear         0.00%       2.753ms         0.15%     396.628ms      10.438ms       1.178ms         0.00%     588.662ms      15.491ms            38  \n",
      "                                            aten::addmm         0.08%     194.217ms         0.08%     194.465ms      10.235ms     285.308ms         0.11%     285.615ms      15.032ms            19  \n",
      "                                  aten::scatter_reduce_         0.00%       1.229ms         0.00%       1.439ms     479.767us     261.770ms         0.10%     279.629ms      93.210ms             3  \n",
      "                                               aten::to         0.00%       2.624ms         0.12%     302.473ms       4.583ms       2.436ms         0.00%      64.578ms     978.455us            66  \n",
      "                                         aten::_to_copy         0.00%       3.165ms         0.12%     299.849ms       5.082ms       2.197ms         0.00%      62.142ms       1.053ms            59  \n",
      "                                            aten::copy_         0.12%     298.682ms         0.12%     298.682ms       4.207ms      57.878ms         0.02%      57.878ms     815.183us            71  \n",
      "                                       aten::batch_norm         0.00%     392.200us         0.01%      36.680ms       3.668ms      61.000us         0.00%      53.568ms       5.357ms            10  \n",
      "                           aten::_batch_norm_impl_index         0.00%     796.200us         0.01%      36.288ms       3.629ms      94.000us         0.00%      53.507ms       5.351ms            10  \n",
      "                                aten::native_batch_norm         0.01%      33.074ms         0.01%      35.453ms       3.545ms      31.564ms         0.01%      53.383ms       5.338ms            10  \n",
      "                                     aten::index_select         0.01%      37.476ms         0.01%      38.555ms       6.426ms      34.575ms         0.01%      42.356ms       7.059ms             6  \n",
      "                                              aten::cat         0.00%       8.009ms         0.00%       8.254ms     515.856us      38.671ms         0.02%      38.861ms       2.429ms            16  \n",
      "                                             aten::relu         0.00%     207.000us         0.00%       9.415ms     784.567us      77.000us         0.00%      34.179ms       2.848ms            12  \n",
      "                                        aten::clamp_min         0.00%       9.208ms         0.00%       9.208ms     767.317us      34.102ms         0.01%      34.102ms       2.842ms            12  \n",
      "                                              aten::max         0.01%      31.466ms         0.01%      31.619ms       2.432ms      32.205ms         0.01%      32.503ms       2.500ms            13  \n",
      "                                           aten::cumsum         0.01%      32.424ms         0.01%      32.428ms       8.107ms      31.786ms         0.01%      31.807ms       7.952ms             4  \n",
      "                                    aten::empty_strided         0.00%       3.135ms         0.00%       3.135ms      44.155us      28.257ms         0.01%      28.257ms     397.986us            71  \n",
      "                                       aten::empty_like         0.00%     260.200us         0.00%       2.523ms     210.217us     540.000us         0.00%      24.252ms       2.021ms            12  \n",
      "                                     aten::scatter_add_         0.00%       9.139ms         0.00%       9.163ms       1.145ms      20.852ms         0.01%      20.957ms       2.620ms             8  \n",
      "                                              aten::mul         0.00%       9.453ms         0.00%       9.453ms     727.185us      19.960ms         0.01%      19.960ms       1.535ms            13  \n",
      "                                         aten::scatter_         0.00%     197.900us         0.00%     202.900us      67.633us      17.829ms         0.01%      17.839ms       5.946ms             3  \n",
      "                                    aten::masked_select         0.00%       1.860ms         0.66%        1.702s     170.227ms       3.160ms         0.00%      17.196ms       1.720ms            10  \n",
      "                                         aten::_unique2         0.01%      16.007ms         0.01%      16.218ms      16.218ms      15.981ms         0.01%      16.221ms      16.221ms             1  \n",
      "                                              aten::sub         0.00%      11.127ms         0.00%      11.127ms       1.590ms      15.842ms         0.01%      15.842ms       2.263ms             7  \n",
      "                                          aten::resize_         0.00%       2.025ms         0.00%       2.025ms      50.635us      15.585ms         0.01%      15.585ms     389.625us            40  \n",
      "                                             aten::ceil         0.00%      12.239ms         0.00%      12.239ms       6.120ms      12.265ms         0.00%      12.265ms       6.133ms             2  \n",
      "                                        aten::new_zeros         0.00%     497.400us         0.00%       9.646ms     688.986us     478.000us         0.00%      11.500ms     821.429us            14  \n",
      "                                            aten::fill_         0.00%       8.784ms         0.00%       8.784ms     325.333us      11.189ms         0.00%      11.189ms     414.407us            27  \n",
      "                                            aten::zero_         0.00%     357.000us         0.00%       8.901ms     556.331us     261.000us         0.00%      10.592ms     662.000us            16  \n",
      "                                            aten::stack         0.00%     494.600us         0.00%       1.833ms     229.087us     167.000us         0.00%       9.616ms       1.202ms             8  \n",
      "                                            aten::index        89.55%      230.495s        89.55%      230.495s       10.976s       8.994ms         0.00%       9.532ms     453.905us            21  \n",
      "                                              aten::div         0.00%       6.158ms         0.00%       6.158ms       2.053ms       9.214ms         0.00%       9.214ms       3.071ms             3  \n",
      "                                          aten::nonzero         0.66%        1.698s         0.66%        1.699s     169.943ms       5.158ms         0.00%       9.067ms     906.700us            10  \n",
      "                                              aten::sum         0.00%       8.303ms         0.00%       8.303ms       2.768ms       7.671ms         0.00%       7.671ms       2.557ms             3  \n",
      "                                           aten::arange         0.00%       3.445ms         0.00%       5.926ms     269.377us       3.416ms         0.00%       6.029ms     274.045us            22  \n",
      "                                            aten::empty         0.00%       1.667ms         0.00%       1.667ms      12.536us       5.815ms         0.00%       5.815ms      43.722us           133  \n",
      "                                             aten::full         0.00%     308.000us         0.00%     993.600us     110.400us     205.000us         0.00%       5.558ms     617.556us             9  \n",
      "                                           aten::argmax         0.00%       3.137ms         0.00%       3.140ms       3.140ms       3.414ms         0.00%       3.421ms       3.421ms             1  \n",
      "                                        aten::ones_like         0.00%     118.700us         0.00%     615.800us     307.900us     117.000us         0.00%       2.895ms       1.448ms             2  \n",
      "                                             aten::rand         0.00%     458.600us         0.00%       2.861ms       1.431ms     437.000us         0.00%       2.875ms       1.438ms             2  \n",
      "                                         aten::uniform_         0.00%       2.337ms         0.00%       2.337ms       1.169ms       2.354ms         0.00%       2.354ms       1.177ms             2  \n",
      "                                             aten::item         0.00%       1.186ms         4.58%       11.779s     318.340ms     463.000us         0.00%       1.764ms      47.676us            37  \n",
      "                                           aten::select         0.00%     994.500us         0.00%       1.051ms      17.812us       1.129ms         0.00%       1.462ms      24.780us            59  \n",
      "                              aten::_local_scalar_dense         4.58%       11.777s         4.58%       11.777s     318.308ms       1.301ms         0.00%       1.301ms      35.162us            37  \n",
      "                                       aten::as_strided         0.00%     279.700us         0.00%     279.700us       1.528us       1.161ms         0.00%       1.161ms       6.344us           183  \n",
      "                                          aten::reshape         0.00%     501.400us         0.00%     772.300us      24.134us     422.000us         0.00%       1.098ms      34.312us            32  \n",
      "                                                aten::t         0.00%     483.600us         0.00%       1.693ms      58.379us     266.000us         0.00%     929.000us      32.034us            29  \n",
      "                                             aten::view         0.00%     403.700us         0.00%     403.700us       8.074us     848.000us         0.00%     848.000us      16.960us            50  \n",
      "                                           aten::unbind         0.00%     767.800us         0.00%       1.191ms     397.133us     165.000us         0.00%     817.000us     272.333us             3  \n",
      "                                        aten::transpose         0.00%       1.151ms         0.00%       1.209ms      41.703us     465.000us         0.00%     663.000us      22.862us            29  \n",
      "                                               aten::ne         0.31%     788.297ms         0.31%     788.297ms     157.659ms     605.000us         0.00%     605.000us     121.000us             5  \n",
      "                                        aten::new_empty         0.00%     270.100us         0.00%     395.900us      28.279us     470.000us         0.00%     582.000us      41.571us            14  \n",
      "                                           aten::narrow         0.00%     186.400us         0.00%     415.400us      34.617us     131.000us         0.00%     448.000us      37.333us            12  \n",
      "                                      aten::log_softmax         0.00%     727.100us         0.02%      53.334ms      53.334ms       7.000us         0.00%     343.000us     343.000us             1  \n",
      "                                            aten::slice         0.00%     300.700us         0.00%     325.700us      23.264us     207.000us         0.00%     341.000us      24.357us            14  \n",
      "                                     aten::_log_softmax         0.02%      52.607ms         0.02%      52.607ms      52.607ms     336.000us         0.00%     336.000us     336.000us             1  \n",
      "                                        aten::expand_as         0.00%     135.700us         0.00%     302.100us      33.567us      62.000us         0.00%     308.000us      34.222us             9  \n",
      "                                            aten::zeros         0.00%     113.900us         0.00%     275.000us     137.500us      78.000us         0.00%     292.000us     146.000us             2  \n",
      "                                            aten::clamp         0.00%     254.600us         0.00%     258.600us      86.200us     265.000us         0.00%     278.000us      92.667us             3  \n",
      "                                           aten::expand         0.00%     153.400us         0.00%     166.400us      18.489us     217.000us         0.00%     246.000us      27.333us             9  \n",
      "                                       aten::reciprocal         0.00%     233.200us         0.00%     233.200us      77.733us     186.000us         0.00%     186.000us      62.000us             3  \n",
      "                                             aten::set_         0.00%     307.200us         0.00%     307.200us      21.943us     143.000us         0.00%     143.000us      10.214us            14  \n",
      "                                          aten::dropout         0.00%      23.900us         0.00%      23.900us       1.258us      55.000us         0.00%      55.000us       2.895us            19  \n",
      "                                          aten::detach_         0.00%      30.000us         0.00%      37.400us      18.700us      22.000us         0.00%      43.000us      21.500us             2  \n",
      "                                        aten::unsqueeze         0.00%      26.000us         0.00%      30.200us      15.100us      27.000us         0.00%      38.000us      19.000us             2  \n",
      "                                     aten::resolve_conj         0.00%       2.800us         0.00%       2.800us       0.255us      33.000us         0.00%      33.000us       3.000us            11  \n",
      "                                      aten::resolve_neg         0.00%       1.700us         0.00%       1.700us       0.155us      32.000us         0.00%      32.000us       2.909us            11  \n",
      "                                                detach_         0.00%       7.400us         0.00%       7.400us       3.700us      21.000us         0.00%      21.000us      10.500us             2  \n",
      "                                          aten::random_         0.00%      29.500us         0.00%      29.500us      29.500us      13.000us         0.00%      13.000us      13.000us             1  \n",
      "                                       aten::lift_fresh         0.00%       1.900us         0.00%       1.900us       0.950us      12.000us         0.00%      12.000us       6.000us             2  \n",
      "-------------------------------------------------------  ------------  ------------  ------------  ------------  ------------  ------------  ------------  ------------  ------------  ------------  \n",
      "Self CPU time total: 257.399s\n",
      "Self CUDA time total: 257.404s\n",
      "\n"
     ]
    }
   ],
   "source": [
    "import time\n",
    "\n",
    "model.eval()\n",
    "\n",
    "import torch.profiler\n",
    "\n",
    "with torch.profiler.profile(\n",
    "    activities=[torch.profiler.ProfilerActivity.CPU, torch.profiler.ProfilerActivity.CUDA],\n",
    "    record_shapes=True,\n",
    ") as prof:\n",
    "\n",
    "    with torch.no_grad():\n",
    "        start_time = time.time()\n",
    "        for data in custom_loader:\n",
    "            data = data.to(device)\n",
    "            with torch.amp.autocast(\"cuda\"):\n",
    "                predictions = model(data)\n",
    "            labels = predictions.argmax(dim=-1)\n",
    "            # Process the labels as needed\n",
    "            #labels_arr = labels.cpu().numpy()\n",
    "            # Count occurrences of labels\n",
    "            unique_labels, label_counts = torch.unique(labels, return_counts=True)\n",
    "            # Combine and print\n",
    "            #result_labels = np.array(list(zip(unique_labels, label_counts)))\n",
    "            #print(\"Label counts:\")\n",
    "            #for label, count in zip(unique_labels, label_counts):\n",
    "            #    print(f\"Label {label.item()}: {count.item()}\")\n",
    "            result_labels = torch.stack((unique_labels, label_counts), dim=1).cpu()\n",
    "            print(\"Label counts:\")\n",
    "            print(result_labels)\n",
    "        end_time = time.time()\n",
    "        print(f\"Total inference time: {end_time - start_time:.4f} seconds\")  \n",
    "    \n",
    "print(prof.key_averages().table(sort_by=\"cuda_time_total\"))\n",
    "\n"
   ]
  },
  {
   "cell_type": "markdown",
   "metadata": {},
   "source": [
    "batch_size 32, num_workers 16: prediction 7min\n",
    "\n",
    "batch_size = 32, num_workers 20: prediction 5min\n",
    "\n",
    "batch_size = 32, num_workers 20, pin_memory=True: prediction 4.5min\n",
    "\n"
   ]
  },
  {
   "cell_type": "code",
   "execution_count": 18,
   "metadata": {},
   "outputs": [],
   "source": [
    "# Assuming `labels` is the tensor containing predicted labels for each point\n",
    "predicted_colors = color_map[labels.cpu().numpy()]  # Shape: [num_points, 3]\n"
   ]
  },
  {
   "cell_type": "code",
   "execution_count": 19,
   "metadata": {},
   "outputs": [
    {
     "name": "stdout",
     "output_type": "stream",
     "text": [
      "866900\n"
     ]
    }
   ],
   "source": [
    "print(len(predicted_colors))"
   ]
  },
  {
   "cell_type": "code",
   "execution_count": 20,
   "metadata": {},
   "outputs": [],
   "source": [
    "# Assuming `pcd` is your Open3D point cloud object\n",
    "downpcd.colors = o3d.utility.Vector3dVector(predicted_colors)"
   ]
  },
  {
   "cell_type": "code",
   "execution_count": 21,
   "metadata": {},
   "outputs": [],
   "source": [
    "# Visualize the point cloud with colored labels\n",
    "o3d.visualization.draw_geometries([downpcd])"
   ]
  },
  {
   "cell_type": "code",
   "execution_count": 22,
   "metadata": {},
   "outputs": [
    {
     "data": {
      "text/plain": [
       "True"
      ]
     },
     "execution_count": 22,
     "metadata": {},
     "output_type": "execute_result"
    }
   ],
   "source": [
    "# Save the point cloud to a file\n",
    "save_path = \"C:/Users/yanpe/OneDrive - Metropolia Ammattikorkeakoulu Oy/Research/data/smartlab/labelled/Smartlab_aalto_pcd_finetuned_label_pointnet2_x3_0.03_20250416.ply\"\n",
    "o3d.io.write_point_cloud(save_path, downpcd)\n"
   ]
  },
  {
   "cell_type": "code",
   "execution_count": 23,
   "metadata": {},
   "outputs": [],
   "source": [
    "del down_points\n",
    "del down_colors\n",
    "torch.cuda.empty_cache()"
   ]
  }
 ],
 "metadata": {
  "kernelspec": {
   "display_name": "Python 3",
   "language": "python",
   "name": "python3"
  },
  "language_info": {
   "codemirror_mode": {
    "name": "ipython",
    "version": 3
   },
   "file_extension": ".py",
   "mimetype": "text/x-python",
   "name": "python",
   "nbconvert_exporter": "python",
   "pygments_lexer": "ipython3",
   "version": "3.12.10"
  }
 },
 "nbformat": 4,
 "nbformat_minor": 2
}
