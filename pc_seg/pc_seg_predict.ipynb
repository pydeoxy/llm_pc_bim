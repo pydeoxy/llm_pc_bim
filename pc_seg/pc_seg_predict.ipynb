{
 "cells": [
  {
   "cell_type": "code",
   "execution_count": 1,
   "metadata": {},
   "outputs": [
    {
     "name": "stdout",
     "output_type": "stream",
     "text": [
      "['C:\\\\Program Files\\\\WindowsApps\\\\PythonSoftwareFoundation.Python.3.12_3.12.2800.0_x64__qbz5n2kfra8p0\\\\python312.zip', 'C:\\\\Program Files\\\\WindowsApps\\\\PythonSoftwareFoundation.Python.3.12_3.12.2800.0_x64__qbz5n2kfra8p0\\\\DLLs', 'C:\\\\Program Files\\\\WindowsApps\\\\PythonSoftwareFoundation.Python.3.12_3.12.2800.0_x64__qbz5n2kfra8p0\\\\Lib', 'C:\\\\Program Files\\\\WindowsApps\\\\PythonSoftwareFoundation.Python.3.12_3.12.2800.0_x64__qbz5n2kfra8p0', '', 'C:\\\\Users\\\\yanpe\\\\AppData\\\\Local\\\\Packages\\\\PythonSoftwareFoundation.Python.3.12_qbz5n2kfra8p0\\\\LocalCache\\\\local-packages\\\\Python312\\\\site-packages', 'C:\\\\Users\\\\yanpe\\\\AppData\\\\Local\\\\Packages\\\\PythonSoftwareFoundation.Python.3.12_qbz5n2kfra8p0\\\\LocalCache\\\\local-packages\\\\Python312\\\\site-packages\\\\win32', 'C:\\\\Users\\\\yanpe\\\\AppData\\\\Local\\\\Packages\\\\PythonSoftwareFoundation.Python.3.12_qbz5n2kfra8p0\\\\LocalCache\\\\local-packages\\\\Python312\\\\site-packages\\\\win32\\\\lib', 'C:\\\\Users\\\\yanpe\\\\AppData\\\\Local\\\\Packages\\\\PythonSoftwareFoundation.Python.3.12_qbz5n2kfra8p0\\\\LocalCache\\\\local-packages\\\\Python312\\\\site-packages\\\\Pythonwin', 'C:\\\\Program Files\\\\WindowsApps\\\\PythonSoftwareFoundation.Python.3.12_3.12.2800.0_x64__qbz5n2kfra8p0\\\\Lib\\\\site-packages', 'C:\\\\Users\\\\yanpe\\\\.env\\\\Lib\\\\site-packages']\n"
     ]
    }
   ],
   "source": [
    "import sys\n",
    "sys.path\n",
    "sys.path.append(r\"C:\\Users\\yanpe\\.env\\Lib\\site-packages\")\n",
    "print(sys.path)"
   ]
  },
  {
   "cell_type": "code",
   "execution_count": 17,
   "metadata": {},
   "outputs": [],
   "source": [
    "import os\n",
    "import open3d as o3d\n",
    "import numpy as np\n",
    "import torch\n",
    "from torch_geometric.data import Data\n",
    "from torch_geometric.loader import DataLoader\n",
    "from torch_geometric.typing import WITH_TORCH_CLUSTER\n",
    "from pyg_pointnet2 import PyGPointNet2, PyGPointNet2NoColor\n",
    "from pc_label_map import color_map\n",
    "\n",
    "if not WITH_TORCH_CLUSTER:\n",
    "    quit(\"This example requires 'torch-cluster'\")"
   ]
  },
  {
   "cell_type": "code",
   "execution_count": 2,
   "metadata": {},
   "outputs": [],
   "source": [
    "# Empty the CUDA cache\n",
    "torch.cuda.empty_cache()"
   ]
  },
  {
   "cell_type": "code",
   "execution_count": 39,
   "metadata": {},
   "outputs": [],
   "source": [
    "device = torch.device('cuda' if torch.cuda.is_available() else 'cpu')\n",
    "model = PyGPointNet2(num_classes=13).to(device)\n",
    "#model = PyGPointNet2NoColor(num_classes=13).to(device) # colorless model\n"
   ]
  },
  {
   "cell_type": "code",
   "execution_count": 40,
   "metadata": {},
   "outputs": [],
   "source": [
    "#model_file_path = \"checkpoints/pointnet2_s3dis_colorless_seg_x3_45_checkpoint.pth\" # Orignial model\n",
    "model_file_path = \"checkpoints/pointnet2_smartlab_sim_grey_seg_x6_0413_checkpoint.pth\" # From Simulated PC\n",
    "#model_file_path = \"checkpoints/smartlab_fine_tuning_x3_50_20250416.pth\" # Fine-tuned model\n"
   ]
  },
  {
   "cell_type": "code",
   "execution_count": 41,
   "metadata": {},
   "outputs": [],
   "source": [
    "# Load the checkpoint dictionary\n",
    "checkpoint = torch.load(model_file_path, map_location=device)\n",
    "# Extract the model state dictionary\n",
    "model_state_dict = checkpoint['model_state_dict']\n"
   ]
  },
  {
   "cell_type": "code",
   "execution_count": 42,
   "metadata": {},
   "outputs": [
    {
     "data": {
      "text/plain": [
       "PyGPointNet2(\n",
       "  (sa1_module): SAModule(\n",
       "    (conv): PointNetConv(local_nn=MLP(9, 64, 64, 128), global_nn=None)\n",
       "  )\n",
       "  (sa2_module): SAModule(\n",
       "    (conv): PointNetConv(local_nn=MLP(131, 128, 128, 256), global_nn=None)\n",
       "  )\n",
       "  (sa3_module): GlobalSAModule(\n",
       "    (nn): MLP(259, 256, 512, 1024)\n",
       "  )\n",
       "  (fp3_module): FPModule(\n",
       "    (nn): MLP(1280, 256, 256)\n",
       "  )\n",
       "  (fp2_module): FPModule(\n",
       "    (nn): MLP(384, 256, 128)\n",
       "  )\n",
       "  (fp1_module): FPModule(\n",
       "    (nn): MLP(134, 128, 128, 128)\n",
       "  )\n",
       "  (mlp): MLP(128, 128, 128, 13)\n",
       "  (lin1): Linear(in_features=128, out_features=128, bias=True)\n",
       "  (lin2): Linear(in_features=128, out_features=128, bias=True)\n",
       "  (lin3): Linear(in_features=128, out_features=13, bias=True)\n",
       ")"
      ]
     },
     "execution_count": 42,
     "metadata": {},
     "output_type": "execute_result"
    }
   ],
   "source": [
    "model.load_state_dict(model_state_dict)\n",
    "model.eval()"
   ]
  },
  {
   "cell_type": "code",
   "execution_count": 28,
   "metadata": {},
   "outputs": [],
   "source": [
    "# Pcd files\n",
    "#pcd_path = \"C:/Users/yanpe/OneDrive - Metropolia Ammattikorkeakoulu Oy/Research/data/smartlab/Smartlab-2024-04-05_10-58-26_colour_cleaned.pcd\"\n",
    "pcd_path = \"C:/Users/yanpe/OneDrive - Metropolia Ammattikorkeakoulu Oy/Research/data/smartlab/SmartLab_2024_E57_Single_5mm.pcd\"\n",
    "#pcd_path = \"C:/Users/yanpe/OneDrive - Metropolia Ammattikorkeakoulu Oy/Research/data/smartlab/SmartLab_2024_E57_Single_5mm.ply\"\n",
    "pcd = o3d.io.read_point_cloud(pcd_path)"
   ]
  },
  {
   "cell_type": "code",
   "execution_count": 29,
   "metadata": {},
   "outputs": [
    {
     "name": "stdout",
     "output_type": "stream",
     "text": [
      "35966772\n",
      "35966772\n",
      "0\n"
     ]
    }
   ],
   "source": [
    "print(len(pcd.points))\n",
    "print(len(pcd.colors))\n",
    "print(len(pcd.normals))"
   ]
  },
  {
   "cell_type": "code",
   "execution_count": 30,
   "metadata": {},
   "outputs": [],
   "source": [
    "# Move the point cloud to its min(x,y,z) corner\n",
    " \n",
    "def move_to_corner(points):    \n",
    "    # Find the minimum x, y, z\n",
    "    min_xyz = points.min(axis=0)\n",
    "    # Translate the point cloud so that the min corner becomes the origin\n",
    "    moved_points = points - min_xyz\n",
    "    \n",
    "    return moved_points\n",
    "\n",
    "moved_points = move_to_corner(np.array(pcd.points))\n",
    "pcd.points = o3d.utility.Vector3dVector(moved_points)"
   ]
  },
  {
   "cell_type": "code",
   "execution_count": 10,
   "metadata": {},
   "outputs": [
    {
     "name": "stdout",
     "output_type": "stream",
     "text": [
      "Column 1: min = 0.0, max = 10.791000008583069\n",
      "Column 2: min = 0.0, max = 11.177000045776367\n",
      "Column 3: min = 0.0, max = 3.4570000171661377\n",
      "None\n"
     ]
    }
   ],
   "source": [
    "# Check the range of points\n",
    "\n",
    "def array_range(array):\n",
    "    # Get min and max for each column\n",
    "    min_values = np.min(array, axis=0)\n",
    "    max_values = np.max(array, axis=0)\n",
    "\n",
    "    # Display ranges for each column\n",
    "    for i, (min_val, max_val) in enumerate(zip(min_values, max_values), start=1):\n",
    "        print(f\"Column {i}: min = {min_val}, max = {max_val}\")\n",
    "\n",
    "print(array_range(np.array(pcd.points)))"
   ]
  },
  {
   "cell_type": "code",
   "execution_count": 49,
   "metadata": {},
   "outputs": [],
   "source": [
    "#if not pcd.has_normals():\n",
    "#   pcd.estimate_normals()"
   ]
  },
  {
   "cell_type": "code",
   "execution_count": 31,
   "metadata": {},
   "outputs": [
    {
     "name": "stdout",
     "output_type": "stream",
     "text": [
      "866900\n"
     ]
    }
   ],
   "source": [
    "# Downsample the point cloud with a voxel of 0.02\n",
    "downpcd = pcd.voxel_down_sample(voxel_size=0.03)\n",
    "\n",
    "print(len(downpcd.points))"
   ]
  },
  {
   "cell_type": "code",
   "execution_count": 26,
   "metadata": {},
   "outputs": [],
   "source": [
    "o3d.visualization.draw_geometries([downpcd], point_show_normal=False)"
   ]
  },
  {
   "cell_type": "code",
   "execution_count": 15,
   "metadata": {},
   "outputs": [],
   "source": [
    "def normalize_points_center(points):\n",
    "    # Step 1: Center the points around the origin\n",
    "    centroid = np.mean(points, axis=0)\n",
    "    centered_points = points - centroid\n",
    "\n",
    "    # Step 2: Scale to fit within the [0, 1] interval\n",
    "    min_vals = np.min(centered_points, axis=0)\n",
    "    max_vals = np.max(centered_points, axis=0)\n",
    "    scale = max_vals - min_vals\n",
    "\n",
    "    # Avoid division by zero in case of flat dimension\n",
    "    scale[scale == 0] = 1  # Set zero scales to 1 to keep that dimension as 0.5 after normalization\n",
    "\n",
    "    normalized_points = (centered_points - min_vals) / scale\n",
    "\n",
    "    return normalized_points\n",
    "\n",
    "# normalized = normalize_points_center(np.array(downpcd.points))"
   ]
  },
  {
   "cell_type": "code",
   "execution_count": 32,
   "metadata": {},
   "outputs": [],
   "source": [
    "def normalize_points_corner(points):\n",
    "    # Step 1: Shift points so that the minimum x, y, z becomes the origin.\n",
    "    min_vals = np.min(points, axis=0)\n",
    "    shifted_points = points - min_vals  # Now the lower bound is (0,0,0)\n",
    "    \n",
    "    # Step 2: Compute the scaling factors from the shifted points.\n",
    "    # The maximum after shifting represents the range in each dimension.\n",
    "    max_vals = np.max(shifted_points, axis=0)\n",
    "    scale = max_vals.copy()\n",
    "    \n",
    "    # Avoid division by zero if any dimension is flat.\n",
    "    scale[scale == 0] = 1\n",
    "    \n",
    "    # Normalize the shifted points to the [0, 1] interval.\n",
    "    normalized_points = shifted_points / scale\n",
    "\n",
    "    return normalized_points\n",
    "\n",
    "normalized = normalize_points_corner(np.array(downpcd.points))"
   ]
  },
  {
   "cell_type": "code",
   "execution_count": 33,
   "metadata": {},
   "outputs": [],
   "source": [
    "# Extract coordinates and colors from the point cloud\n",
    "down_points = torch.tensor(np.array(downpcd.points), dtype=torch.float32)  \n",
    "down_colors = torch.tensor(np.array(downpcd.colors), dtype=torch.float32)\n",
    "down_normalized = torch.tensor(normalized, dtype=torch.float32)"
   ]
  },
  {
   "cell_type": "code",
   "execution_count": 44,
   "metadata": {},
   "outputs": [],
   "source": [
    "# Concatenate coordinates and colors to form the input features\n",
    "x = torch.cat([down_colors, down_normalized], dim=1) # 6 (x)\n",
    "\n",
    "# Create a Data object with x (6 features) and pos (coordinates)\n",
    "data = Data(x=x, pos=down_points)\n"
   ]
  },
  {
   "cell_type": "code",
   "execution_count": 34,
   "metadata": {},
   "outputs": [],
   "source": [
    "\n",
    "\n",
    "# Create a Data object with x (3 features) and pos (coordinates)\n",
    "#data = Data(x=down_normalized, pos=down_points)\n",
    "\n",
    "#data = data.to(device)\n",
    "\n",
    "#pre_transform = T.NormalizeScale()\n",
    "#data = pre_transform(data)"
   ]
  },
  {
   "cell_type": "code",
   "execution_count": 88,
   "metadata": {},
   "outputs": [
    {
     "data": {
      "text/plain": [
       "22"
      ]
     },
     "execution_count": 88,
     "metadata": {},
     "output_type": "execute_result"
    }
   ],
   "source": [
    "import os\n",
    "os.cpu_count()"
   ]
  },
  {
   "cell_type": "code",
   "execution_count": 45,
   "metadata": {},
   "outputs": [],
   "source": [
    "# If you have only one point cloud\n",
    "dataset = [data]  # List of Data objects\n",
    "\n",
    "num_workers = 20\n",
    "batch_size = 32\n",
    "\n",
    "# Create a DataLoader (batch_size can be adjusted as needed)\n",
    "custom_loader = DataLoader(dataset, batch_size=batch_size, shuffle=False,\n",
    "                         num_workers=num_workers, pin_memory=True)"
   ]
  },
  {
   "cell_type": "code",
   "execution_count": 46,
   "metadata": {},
   "outputs": [
    {
     "name": "stdout",
     "output_type": "stream",
     "text": [
      "Label counts:\n",
      "tensor([[     0, 552399],\n",
      "        [     1, 272545],\n",
      "        [     2,  21566],\n",
      "        [     5,   3807],\n",
      "        [     7,   6913],\n",
      "        [    12,   9670]])\n",
      "Total inference time: 289.1693 seconds\n",
      "-------------------------------------------------------  ------------  ------------  ------------  ------------  ------------  ------------  ------------  ------------  ------------  ------------  \n",
      "                                                   Name    Self CPU %      Self CPU   CPU total %     CPU total  CPU time avg     Self CUDA   Self CUDA %    CUDA total  CUDA time avg    # of Calls  \n",
      "-------------------------------------------------------  ------------  ------------  ------------  ------------  ------------  ------------  ------------  ------------  ------------  ------------  \n",
      "                                     torch_cluster::fps         0.01%      17.507ms         0.02%      61.187ms      30.593ms      241.778s        84.86%      241.822s      120.911s             2  \n",
      "                                           aten::linear         0.00%       8.468ms         0.08%     222.115ms       5.845ms       1.456ms         0.00%       25.063s     659.561ms            38  \n",
      "enumerate(DataLoader)#_MultiProcessingDataLoaderIter...         6.80%       19.367s         6.80%       19.367s        9.684s       19.369s         6.80%       19.369s        9.684s             2  \n",
      "                                            aten::addmm         0.04%     100.830ms         0.04%     100.931ms       5.312ms       12.501s         4.39%       12.501s     657.969ms            19  \n",
      "                                       aten::batch_norm         0.00%       1.634ms         0.01%      24.440ms       2.444ms      72.000us         0.00%        3.576s     357.556ms            10  \n",
      "                           aten::_batch_norm_impl_index         0.00%       9.363ms         0.01%      22.806ms       2.281ms       3.190ms         0.00%        3.575s     357.549ms            10  \n",
      "                                aten::native_batch_norm         0.00%       8.221ms         0.00%      13.382ms       1.338ms     179.684ms         0.06%        3.572s     357.225ms            10  \n",
      "                                    aten::empty_strided         0.00%       7.335ms         0.00%       7.335ms     103.310us        3.406s         1.20%        3.406s      47.978ms            71  \n",
      "                                       aten::empty_like         0.00%       2.032ms         0.00%       5.519ms     459.942us     901.000us         0.00%        3.392s     282.702ms            12  \n",
      "                                              aten::cat         0.05%     154.736ms         0.05%     155.027ms       9.689ms        2.138s         0.75%        2.139s     133.659ms            16  \n",
      "                                  torch_cluster::radius         0.00%       5.389ms         0.42%        1.195s     597.344ms     803.411ms         0.28%        1.762s     880.966ms             2  \n",
      "                                     torch_cluster::knn         0.00%       6.547ms         0.58%        1.654s     551.479ms        1.648s         0.58%        1.655s     551.625ms             3  \n",
      "                                          aten::resize_         0.03%      92.411ms         0.03%      92.411ms       2.310ms        1.646s         0.58%        1.646s      41.149ms            40  \n",
      "                                     aten::index_select         0.00%       9.602ms         0.02%      69.391ms      11.565ms      58.252ms         0.02%        1.416s     235.931ms             6  \n",
      "                                            aten::stack         0.00%       2.092ms         0.05%     149.295ms      18.662ms       1.187ms         0.00%     706.449ms      88.306ms             8  \n",
      "                                    aten::masked_select         0.00%       3.905ms         0.94%        2.677s     267.746ms     204.217ms         0.07%     611.361ms      61.136ms            10  \n",
      "                                              aten::sub         0.00%       9.195ms         0.00%       9.195ms       1.314ms     350.380ms         0.12%     350.380ms      50.054ms             7  \n",
      "                                  aten::scatter_reduce_         0.00%       4.092ms         0.00%       4.974ms       1.658ms     232.267ms         0.08%     248.067ms      82.689ms             3  \n",
      "                                          aten::nonzero         0.93%        2.638s         0.93%        2.641s     264.051ms     116.066ms         0.04%     177.399ms      17.740ms            10  \n",
      "                                             aten::relu         0.00%       1.301ms         0.00%       3.889ms     324.042us     101.000us         0.00%     132.307ms      11.026ms            12  \n",
      "                                        aten::clamp_min         0.00%       2.587ms         0.00%       2.587ms     215.608us     132.206ms         0.05%     132.206ms      11.017ms            12  \n",
      "                                               aten::to         0.00%       5.532ms         7.13%       20.322s     307.908ms       5.347ms         0.00%     103.865ms       1.574ms            66  \n",
      "                                         aten::_to_copy         0.01%      14.952ms         7.13%       20.316s     344.346ms       9.445ms         0.00%      98.518ms       1.670ms            59  \n",
      "                                            aten::copy_         7.13%       20.302s         7.13%       20.302s     285.943ms      78.614ms         0.03%      78.614ms       1.107ms            71  \n",
      "                                            aten::empty         0.00%       6.667ms         0.00%       6.667ms      50.126us      51.875ms         0.02%      51.875ms     390.038us           133  \n",
      "                                             aten::full         0.00%     773.700us         0.00%       4.714ms     523.767us     463.000us         0.00%      50.370ms       5.597ms             9  \n",
      "                                              aten::max         0.01%      26.833ms         0.01%      30.798ms       2.369ms      26.642ms         0.01%      30.412ms       2.339ms            13  \n",
      "                                     aten::scatter_add_         0.01%      15.997ms         0.01%      16.031ms       2.004ms      27.598ms         0.01%      27.652ms       3.457ms             8  \n",
      "                                        aten::new_zeros         0.00%       4.746ms         0.01%      18.556ms       1.325ms       4.603ms         0.00%      20.789ms       1.485ms            14  \n",
      "                                              aten::mul         0.00%      10.078ms         0.00%      10.078ms     775.246us      19.920ms         0.01%      19.920ms       1.532ms            13  \n",
      "                                         aten::scatter_         0.00%     863.800us         0.00%     871.700us     290.567us      15.749ms         0.01%      15.782ms       5.261ms             3  \n",
      "                                            aten::fill_         0.00%      12.331ms         0.00%      12.331ms     456.696us      15.452ms         0.01%      15.452ms     572.296us            27  \n",
      "                                            aten::zero_         0.00%       2.092ms         0.00%      12.786ms     799.137us       1.869ms         0.00%      14.935ms     933.438us            16  \n",
      "                                           aten::cumsum         0.00%      14.049ms         0.00%      14.059ms       3.515ms      12.581ms         0.00%      12.597ms       3.149ms             4  \n",
      "                                            aten::index         0.01%      14.652ms         0.01%      16.033ms     763.486us      11.601ms         0.00%      12.240ms     582.857us            21  \n",
      "                                           aten::arange         0.00%       6.519ms         0.00%      11.160ms     507.273us       6.522ms         0.00%      11.533ms     524.227us            22  \n",
      "                                              aten::div         0.00%       6.031ms         0.00%       6.031ms       2.010ms      10.422ms         0.00%      10.422ms       3.474ms             3  \n",
      "                                             aten::item         0.00%       5.541ms        84.92%      241.898s        8.959s     678.000us         0.00%       6.540ms     242.222us            27  \n",
      "                                             aten::ceil         0.00%       5.565ms         0.00%       5.565ms       2.783ms       6.123ms         0.00%       6.123ms       3.062ms             2  \n",
      "                              aten::_local_scalar_dense        84.92%      241.893s        84.92%      241.893s        8.959s       5.862ms         0.00%       5.862ms     217.111us            27  \n",
      "                                             aten::rand         0.00%     809.600us         0.00%       4.232ms       2.116ms     606.000us         0.00%       4.640ms       2.320ms             2  \n",
      "                                         aten::uniform_         0.00%       3.396ms         0.00%       3.396ms       1.698ms       4.019ms         0.00%       4.019ms       2.010ms             2  \n",
      "                                            aten::slice         0.00%       3.622ms         0.00%       3.670ms     262.143us       3.564ms         0.00%       3.673ms     262.357us            14  \n",
      "                                              aten::sum         0.00%       3.255ms         0.00%       3.255ms       1.085ms       3.258ms         0.00%       3.258ms       1.086ms             3  \n",
      "                                       aten::reciprocal         0.00%       3.293ms         0.00%       3.293ms       1.098ms       3.188ms         0.00%       3.188ms       1.063ms             3  \n",
      "                                             aten::view         0.00%       3.238ms         0.00%       3.238ms      64.756us       3.167ms         0.00%       3.167ms      63.340us            50  \n",
      "                                          aten::detach_         0.00%       2.060ms         0.00%       2.646ms       1.323ms       1.978ms         0.00%       2.601ms       1.300ms             2  \n",
      "                                        aten::ones_like         0.00%       1.456ms         0.00%       2.733ms       1.367ms       1.593ms         0.00%       2.201ms       1.101ms             2  \n",
      "                                       aten::as_strided         0.00%       1.456ms         0.00%       1.456ms       8.665us       2.022ms         0.00%       2.022ms      12.036us           168  \n",
      "                                           aten::select         0.00%       1.652ms         0.00%       1.728ms      39.264us       1.566ms         0.00%       1.941ms      44.114us            44  \n",
      "                                            aten::clamp         0.00%       1.698ms         0.00%       1.703ms     567.600us       1.711ms         0.00%       1.729ms     576.333us             3  \n",
      "                                                aten::t         0.00%       1.815ms         0.00%       2.891ms      99.693us     584.000us         0.00%       1.664ms      57.379us            29  \n",
      "                                            aten::zeros         0.00%     911.800us         0.00%       1.036ms     518.250us       1.507ms         0.00%       1.539ms     769.500us             2  \n",
      "                                          aten::reshape         0.00%       1.606ms         0.00%       1.883ms      58.844us     764.000us         0.00%       1.306ms      40.812us            32  \n",
      "                                        aten::new_empty         0.00%     891.700us         0.00%       1.122ms      80.136us       1.037ms         0.00%       1.277ms      91.214us            14  \n",
      "                                           aten::narrow         0.00%     637.100us         0.00%       1.391ms     115.950us     661.000us         0.00%       1.128ms      94.000us            12  \n",
      "                                        aten::transpose         0.00%     995.900us         0.00%       1.076ms      37.117us     859.000us         0.00%       1.080ms      37.241us            29  \n",
      "                                           aten::unbind         0.00%       2.300ms         0.00%       2.683ms     894.500us     333.000us         0.00%     913.000us     304.333us             3  \n",
      "                                         aten::_unique2         0.00%       5.874ms         0.01%      28.825ms      28.825ms     499.000us         0.00%     663.000us     663.000us             1  \n",
      "                                                detach_         0.00%     586.300us         0.00%     586.300us     293.150us     623.000us         0.00%     623.000us     311.500us             2  \n",
      "                                               aten::ne         0.00%       4.915ms         0.00%       4.915ms     982.980us     525.000us         0.00%     525.000us     105.000us             5  \n",
      "                                             aten::set_         0.00%     857.800us         0.00%     857.800us      61.271us     379.000us         0.00%     379.000us      27.071us            14  \n",
      "                                        aten::expand_as         0.00%     338.500us         0.00%       1.378ms     153.133us      76.000us         0.00%     356.000us      39.556us             9  \n",
      "                                           aten::expand         0.00%       1.020ms         0.00%       1.040ms     115.522us     247.000us         0.00%     280.000us      31.111us             9  \n",
      "                                           aten::argmax         0.00%       1.426ms         0.00%       1.428ms       1.428ms     255.000us         0.00%     259.000us     259.000us             1  \n",
      "                                      aten::log_softmax         0.00%     922.100us         0.00%       2.776ms       2.776ms       6.000us         0.00%     166.000us     166.000us             1  \n",
      "                                     aten::_log_softmax         0.00%       1.854ms         0.00%       1.854ms       1.854ms     160.000us         0.00%     160.000us     160.000us             1  \n",
      "                                       aten::lift_fresh         0.00%     284.500us         0.00%     284.500us     142.250us     111.000us         0.00%     111.000us      55.500us             2  \n",
      "                                          aten::dropout         0.00%      31.900us         0.00%      31.900us       1.679us      68.000us         0.00%      68.000us       3.579us            19  \n",
      "                                        aten::unsqueeze         0.00%      36.300us         0.00%      41.400us      20.700us      34.000us         0.00%      48.000us      24.000us             2  \n",
      "                                     aten::resolve_conj         0.00%       4.000us         0.00%       4.000us       0.667us      36.000us         0.00%      36.000us       6.000us             6  \n",
      "                                      aten::resolve_neg         0.00%       1.300us         0.00%       1.300us       0.217us      24.000us         0.00%      24.000us       4.000us             6  \n",
      "                                          aten::random_         0.00%      25.500us         0.00%      25.500us      25.500us       4.000us         0.00%       4.000us       4.000us             1  \n",
      "-------------------------------------------------------  ------------  ------------  ------------  ------------  ------------  ------------  ------------  ------------  ------------  ------------  \n",
      "Self CPU time total: 284.854s\n",
      "Self CUDA time total: 284.918s\n",
      "\n"
     ]
    }
   ],
   "source": [
    "import time\n",
    "\n",
    "model.eval()\n",
    "\n",
    "import torch.profiler\n",
    "\n",
    "with torch.profiler.profile(\n",
    "    activities=[torch.profiler.ProfilerActivity.CPU, torch.profiler.ProfilerActivity.CUDA],\n",
    "    record_shapes=True,\n",
    ") as prof:\n",
    "\n",
    "    with torch.no_grad():\n",
    "        start_time = time.time()\n",
    "        for data in custom_loader:\n",
    "            data = data.to(device)\n",
    "            with torch.amp.autocast(\"cuda\"):\n",
    "                predictions = model(data)\n",
    "            labels = predictions.argmax(dim=-1)\n",
    "            # Process the labels as needed\n",
    "            #labels_arr = labels.cpu().numpy()\n",
    "            # Count occurrences of labels\n",
    "            unique_labels, label_counts = torch.unique(labels, return_counts=True)\n",
    "            # Combine and print\n",
    "            #result_labels = np.array(list(zip(unique_labels, label_counts)))\n",
    "            #print(\"Label counts:\")\n",
    "            #for label, count in zip(unique_labels, label_counts):\n",
    "            #    print(f\"Label {label.item()}: {count.item()}\")\n",
    "            result_labels = torch.stack((unique_labels, label_counts), dim=1).cpu()\n",
    "            print(\"Label counts:\")\n",
    "            print(result_labels)\n",
    "        end_time = time.time()\n",
    "        print(f\"Total inference time: {end_time - start_time:.4f} seconds\")  \n",
    "    \n",
    "print(prof.key_averages().table(sort_by=\"cuda_time_total\"))\n",
    "\n"
   ]
  },
  {
   "cell_type": "markdown",
   "metadata": {},
   "source": [
    "batch_size 32, num_workers 16: prediction 7min\n",
    "\n",
    "batch_size = 32, num_workers 20: prediction 5min\n",
    "\n",
    "batch_size = 32, num_workers 20, pin_memory=True: prediction 4.5min\n",
    "\n"
   ]
  },
  {
   "cell_type": "code",
   "execution_count": 47,
   "metadata": {},
   "outputs": [],
   "source": [
    "# Assuming `labels` is the tensor containing predicted labels for each point\n",
    "predicted_colors = color_map[labels.cpu().numpy()]  # Shape: [num_points, 3]\n"
   ]
  },
  {
   "cell_type": "code",
   "execution_count": 19,
   "metadata": {},
   "outputs": [
    {
     "name": "stdout",
     "output_type": "stream",
     "text": [
      "866900\n"
     ]
    }
   ],
   "source": [
    "print(len(predicted_colors))"
   ]
  },
  {
   "cell_type": "code",
   "execution_count": 48,
   "metadata": {},
   "outputs": [],
   "source": [
    "# Assuming `pcd` is your Open3D point cloud object\n",
    "downpcd.colors = o3d.utility.Vector3dVector(predicted_colors)"
   ]
  },
  {
   "cell_type": "code",
   "execution_count": 49,
   "metadata": {},
   "outputs": [],
   "source": [
    "# Visualize the point cloud with colored labels\n",
    "o3d.visualization.draw_geometries([downpcd])"
   ]
  },
  {
   "cell_type": "code",
   "execution_count": 22,
   "metadata": {},
   "outputs": [
    {
     "data": {
      "text/plain": [
       "True"
      ]
     },
     "execution_count": 22,
     "metadata": {},
     "output_type": "execute_result"
    }
   ],
   "source": [
    "# Save the point cloud to a file\n",
    "save_path = \"C:/Users/yanpe/OneDrive - Metropolia Ammattikorkeakoulu Oy/Research/data/smartlab/labelled/Smartlab_aalto_pcd_finetuned_label_pointnet2_x3_0.03_20250416.ply\"\n",
    "o3d.io.write_point_cloud(save_path, downpcd)\n"
   ]
  },
  {
   "cell_type": "code",
   "execution_count": 23,
   "metadata": {},
   "outputs": [],
   "source": [
    "del down_points\n",
    "del down_colors\n",
    "torch.cuda.empty_cache()"
   ]
  }
 ],
 "metadata": {
  "kernelspec": {
   "display_name": "Python 3",
   "language": "python",
   "name": "python3"
  },
  "language_info": {
   "codemirror_mode": {
    "name": "ipython",
    "version": 3
   },
   "file_extension": ".py",
   "mimetype": "text/x-python",
   "name": "python",
   "nbconvert_exporter": "python",
   "pygments_lexer": "ipython3",
   "version": "3.12.10"
  }
 },
 "nbformat": 4,
 "nbformat_minor": 2
}
