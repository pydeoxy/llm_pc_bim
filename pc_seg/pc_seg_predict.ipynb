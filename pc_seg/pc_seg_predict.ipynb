{
 "cells": [
  {
   "cell_type": "code",
   "execution_count": null,
   "metadata": {},
   "outputs": [
    {
     "name": "stdout",
     "output_type": "stream",
     "text": [
      "Jupyter environment detected. Enabling Open3D WebVisualizer.\n",
      "[Open3D INFO] WebRTC GUI backend enabled.\n",
      "[Open3D INFO] WebRTCWindowSystem: HTTP handshake server disabled.\n"
     ]
    }
   ],
   "source": [
    "import os\n",
    "import time\n",
    "import open3d as o3d\n",
    "import numpy as np\n",
    "import torch\n",
    "import torch.profiler\n",
    "from torch_geometric.data import Data\n",
    "from torch_geometric.loader import DataLoader\n",
    "import torch_geometric.transforms as T\n",
    "from torch_geometric.typing import WITH_TORCH_CLUSTER\n",
    "from pyg_pointnet2 import PyGPointNet2, PyGPointNet2NoColor\n",
    "from pc_label_map import color_map\n",
    "\n",
    "if not WITH_TORCH_CLUSTER:\n",
    "    quit(\"This example requires 'torch-cluster'\")\n",
    "\n",
    "device = torch.device('cuda' if torch.cuda.is_available() else 'cpu')"
   ]
  },
  {
   "cell_type": "code",
   "execution_count": 2,
   "metadata": {},
   "outputs": [],
   "source": [
    "# Empty the CUDA cache\n",
    "torch.cuda.empty_cache()"
   ]
  },
  {
   "cell_type": "code",
   "execution_count": null,
   "metadata": {},
   "outputs": [],
   "source": [
    "# Models with x6 features including colours\n",
    "model = PyGPointNet2(num_classes=13).to(device) # x6 model\n",
    "model_file_path = \"checkpoints/pointnet2_s3dis_transform_seg_x6_45_checkpoint.pth\" # Orignial transformed x6 model"
   ]
  },
  {
   "cell_type": "code",
   "execution_count": null,
   "metadata": {},
   "outputs": [],
   "source": [
    "# Models with x3 features without colours\n",
    "model = PyGPointNet2NoColor(num_classes=13).to(device) # x3 model\n",
    "#model_file_path = \"checkpoints/pointnet2_s3dis_transform_seg_x3_45_checkpoint.pth\" # Orignial transformed x3 model\n",
    "#model_file_path = \"checkpoints/pointnet2_smartlab_sim_noise_seg_x3_50_checkpoint.pth\" # Simulated transformed x3 model with noise\n",
    "model_file_path = \"checkpoints/smartlab_fine_tuning_transform_x3_50_20250831.pth\" # Fine-tuned model\n"
   ]
  },
  {
   "cell_type": "code",
   "execution_count": null,
   "metadata": {},
   "outputs": [],
   "source": [
    "# Load the checkpoint dictionary\n",
    "checkpoint = torch.load(model_file_path, map_location=device)\n",
    "# Extract the model state dictionary\n",
    "model_state_dict = checkpoint['model_state_dict']\n",
    "model.load_state_dict(model_state_dict)\n",
    "model.eval()\n"
   ]
  },
  {
   "cell_type": "code",
   "execution_count": null,
   "metadata": {},
   "outputs": [],
   "source": [
    "# Load point cloud files\n",
    "#pcd_path = \"C:/Users/yanpe/OneDrive - Metropolia Ammattikorkeakoulu Oy/Research/data/smartlab/Smartlab-2024-04-05_10-58-26_colour_cleaned.pcd\"\n",
    "pcd_path = \"C:/Users/yanpe/OneDrive - Metropolia Ammattikorkeakoulu Oy/Research/data/smartlab/SmartLab_2024_E57_Single_5mm.pcd\"\n",
    "#pcd_path = \"C:/Users/yanpe/OneDrive - Metropolia Ammattikorkeakoulu Oy/Research/data/smartlab/SmartLab_2024_E57_Single_5mm.ply\"\n",
    "#pcd_path = r\"C:\\Users\\yanpe\\OneDrive - Metropolia Ammattikorkeakoulu Oy\\Research\\data\\hexagon\\Fira- 1001.ply\"\n",
    "pcd = o3d.io.read_point_cloud(pcd_path)"
   ]
  },
  {
   "cell_type": "code",
   "execution_count": null,
   "metadata": {},
   "outputs": [],
   "source": [
    "# Move the point cloud to its min(x,y,z) corner \n",
    "def move_to_corner(points):    \n",
    "    # Find the minimum x, y, z\n",
    "    min_xyz = points.min(axis=0)\n",
    "    # Translate the point cloud so that the min corner becomes the origin\n",
    "    moved_points = points - min_xyz\n",
    "    \n",
    "    return moved_points\n",
    "\n",
    "moved_points = move_to_corner(np.array(pcd.points))\n",
    "pcd.points = o3d.utility.Vector3dVector(moved_points)\n",
    "\n",
    "# Downsample the point cloud with a voxel of 0.03\n",
    "downpcd = pcd.voxel_down_sample(voxel_size=0.03)"
   ]
  },
  {
   "cell_type": "code",
   "execution_count": null,
   "metadata": {},
   "outputs": [],
   "source": [
    "# Calculate x features by normalization\n",
    "def normalize_points_corner(points):\n",
    "    min_vals = np.min(points, axis=0)\n",
    "    shifted_points = points - min_vals    \n",
    "    max_vals = np.max(shifted_points, axis=0)\n",
    "    scale = max_vals.copy()    \n",
    "    scale[scale == 0] = 1    \n",
    "    normalized_points = shifted_points / scale\n",
    "\n",
    "    return normalized_points\n",
    "\n",
    "normalized = normalize_points_corner(np.array(downpcd.points))"
   ]
  },
  {
   "cell_type": "code",
   "execution_count": 13,
   "metadata": {},
   "outputs": [],
   "source": [
    "# Extract coordinates and colors from the point cloud\n",
    "down_points = torch.tensor(np.array(downpcd.points), dtype=torch.float32)  \n",
    "down_colors = torch.tensor(np.array(downpcd.colors), dtype=torch.float32)\n",
    "down_normalized = torch.tensor(normalized, dtype=torch.float32)"
   ]
  },
  {
   "cell_type": "code",
   "execution_count": null,
   "metadata": {},
   "outputs": [],
   "source": [
    "# Data with x6 features including colours\n",
    "# Concatenate coordinates and colors to form the input features\n",
    "x = torch.cat([down_colors, down_normalized], dim=1) # 6 (x)\n",
    "# Create a Data object with x (6 features) and pos (coordinates)\n",
    "data = Data(x=x, pos=down_points)"
   ]
  },
  {
   "cell_type": "code",
   "execution_count": null,
   "metadata": {},
   "outputs": [],
   "source": [
    "# Data with x3 features without colours\n",
    "# Create a Data object with x (3 features) and pos (coordinates)\n",
    "data = Data(x=down_normalized, pos=down_points)"
   ]
  },
  {
   "cell_type": "code",
   "execution_count": 15,
   "metadata": {},
   "outputs": [],
   "source": [
    "# If you have only one point cloud\n",
    "dataset = [data]  # List of Data objects\n",
    "\n",
    "num_workers = 20 # use os.cpu_count() to check number of cpu cores\n",
    "batch_size = 32\n",
    "\n",
    "# Create a DataLoader (batch_size can be adjusted as needed)\n",
    "custom_loader = DataLoader(dataset, batch_size=batch_size, shuffle=False,\n",
    "                         num_workers=num_workers, pin_memory=True)"
   ]
  },
  {
   "cell_type": "code",
   "execution_count": null,
   "metadata": {},
   "outputs": [
    {
     "name": "stdout",
     "output_type": "stream",
     "text": [
      "Label counts:\n",
      "tensor([[     0, 122024],\n",
      "        [     1, 144159],\n",
      "        [     2, 164724],\n",
      "        [     3,      1],\n",
      "        [     6,   5472],\n",
      "        [     7,    820],\n",
      "        [     8,   5002],\n",
      "        [     9,      8],\n",
      "        [    10,   7036],\n",
      "        [    12, 417654]])\n",
      "Total inference time: 264.5634 seconds\n",
      "-------------------------------------------------------  ------------  ------------  ------------  ------------  ------------  ------------  ------------  ------------  ------------  ------------  \n",
      "                                                   Name    Self CPU %      Self CPU   CPU total %     CPU total  CPU time avg     Self CUDA   Self CUDA %    CUDA total  CUDA time avg    # of Calls  \n",
      "-------------------------------------------------------  ------------  ------------  ------------  ------------  ------------  ------------  ------------  ------------  ------------  ------------  \n",
      "                                     torch_cluster::fps         0.01%      31.368ms         0.05%     129.011ms      64.506ms      241.576s        92.61%      241.674s      120.837s             2  \n",
      "enumerate(DataLoader)#_MultiProcessingDataLoaderIter...         5.79%       15.114s         5.79%       15.114s        7.557s       15.114s         5.79%       15.114s        7.557s             2  \n",
      "                                     torch_cluster::knn         0.00%       8.456ms         0.62%        1.616s     538.630ms        1.612s         0.62%        1.616s     538.774ms             3  \n",
      "                                           aten::linear         0.00%       3.024ms         0.44%        1.140s      29.997ms       1.293ms         0.00%        1.361s      35.823ms            38  \n",
      "                                  torch_cluster::radius         0.00%      11.859ms         0.32%     842.876ms     421.438ms     804.757ms         0.31%     848.707ms     424.353ms             2  \n",
      "                                            aten::addmm         0.22%     564.487ms         0.22%     564.820ms      29.727ms     671.960ms         0.26%     672.168ms      35.377ms            19  \n",
      "                                  aten::scatter_reduce_         0.00%       1.874ms         0.00%       2.432ms     810.733us     253.553ms         0.10%     265.457ms      88.486ms             3  \n",
      "                                     aten::index_select         0.09%     236.602ms         0.09%     238.816ms      39.803ms     236.911ms         0.09%     244.421ms      40.737ms             6  \n",
      "                                           aten::cumsum         0.02%      63.581ms         0.02%      63.587ms      15.897ms      63.055ms         0.02%      63.072ms      15.768ms             4  \n",
      "                                               aten::to         0.00%       1.506ms         0.11%     298.006ms       4.515ms       1.129ms         0.00%      58.040ms     879.394us            66  \n",
      "                                         aten::_to_copy         0.00%       2.973ms         0.11%     296.500ms       5.025ms       1.878ms         0.00%      56.911ms     964.593us            59  \n",
      "                                       aten::batch_norm         0.00%     894.100us         0.01%      38.854ms       3.885ms      82.000us         0.00%      56.646ms       5.665ms            10  \n",
      "                           aten::_batch_norm_impl_index         0.00%       1.199ms         0.01%      37.960ms       3.796ms      97.000us         0.00%      56.564ms       5.656ms            10  \n",
      "                                aten::native_batch_norm         0.01%      33.719ms         0.01%      36.716ms       3.672ms      30.175ms         0.01%      56.435ms       5.644ms            10  \n",
      "                                            aten::copy_         0.11%     295.865ms         0.11%     295.865ms       4.167ms      54.724ms         0.02%      54.724ms     770.761us            71  \n",
      "                                              aten::max         0.02%      50.162ms         0.02%      50.539ms       3.888ms      51.202ms         0.02%      51.761ms       3.982ms            13  \n",
      "                                              aten::cat         0.01%      17.904ms         0.01%      18.171ms       1.136ms      44.353ms         0.02%      44.525ms       2.783ms            16  \n",
      "                                             aten::relu         0.00%     624.300us         0.01%      14.208ms       1.184ms      77.000us         0.00%      37.218ms       3.102ms            12  \n",
      "                                        aten::clamp_min         0.01%      13.583ms         0.01%      13.583ms       1.132ms      37.141ms         0.01%      37.141ms       3.095ms            12  \n",
      "                                    aten::masked_select         0.00%       2.175ms         0.64%        1.673s     167.318ms       3.771ms         0.00%      32.081ms       3.208ms            10  \n",
      "                                    aten::empty_strided         0.00%       3.810ms         0.00%       3.810ms      53.666us      31.398ms         0.01%      31.398ms     442.225us            71  \n",
      "                                       aten::empty_like         0.00%     269.300us         0.00%       3.075ms     256.225us     515.000us         0.00%      28.546ms       2.379ms            12  \n",
      "                                              aten::sub         0.01%      26.139ms         0.01%      26.139ms       3.734ms      28.508ms         0.01%      28.508ms       4.073ms             7  \n",
      "                                              aten::mul         0.01%      17.394ms         0.01%      17.394ms       1.338ms      27.701ms         0.01%      27.701ms       2.131ms            13  \n",
      "                                     aten::scatter_add_         0.01%      14.895ms         0.01%      14.921ms       1.865ms      26.493ms         0.01%      26.566ms       3.321ms             8  \n",
      "                                         aten::_unique2         0.01%      23.968ms         0.01%      24.095ms      24.095ms      23.932ms         0.01%      24.098ms      24.098ms             1  \n",
      "                                          aten::nonzero         0.64%        1.667s         0.64%        1.669s     166.915ms      18.654ms         0.01%      22.829ms       2.283ms            10  \n",
      "                                        aten::new_zeros         0.00%       1.212ms         0.01%      14.559ms       1.040ms       1.183ms         0.00%      16.997ms       1.214ms            14  \n",
      "                                              aten::sum         0.01%      16.913ms         0.01%      16.913ms       5.638ms      16.835ms         0.01%      16.835ms       5.612ms             3  \n",
      "                                          aten::resize_         0.00%       4.938ms         0.00%       4.938ms     123.445us      16.710ms         0.01%      16.710ms     417.750us            40  \n",
      "                                            aten::fill_         0.01%      13.547ms         0.01%      13.547ms     501.752us      16.513ms         0.01%      16.513ms     611.593us            27  \n",
      "                                             aten::ceil         0.01%      16.307ms         0.01%      16.307ms       8.153ms      16.334ms         0.01%      16.334ms       8.167ms             2  \n",
      "                                            aten::zero_         0.00%     514.900us         0.01%      13.073ms     817.037us     469.000us         0.00%      15.440ms     965.000us            16  \n",
      "                                         aten::scatter_         0.00%     546.700us         0.00%     552.400us     184.133us      11.870ms         0.00%      11.883ms       3.961ms             3  \n",
      "                                              aten::div         0.00%       8.916ms         0.00%       8.916ms       2.972ms      11.674ms         0.00%      11.674ms       3.891ms             3  \n",
      "                                            aten::index        88.21%      230.089s        88.21%      230.090s       10.957s       9.310ms         0.00%       9.867ms     469.857us            21  \n",
      "                                            aten::stack         0.00%       1.230ms         0.00%       3.024ms     378.025us     431.000us         0.00%       9.828ms       1.228ms             8  \n",
      "                                           aten::arange         0.00%       4.512ms         0.00%       8.737ms     397.123us       4.376ms         0.00%       8.790ms     399.545us            22  \n",
      "                                           aten::argmax         0.00%       7.047ms         0.00%       7.052ms       7.052ms       7.326ms         0.00%       7.337ms       7.337ms             1  \n",
      "                                             aten::full         0.00%     372.600us         0.00%       1.796ms     199.500us     216.000us         0.00%       6.344ms     704.889us             9  \n",
      "                                             aten::rand         0.00%     699.000us         0.00%       6.457ms       3.229ms     317.000us         0.00%       6.123ms       3.062ms             2  \n",
      "                                            aten::empty         0.00%       1.685ms         0.00%       1.685ms      12.671us       5.926ms         0.00%       5.926ms      44.556us           133  \n",
      "                                         aten::uniform_         0.00%       5.724ms         0.00%       5.724ms       2.862ms       5.785ms         0.00%       5.785ms       2.893ms             2  \n",
      "                                        aten::ones_like         0.00%     525.100us         0.00%     995.700us     497.850us     546.000us         0.00%       3.203ms       1.601ms             2  \n",
      "                                             aten::view         0.00%       1.803ms         0.00%       1.803ms      36.052us       2.044ms         0.00%       2.044ms      40.880us            50  \n",
      "                                             aten::item         0.00%       1.062ms         4.46%       11.636s     332.469ms     579.000us         0.00%       1.922ms      54.914us            35  \n",
      "                                           aten::select         0.00%     956.800us         0.00%       1.010ms      18.038us       1.136ms         0.00%       1.470ms      26.250us            56  \n",
      "                              aten::_local_scalar_dense         4.46%       11.635s         4.46%       11.635s     332.439ms       1.343ms         0.00%       1.343ms      38.371us            35  \n",
      "                                       aten::as_strided         0.00%     499.200us         0.00%     499.200us       2.773us       1.294ms         0.00%       1.294ms       7.189us           180  \n",
      "                                          aten::reshape         0.00%     888.500us         0.00%       1.089ms      34.028us     444.000us         0.00%     845.000us      26.406us            32  \n",
      "                                       aten::reciprocal         0.00%     879.300us         0.00%     879.300us     293.100us     838.000us         0.00%     838.000us     279.333us             3  \n",
      "                                                aten::t         0.00%       1.114ms         0.00%       1.773ms      61.131us     268.000us         0.00%     747.000us      25.759us            29  \n",
      "                                           aten::unbind         0.00%     997.800us         0.00%       1.408ms     469.367us     174.000us         0.00%     744.000us     248.000us             3  \n",
      "                                            aten::clamp         0.00%     629.100us         0.00%     634.100us     211.367us     596.000us         0.00%     619.000us     206.333us             3  \n",
      "                                               aten::ne         0.29%     757.729ms         0.29%     757.729ms     151.546ms     541.000us         0.00%     541.000us     108.200us             5  \n",
      "                                        aten::new_empty         0.00%     235.400us         0.00%     378.800us      27.057us     446.000us         0.00%     537.000us      38.357us            14  \n",
      "                                        aten::transpose         0.00%     594.600us         0.00%     658.800us      22.717us     309.000us         0.00%     479.000us      16.517us            29  \n",
      "                                           aten::narrow         0.00%     215.900us         0.00%     464.300us      38.692us     102.000us         0.00%     393.000us      32.750us            12  \n",
      "                                      aten::log_softmax         0.00%     524.500us         0.02%      51.087ms      51.087ms       6.000us         0.00%     365.000us     365.000us             1  \n",
      "                                     aten::_log_softmax         0.02%      50.562ms         0.02%      50.562ms      50.562ms     359.000us         0.00%     359.000us     359.000us             1  \n",
      "                                            aten::slice         0.00%     305.500us         0.00%     336.300us      24.021us     203.000us         0.00%     316.000us      22.571us            14  \n",
      "                                        aten::expand_as         0.00%     412.000us         0.00%       1.235ms     137.233us      79.000us         0.00%     299.000us      33.222us             9  \n",
      "                                            aten::zeros         0.00%      81.400us         0.00%     200.900us     100.450us      59.000us         0.00%     255.000us     127.500us             2  \n",
      "                                           aten::expand         0.00%     803.700us         0.00%     823.100us      91.456us     189.000us         0.00%     220.000us      24.444us             9  \n",
      "                                          aten::random_         0.00%     779.200us         0.00%     779.200us     779.200us     121.000us         0.00%     121.000us     121.000us             1  \n",
      "                                             aten::set_         0.00%     271.800us         0.00%     271.800us      19.414us      98.000us         0.00%      98.000us       7.000us            14  \n",
      "                                          aten::detach_         0.00%      33.000us         0.00%      41.600us      20.800us      48.000us         0.00%      68.000us      34.000us             2  \n",
      "                                          aten::dropout         0.00%     143.100us         0.00%     143.100us       7.532us      57.000us         0.00%      57.000us       3.000us            19  \n",
      "                                        aten::unsqueeze         0.00%      30.700us         0.00%      35.400us      17.700us      29.000us         0.00%      43.000us      21.500us             2  \n",
      "                                     aten::resolve_conj         0.00%       2.900us         0.00%       2.900us       0.290us      43.000us         0.00%      43.000us       4.300us            10  \n",
      "                                      aten::resolve_neg         0.00%       1.700us         0.00%       1.700us       0.170us      41.000us         0.00%      41.000us       4.100us            10  \n",
      "                                                detach_         0.00%       8.600us         0.00%       8.600us       4.300us      20.000us         0.00%      20.000us      10.000us             2  \n",
      "                                       aten::lift_fresh         0.00%       2.500us         0.00%       2.500us       1.250us       9.000us         0.00%       9.000us       4.500us             2  \n",
      "-------------------------------------------------------  ------------  ------------  ------------  ------------  ------------  ------------  ------------  ------------  ------------  ------------  \n",
      "Self CPU time total: 260.840s\n",
      "Self CUDA time total: 260.854s\n",
      "\n"
     ]
    }
   ],
   "source": [
    "# Segmentation\n",
    "model.eval()\n",
    "\n",
    "with torch.profiler.profile(\n",
    "    activities=[torch.profiler.ProfilerActivity.CPU, torch.profiler.ProfilerActivity.CUDA],\n",
    "    record_shapes=True,\n",
    ") as prof:\n",
    "\n",
    "    with torch.no_grad():\n",
    "        start_time = time.time()\n",
    "        for data in custom_loader:\n",
    "            data = data.to(device)\n",
    "            with torch.amp.autocast(\"cuda\"):\n",
    "                predictions = model(data)\n",
    "            labels = predictions.argmax(dim=-1)            \n",
    "            unique_labels, label_counts = torch.unique(labels, return_counts=True)            \n",
    "            result_labels = torch.stack((unique_labels, label_counts), dim=1).cpu()\n",
    "            print(\"Label counts:\")\n",
    "            print(result_labels)\n",
    "        end_time = time.time()\n",
    "        print(f\"Total inference time: {end_time - start_time:.4f} seconds\")  \n",
    "    \n",
    "print(prof.key_averages().table(sort_by=\"cuda_time_total\"))\n",
    "\n"
   ]
  },
  {
   "cell_type": "code",
   "execution_count": null,
   "metadata": {},
   "outputs": [],
   "source": [
    "# Assign predicted colors to the point cloud\n",
    "predicted_colors = color_map[labels.cpu().numpy()]  # Shape: [num_points, 3]\n",
    "downpcd.colors = o3d.utility.Vector3dVector(predicted_colors)"
   ]
  },
  {
   "cell_type": "code",
   "execution_count": 39,
   "metadata": {},
   "outputs": [
    {
     "name": "stdout",
     "output_type": "stream",
     "text": [
      "[Open3D WARNING] [ViewControl] SetViewPoint() failed because window height and width are not set.\n"
     ]
    }
   ],
   "source": [
    "# Visualize the point cloud with colored labels\n",
    "o3d.visualization.draw_geometries([downpcd])"
   ]
  },
  {
   "cell_type": "code",
   "execution_count": null,
   "metadata": {},
   "outputs": [
    {
     "data": {
      "text/plain": [
       "True"
      ]
     },
     "execution_count": 40,
     "metadata": {},
     "output_type": "execute_result"
    }
   ],
   "source": [
    "# Save the point cloud to a file\n",
    "save_path = \"C:/Users/yanpe/OneDrive - Metropolia Ammattikorkeakoulu Oy/Research/data/smartlab/labelled/Smartlab_finetune_noise_label_pointnet2_x3_0.03_20250831.ply\"\n",
    "o3d.io.write_point_cloud(save_path, downpcd)"
   ]
  }
 ],
 "metadata": {
  "kernelspec": {
   "display_name": "Python 3",
   "language": "python",
   "name": "python3"
  },
  "language_info": {
   "codemirror_mode": {
    "name": "ipython",
    "version": 3
   },
   "file_extension": ".py",
   "mimetype": "text/x-python",
   "name": "python",
   "nbconvert_exporter": "python",
   "pygments_lexer": "ipython3",
   "version": "3.12.10"
  }
 },
 "nbformat": 4,
 "nbformat_minor": 2
}
