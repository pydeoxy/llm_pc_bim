{
 "cells": [
  {
   "cell_type": "code",
   "execution_count": 16,
   "metadata": {},
   "outputs": [],
   "source": [
    "import os\n",
    "import h5py\n",
    "import time\n",
    "import pandas as pd\n",
    "import seaborn as sns\n",
    "import matplotlib.pyplot as plt\n",
    "import numpy as np\n",
    "from torch.utils.data import Dataset, random_split,Subset\n",
    "import torch\n",
    "import torch.nn as nn\n",
    "import loralib as lora\n",
    "import torch.nn.functional as F\n",
    "from torchmetrics import JaccardIndex\n",
    "import torch_geometric.transforms as T\n",
    "from torch_geometric.loader import DataLoader\n",
    "from torch_geometric.typing import WITH_TORCH_CLUSTER\n",
    "from torch_geometric.data import Data\n",
    "\n",
    "from pyg_pointnet2 import PyGPointNet2NoColorLoRa\n",
    "from pc_dataset import H5PCDataset\n",
    "\n",
    "\n",
    "if not WITH_TORCH_CLUSTER:\n",
    "    quit(\"This example requires 'torch-cluster'\")"
   ]
  },
  {
   "cell_type": "code",
   "execution_count": 17,
   "metadata": {},
   "outputs": [],
   "source": [
    "torch.cuda.empty_cache()"
   ]
  },
  {
   "cell_type": "code",
   "execution_count": 18,
   "metadata": {},
   "outputs": [],
   "source": [
    "# take out colors\n",
    "class SelectLast3Features:\n",
    "    def __call__(self, data):\n",
    "        # If data.x is defined, select only its last 3 features.\n",
    "        if data.x is not None:\n",
    "            data.x = data.x[:, -3:]\n",
    "        return data\n",
    "\n",
    "# transform and pre_transform\n",
    "transform = T.Compose([\n",
    "    T.RandomJitter(0.01),\n",
    "    T.RandomRotate(15, axis=0),\n",
    "    T.RandomRotate(15, axis=1),\n",
    "    T.RandomRotate(15, axis=2)\n",
    "])\n",
    "\n",
    "pre_transform =  T.Compose([\n",
    "    #T.NormalizeScale(),\n",
    "    SelectLast3Features()\n",
    "    ])\n",
    "\n",
    "full_dataset = H5PCDataset(file_path='../docs/sim_pc_dataset_moved.h5', pre_transform=pre_transform)\n",
    "\n",
    "# Define split sizes (e.g., 80% training and 20% validation)\n",
    "total_size = len(full_dataset)\n",
    "train_size = int(0.8 * total_size)\n",
    "test_size = total_size - train_size\n",
    "\n",
    "# Randomly split the dataset\n",
    "train_subset, test_subset = random_split(full_dataset, [train_size, test_size])"
   ]
  },
  {
   "cell_type": "code",
   "execution_count": 19,
   "metadata": {},
   "outputs": [],
   "source": [
    "#Wrap train_subset in AugmentedSubset\n",
    "class AugmentedSubset(Subset):\n",
    "    def __init__(self, subset, transform):\n",
    "        super().__init__(subset.dataset, subset.indices)\n",
    "        self.transform = transform\n",
    "\n",
    "    def __getitem__(self, idx):\n",
    "        data = super().__getitem__(idx)\n",
    "        return self.transform(data)\n",
    "\n",
    "train_dataset = AugmentedSubset(train_subset, transform)\n",
    "test_dataset = test_subset "
   ]
  },
  {
   "cell_type": "code",
   "execution_count": 20,
   "metadata": {},
   "outputs": [
    {
     "name": "stdout",
     "output_type": "stream",
     "text": [
      "Data(x=[4096, 3], y=[4096], pos=[4096, 3])\n",
      "13\n",
      "Data(x=[4096, 3], y=[4096], pos=[4096, 3])\n",
      "13\n"
     ]
    }
   ],
   "source": [
    "print(train_dataset[0])\n",
    "print(train_dataset.dataset.num_classes)\n",
    "print(test_dataset[0])\n",
    "print(test_dataset.dataset.num_classes)"
   ]
  },
  {
   "cell_type": "code",
   "execution_count": 21,
   "metadata": {},
   "outputs": [],
   "source": [
    "batch_size=64\n",
    "num_workers=0\n",
    "\n",
    "train_loader = DataLoader(train_dataset, batch_size=batch_size, shuffle=True,\n",
    "                          num_workers=num_workers, pin_memory=True)\n",
    "test_loader = DataLoader(test_dataset, batch_size=batch_size, shuffle=False,\n",
    "                         num_workers=num_workers, pin_memory=True)"
   ]
  },
  {
   "cell_type": "code",
   "execution_count": 22,
   "metadata": {},
   "outputs": [],
   "source": [
    "device = torch.device('cuda' if torch.cuda.is_available() else 'cpu')\n",
    "model = PyGPointNet2NoColorLoRa(num_classes=13).to(device)"
   ]
  },
  {
   "cell_type": "code",
   "execution_count": 23,
   "metadata": {},
   "outputs": [],
   "source": [
    "# Initialize model\n",
    "device = torch.device('cuda' if torch.cuda.is_available() else 'cpu')\n",
    "model = PyGPointNet2NoColorLoRa(num_classes=13).to(device)\n",
    "model.load_state_dict(torch.load(\"checkpoints/pointnet2_s3dis_transform_seg_x3_45_checkpoint.pth\", map_location=device), strict=False)  # Load pretrained weights\n",
    "\n",
    "# Freeze all parameters except LoRA\n",
    "for param in model.parameters():\n",
    "    param.requires_grad = False\n",
    "\n",
    "# Unfreeze LoRA parameters\n",
    "for name, param in model.named_parameters():\n",
    "    if \"lora_\" in name:  # LoRA parameters have \"lora_A\" or \"lora_B\" in their names\n",
    "        param.requires_grad = True"
   ]
  },
  {
   "cell_type": "code",
   "execution_count": 24,
   "metadata": {},
   "outputs": [
    {
     "data": {
      "text/plain": [
       "PyGPointNet2NoColorLoRa(\n",
       "  (sa1_module): SAModule(\n",
       "    (conv): PointNetConv(local_nn=Sequential(\n",
       "      (0): Linear(in_features=6, out_features=64, bias=True)\n",
       "      (1): ReLU()\n",
       "      (2): Linear(in_features=64, out_features=64, bias=True)\n",
       "      (3): ReLU()\n",
       "      (4): Linear(in_features=64, out_features=128, bias=True)\n",
       "    ), global_nn=None)\n",
       "  )\n",
       "  (sa2_module): SAModule(\n",
       "    (conv): PointNetConv(local_nn=Sequential(\n",
       "      (0): Linear(in_features=131, out_features=128, bias=True)\n",
       "      (1): ReLU()\n",
       "      (2): Linear(in_features=128, out_features=128, bias=True)\n",
       "      (3): ReLU()\n",
       "      (4): Linear(in_features=128, out_features=256, bias=True)\n",
       "    ), global_nn=None)\n",
       "  )\n",
       "  (sa3_module): GlobalSAModule(\n",
       "    (nn): Sequential(\n",
       "      (0): Linear(in_features=259, out_features=256, bias=True)\n",
       "      (1): ReLU()\n",
       "      (2): Linear(in_features=256, out_features=512, bias=True)\n",
       "      (3): ReLU()\n",
       "      (4): Linear(in_features=512, out_features=1024, bias=True)\n",
       "    )\n",
       "  )\n",
       "  (fp3_module): FPModule(\n",
       "    (nn): Sequential(\n",
       "      (0): Linear(in_features=1280, out_features=256, bias=True)\n",
       "      (1): ReLU()\n",
       "      (2): Linear(in_features=256, out_features=256, bias=True)\n",
       "    )\n",
       "  )\n",
       "  (fp2_module): FPModule(\n",
       "    (nn): Sequential(\n",
       "      (0): Linear(in_features=384, out_features=256, bias=True)\n",
       "      (1): ReLU()\n",
       "      (2): Linear(in_features=256, out_features=128, bias=True)\n",
       "    )\n",
       "  )\n",
       "  (fp1_module): FPModule(\n",
       "    (nn): Sequential(\n",
       "      (0): Linear(in_features=131, out_features=128, bias=True)\n",
       "      (1): ReLU()\n",
       "      (2): Linear(in_features=128, out_features=128, bias=True)\n",
       "      (3): ReLU()\n",
       "      (4): Linear(in_features=128, out_features=128, bias=True)\n",
       "    )\n",
       "  )\n",
       "  (mlp): Sequential(\n",
       "    (0): Linear(in_features=128, out_features=128, bias=True)\n",
       "    (1): ReLU()\n",
       "    (2): Dropout(p=0.5, inplace=False)\n",
       "    (3): Linear(in_features=128, out_features=128, bias=True)\n",
       "    (4): ReLU()\n",
       "    (5): Dropout(p=0.5, inplace=False)\n",
       "    (6): Linear(in_features=128, out_features=13, bias=True)\n",
       "  )\n",
       "  (lin1): Linear(in_features=128, out_features=128, bias=True)\n",
       "  (lin2): Linear(in_features=128, out_features=128, bias=True)\n",
       "  (lin3): Linear(in_features=128, out_features=13, bias=True)\n",
       ")"
      ]
     },
     "execution_count": 24,
     "metadata": {},
     "output_type": "execute_result"
    }
   ],
   "source": [
    "model.eval()"
   ]
  },
  {
   "cell_type": "code",
   "execution_count": 25,
   "metadata": {},
   "outputs": [
    {
     "name": "stdout",
     "output_type": "stream",
     "text": [
      "Trainable parameters: ['sa1_module.conv.local_nn.0.lora_A', 'sa1_module.conv.local_nn.0.lora_B', 'sa1_module.conv.local_nn.2.lora_A', 'sa1_module.conv.local_nn.2.lora_B', 'sa1_module.conv.local_nn.4.lora_A', 'sa1_module.conv.local_nn.4.lora_B', 'sa2_module.conv.local_nn.0.lora_A', 'sa2_module.conv.local_nn.0.lora_B', 'sa2_module.conv.local_nn.2.lora_A', 'sa2_module.conv.local_nn.2.lora_B', 'sa2_module.conv.local_nn.4.lora_A', 'sa2_module.conv.local_nn.4.lora_B', 'sa3_module.nn.0.lora_A', 'sa3_module.nn.0.lora_B', 'sa3_module.nn.2.lora_A', 'sa3_module.nn.2.lora_B', 'sa3_module.nn.4.lora_A', 'sa3_module.nn.4.lora_B', 'fp3_module.nn.0.lora_A', 'fp3_module.nn.0.lora_B', 'fp3_module.nn.2.lora_A', 'fp3_module.nn.2.lora_B', 'fp2_module.nn.0.lora_A', 'fp2_module.nn.0.lora_B', 'fp2_module.nn.2.lora_A', 'fp2_module.nn.2.lora_B', 'fp1_module.nn.0.lora_A', 'fp1_module.nn.0.lora_B', 'fp1_module.nn.2.lora_A', 'fp1_module.nn.2.lora_B', 'fp1_module.nn.4.lora_A', 'fp1_module.nn.4.lora_B', 'mlp.0.lora_A', 'mlp.0.lora_B', 'mlp.3.lora_A', 'mlp.3.lora_B', 'mlp.6.lora_A', 'mlp.6.lora_B', 'lin1.lora_A', 'lin1.lora_B', 'lin2.lora_A', 'lin2.lora_B', 'lin3.lora_A', 'lin3.lora_B']\n"
     ]
    }
   ],
   "source": [
    "# Verify trainable parameters\n",
    "trainable_params = [name for name, p in model.named_parameters() if p.requires_grad]\n",
    "print(\"Trainable parameters:\", trainable_params)\n",
    "\n",
    "# After freezing the base model and enabling LoRA:\n",
    "optimizer = torch.optim.Adam(\n",
    "    [p for p in model.parameters() if p.requires_grad],  # Manual LoRA params\n",
    "    lr=1e-3,\n",
    "    weight_decay=0.01\n",
    ")"
   ]
  },
  {
   "cell_type": "code",
   "execution_count": 26,
   "metadata": {},
   "outputs": [
    {
     "data": {
      "text/plain": [
       "\"\\ncriterion = torch.nn.CrossEntropyLoss()\\n\\ndef train():\\n    model.train()\\n\\n    total_loss = correct_nodes = total_nodes = 0\\n    for i, data in enumerate(train_loader):\\n        data = data.to(device)\\n        optimizer.zero_grad()\\n        out = model(data)\\n        loss = criterion(out.view(-1, 13), data.y.view(-1))\\n        loss.backward()\\n        optimizer.step()\\n        total_loss += loss.item()\\n        correct_nodes += out.argmax(dim=1).eq(data.y).sum().item()\\n        total_nodes += data.num_nodes\\n\\n        if (i + 1) % 10 == 0:\\n            print(f'[{i+1}/{len(train_loader)}] Loss: {total_loss / 10:.4f} '\\n                  f'Train Acc: {correct_nodes / total_nodes:.4f}')\\n            total_loss = correct_nodes = total_nodes = 0\\n    # If there are remaining batches that were not printed (i.e., i+1 not divisible by 10)\\n    if total_nodes > 0:\\n        num_remaining = (i + 1) % 10  # Number of batches in the leftover segment\\n        print(f'[{i+1}/{len(train_loader)}] Loss: {total_loss / num_remaining:.4f} '\\n              f'Train Acc: {correct_nodes / total_nodes:.4f}')\\n\""
      ]
     },
     "execution_count": 26,
     "metadata": {},
     "output_type": "execute_result"
    }
   ],
   "source": [
    "\"\"\"\n",
    "criterion = torch.nn.CrossEntropyLoss()\n",
    "\n",
    "def train():\n",
    "    model.train()\n",
    "\n",
    "    total_loss = correct_nodes = total_nodes = 0\n",
    "    for i, data in enumerate(train_loader):\n",
    "        data = data.to(device)\n",
    "        optimizer.zero_grad()\n",
    "        out = model(data)\n",
    "        loss = criterion(out.view(-1, 13), data.y.view(-1))\n",
    "        loss.backward()\n",
    "        optimizer.step()\n",
    "        total_loss += loss.item()\n",
    "        correct_nodes += out.argmax(dim=1).eq(data.y).sum().item()\n",
    "        total_nodes += data.num_nodes\n",
    "\n",
    "        if (i + 1) % 10 == 0:\n",
    "            print(f'[{i+1}/{len(train_loader)}] Loss: {total_loss / 10:.4f} '\n",
    "                  f'Train Acc: {correct_nodes / total_nodes:.4f}')\n",
    "            total_loss = correct_nodes = total_nodes = 0\n",
    "    # If there are remaining batches that were not printed (i.e., i+1 not divisible by 10)\n",
    "    if total_nodes > 0:\n",
    "        num_remaining = (i + 1) % 10  # Number of batches in the leftover segment\n",
    "        print(f'[{i+1}/{len(train_loader)}] Loss: {total_loss / num_remaining:.4f} '\n",
    "              f'Train Acc: {correct_nodes / total_nodes:.4f}')\n",
    "\"\"\"\n"
   ]
  },
  {
   "cell_type": "code",
   "execution_count": 27,
   "metadata": {},
   "outputs": [],
   "source": [
    "def train_one_epoch():\n",
    "    model.train()\n",
    "    running_loss = correct = total = 0\n",
    "\n",
    "    for data in train_loader:\n",
    "        data = data.to(device)\n",
    "        optimizer.zero_grad()\n",
    "        out = model(data)\n",
    "        loss = F.nll_loss(out, data.y)\n",
    "        loss.backward()\n",
    "        optimizer.step()\n",
    "        running_loss += loss.item()\n",
    "        correct      += out.argmax(1).eq(data.y).sum().item()\n",
    "        total        += data.num_nodes\n",
    "\n",
    "    # Average loss & accuracy for this epoch\n",
    "    epoch_loss = running_loss / len(train_loader) \n",
    "    epoch_acc  = correct / total\n",
    "\n",
    "    return epoch_loss, epoch_acc"
   ]
  },
  {
   "cell_type": "code",
   "execution_count": 28,
   "metadata": {},
   "outputs": [],
   "source": [
    "\n",
    "@torch.no_grad()\n",
    "def test(loader):\n",
    "    model.eval()\n",
    "    jaccard = JaccardIndex(num_classes=loader.dataset.dataset.num_classes, task=\"multiclass\").to(device)\n",
    "    \n",
    "    for data in loader:\n",
    "        data = data.to(device)\n",
    "        outs = model(data)\n",
    "        preds = outs.argmax(dim=-1)\n",
    "        jaccard.update(preds, data.y)\n",
    "    \n",
    "    return jaccard.compute().item()\n"
   ]
  },
  {
   "cell_type": "code",
   "execution_count": 29,
   "metadata": {},
   "outputs": [],
   "source": [
    "# Record history metrics\n",
    "loss_history   = []\n",
    "acc_history    = []\n",
    "iou_history    = []\n",
    "time_history   = []"
   ]
  },
  {
   "cell_type": "code",
   "execution_count": 30,
   "metadata": {},
   "outputs": [
    {
     "name": "stdout",
     "output_type": "stream",
     "text": [
      "Epoch 01 | Loss: 2.5861 | Acc: 0.0293 | IoU: 0.0041 | Time: 15.00s\n",
      "Epoch 02 | Loss: 2.5669 | Acc: 0.0388 | IoU: 0.0041 | Time: 13.20s\n",
      "Epoch 03 | Loss: 2.5410 | Acc: 0.0897 | IoU: 0.0116 | Time: 13.58s\n",
      "Epoch 04 | Loss: 2.4682 | Acc: 0.2429 | IoU: 0.0367 | Time: 14.37s\n",
      "Epoch 05 | Loss: 2.2908 | Acc: 0.3574 | IoU: 0.0367 | Time: 13.46s\n",
      "Epoch 06 | Loss: 1.8762 | Acc: 0.3874 | IoU: 0.0367 | Time: 17.90s\n",
      "Epoch 07 | Loss: 1.6780 | Acc: 0.3779 | IoU: 0.0367 | Time: 36.78s\n",
      "Epoch 08 | Loss: 1.6608 | Acc: 0.3515 | IoU: 0.0367 | Time: 15.32s\n",
      "Epoch 09 | Loss: 1.6406 | Acc: 0.3582 | IoU: 0.0367 | Time: 8.87s\n",
      "Epoch 10 | Loss: 1.6356 | Acc: 0.3800 | IoU: 0.0367 | Time: 12.48s\n",
      "Epoch 11 | Loss: 1.6434 | Acc: 0.3878 | IoU: 0.0367 | Time: 9.61s\n",
      "Epoch 12 | Loss: 1.6465 | Acc: 0.3870 | IoU: 0.0367 | Time: 9.58s\n",
      "Epoch 13 | Loss: 1.6087 | Acc: 0.3823 | IoU: 0.0367 | Time: 21.89s\n",
      "Epoch 14 | Loss: 1.5804 | Acc: 0.3687 | IoU: 0.0367 | Time: 14.37s\n",
      "Epoch 15 | Loss: 1.5887 | Acc: 0.3554 | IoU: 0.0367 | Time: 13.25s\n",
      "Epoch 16 | Loss: 1.6369 | Acc: 0.3718 | IoU: 0.0367 | Time: 9.53s\n",
      "Epoch 17 | Loss: 1.7624 | Acc: 0.3845 | IoU: 0.0367 | Time: 16.44s\n",
      "Epoch 18 | Loss: 1.6341 | Acc: 0.3847 | IoU: 0.0367 | Time: 8.86s\n",
      "Epoch 19 | Loss: 1.6337 | Acc: 0.3831 | IoU: 0.0367 | Time: 13.08s\n",
      "Epoch 20 | Loss: 1.5972 | Acc: 0.3804 | IoU: 0.0367 | Time: 9.51s\n",
      "Epoch 21 | Loss: 1.6236 | Acc: 0.3811 | IoU: 0.0367 | Time: 8.73s\n",
      "Epoch 22 | Loss: 1.5671 | Acc: 0.3781 | IoU: 0.0367 | Time: 13.50s\n",
      "Epoch 23 | Loss: 1.6228 | Acc: 0.3715 | IoU: 0.0367 | Time: 13.17s\n",
      "Epoch 24 | Loss: 1.6143 | Acc: 0.3613 | IoU: 0.0367 | Time: 9.75s\n",
      "Epoch 25 | Loss: 1.6419 | Acc: 0.3585 | IoU: 0.0367 | Time: 14.22s\n",
      "Epoch 26 | Loss: 1.5896 | Acc: 0.3731 | IoU: 0.0367 | Time: 17.69s\n",
      "Epoch 27 | Loss: 1.6209 | Acc: 0.3821 | IoU: 0.0367 | Time: 9.69s\n",
      "Epoch 28 | Loss: 1.5925 | Acc: 0.3830 | IoU: 0.0367 | Time: 9.63s\n",
      "Epoch 29 | Loss: 1.6799 | Acc: 0.3749 | IoU: 0.0367 | Time: 17.80s\n",
      "Epoch 30 | Loss: 1.6065 | Acc: 0.3604 | IoU: 0.0367 | Time: 9.59s\n",
      "Epoch 31 | Loss: 1.5764 | Acc: 0.3641 | IoU: 0.0367 | Time: 13.43s\n",
      "Epoch 32 | Loss: 1.6039 | Acc: 0.3751 | IoU: 0.0367 | Time: 13.76s\n",
      "Epoch 33 | Loss: 1.5367 | Acc: 0.3671 | IoU: 0.0367 | Time: 9.55s\n",
      "Epoch 34 | Loss: 1.6333 | Acc: 0.3225 | IoU: 0.0184 | Time: 14.27s\n",
      "Epoch 35 | Loss: 1.6046 | Acc: 0.3193 | IoU: 0.0367 | Time: 9.98s\n",
      "Epoch 36 | Loss: 1.6273 | Acc: 0.3620 | IoU: 0.0367 | Time: 12.44s\n",
      "Epoch 37 | Loss: 1.5565 | Acc: 0.3772 | IoU: 0.0367 | Time: 33.96s\n",
      "Epoch 38 | Loss: 1.5452 | Acc: 0.3667 | IoU: 0.0844 | Time: 9.33s\n",
      "Epoch 39 | Loss: 1.5642 | Acc: 0.3152 | IoU: 0.0184 | Time: 13.80s\n",
      "Epoch 40 | Loss: 1.6679 | Acc: 0.3014 | IoU: 0.0324 | Time: 14.16s\n",
      "Epoch 41 | Loss: 1.6750 | Acc: 0.3219 | IoU: 0.0518 | Time: 12.62s\n",
      "Epoch 42 | Loss: 1.5798 | Acc: 0.3446 | IoU: 0.0922 | Time: 12.79s\n",
      "Epoch 43 | Loss: 1.5574 | Acc: 0.3562 | IoU: 0.0367 | Time: 8.57s\n",
      "Epoch 44 | Loss: 1.6323 | Acc: 0.3667 | IoU: 0.0863 | Time: 11.88s\n",
      "Epoch 45 | Loss: 1.5889 | Acc: 0.3394 | IoU: 0.0184 | Time: 13.22s\n",
      "Epoch 46 | Loss: 1.5344 | Acc: 0.3062 | IoU: 0.0317 | Time: 9.20s\n",
      "Epoch 47 | Loss: 1.5234 | Acc: 0.3344 | IoU: 0.0646 | Time: 25.36s\n",
      "Epoch 48 | Loss: 1.4995 | Acc: 0.3577 | IoU: 0.0742 | Time: 8.45s\n",
      "Epoch 49 | Loss: 1.4682 | Acc: 0.3266 | IoU: 0.0184 | Time: 11.98s\n",
      "Epoch 50 | Loss: 1.5999 | Acc: 0.2773 | IoU: 0.0184 | Time: 18.08s\n"
     ]
    }
   ],
   "source": [
    "for epoch in range(1, 51):\n",
    "    # Track epoch start time\n",
    "    start_time = time.perf_counter()\n",
    "    #train()\n",
    "\n",
    "    loss, acc = train_one_epoch()\n",
    "    loss_history.append(loss)\n",
    "    acc_history.append(acc)\n",
    "\n",
    "    iou = test(test_loader)\n",
    "    iou_history.append(iou)\n",
    "\n",
    "    # Calculate epoch duration\n",
    "    epoch_time = time.perf_counter() - start_time\n",
    "    time_history.append(epoch_time)\n",
    "    \n",
    "    # Print results with time\n",
    "    print(f\"Epoch {epoch:02d} | \"\n",
    "          f\"Loss: {loss:.4f} | \"\n",
    "          f\"Acc: {acc:.4f} | \"\n",
    "          f\"IoU: {iou:.4f} | \"\n",
    "          f\"Time: {epoch_time:.2f}s\")\n",
    "\n"
   ]
  },
  {
   "cell_type": "code",
   "execution_count": 31,
   "metadata": {},
   "outputs": [
    {
     "data": {
      "image/png": "[encoded data removed]",
      "text/plain": [
       "<Figure size 1000x600 with 1 Axes>"
      ]
     },
     "metadata": {},
     "output_type": "display_data"
    }
   ],
   "source": [
    "# Visualize with seaborn\n",
    "\n",
    "# 1) Build DataFrame\n",
    "df = pd.DataFrame({\n",
    "    'epoch': range(1, len(loss_history) + 1),\n",
    "    'Loss': loss_history,\n",
    "    'Accuracy': acc_history,\n",
    "    'IoU': iou_history,\n",
    "    'Time (s)': time_history\n",
    "})\n",
    "\n",
    "# 2) Melt to long form for seaborn\n",
    "df_long = df.melt(id_vars='epoch',\n",
    "                  var_name='Metric',\n",
    "                  value_name='Value')\n",
    "\n",
    "# 3) Plot all metrics in one figure\n",
    "plt.figure(figsize=(10, 6))\n",
    "sns.lineplot(data=df_long, x='epoch', y='Value', hue='Metric')  \n",
    "plt.title('Training Metrics per Epoch')  \n",
    "plt.xlabel('Epoch')  \n",
    "plt.ylabel('Metric Value')  \n",
    "plt.legend(title='Metric', loc='best')\n",
    "plt.tight_layout()\n",
    "plt.show()"
   ]
  },
  {
   "cell_type": "code",
   "execution_count": 32,
   "metadata": {},
   "outputs": [],
   "source": [
    "# Export without the index column\n",
    "df.to_csv(\"../docs/lora_train_metrics.csv\", index=False)"
   ]
  },
  {
   "cell_type": "code",
   "execution_count": 16,
   "metadata": {},
   "outputs": [],
   "source": [
    "torch.save(lora.lora_state_dict(model), \"checkpoints/smartlab_lora_weights_x3_100_20250424.pth\")"
   ]
  }
 ],
 "metadata": {
  "kernelspec": {
   "display_name": "Python 3",
   "language": "python",
   "name": "python3"
  },
  "language_info": {
   "codemirror_mode": {
    "name": "ipython",
    "version": 3
   },
   "file_extension": ".py",
   "mimetype": "text/x-python",
   "name": "python",
   "nbconvert_exporter": "python",
   "pygments_lexer": "ipython3",
   "version": "3.12.10"
  }
 },
 "nbformat": 4,
 "nbformat_minor": 2
}
