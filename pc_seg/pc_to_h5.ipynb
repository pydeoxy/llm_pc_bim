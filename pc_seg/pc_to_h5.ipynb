{
 "cells": [
  {
   "cell_type": "markdown",
   "metadata": {},
   "source": [
    "**Read .ply file of point cloud**"
   ]
  },
  {
   "cell_type": "code",
   "execution_count": 1,
   "metadata": {},
   "outputs": [
    {
     "name": "stdout",
     "output_type": "stream",
     "text": [
      "Jupyter environment detected. Enabling Open3D WebVisualizer.\n",
      "[Open3D INFO] WebRTC GUI backend enabled.\n",
      "[Open3D INFO] WebRTCWindowSystem: HTTP handshake server disabled.\n"
     ]
    }
   ],
   "source": [
    "import open3d as o3d\n",
    "import numpy as np\n",
    "import h5py\n",
    "from pc_label_map import color_map"
   ]
  },
  {
   "cell_type": "code",
   "execution_count": null,
   "metadata": {},
   "outputs": [],
   "source": [
    "sim_pc_path = '../docs/smartLab_sim.ply'\n",
    "\n",
    "pcd = o3d.io.read_point_cloud(sim_pc_path)\n",
    "points = np.asarray(pcd.points)          # Shape: [N, 3]\n",
    "colors = np.asarray(pcd.colors)           # Shape: [N, 3]\n",
    "\n",
    "#o3d.visualization.draw_geometries([pcd])"
   ]
  },
  {
   "cell_type": "code",
   "execution_count": null,
   "metadata": {},
   "outputs": [],
   "source": [
    "# Move the point cloud to its min(x,y,z) corner\n",
    " \n",
    "def move_to_corner(points):    \n",
    "    min_xyz = points.min(axis=0)\n",
    "    moved_points = points - min_xyz\n",
    "    \n",
    "    return moved_points\n",
    "\n",
    "moved_points = move_to_corner(np.array(pcd.points))\n",
    "pcd.points = o3d.utility.Vector3dVector(moved_points)"
   ]
  },
  {
   "cell_type": "code",
   "execution_count": null,
   "metadata": {},
   "outputs": [
    {
     "name": "stdout",
     "output_type": "stream",
     "text": [
      "Column 1: min = 0.0, max = 11.514938609902565\n",
      "Column 2: min = 0.0, max = 11.121357249938047\n",
      "Column 3: min = 0.0, max = 3.906518181158416\n",
      "None\n"
     ]
    }
   ],
   "source": [
    "# Check the range of points\n",
    "def array_range(array):\n",
    "    min_values = np.min(array, axis=0)\n",
    "    max_values = np.max(array, axis=0)\n",
    "    for i, (min_val, max_val) in enumerate(zip(min_values, max_values), start=1):\n",
    "        print(f\"Column {i}: min = {min_val}, max = {max_val}\")\n",
    "\n",
    "print(array_range(np.array(pcd.points)))"
   ]
  },
  {
   "cell_type": "markdown",
   "metadata": {},
   "source": [
    "Features of dataset (9):\n",
    "coordinates(3), colors(3), normalized coordinates(3)"
   ]
  },
  {
   "cell_type": "code",
   "execution_count": null,
   "metadata": {},
   "outputs": [],
   "source": [
    "def normalize_points_corner(points):    \n",
    "    min_vals = np.min(points, axis=0)\n",
    "    shifted_points = points - min_vals\n",
    "    max_vals = np.max(shifted_points, axis=0)\n",
    "    scale = max_vals.copy()\n",
    "    scale[scale == 0] = 1\n",
    "    normalized_points = shifted_points / scale\n",
    "    return normalized_points\n",
    "\n",
    "normalized = normalize_points_corner(np.array(pcd.points))"
   ]
  },
  {
   "cell_type": "code",
   "execution_count": 7,
   "metadata": {},
   "outputs": [],
   "source": [
    "# Concatenate to get features of shape (N, 9)\n",
    "features = np.concatenate([points, colors, normalized], axis=1)"
   ]
  },
  {
   "cell_type": "markdown",
   "metadata": {},
   "source": [
    "**Blocks of 1m x 1m x 1m with 4096 points in each like S3DIS dataset**"
   ]
  },
  {
   "cell_type": "code",
   "execution_count": 8,
   "metadata": {},
   "outputs": [],
   "source": [
    "min_bound = np.min(points, axis=0)\n",
    "max_bound = np.max(points, axis=0)\n",
    "\n",
    "block_size = 1.0  # in meters\n",
    "num_blocks_x = int(np.ceil((max_bound[0] - min_bound[0]) / block_size))\n",
    "num_blocks_y = int(np.ceil((max_bound[1] - min_bound[1]) / block_size))\n",
    "num_blocks_z = int(np.ceil((max_bound[2] - min_bound[2]) / block_size))\n",
    "\n",
    "block_features_list = []\n",
    "block_labels_list  = []\n",
    "\n",
    "for ix in range(num_blocks_x):\n",
    "    for iy in range(num_blocks_y):\n",
    "        for iz in range(num_blocks_z):\n",
    "            # Define the spatial boundaries for this block\n",
    "            x_min = min_bound[0] + ix * block_size\n",
    "            x_max = x_min + block_size\n",
    "            y_min = min_bound[1] + iy * block_size\n",
    "            y_max = y_min + block_size\n",
    "            z_min = min_bound[2] + iz * block_size\n",
    "            z_max = z_min + block_size\n",
    "\n",
    "            # Find indices of points within the block\n",
    "            in_block = np.where(\n",
    "                (points[:, 0] >= x_min) & (points[:, 0] < x_max) &\n",
    "                (points[:, 1] >= y_min) & (points[:, 1] < y_max) &\n",
    "                (points[:, 2] >= z_min) & (points[:, 2] < z_max)\n",
    "            )[0]\n",
    "\n",
    "            if len(in_block) == 0:\n",
    "                continue  # Skip empty blocks\n",
    "\n",
    "            block_features = features[in_block, :]\n",
    "            # If label is directly extractable, substitute here. If not, infer from color.\n",
    "            block_colors = colors[in_block]\n",
    "            block_labels = np.argmin(np.linalg.norm(colors[in_block][:, None] - color_map, axis=2), axis=1)\n",
    "\n",
    "            # --- Handling Block Size (4096 points) ---\n",
    "            # If there are more than 4096 points, randomly sample 4096.\n",
    "            # If there are fewer, perform random duplication (or padding with zeros) to reach 4096.\n",
    "            num_points = block_features.shape[0]\n",
    "            target_points = 4096\n",
    "\n",
    "            if num_points >= target_points:\n",
    "                idx = np.random.choice(num_points, target_points, replace=False)\n",
    "            else:\n",
    "                # Duplicate some points\n",
    "                idx = np.concatenate([\n",
    "                    np.arange(num_points),\n",
    "                    np.random.choice(num_points, target_points - num_points, replace=True)\n",
    "                ])\n",
    "            block_features = block_features[idx, :]\n",
    "            block_labels = block_labels[idx]\n",
    "\n",
    "            block_features_list.append(block_features)\n",
    "            block_labels_list.append(block_labels)"
   ]
  },
  {
   "cell_type": "code",
   "execution_count": 9,
   "metadata": {},
   "outputs": [
    {
     "name": "stdout",
     "output_type": "stream",
     "text": [
      "[0.22102129 0.73422805 0.51192494 0.         0.         0.\n",
      " 0.01919431 0.06601964 0.13104379]\n",
      "12\n"
     ]
    }
   ],
   "source": [
    "data_array = np.stack(block_features_list, axis=0)  # Shape: (B, 4096, 9)\n",
    "label_array = np.stack(block_labels_list, axis=0)     # Shape: (B, 4096)\n",
    "\n",
    "print(data_array[0][0])\n",
    "print(label_array[0][0])"
   ]
  },
  {
   "cell_type": "code",
   "execution_count": 10,
   "metadata": {},
   "outputs": [],
   "source": [
    "sim_pc_data_path = '../docs/sim_pc_dataset_moved.h5'\n",
    "\n",
    "# Save to HDF5\n",
    "with h5py.File(sim_pc_data_path, 'w') as f:\n",
    "    f.create_dataset('data', data=data_array, compression='gzip')\n",
    "    f.create_dataset('label', data=label_array, compression='gzip')"
   ]
  },
  {
   "cell_type": "code",
   "execution_count": 20,
   "metadata": {},
   "outputs": [
    {
     "data": {
      "text/plain": [
       "(485, 4096, 9)"
      ]
     },
     "execution_count": 20,
     "metadata": {},
     "output_type": "execute_result"
    }
   ],
   "source": [
    "# Test HDF5 data\n",
    "import h5py\n",
    "f = h5py.File(sim_pc_data_path, 'r') #train_pc_path, data_file_path\n",
    "list(f.keys())\n",
    "dset = f['data']\n",
    "dset.shape"
   ]
  }
 ],
 "metadata": {
  "kernelspec": {
   "display_name": "Python 3",
   "language": "python",
   "name": "python3"
  },
  "language_info": {
   "codemirror_mode": {
    "name": "ipython",
    "version": 3
   },
   "file_extension": ".py",
   "mimetype": "text/x-python",
   "name": "python",
   "nbconvert_exporter": "python",
   "pygments_lexer": "ipython3",
   "version": "3.12.10"
  }
 },
 "nbformat": 4,
 "nbformat_minor": 2
}
