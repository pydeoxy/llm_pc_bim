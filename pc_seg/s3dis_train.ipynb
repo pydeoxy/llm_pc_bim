{
 "cells": [
  {
   "cell_type": "code",
   "execution_count": 1,
   "metadata": {},
   "outputs": [
    {
     "name": "stdout",
     "output_type": "stream",
     "text": [
      "/projappl/project_2013104/pengyan1/venv/bin/python\n"
     ]
    }
   ],
   "source": [
    "!which python"
   ]
  },
  {
   "cell_type": "code",
   "execution_count": 1,
   "metadata": {},
   "outputs": [
    {
     "data": {
      "text/plain": [
       "['C:\\\\Program Files\\\\WindowsApps\\\\PythonSoftwareFoundation.Python.3.12_3.12.2800.0_x64__qbz5n2kfra8p0\\\\python312.zip',\n",
       " 'C:\\\\Program Files\\\\WindowsApps\\\\PythonSoftwareFoundation.Python.3.12_3.12.2800.0_x64__qbz5n2kfra8p0\\\\DLLs',\n",
       " 'C:\\\\Program Files\\\\WindowsApps\\\\PythonSoftwareFoundation.Python.3.12_3.12.2800.0_x64__qbz5n2kfra8p0\\\\Lib',\n",
       " 'C:\\\\Program Files\\\\WindowsApps\\\\PythonSoftwareFoundation.Python.3.12_3.12.2800.0_x64__qbz5n2kfra8p0',\n",
       " '',\n",
       " 'C:\\\\Users\\\\yanpe\\\\AppData\\\\Local\\\\Packages\\\\PythonSoftwareFoundation.Python.3.12_qbz5n2kfra8p0\\\\LocalCache\\\\local-packages\\\\Python312\\\\site-packages',\n",
       " 'C:\\\\Users\\\\yanpe\\\\AppData\\\\Local\\\\Packages\\\\PythonSoftwareFoundation.Python.3.12_qbz5n2kfra8p0\\\\LocalCache\\\\local-packages\\\\Python312\\\\site-packages\\\\win32',\n",
       " 'C:\\\\Users\\\\yanpe\\\\AppData\\\\Local\\\\Packages\\\\PythonSoftwareFoundation.Python.3.12_qbz5n2kfra8p0\\\\LocalCache\\\\local-packages\\\\Python312\\\\site-packages\\\\win32\\\\lib',\n",
       " 'C:\\\\Users\\\\yanpe\\\\AppData\\\\Local\\\\Packages\\\\PythonSoftwareFoundation.Python.3.12_qbz5n2kfra8p0\\\\LocalCache\\\\local-packages\\\\Python312\\\\site-packages\\\\Pythonwin',\n",
       " 'C:\\\\Program Files\\\\WindowsApps\\\\PythonSoftwareFoundation.Python.3.12_3.12.2800.0_x64__qbz5n2kfra8p0\\\\Lib\\\\site-packages',\n",
       " 'c:\\\\projappl\\\\project_2013104\\\\pengyan1\\\\venv\\\\lib\\\\python3.10\\\\site-packages']"
      ]
     },
     "execution_count": 1,
     "metadata": {},
     "output_type": "execute_result"
    }
   ],
   "source": [
    "# Add package path to CSC os\n",
    "import sys\n",
    "import os\n",
    "\n",
    "folder_path = os.path.abspath(\"/projappl/project_2013104/pengyan1/venv/lib/python3.10/site-packages\")\n",
    "if folder_path not in sys.path:\n",
    "    sys.path.append(folder_path)\n",
    "\n",
    "sys.path"
   ]
  },
  {
   "cell_type": "code",
   "execution_count": 1,
   "metadata": {},
   "outputs": [],
   "source": [
    "import time\n",
    "import pandas as pd\n",
    "import seaborn as sns\n",
    "import matplotlib.pyplot as plt\n",
    "import torch\n",
    "import torch.nn.functional as F\n",
    "from torchmetrics import JaccardIndex\n",
    "import torch_geometric.transforms as T\n",
    "from torch_geometric.datasets import S3DIS\n",
    "from torch_geometric.loader import DataLoader\n",
    "from torch_geometric.typing import WITH_TORCH_CLUSTER\n",
    "from pyg_pointnet2 import PyGPointNet2\n",
    "\n",
    "if not WITH_TORCH_CLUSTER:\n",
    "    quit(\"This example requires 'torch-cluster'\")"
   ]
  },
  {
   "cell_type": "code",
   "execution_count": 2,
   "metadata": {},
   "outputs": [
    {
     "name": "stdout",
     "output_type": "stream",
     "text": [
      "True\n"
     ]
    }
   ],
   "source": [
    "print(torch.cuda.is_available())"
   ]
  },
  {
   "cell_type": "code",
   "execution_count": 3,
   "metadata": {},
   "outputs": [],
   "source": [
    "test_area = 6  \n",
    "#path = \"/scratch/project_2013104/datasets/s3dis/\" # CSC\n",
    "path = r\"C:\\Users\\yanpe\\OneDrive - Metropolia Ammattikorkeakoulu Oy\\Research\\AI\\scripts\\datasets\\s3dis\" # Local\n",
    "\n",
    "# transform and pre_transform\n",
    "transform = T.Compose([\n",
    "    T.RandomJitter(0.01),\n",
    "    T.RandomRotate(15, axis=0),\n",
    "    T.RandomRotate(15, axis=1),\n",
    "    T.RandomRotate(15, axis=2)\n",
    "])\n",
    "#pre_transform = T.NormalizeScale()"
   ]
  },
  {
   "cell_type": "code",
   "execution_count": 4,
   "metadata": {},
   "outputs": [
    {
     "name": "stderr",
     "output_type": "stream",
     "text": [
      "Processing...\n",
      "Done!\n",
      "Processing...\n",
      "Done!\n"
     ]
    }
   ],
   "source": [
    "train_dataset = S3DIS(root=path, test_area=test_area, train=True, force_reload=True, \n",
    "                      transform=transform)#,pre_transform=pre_transform)\n",
    "test_dataset = S3DIS(root=path, test_area=test_area, train=False, force_reload=True)#,\n",
    "                     #pre_transform=pre_transform)"
   ]
  },
  {
   "cell_type": "code",
   "execution_count": 5,
   "metadata": {},
   "outputs": [],
   "source": [
    "batch_size=64\n",
    "num_workers=10\n",
    "\n",
    "train_loader = DataLoader(train_dataset, batch_size=batch_size, shuffle=True,\n",
    "                          num_workers=num_workers, pin_memory=True)\n",
    "test_loader = DataLoader(test_dataset, batch_size=batch_size, shuffle=False,\n",
    "                         num_workers=num_workers, pin_memory=True)"
   ]
  },
  {
   "cell_type": "code",
   "execution_count": 6,
   "metadata": {},
   "outputs": [],
   "source": [
    "device = torch.device('cuda' if torch.cuda.is_available() else 'cpu')\n",
    "model = PyGPointNet2(train_dataset.num_classes).to(device)\n",
    "optimizer = torch.optim.Adam(model.parameters(), lr=0.001)"
   ]
  },
  {
   "cell_type": "code",
   "execution_count": 7,
   "metadata": {},
   "outputs": [],
   "source": [
    "def train_one_epoch():\n",
    "    model.train()\n",
    "    running_loss = correct = total = 0\n",
    "\n",
    "    for data in train_loader:\n",
    "        data = data.to(device)\n",
    "        optimizer.zero_grad()\n",
    "        out = model(data)\n",
    "        loss = F.nll_loss(out, data.y)\n",
    "        loss.backward()\n",
    "        optimizer.step()\n",
    "        running_loss += loss.item()\n",
    "        correct      += out.argmax(1).eq(data.y).sum().item()\n",
    "        total        += data.num_nodes\n",
    "\n",
    "    # Average loss & accuracy for this epoch\n",
    "    epoch_loss = running_loss / len(train_loader) \n",
    "    epoch_acc  = correct / total\n",
    "\n",
    "    return epoch_loss, epoch_acc"
   ]
  },
  {
   "cell_type": "code",
   "execution_count": 8,
   "metadata": {},
   "outputs": [],
   "source": [
    "@torch.no_grad()\n",
    "def test(loader):\n",
    "    model.eval()\n",
    "    jaccard = JaccardIndex(num_classes=loader.dataset.num_classes, task=\"multiclass\").to(device)\n",
    "    \n",
    "    for data in loader:\n",
    "        data = data.to(device)\n",
    "        outs = model(data)\n",
    "        preds = outs.argmax(dim=-1)\n",
    "        jaccard.update(preds, data.y)\n",
    "    \n",
    "    return jaccard.compute().item()\n"
   ]
  },
  {
   "cell_type": "code",
   "execution_count": 9,
   "metadata": {},
   "outputs": [],
   "source": [
    "# Record history metrics\n",
    "loss_history   = []\n",
    "acc_history    = []\n",
    "iou_history    = []\n",
    "time_history   = []"
   ]
  },
  {
   "cell_type": "code",
   "execution_count": 10,
   "metadata": {},
   "outputs": [
    {
     "name": "stdout",
     "output_type": "stream",
     "text": [
      "Epoch 01 | Loss: 0.8169 | Acc: 0.7425 | IoU: 0.3516 | Time: 1885.52s\n",
      "Epoch 02 | Loss: 0.5269 | Acc: 0.8363 | IoU: 0.5027 | Time: 2882.21s\n",
      "Epoch 03 | Loss: 0.4453 | Acc: 0.8624 | IoU: 0.5032 | Time: 2876.93s\n",
      "Epoch 04 | Loss: 0.4077 | Acc: 0.8719 | IoU: 0.5190 | Time: 2877.27s\n",
      "Epoch 05 | Loss: 0.3482 | Acc: 0.8886 | IoU: 0.5736 | Time: 2762.26s\n",
      "Epoch 06 | Loss: 0.3224 | Acc: 0.8962 | IoU: 0.5915 | Time: 2901.20s\n",
      "Epoch 07 | Loss: 0.3094 | Acc: 0.8996 | IoU: 0.6373 | Time: 3032.10s\n",
      "Epoch 08 | Loss: 0.2697 | Acc: 0.9126 | IoU: 0.6344 | Time: 2865.26s\n",
      "Epoch 09 | Loss: 0.2846 | Acc: 0.9086 | IoU: 0.5963 | Time: 2875.30s\n",
      "Epoch 10 | Loss: 0.2406 | Acc: 0.9217 | IoU: 0.6290 | Time: 2885.15s\n",
      "Epoch 11 | Loss: 0.2359 | Acc: 0.9226 | IoU: 0.6722 | Time: 2928.86s\n",
      "Epoch 12 | Loss: 0.2115 | Acc: 0.9312 | IoU: 0.6993 | Time: 2670.77s\n",
      "Epoch 13 | Loss: 0.2096 | Acc: 0.9316 | IoU: 0.6367 | Time: 3002.14s\n",
      "Epoch 14 | Loss: 0.1887 | Acc: 0.9381 | IoU: 0.7001 | Time: 2844.16s\n",
      "Epoch 15 | Loss: 0.1907 | Acc: 0.9391 | IoU: 0.6651 | Time: 2835.28s\n",
      "Epoch 16 | Loss: 0.2148 | Acc: 0.9298 | IoU: 0.6838 | Time: 2937.62s\n",
      "Epoch 17 | Loss: 0.1823 | Acc: 0.9402 | IoU: 0.6994 | Time: 2940.58s\n",
      "Epoch 18 | Loss: 0.1756 | Acc: 0.9423 | IoU: 0.6749 | Time: 2939.01s\n",
      "Epoch 19 | Loss: 0.1624 | Acc: 0.9464 | IoU: 0.7036 | Time: 4697.41s\n",
      "Epoch 20 | Loss: 0.1525 | Acc: 0.9493 | IoU: 0.7089 | Time: 2944.68s\n",
      "Epoch 21 | Loss: 0.1632 | Acc: 0.9469 | IoU: 0.6907 | Time: 2817.69s\n",
      "Epoch 22 | Loss: 0.2084 | Acc: 0.9323 | IoU: 0.7203 | Time: 2810.12s\n",
      "Epoch 23 | Loss: 0.1468 | Acc: 0.9509 | IoU: 0.7183 | Time: 2935.98s\n",
      "Epoch 24 | Loss: 0.1415 | Acc: 0.9524 | IoU: 0.6809 | Time: 2798.73s\n",
      "Epoch 25 | Loss: 0.1310 | Acc: 0.9557 | IoU: 0.7347 | Time: 2930.54s\n",
      "Epoch 26 | Loss: 0.1232 | Acc: 0.9580 | IoU: 0.7029 | Time: 2710.77s\n",
      "Epoch 27 | Loss: 0.1306 | Acc: 0.9559 | IoU: 0.7211 | Time: 2771.02s\n",
      "Epoch 28 | Loss: 0.1255 | Acc: 0.9579 | IoU: 0.7006 | Time: 2799.20s\n",
      "Epoch 29 | Loss: 0.1392 | Acc: 0.9541 | IoU: 0.7132 | Time: 2715.95s\n",
      "Epoch 30 | Loss: 0.1433 | Acc: 0.9522 | IoU: 0.6737 | Time: 2767.98s\n",
      "Epoch 31 | Loss: 0.1260 | Acc: 0.9575 | IoU: 0.7170 | Time: 2814.14s\n",
      "Epoch 32 | Loss: 0.1188 | Acc: 0.9596 | IoU: 0.7270 | Time: 2762.98s\n",
      "Epoch 33 | Loss: 0.1183 | Acc: 0.9606 | IoU: 0.7203 | Time: 2900.18s\n",
      "Epoch 34 | Loss: 0.1302 | Acc: 0.9567 | IoU: 0.7065 | Time: 2863.26s\n",
      "Epoch 35 | Loss: 0.1281 | Acc: 0.9573 | IoU: 0.7223 | Time: 2862.34s\n",
      "Epoch 36 | Loss: 0.1326 | Acc: 0.9554 | IoU: 0.7200 | Time: 2707.65s\n",
      "Epoch 37 | Loss: 0.1090 | Acc: 0.9630 | IoU: 0.7286 | Time: 2805.76s\n",
      "Epoch 38 | Loss: 0.1201 | Acc: 0.9591 | IoU: 0.7274 | Time: 2896.93s\n",
      "Epoch 39 | Loss: 0.1045 | Acc: 0.9643 | IoU: 0.7445 | Time: 2813.28s\n",
      "Epoch 40 | Loss: 0.1110 | Acc: 0.9625 | IoU: 0.6993 | Time: 2831.83s\n",
      "Epoch 41 | Loss: 0.0981 | Acc: 0.9659 | IoU: 0.7152 | Time: 2834.25s\n",
      "Epoch 42 | Loss: 0.0940 | Acc: 0.9673 | IoU: 0.7281 | Time: 2797.60s\n",
      "Epoch 43 | Loss: 0.0946 | Acc: 0.9672 | IoU: 0.7410 | Time: 2946.46s\n",
      "Epoch 44 | Loss: 0.0995 | Acc: 0.9660 | IoU: 0.7231 | Time: 2887.75s\n",
      "Epoch 45 | Loss: 0.1038 | Acc: 0.9654 | IoU: 0.6748 | Time: 2900.35s\n",
      "Epoch 46 | Loss: 0.1404 | Acc: 0.9533 | IoU: 0.7368 | Time: 2859.99s\n",
      "Epoch 47 | Loss: 0.1070 | Acc: 0.9638 | IoU: 0.7402 | Time: 2832.50s\n",
      "Epoch 48 | Loss: 0.1157 | Acc: 0.9612 | IoU: 0.7387 | Time: 2770.07s\n",
      "Epoch 49 | Loss: 0.0974 | Acc: 0.9671 | IoU: 0.7289 | Time: 2818.83s\n",
      "Epoch 50 | Loss: 0.1202 | Acc: 0.9590 | IoU: 0.7366 | Time: 2886.16s\n"
     ]
    }
   ],
   "source": [
    "\n",
    "for epoch in range(1, 51):\n",
    "    # Track epoch start time\n",
    "    start_time = time.perf_counter()\n",
    "    #train()\n",
    "\n",
    "    loss, acc = train_one_epoch()\n",
    "    loss_history.append(loss)\n",
    "    acc_history.append(acc)\n",
    "\n",
    "    iou = test(test_loader)\n",
    "    iou_history.append(iou)\n",
    "\n",
    "    # Calculate epoch duration\n",
    "    epoch_time = time.perf_counter() - start_time\n",
    "    time_history.append(epoch_time)\n",
    "    \n",
    "    # Print results with time\n",
    "    print(f\"Epoch {epoch:02d} | \"\n",
    "          f\"Loss: {loss:.4f} | \"\n",
    "          f\"Acc: {acc:.4f} | \"\n",
    "          f\"IoU: {iou:.4f} | \"\n",
    "          f\"Time: {epoch_time:.2f}s\")"
   ]
  },
  {
   "cell_type": "code",
   "execution_count": 11,
   "metadata": {},
   "outputs": [
    {
     "data": {
      "image/png": "[encoded data removed]",
      "text/plain": [
       "<Figure size 1000x600 with 1 Axes>"
      ]
     },
     "metadata": {},
     "output_type": "display_data"
    }
   ],
   "source": [
    "# Visualize with seaborn\n",
    "\n",
    "# 1) Build DataFrame\n",
    "df = pd.DataFrame({\n",
    "    'epoch': range(1, len(loss_history) + 1),\n",
    "    'Loss': loss_history,\n",
    "    'Accuracy': acc_history,\n",
    "    'IoU': iou_history,\n",
    "    'Time (s)': time_history\n",
    "})\n",
    "\n",
    "# 2) Melt to long form for seaborn\n",
    "df_long = df.melt(id_vars='epoch',\n",
    "                  var_name='Metric',\n",
    "                  value_name='Value')\n",
    "\n",
    "# 3) Plot all metrics in one figure\n",
    "plt.figure(figsize=(10, 6))\n",
    "sns.lineplot(data=df_long, x='epoch', y='Value', hue='Metric')  \n",
    "plt.title('Training Metrics per Epoch')  \n",
    "plt.xlabel('Epoch')  \n",
    "plt.ylabel('Metric Value')  \n",
    "plt.legend(title='Metric', loc='best')\n",
    "plt.tight_layout()\n",
    "plt.show()"
   ]
  },
  {
   "cell_type": "code",
   "execution_count": 14,
   "metadata": {},
   "outputs": [
    {
     "name": "stdout",
     "output_type": "stream",
     "text": [
      "Checkpoint saved successfully!\n"
     ]
    }
   ],
   "source": [
    "\n",
    "checkpoint_path = \"checkpoints/pointnet2_s3dis_transform_seg_x6_50_checkpoint_local.pth\"\n",
    "\n",
    "# Save model, optimizer state, and any other info needed\n",
    "torch.save({\n",
    "    'epoch': 50,\n",
    "    'model_state_dict': model.state_dict(),\n",
    "    'optimizer_state_dict': optimizer.state_dict(),\n",
    "    #'loss': loss,\n",
    "    #'test_accuracy': test_acc\n",
    "}, checkpoint_path)\n",
    "\n",
    "print(\"Checkpoint saved successfully!\")"
   ]
  },
  {
   "cell_type": "code",
   "execution_count": 13,
   "metadata": {},
   "outputs": [],
   "source": [
    "df.to_csv(\"../docs/local_s3dis_train_metrics.csv\", index=False)"
   ]
  },
  {
   "cell_type": "code",
   "execution_count": null,
   "metadata": {},
   "outputs": [],
   "source": []
  }
 ],
 "metadata": {
  "kernelspec": {
   "display_name": "Python 3 (ipykernel)",
   "language": "python",
   "name": "python3"
  },
  "language_info": {
   "codemirror_mode": {
    "name": "ipython",
    "version": 3
   },
   "file_extension": ".py",
   "mimetype": "text/x-python",
   "name": "python",
   "nbconvert_exporter": "python",
   "pygments_lexer": "ipython3",
   "version": "3.12.10"
  }
 },
 "nbformat": 4,
 "nbformat_minor": 4
}
