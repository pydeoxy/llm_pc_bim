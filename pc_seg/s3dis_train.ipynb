{
 "cells": [
  {
   "cell_type": "code",
   "execution_count": 1,
   "metadata": {},
   "outputs": [
    {
     "name": "stdout",
     "output_type": "stream",
     "text": [
      "/projappl/project_2013104/pengyan1/venv/bin/python\n"
     ]
    }
   ],
   "source": [
    "!which python"
   ]
  },
  {
   "cell_type": "code",
   "execution_count": 2,
   "metadata": {},
   "outputs": [
    {
     "data": {
      "text/plain": [
       "['/PUHTI_TYKKY_FRQGCcR/miniconda/envs/env1/lib/python310.zip',\n",
       " '/PUHTI_TYKKY_FRQGCcR/miniconda/envs/env1/lib/python3.10',\n",
       " '/PUHTI_TYKKY_FRQGCcR/miniconda/envs/env1/lib/python3.10/lib-dynload',\n",
       " '',\n",
       " '/PUHTI_TYKKY_FRQGCcR/miniconda/envs/env1/lib/python3.10/site-packages',\n",
       " '/projappl/project_2013104/pengyan1/venv/lib/python3.10/site-packages']"
      ]
     },
     "execution_count": 2,
     "metadata": {},
     "output_type": "execute_result"
    }
   ],
   "source": [
    "import sys\n",
    "import os\n",
    "\n",
    "folder_path = os.path.abspath(\"/projappl/project_2013104/pengyan1/venv/lib/python3.10/site-packages\")\n",
    "if folder_path not in sys.path:\n",
    "    sys.path.append(folder_path)\n",
    "\n",
    "sys.path"
   ]
  },
  {
   "cell_type": "code",
   "execution_count": 1,
   "metadata": {},
   "outputs": [],
   "source": [
    "import torch\n",
    "import torch.nn.functional as F\n",
    "from torchmetrics import JaccardIndex\n",
    "import torch_geometric.transforms as T\n",
    "from torch_geometric.datasets import S3DIS\n",
    "from torch_geometric.loader import DataLoader\n",
    "from torch_geometric.typing import WITH_TORCH_CLUSTER\n",
    "from pyg_pointnet2 import PyGPointNet2\n",
    "\n",
    "if not WITH_TORCH_CLUSTER:\n",
    "    quit(\"This example requires 'torch-cluster'\")"
   ]
  },
  {
   "cell_type": "code",
   "execution_count": 3,
   "metadata": {},
   "outputs": [
    {
     "name": "stdout",
     "output_type": "stream",
     "text": [
      "True\n"
     ]
    }
   ],
   "source": [
    "print(torch.cuda.is_available())"
   ]
  },
  {
   "cell_type": "code",
   "execution_count": 2,
   "metadata": {},
   "outputs": [],
   "source": [
    "test_area = 6  \n",
    "#path = \"/scratch/project_2013104/datasets/s3dis/\" # CSC\n",
    "path = r\"C:\\Users\\yanpe\\OneDrive - Metropolia Ammattikorkeakoulu Oy\\Research\\AI\\scripts\\datasets\\s3dis\" # Local\n",
    "\n",
    "# transform and pre_transform\n",
    "transform = T.Compose([\n",
    "    T.RandomJitter(0.01),\n",
    "    T.RandomRotate(15, axis=0),\n",
    "    T.RandomRotate(15, axis=1),\n",
    "    T.RandomRotate(15, axis=2)\n",
    "])\n",
    "pre_transform = T.NormalizeScale()"
   ]
  },
  {
   "cell_type": "code",
   "execution_count": 4,
   "metadata": {},
   "outputs": [
    {
     "name": "stderr",
     "output_type": "stream",
     "text": [
      "C:\\Users\\yanpe\\AppData\\Local\\Packages\\PythonSoftwareFoundation.Python.3.12_qbz5n2kfra8p0\\LocalCache\\local-packages\\Python312\\site-packages\\torch_geometric\\data\\dataset.py:240: UserWarning: The `pre_transform` argument differs from the one used in the pre-processed version of this dataset. If you want to make use of another pre-processing technique, pass `force_reload=True` explicitly to reload the dataset.\n",
      "  warnings.warn(\n",
      "Processing...\n",
      "Done!\n",
      "Processing...\n",
      "Done!\n"
     ]
    }
   ],
   "source": [
    "train_dataset = S3DIS(root=path, test_area=test_area, train=True, force_reload=True, \n",
    "                      transform=transform,pre_transform=pre_transform)\n",
    "test_dataset = S3DIS(root=path, test_area=test_area, train=False, force_reload=True,\n",
    "                     pre_transform=pre_transform)"
   ]
  },
  {
   "cell_type": "code",
   "execution_count": 5,
   "metadata": {},
   "outputs": [],
   "source": [
    "batch_size=64\n",
    "num_workers=10\n",
    "\n",
    "train_loader = DataLoader(train_dataset, batch_size=batch_size, shuffle=True,\n",
    "                          num_workers=num_workers, pin_memory=True)\n",
    "test_loader = DataLoader(test_dataset, batch_size=batch_size, shuffle=False,\n",
    "                         num_workers=num_workers, pin_memory=True)"
   ]
  },
  {
   "cell_type": "code",
   "execution_count": 6,
   "metadata": {},
   "outputs": [],
   "source": [
    "device = torch.device('cuda' if torch.cuda.is_available() else 'cpu')\n",
    "model = PyGPointNet2(train_dataset.num_classes).to(device)\n",
    "optimizer = torch.optim.Adam(model.parameters(), lr=0.001)"
   ]
  },
  {
   "cell_type": "code",
   "execution_count": 7,
   "metadata": {},
   "outputs": [],
   "source": [
    "def train():\n",
    "    model.train()\n",
    "\n",
    "    total_loss = correct_nodes = total_nodes = 0\n",
    "    for i, data in enumerate(train_loader):\n",
    "        data = data.to(device)\n",
    "        optimizer.zero_grad()\n",
    "        out = model(data)\n",
    "        loss = F.nll_loss(out, data.y)\n",
    "        loss.backward()\n",
    "        optimizer.step()\n",
    "        total_loss += loss.item()\n",
    "        correct_nodes += out.argmax(dim=1).eq(data.y).sum().item()\n",
    "        total_nodes += data.num_nodes\n",
    "\n",
    "        if (i + 1) % 10 == 0:\n",
    "            print(f'[{i+1}/{len(train_loader)}] Loss: {total_loss / 10:.4f} '\n",
    "                  f'Train Acc: {correct_nodes / total_nodes:.4f}')\n",
    "            total_loss = correct_nodes = total_nodes = 0\n",
    "\n"
   ]
  },
  {
   "cell_type": "code",
   "execution_count": 8,
   "metadata": {},
   "outputs": [],
   "source": [
    "@torch.no_grad()\n",
    "def test(loader):\n",
    "    model.eval()\n",
    "    jaccard = JaccardIndex(num_classes=loader.dataset.num_classes, task=\"multiclass\").to(device)\n",
    "    \n",
    "    for data in loader:\n",
    "        data = data.to(device)\n",
    "        outs = model(data)\n",
    "        preds = outs.argmax(dim=-1)\n",
    "        jaccard.update(preds, data.y)\n",
    "    \n",
    "    return jaccard.compute().item()\n"
   ]
  },
  {
   "cell_type": "code",
   "execution_count": 9,
   "metadata": {},
   "outputs": [
    {
     "name": "stdout",
     "output_type": "stream",
     "text": [
      "[10/318] Loss: 2.1916 Train Acc: 0.3953\n",
      "[20/318] Loss: 1.3879 Train Acc: 0.5984\n",
      "[30/318] Loss: 1.1889 Train Acc: 0.6488\n",
      "[40/318] Loss: 1.1222 Train Acc: 0.6493\n",
      "[50/318] Loss: 0.9658 Train Acc: 0.6909\n",
      "[60/318] Loss: 0.9449 Train Acc: 0.7036\n",
      "[70/318] Loss: 0.9375 Train Acc: 0.6996\n",
      "[80/318] Loss: 0.8623 Train Acc: 0.7208\n",
      "[90/318] Loss: 0.8488 Train Acc: 0.7245\n",
      "[100/318] Loss: 0.8173 Train Acc: 0.7293\n",
      "[110/318] Loss: 0.7731 Train Acc: 0.7317\n",
      "[120/318] Loss: 0.8354 Train Acc: 0.7307\n",
      "[130/318] Loss: 0.7494 Train Acc: 0.7546\n",
      "[140/318] Loss: 0.8204 Train Acc: 0.7286\n",
      "[150/318] Loss: 0.8007 Train Acc: 0.7423\n",
      "[160/318] Loss: 0.7404 Train Acc: 0.7583\n",
      "[170/318] Loss: 0.7580 Train Acc: 0.7551\n",
      "[180/318] Loss: 0.7084 Train Acc: 0.7686\n",
      "[190/318] Loss: 0.7759 Train Acc: 0.7533\n",
      "[200/318] Loss: 0.6915 Train Acc: 0.7869\n",
      "[210/318] Loss: 0.7340 Train Acc: 0.7671\n",
      "[220/318] Loss: 0.7280 Train Acc: 0.7647\n",
      "[230/318] Loss: 0.7033 Train Acc: 0.7779\n",
      "[240/318] Loss: 0.6703 Train Acc: 0.7882\n",
      "[250/318] Loss: 0.6806 Train Acc: 0.7834\n",
      "[260/318] Loss: 0.6988 Train Acc: 0.7792\n",
      "[270/318] Loss: 0.7114 Train Acc: 0.7721\n",
      "[280/318] Loss: 0.6944 Train Acc: 0.7819\n",
      "[290/318] Loss: 0.6373 Train Acc: 0.8032\n",
      "[300/318] Loss: 0.6785 Train Acc: 0.7886\n",
      "[310/318] Loss: 0.6950 Train Acc: 0.7785\n",
      "Epoch: 01, Test IoU: 0.3385, Time: 170.35s\n",
      "[10/318] Loss: 0.7060 Train Acc: 0.7780\n",
      "[20/318] Loss: 0.6674 Train Acc: 0.7910\n",
      "[30/318] Loss: 0.6248 Train Acc: 0.8036\n",
      "[40/318] Loss: 0.6141 Train Acc: 0.8105\n",
      "[50/318] Loss: 0.6061 Train Acc: 0.8110\n",
      "[60/318] Loss: 0.6726 Train Acc: 0.7910\n",
      "[70/318] Loss: 0.6386 Train Acc: 0.8006\n",
      "[80/318] Loss: 0.5999 Train Acc: 0.8146\n",
      "[90/318] Loss: 0.5647 Train Acc: 0.8239\n",
      "[100/318] Loss: 0.5929 Train Acc: 0.8151\n",
      "[110/318] Loss: 0.5687 Train Acc: 0.8241\n",
      "[120/318] Loss: 0.5859 Train Acc: 0.8150\n",
      "[130/318] Loss: 0.5691 Train Acc: 0.8218\n",
      "[140/318] Loss: 0.5931 Train Acc: 0.8103\n",
      "[150/318] Loss: 0.5455 Train Acc: 0.8309\n",
      "[160/318] Loss: 0.6026 Train Acc: 0.8114\n",
      "[170/318] Loss: 0.5609 Train Acc: 0.8288\n",
      "[180/318] Loss: 0.5771 Train Acc: 0.8203\n",
      "[190/318] Loss: 0.6082 Train Acc: 0.8128\n",
      "[200/318] Loss: 0.5151 Train Acc: 0.8435\n",
      "[210/318] Loss: 0.5864 Train Acc: 0.8155\n",
      "[220/318] Loss: 0.5736 Train Acc: 0.8214\n",
      "[230/318] Loss: 0.5640 Train Acc: 0.8226\n",
      "[240/318] Loss: 0.5289 Train Acc: 0.8386\n",
      "[250/318] Loss: 0.5616 Train Acc: 0.8265\n",
      "[260/318] Loss: 0.5585 Train Acc: 0.8266\n",
      "[270/318] Loss: 0.5261 Train Acc: 0.8372\n",
      "[280/318] Loss: 0.5266 Train Acc: 0.8368\n",
      "[290/318] Loss: 0.5572 Train Acc: 0.8267\n",
      "[300/318] Loss: 0.4946 Train Acc: 0.8446\n",
      "[310/318] Loss: 0.5130 Train Acc: 0.8413\n",
      "Epoch: 02, Test IoU: 0.4547, Time: 179.50s\n",
      "[10/318] Loss: 0.5964 Train Acc: 0.8184\n",
      "[20/318] Loss: 0.5865 Train Acc: 0.8202\n",
      "[30/318] Loss: 0.5774 Train Acc: 0.8210\n",
      "[40/318] Loss: 0.5296 Train Acc: 0.8348\n",
      "[50/318] Loss: 0.5153 Train Acc: 0.8429\n",
      "[60/318] Loss: 0.5013 Train Acc: 0.8477\n",
      "[70/318] Loss: 0.5045 Train Acc: 0.8433\n",
      "[80/318] Loss: 0.5363 Train Acc: 0.8329\n",
      "[90/318] Loss: 0.5298 Train Acc: 0.8338\n",
      "[100/318] Loss: 0.5153 Train Acc: 0.8394\n",
      "[110/318] Loss: 0.5145 Train Acc: 0.8385\n",
      "[120/318] Loss: 0.4787 Train Acc: 0.8535\n",
      "[130/318] Loss: 0.5127 Train Acc: 0.8413\n"
     ]
    },
    {
     "ename": "KeyboardInterrupt",
     "evalue": "",
     "output_type": "error",
     "traceback": [
      "\u001b[1;31m---------------------------------------------------------------------------\u001b[0m",
      "\u001b[1;31mKeyboardInterrupt\u001b[0m                         Traceback (most recent call last)",
      "Cell \u001b[1;32mIn[9], line 5\u001b[0m\n\u001b[0;32m      2\u001b[0m \u001b[38;5;28;01mfor\u001b[39;00m epoch \u001b[38;5;129;01min\u001b[39;00m \u001b[38;5;28mrange\u001b[39m(\u001b[38;5;241m1\u001b[39m, \u001b[38;5;241m46\u001b[39m):\n\u001b[0;32m      3\u001b[0m     \u001b[38;5;66;03m# Track epoch start time\u001b[39;00m\n\u001b[0;32m      4\u001b[0m     start_time \u001b[38;5;241m=\u001b[39m time\u001b[38;5;241m.\u001b[39mperf_counter()\n\u001b[1;32m----> 5\u001b[0m     \u001b[43mtrain\u001b[49m\u001b[43m(\u001b[49m\u001b[43m)\u001b[49m\n\u001b[0;32m      6\u001b[0m     iou \u001b[38;5;241m=\u001b[39m test(test_loader)\n\u001b[0;32m      7\u001b[0m     \u001b[38;5;66;03m# Calculate epoch duration\u001b[39;00m\n",
      "Cell \u001b[1;32mIn[7], line 12\u001b[0m, in \u001b[0;36mtrain\u001b[1;34m()\u001b[0m\n\u001b[0;32m     10\u001b[0m loss\u001b[38;5;241m.\u001b[39mbackward()\n\u001b[0;32m     11\u001b[0m optimizer\u001b[38;5;241m.\u001b[39mstep()\n\u001b[1;32m---> 12\u001b[0m total_loss \u001b[38;5;241m+\u001b[39m\u001b[38;5;241m=\u001b[39m \u001b[43mloss\u001b[49m\u001b[38;5;241;43m.\u001b[39;49m\u001b[43mitem\u001b[49m\u001b[43m(\u001b[49m\u001b[43m)\u001b[49m\n\u001b[0;32m     13\u001b[0m correct_nodes \u001b[38;5;241m+\u001b[39m\u001b[38;5;241m=\u001b[39m out\u001b[38;5;241m.\u001b[39margmax(dim\u001b[38;5;241m=\u001b[39m\u001b[38;5;241m1\u001b[39m)\u001b[38;5;241m.\u001b[39meq(data\u001b[38;5;241m.\u001b[39my)\u001b[38;5;241m.\u001b[39msum()\u001b[38;5;241m.\u001b[39mitem()\n\u001b[0;32m     14\u001b[0m total_nodes \u001b[38;5;241m+\u001b[39m\u001b[38;5;241m=\u001b[39m data\u001b[38;5;241m.\u001b[39mnum_nodes\n",
      "\u001b[1;31mKeyboardInterrupt\u001b[0m: "
     ]
    }
   ],
   "source": [
    "import time\n",
    "for epoch in range(1, 46):\n",
    "    # Track epoch start time\n",
    "    start_time = time.perf_counter()\n",
    "    train()\n",
    "    iou = test(test_loader)\n",
    "    # Calculate epoch duration\n",
    "    epoch_time = time.perf_counter() - start_time\n",
    "    \n",
    "    # Print results with time\n",
    "    print(f'Epoch: {epoch:02d}, Test IoU: {iou:.4f}, Time: {epoch_time:.2f}s')"
   ]
  },
  {
   "cell_type": "code",
   "execution_count": 30,
   "metadata": {},
   "outputs": [
    {
     "name": "stdout",
     "output_type": "stream",
     "text": [
      "Checkpoint saved successfully!\n"
     ]
    }
   ],
   "source": [
    "\n",
    "checkpoint_path = \"/scratch/project_2013104/checkpoints/pointnet2_s3dis_transform_seg_x6_45_checkpoint.pth\"\n",
    "\n",
    "# Save model, optimizer state, and any other info needed\n",
    "torch.save({\n",
    "    'epoch': 45,\n",
    "    'model_state_dict': model.state_dict(),\n",
    "    'optimizer_state_dict': optimizer.state_dict(),\n",
    "    #'loss': loss,\n",
    "    #'test_accuracy': test_acc\n",
    "}, checkpoint_path)\n",
    "\n",
    "print(\"Checkpoint saved successfully!\")"
   ]
  },
  {
   "cell_type": "code",
   "execution_count": null,
   "metadata": {},
   "outputs": [],
   "source": []
  }
 ],
 "metadata": {
  "kernelspec": {
   "display_name": "Python 3 (ipykernel)",
   "language": "python",
   "name": "python3"
  },
  "language_info": {
   "codemirror_mode": {
    "name": "ipython",
    "version": 3
   },
   "file_extension": ".py",
   "mimetype": "text/x-python",
   "name": "python",
   "nbconvert_exporter": "python",
   "pygments_lexer": "ipython3",
   "version": "3.12.10"
  }
 },
 "nbformat": 4,
 "nbformat_minor": 4
}
