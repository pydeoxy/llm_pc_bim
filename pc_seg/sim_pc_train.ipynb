{
 "cells": [
  {
   "cell_type": "markdown",
   "metadata": {},
   "source": [
    "**Load the HDF5 File**"
   ]
  },
  {
   "cell_type": "code",
   "execution_count": 1,
   "metadata": {},
   "outputs": [],
   "source": [
    "import os\n",
    "import time\n",
    "import pandas as pd\n",
    "import seaborn as sns\n",
    "import matplotlib.pyplot as plt\n",
    "import numpy as np\n",
    "import torch\n",
    "from torch.utils.data import random_split\n",
    "from torch_geometric.loader import DataLoader\n",
    "from pc_dataset import H5PCDataset\n",
    "import torch_geometric.transforms as T\n",
    "from torch.utils.data import Dataset,Subset\n",
    "from torch_geometric.data import Data\n",
    "from torchmetrics import JaccardIndex"
   ]
  },
  {
   "cell_type": "code",
   "execution_count": 2,
   "metadata": {},
   "outputs": [],
   "source": [
    "torch.cuda.empty_cache()"
   ]
  },
  {
   "cell_type": "code",
   "execution_count": 3,
   "metadata": {},
   "outputs": [],
   "source": [
    "# File path to the hdf5 dataset\n",
    "#script_dir = os.path.dirname(os.getcwd())\n",
    "#hdf5_file_path= os.path.join(script_dir, '.', 'docs', 'sim_pc_dataset.h5')\n",
    "hdf5_file_path= \"../docs/sim_pc_dataset_moved.h5\"\n",
    "\n",
    "# take out colors\n",
    "class SelectLast3Features:\n",
    "    def __call__(self, data):\n",
    "        # If data.x is defined, select only its last 3 features.\n",
    "        if data.x is not None:\n",
    "            data.x = data.x[:, -3:]\n",
    "        return data\n",
    "\n",
    "# transform and pre_transform\n",
    "transform = T.Compose([\n",
    "    T.RandomJitter(0.01),\n",
    "    T.RandomRotate(15, axis=0),\n",
    "    T.RandomRotate(15, axis=1),\n",
    "    T.RandomRotate(15, axis=2)\n",
    "    ])\n",
    "\n",
    "pre_transform =  T.Compose([\n",
    "    #T.NormalizeScale(),\n",
    "    SelectLast3Features()\n",
    "    ])\n",
    "\n",
    "# Create the dataset\n",
    "full_dataset = H5PCDataset(hdf5_file_path, pre_transform = pre_transform)\n",
    "\n",
    "# Define split sizes (e.g., 80% training and 20% validation)\n",
    "total_size = len(full_dataset)\n",
    "train_size = int(0.8 * total_size)\n",
    "test_size = total_size - train_size\n",
    "\n",
    "# Randomly split the dataset\n",
    "train_subset, test_subset = random_split(full_dataset, [train_size, test_size])"
   ]
  },
  {
   "cell_type": "code",
   "execution_count": 4,
   "metadata": {},
   "outputs": [],
   "source": [
    "#Wrap train_subset in AugmentedSubset\n",
    "class AugmentedSubset(Subset):\n",
    "    def __init__(self, subset, transform):\n",
    "        super().__init__(subset.dataset, subset.indices)\n",
    "        self.transform = transform\n",
    "\n",
    "    def __getitem__(self, idx):\n",
    "        data = super().__getitem__(idx)\n",
    "        return self.transform(data)\n",
    "\n",
    "train_dataset = AugmentedSubset(train_subset, transform)\n",
    "test_dataset = test_subset "
   ]
  },
  {
   "cell_type": "code",
   "execution_count": 5,
   "metadata": {},
   "outputs": [
    {
     "name": "stdout",
     "output_type": "stream",
     "text": [
      "Data(x=[4096, 3], y=[4096], pos=[4096, 3])\n",
      "13\n",
      "Data(x=[4096, 3], y=[4096], pos=[4096, 3])\n",
      "13\n"
     ]
    }
   ],
   "source": [
    "print(train_dataset[0])\n",
    "print(train_dataset.dataset.num_classes)\n",
    "print(test_dataset[0])\n",
    "print(test_dataset.dataset.num_classes)"
   ]
  },
  {
   "cell_type": "code",
   "execution_count": 6,
   "metadata": {},
   "outputs": [],
   "source": [
    "batch_size=32\n",
    "num_workers=0\n",
    "\n",
    "train_loader = DataLoader(train_dataset, batch_size=batch_size, shuffle=True,\n",
    "                          num_workers=num_workers)\n",
    "test_loader = DataLoader(test_dataset, batch_size=batch_size, shuffle=False,\n",
    "                         num_workers=num_workers)"
   ]
  },
  {
   "cell_type": "markdown",
   "metadata": {},
   "source": [
    "**Training with Simulated Point Cloud**"
   ]
  },
  {
   "cell_type": "code",
   "execution_count": 7,
   "metadata": {},
   "outputs": [],
   "source": [
    "import torch\n",
    "import torch.nn.functional as F\n",
    "import torch_geometric.transforms as T\n",
    "from torch_geometric.typing import WITH_TORCH_CLUSTER\n",
    "\n",
    "from pyg_pointnet2 import PyGPointNet2NoColor\n",
    "\n",
    "if not WITH_TORCH_CLUSTER:\n",
    "    quit(\"This example requires 'torch-cluster'\")"
   ]
  },
  {
   "cell_type": "code",
   "execution_count": 8,
   "metadata": {},
   "outputs": [
    {
     "data": {
      "text/plain": [
       "\"\\ndef train():\\n    model.train()\\n\\n    total_loss = correct_nodes = total_nodes = 0\\n    for i, data in enumerate(train_loader):\\n        data = data.to(device)\\n        optimizer.zero_grad()\\n        out = model(data)\\n        loss = F.nll_loss(out, data.y)\\n        loss.backward()\\n        optimizer.step()\\n        total_loss += loss.item()\\n        correct_nodes += out.argmax(dim=1).eq(data.y).sum().item()\\n        total_nodes += data.num_nodes\\n\\n        if (i + 1) % 10 == 0:\\n            print(f'[{i+1}/{len(train_loader)}] Loss: {total_loss / 10:.4f} '\\n                  f'Train Acc: {correct_nodes / total_nodes:.4f}')\\n            total_loss = correct_nodes = total_nodes = 0\\n\""
      ]
     },
     "execution_count": 8,
     "metadata": {},
     "output_type": "execute_result"
    }
   ],
   "source": [
    "device = torch.device('cuda' if torch.cuda.is_available() else 'cpu')\n",
    "model = PyGPointNet2NoColor(num_classes=13).to(device)\n",
    "\n",
    "optimizer = torch.optim.Adam(model.parameters(), lr=0.001)\n",
    "\n",
    "\"\"\"\n",
    "def train():\n",
    "    model.train()\n",
    "\n",
    "    total_loss = correct_nodes = total_nodes = 0\n",
    "    for i, data in enumerate(train_loader):\n",
    "        data = data.to(device)\n",
    "        optimizer.zero_grad()\n",
    "        out = model(data)\n",
    "        loss = F.nll_loss(out, data.y)\n",
    "        loss.backward()\n",
    "        optimizer.step()\n",
    "        total_loss += loss.item()\n",
    "        correct_nodes += out.argmax(dim=1).eq(data.y).sum().item()\n",
    "        total_nodes += data.num_nodes\n",
    "\n",
    "        if (i + 1) % 10 == 0:\n",
    "            print(f'[{i+1}/{len(train_loader)}] Loss: {total_loss / 10:.4f} '\n",
    "                  f'Train Acc: {correct_nodes / total_nodes:.4f}')\n",
    "            total_loss = correct_nodes = total_nodes = 0\n",
    "\"\"\"\n"
   ]
  },
  {
   "cell_type": "code",
   "execution_count": 9,
   "metadata": {},
   "outputs": [],
   "source": [
    "def train_one_epoch():\n",
    "    model.train()\n",
    "    running_loss = correct = total = 0\n",
    "\n",
    "    for data in train_loader:\n",
    "        data = data.to(device)\n",
    "        optimizer.zero_grad()\n",
    "        out = model(data)\n",
    "        loss = F.nll_loss(out, data.y)\n",
    "        loss.backward()\n",
    "        optimizer.step()\n",
    "        running_loss += loss.item()\n",
    "        correct      += out.argmax(1).eq(data.y).sum().item()\n",
    "        total        += data.num_nodes\n",
    "\n",
    "    # Average loss & accuracy for this epoch\n",
    "    epoch_loss = running_loss / len(train_loader) \n",
    "    epoch_acc  = correct / total\n",
    "\n",
    "    return epoch_loss, epoch_acc"
   ]
  },
  {
   "cell_type": "code",
   "execution_count": 10,
   "metadata": {},
   "outputs": [],
   "source": [
    "\n",
    "@torch.no_grad()\n",
    "def test(loader):\n",
    "    model.eval()\n",
    "    jaccard = JaccardIndex(num_classes=loader.dataset.dataset.num_classes, task=\"multiclass\").to(device)\n",
    "    \n",
    "    for data in loader:\n",
    "        data = data.to(device)\n",
    "        outs = model(data)\n",
    "        preds = outs.argmax(dim=-1)\n",
    "        jaccard.update(preds, data.y)\n",
    "    \n",
    "    return jaccard.compute().item()"
   ]
  },
  {
   "cell_type": "code",
   "execution_count": 11,
   "metadata": {},
   "outputs": [],
   "source": [
    "# Record history metrics\n",
    "loss_history   = []\n",
    "acc_history    = []\n",
    "iou_history    = []\n",
    "time_history   = []"
   ]
  },
  {
   "cell_type": "code",
   "execution_count": 12,
   "metadata": {},
   "outputs": [
    {
     "name": "stdout",
     "output_type": "stream",
     "text": [
      "Epoch 01 | Loss: 2.1077 | Acc: 0.4030 | IoU: 0.0348 | Time: 15.73s\n",
      "Epoch 02 | Loss: 1.2900 | Acc: 0.6062 | IoU: 0.0966 | Time: 3.40s\n",
      "Epoch 03 | Loss: 1.1849 | Acc: 0.6704 | IoU: 0.1414 | Time: 3.29s\n",
      "Epoch 04 | Loss: 1.0444 | Acc: 0.7046 | IoU: 0.1853 | Time: 3.30s\n",
      "Epoch 05 | Loss: 1.0262 | Acc: 0.7206 | IoU: 0.1915 | Time: 3.41s\n",
      "Epoch 06 | Loss: 0.9844 | Acc: 0.7334 | IoU: 0.1998 | Time: 3.44s\n",
      "Epoch 07 | Loss: 0.9234 | Acc: 0.7447 | IoU: 0.2093 | Time: 3.34s\n",
      "Epoch 08 | Loss: 0.9306 | Acc: 0.7568 | IoU: 0.2108 | Time: 3.35s\n",
      "Epoch 09 | Loss: 0.8784 | Acc: 0.7522 | IoU: 0.2123 | Time: 3.35s\n",
      "Epoch 10 | Loss: 0.7971 | Acc: 0.7704 | IoU: 0.1854 | Time: 3.36s\n",
      "Epoch 11 | Loss: 0.8094 | Acc: 0.7666 | IoU: 0.2029 | Time: 3.36s\n",
      "Epoch 12 | Loss: 0.7273 | Acc: 0.7834 | IoU: 0.2277 | Time: 3.37s\n",
      "Epoch 13 | Loss: 0.7481 | Acc: 0.7913 | IoU: 0.2358 | Time: 3.36s\n",
      "Epoch 14 | Loss: 0.7270 | Acc: 0.7810 | IoU: 0.2333 | Time: 3.36s\n",
      "Epoch 15 | Loss: 0.7205 | Acc: 0.7888 | IoU: 0.2373 | Time: 3.39s\n",
      "Epoch 16 | Loss: 0.7568 | Acc: 0.7740 | IoU: 0.2429 | Time: 3.34s\n",
      "Epoch 17 | Loss: 0.7325 | Acc: 0.7899 | IoU: 0.2352 | Time: 3.38s\n",
      "Epoch 18 | Loss: 0.6837 | Acc: 0.7911 | IoU: 0.2260 | Time: 3.38s\n",
      "Epoch 19 | Loss: 0.6643 | Acc: 0.8027 | IoU: 0.2311 | Time: 3.43s\n",
      "Epoch 20 | Loss: 0.6621 | Acc: 0.7880 | IoU: 0.2364 | Time: 3.40s\n",
      "Epoch 21 | Loss: 0.6369 | Acc: 0.7977 | IoU: 0.2271 | Time: 3.40s\n",
      "Epoch 22 | Loss: 0.6916 | Acc: 0.7958 | IoU: 0.2356 | Time: 3.44s\n",
      "Epoch 23 | Loss: 0.7785 | Acc: 0.7891 | IoU: 0.2360 | Time: 3.43s\n",
      "Epoch 24 | Loss: 0.6255 | Acc: 0.8044 | IoU: 0.2411 | Time: 3.44s\n",
      "Epoch 25 | Loss: 0.7559 | Acc: 0.8039 | IoU: 0.2344 | Time: 3.43s\n",
      "Epoch 26 | Loss: 0.7252 | Acc: 0.7795 | IoU: 0.2279 | Time: 3.45s\n",
      "Epoch 27 | Loss: 0.8480 | Acc: 0.7835 | IoU: 0.2813 | Time: 3.42s\n",
      "Epoch 28 | Loss: 0.7034 | Acc: 0.7983 | IoU: 0.2338 | Time: 3.44s\n",
      "Epoch 29 | Loss: 0.6659 | Acc: 0.8034 | IoU: 0.2432 | Time: 3.44s\n",
      "Epoch 30 | Loss: 0.5857 | Acc: 0.8164 | IoU: 0.2765 | Time: 3.45s\n",
      "Epoch 31 | Loss: 0.6124 | Acc: 0.8090 | IoU: 0.2415 | Time: 3.46s\n",
      "Epoch 32 | Loss: 0.5931 | Acc: 0.8051 | IoU: 0.2450 | Time: 3.46s\n",
      "Epoch 33 | Loss: 0.5645 | Acc: 0.8125 | IoU: 0.2566 | Time: 3.43s\n",
      "Epoch 34 | Loss: 0.5552 | Acc: 0.8187 | IoU: 0.2440 | Time: 3.43s\n",
      "Epoch 35 | Loss: 0.5322 | Acc: 0.8190 | IoU: 0.2499 | Time: 3.45s\n",
      "Epoch 36 | Loss: 0.5149 | Acc: 0.8216 | IoU: 0.2699 | Time: 3.45s\n",
      "Epoch 37 | Loss: 0.4998 | Acc: 0.8264 | IoU: 0.3023 | Time: 3.43s\n",
      "Epoch 38 | Loss: 0.5262 | Acc: 0.8234 | IoU: 0.2773 | Time: 3.45s\n",
      "Epoch 39 | Loss: 0.5500 | Acc: 0.8103 | IoU: 0.3102 | Time: 3.45s\n",
      "Epoch 40 | Loss: 0.5266 | Acc: 0.8268 | IoU: 0.2884 | Time: 3.47s\n",
      "Epoch 41 | Loss: 0.4922 | Acc: 0.8243 | IoU: 0.2696 | Time: 3.60s\n",
      "Epoch 42 | Loss: 0.6761 | Acc: 0.8154 | IoU: 0.3256 | Time: 3.46s\n",
      "Epoch 43 | Loss: 0.6148 | Acc: 0.8019 | IoU: 0.2962 | Time: 3.43s\n",
      "Epoch 44 | Loss: 0.5636 | Acc: 0.8191 | IoU: 0.2544 | Time: 3.45s\n",
      "Epoch 45 | Loss: 0.5727 | Acc: 0.8156 | IoU: 0.2795 | Time: 3.44s\n",
      "Epoch 46 | Loss: 0.5501 | Acc: 0.8137 | IoU: 0.2432 | Time: 3.45s\n",
      "Epoch 47 | Loss: 0.6393 | Acc: 0.8132 | IoU: 0.2385 | Time: 3.43s\n",
      "Epoch 48 | Loss: 0.5296 | Acc: 0.8284 | IoU: 0.2730 | Time: 3.44s\n",
      "Epoch 49 | Loss: 0.5927 | Acc: 0.8209 | IoU: 0.2479 | Time: 3.46s\n",
      "Epoch 50 | Loss: 0.6279 | Acc: 0.8046 | IoU: 0.3758 | Time: 3.60s\n"
     ]
    }
   ],
   "source": [
    "for epoch in range(1, 51):\n",
    "    # Track epoch start time\n",
    "    start_time = time.perf_counter()\n",
    "    #train()\n",
    "\n",
    "    loss, acc = train_one_epoch()\n",
    "    loss_history.append(loss)\n",
    "    acc_history.append(acc)\n",
    "\n",
    "    iou = test(test_loader)\n",
    "    iou_history.append(iou)\n",
    "\n",
    "    # Calculate epoch duration\n",
    "    epoch_time = time.perf_counter() - start_time\n",
    "    time_history.append(epoch_time)\n",
    "    \n",
    "    # Print results with time\n",
    "    print(f\"Epoch {epoch:02d} | \"\n",
    "          f\"Loss: {loss:.4f} | \"\n",
    "          f\"Acc: {acc:.4f} | \"\n",
    "          f\"IoU: {iou:.4f} | \"\n",
    "          f\"Time: {epoch_time:.2f}s\")"
   ]
  },
  {
   "cell_type": "code",
   "execution_count": 17,
   "metadata": {},
   "outputs": [
    {
     "data": {
      "image/png": "[encoded data removed]",
      "text/plain": [
       "<Figure size 1000x600 with 1 Axes>"
      ]
     },
     "metadata": {},
     "output_type": "display_data"
    }
   ],
   "source": [
    "# Visualize with seaborn\n",
    "\n",
    "# 1) Build DataFrame\n",
    "df = pd.DataFrame({\n",
    "    'epoch': range(1, len(loss_history) + 1),\n",
    "    'Loss': loss_history,\n",
    "    'Accuracy': acc_history,\n",
    "    'IoU': iou_history,\n",
    "    'Time (s)': time_history\n",
    "})\n",
    "\n",
    "# 2) Melt to long form for seaborn\n",
    "df_long = df.melt(id_vars='epoch',\n",
    "                  var_name='Metric',\n",
    "                  value_name='Value')\n",
    "\n",
    "# 3) Plot all metrics in one figure\n",
    "plt.figure(figsize=(10, 6))\n",
    "sns.lineplot(data=df_long, x='epoch', y='Value', hue='Metric')  \n",
    "plt.title('Training Metrics per Epoch')  \n",
    "plt.xlabel('Epoch')  \n",
    "plt.ylabel('Metric Value')  \n",
    "plt.legend(title='Metric', loc='best')\n",
    "plt.tight_layout()\n",
    "plt.show()"
   ]
  },
  {
   "cell_type": "code",
   "execution_count": 18,
   "metadata": {},
   "outputs": [],
   "source": [
    "# Export without the index column\n",
    "df.to_csv(\"../docs/sim_train_metrics.csv\", index=False)"
   ]
  },
  {
   "cell_type": "code",
   "execution_count": 19,
   "metadata": {},
   "outputs": [
    {
     "name": "stdout",
     "output_type": "stream",
     "text": [
      "Checkpoint saved successfully!\n"
     ]
    }
   ],
   "source": [
    "sim_checkpoint_path= 'checkpoints/pointnet2_smartlab_sim_transform_seg_x3_50_checkpoint.pth'\n",
    "\n",
    "# Save model, optimizer state, and any other info needed\n",
    "torch.save({\n",
    "    'epoch': 100,\n",
    "    'model_state_dict': model.state_dict(),\n",
    "    'optimizer_state_dict': optimizer.state_dict(),\n",
    "    #'loss': loss,\n",
    "    #'test_accuracy': test_acc\n",
    "}, sim_checkpoint_path)\n",
    "\n",
    "print(\"Checkpoint saved successfully!\")"
   ]
  }
 ],
 "metadata": {
  "kernelspec": {
   "display_name": "Python 3",
   "language": "python",
   "name": "python3"
  },
  "language_info": {
   "codemirror_mode": {
    "name": "ipython",
    "version": 3
   },
   "file_extension": ".py",
   "mimetype": "text/x-python",
   "name": "python",
   "nbconvert_exporter": "python",
   "pygments_lexer": "ipython3",
   "version": "3.12.10"
  }
 },
 "nbformat": 4,
 "nbformat_minor": 2
}
